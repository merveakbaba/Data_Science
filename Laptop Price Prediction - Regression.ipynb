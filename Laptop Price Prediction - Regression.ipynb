{
 "cells": [
  {
   "cell_type": "code",
   "execution_count": 1,
   "id": "73c737ad-5660-4cad-b418-3954af30cc31",
   "metadata": {},
   "outputs": [],
   "source": [
    "import pandas as pd"
   ]
  },
  {
   "cell_type": "code",
   "execution_count": 2,
   "id": "db15144f-bb3b-4fd7-90e4-bc758209646e",
   "metadata": {},
   "outputs": [],
   "source": [
    "df=pd.read_csv(\"laptop_data.csv\")"
   ]
  },
  {
   "cell_type": "code",
   "execution_count": 3,
   "id": "1189afc6-d6fd-4194-80a5-a9f1dc9fe4b1",
   "metadata": {
    "collapsed": true,
    "jupyter": {
     "outputs_hidden": true
    }
   },
   "outputs": [
    {
     "name": "stdout",
     "output_type": "stream",
     "text": [
      "   Unnamed: 0 Company   TypeName  Inches                    ScreenResolution  \\\n",
      "0           0   Apple  Ultrabook    13.3  IPS Panel Retina Display 2560x1600   \n",
      "1           1   Apple  Ultrabook    13.3                            1440x900   \n",
      "2           2      HP   Notebook    15.6                   Full HD 1920x1080   \n",
      "3           3   Apple  Ultrabook    15.4  IPS Panel Retina Display 2880x1800   \n",
      "4           4   Apple  Ultrabook    13.3  IPS Panel Retina Display 2560x1600   \n",
      "\n",
      "                          Cpu   Ram               Memory  \\\n",
      "0        Intel Core i5 2.3GHz   8GB            128GB SSD   \n",
      "1        Intel Core i5 1.8GHz   8GB  128GB Flash Storage   \n",
      "2  Intel Core i5 7200U 2.5GHz   8GB            256GB SSD   \n",
      "3        Intel Core i7 2.7GHz  16GB            512GB SSD   \n",
      "4        Intel Core i5 3.1GHz   8GB            256GB SSD   \n",
      "\n",
      "                            Gpu  OpSys  Weight        Price  \n",
      "0  Intel Iris Plus Graphics 640  macOS  1.37kg   71378.6832  \n",
      "1        Intel HD Graphics 6000  macOS  1.34kg   47895.5232  \n",
      "2         Intel HD Graphics 620  No OS  1.86kg   30636.0000  \n",
      "3            AMD Radeon Pro 455  macOS  1.83kg  135195.3360  \n",
      "4  Intel Iris Plus Graphics 650  macOS  1.37kg   96095.8080  \n"
     ]
    }
   ],
   "source": [
    "#EDA\n",
    "print(df.head())"
   ]
  },
  {
   "cell_type": "code",
   "execution_count": 4,
   "id": "c983e2a8-1f73-44fe-82ed-7d6d7b76a21a",
   "metadata": {},
   "outputs": [
    {
     "name": "stdout",
     "output_type": "stream",
     "text": [
      "<class 'pandas.core.frame.DataFrame'>\n",
      "RangeIndex: 1303 entries, 0 to 1302\n",
      "Data columns (total 12 columns):\n",
      " #   Column            Non-Null Count  Dtype  \n",
      "---  ------            --------------  -----  \n",
      " 0   Unnamed: 0        1303 non-null   int64  \n",
      " 1   Company           1303 non-null   object \n",
      " 2   TypeName          1303 non-null   object \n",
      " 3   Inches            1303 non-null   float64\n",
      " 4   ScreenResolution  1303 non-null   object \n",
      " 5   Cpu               1303 non-null   object \n",
      " 6   Ram               1303 non-null   object \n",
      " 7   Memory            1303 non-null   object \n",
      " 8   Gpu               1303 non-null   object \n",
      " 9   OpSys             1303 non-null   object \n",
      " 10  Weight            1303 non-null   object \n",
      " 11  Price             1303 non-null   float64\n",
      "dtypes: float64(2), int64(1), object(9)\n",
      "memory usage: 122.3+ KB\n"
     ]
    }
   ],
   "source": [
    "df.info()  "
   ]
  },
  {
   "cell_type": "code",
   "execution_count": 5,
   "id": "f6c16dd4-2658-48f1-b72d-6f29612e2d46",
   "metadata": {
    "collapsed": true,
    "jupyter": {
     "outputs_hidden": true
    }
   },
   "outputs": [
    {
     "data": {
      "text/html": [
       "<div>\n",
       "<style scoped>\n",
       "    .dataframe tbody tr th:only-of-type {\n",
       "        vertical-align: middle;\n",
       "    }\n",
       "\n",
       "    .dataframe tbody tr th {\n",
       "        vertical-align: top;\n",
       "    }\n",
       "\n",
       "    .dataframe thead th {\n",
       "        text-align: right;\n",
       "    }\n",
       "</style>\n",
       "<table border=\"1\" class=\"dataframe\">\n",
       "  <thead>\n",
       "    <tr style=\"text-align: right;\">\n",
       "      <th></th>\n",
       "      <th>Unnamed: 0</th>\n",
       "      <th>Inches</th>\n",
       "      <th>Price</th>\n",
       "    </tr>\n",
       "  </thead>\n",
       "  <tbody>\n",
       "    <tr>\n",
       "      <th>count</th>\n",
       "      <td>1303.00000</td>\n",
       "      <td>1303.000000</td>\n",
       "      <td>1303.000000</td>\n",
       "    </tr>\n",
       "    <tr>\n",
       "      <th>mean</th>\n",
       "      <td>651.00000</td>\n",
       "      <td>15.017191</td>\n",
       "      <td>59870.042910</td>\n",
       "    </tr>\n",
       "    <tr>\n",
       "      <th>std</th>\n",
       "      <td>376.28801</td>\n",
       "      <td>1.426304</td>\n",
       "      <td>37243.201786</td>\n",
       "    </tr>\n",
       "    <tr>\n",
       "      <th>min</th>\n",
       "      <td>0.00000</td>\n",
       "      <td>10.100000</td>\n",
       "      <td>9270.720000</td>\n",
       "    </tr>\n",
       "    <tr>\n",
       "      <th>25%</th>\n",
       "      <td>325.50000</td>\n",
       "      <td>14.000000</td>\n",
       "      <td>31914.720000</td>\n",
       "    </tr>\n",
       "    <tr>\n",
       "      <th>50%</th>\n",
       "      <td>651.00000</td>\n",
       "      <td>15.600000</td>\n",
       "      <td>52054.560000</td>\n",
       "    </tr>\n",
       "    <tr>\n",
       "      <th>75%</th>\n",
       "      <td>976.50000</td>\n",
       "      <td>15.600000</td>\n",
       "      <td>79274.246400</td>\n",
       "    </tr>\n",
       "    <tr>\n",
       "      <th>max</th>\n",
       "      <td>1302.00000</td>\n",
       "      <td>18.400000</td>\n",
       "      <td>324954.720000</td>\n",
       "    </tr>\n",
       "  </tbody>\n",
       "</table>\n",
       "</div>"
      ],
      "text/plain": [
       "       Unnamed: 0       Inches          Price\n",
       "count  1303.00000  1303.000000    1303.000000\n",
       "mean    651.00000    15.017191   59870.042910\n",
       "std     376.28801     1.426304   37243.201786\n",
       "min       0.00000    10.100000    9270.720000\n",
       "25%     325.50000    14.000000   31914.720000\n",
       "50%     651.00000    15.600000   52054.560000\n",
       "75%     976.50000    15.600000   79274.246400\n",
       "max    1302.00000    18.400000  324954.720000"
      ]
     },
     "execution_count": 5,
     "metadata": {},
     "output_type": "execute_result"
    }
   ],
   "source": [
    "df.describe() "
   ]
  },
  {
   "cell_type": "code",
   "execution_count": 6,
   "id": "ae91bbcb-1135-439b-bb27-496318b845a6",
   "metadata": {
    "collapsed": true,
    "jupyter": {
     "outputs_hidden": true
    }
   },
   "outputs": [
    {
     "data": {
      "text/plain": [
       "Unnamed: 0            int64\n",
       "Company              object\n",
       "TypeName             object\n",
       "Inches              float64\n",
       "ScreenResolution     object\n",
       "Cpu                  object\n",
       "Ram                  object\n",
       "Memory               object\n",
       "Gpu                  object\n",
       "OpSys                object\n",
       "Weight               object\n",
       "Price               float64\n",
       "dtype: object"
      ]
     },
     "execution_count": 6,
     "metadata": {},
     "output_type": "execute_result"
    }
   ],
   "source": [
    "df.dtypes  "
   ]
  },
  {
   "cell_type": "code",
   "execution_count": 7,
   "id": "e248ea3e-4a60-4332-acd1-e0e3a50d69e4",
   "metadata": {
    "collapsed": true,
    "jupyter": {
     "outputs_hidden": true
    }
   },
   "outputs": [
    {
     "data": {
      "text/plain": [
       "Unnamed: 0          0\n",
       "Company             0\n",
       "TypeName            0\n",
       "Inches              0\n",
       "ScreenResolution    0\n",
       "Cpu                 0\n",
       "Ram                 0\n",
       "Memory              0\n",
       "Gpu                 0\n",
       "OpSys               0\n",
       "Weight              0\n",
       "Price               0\n",
       "dtype: int64"
      ]
     },
     "execution_count": 7,
     "metadata": {},
     "output_type": "execute_result"
    }
   ],
   "source": [
    "df.isnull().sum()"
   ]
  },
  {
   "cell_type": "code",
   "execution_count": 8,
   "id": "0f0571d7-d796-4bb2-9a29-c7e7f6a8e680",
   "metadata": {},
   "outputs": [
    {
     "data": {
      "text/plain": [
       "19"
      ]
     },
     "execution_count": 8,
     "metadata": {},
     "output_type": "execute_result"
    }
   ],
   "source": [
    "df[\"Company\"].nunique()"
   ]
  },
  {
   "cell_type": "code",
   "execution_count": 9,
   "id": "de5255f5-b7b8-4f76-8bf0-7f06985cf23c",
   "metadata": {},
   "outputs": [
    {
     "data": {
      "text/plain": [
       "6"
      ]
     },
     "execution_count": 9,
     "metadata": {},
     "output_type": "execute_result"
    }
   ],
   "source": [
    "df[\"TypeName\"].nunique()"
   ]
  },
  {
   "cell_type": "code",
   "execution_count": 10,
   "id": "cb3c8750-77b6-46ad-bc54-2ab1767b1cc7",
   "metadata": {},
   "outputs": [
    {
     "data": {
      "text/plain": [
       "18"
      ]
     },
     "execution_count": 10,
     "metadata": {},
     "output_type": "execute_result"
    }
   ],
   "source": [
    "df[\"Inches\"].nunique()"
   ]
  },
  {
   "cell_type": "code",
   "execution_count": 11,
   "id": "d3379ea0-3833-4f70-aac3-4ef633b5a4a7",
   "metadata": {
    "collapsed": true,
    "jupyter": {
     "outputs_hidden": true
    }
   },
   "outputs": [
    {
     "data": {
      "text/plain": [
       "array(['IPS Panel Retina Display 2560x1600', '1440x900',\n",
       "       'Full HD 1920x1080', 'IPS Panel Retina Display 2880x1800',\n",
       "       '1366x768', 'IPS Panel Full HD 1920x1080',\n",
       "       'IPS Panel Retina Display 2304x1440',\n",
       "       'IPS Panel Full HD / Touchscreen 1920x1080',\n",
       "       'Full HD / Touchscreen 1920x1080',\n",
       "       'Touchscreen / Quad HD+ 3200x1800',\n",
       "       'IPS Panel Touchscreen 1920x1200', 'Touchscreen 2256x1504',\n",
       "       'Quad HD+ / Touchscreen 3200x1800', 'IPS Panel 1366x768',\n",
       "       'IPS Panel 4K Ultra HD / Touchscreen 3840x2160',\n",
       "       'IPS Panel Full HD 2160x1440',\n",
       "       '4K Ultra HD / Touchscreen 3840x2160', 'Touchscreen 2560x1440',\n",
       "       '1600x900', 'IPS Panel 4K Ultra HD 3840x2160',\n",
       "       '4K Ultra HD 3840x2160', 'Touchscreen 1366x768',\n",
       "       'IPS Panel Full HD 1366x768', 'IPS Panel 2560x1440',\n",
       "       'IPS Panel Full HD 2560x1440',\n",
       "       'IPS Panel Retina Display 2736x1824', 'Touchscreen 2400x1600',\n",
       "       '2560x1440', 'IPS Panel Quad HD+ 2560x1440',\n",
       "       'IPS Panel Quad HD+ 3200x1800',\n",
       "       'IPS Panel Quad HD+ / Touchscreen 3200x1800',\n",
       "       'IPS Panel Touchscreen 1366x768', '1920x1080',\n",
       "       'IPS Panel Full HD 1920x1200',\n",
       "       'IPS Panel Touchscreen / 4K Ultra HD 3840x2160',\n",
       "       'IPS Panel Touchscreen 2560x1440',\n",
       "       'Touchscreen / Full HD 1920x1080', 'Quad HD+ 3200x1800',\n",
       "       'Touchscreen / 4K Ultra HD 3840x2160',\n",
       "       'IPS Panel Touchscreen 2400x1600'], dtype=object)"
      ]
     },
     "execution_count": 11,
     "metadata": {},
     "output_type": "execute_result"
    }
   ],
   "source": [
    "df[\"ScreenResolution\"].unique()"
   ]
  },
  {
   "cell_type": "code",
   "execution_count": 12,
   "id": "29b80be5-3322-403e-a668-385105fcb741",
   "metadata": {},
   "outputs": [
    {
     "data": {
      "text/plain": [
       "118"
      ]
     },
     "execution_count": 12,
     "metadata": {},
     "output_type": "execute_result"
    }
   ],
   "source": [
    "df[\"Cpu\"].nunique()"
   ]
  },
  {
   "cell_type": "code",
   "execution_count": 13,
   "id": "ef2cbf89-70b3-41f3-a6cd-21c52d22ddc2",
   "metadata": {},
   "outputs": [
    {
     "data": {
      "text/plain": [
       "9"
      ]
     },
     "execution_count": 13,
     "metadata": {},
     "output_type": "execute_result"
    }
   ],
   "source": [
    "df[\"Ram\"].nunique()"
   ]
  },
  {
   "cell_type": "code",
   "execution_count": 17,
   "id": "7a7df297-0061-460e-b9dc-f05e4c245dce",
   "metadata": {},
   "outputs": [
    {
     "data": {
      "text/plain": [
       "39"
      ]
     },
     "execution_count": 17,
     "metadata": {},
     "output_type": "execute_result"
    }
   ],
   "source": [
    "df[\"Memory\"].nunique()"
   ]
  },
  {
   "cell_type": "code",
   "execution_count": 18,
   "id": "02dac587-cc84-4743-86e1-97b2a4e47b87",
   "metadata": {},
   "outputs": [
    {
     "data": {
      "text/plain": [
       "110"
      ]
     },
     "execution_count": 18,
     "metadata": {},
     "output_type": "execute_result"
    }
   ],
   "source": [
    "df[\"Gpu\"].nunique()"
   ]
  },
  {
   "cell_type": "code",
   "execution_count": 19,
   "id": "4da58ea9-9e51-47e5-8383-e5bd50e452ea",
   "metadata": {},
   "outputs": [
    {
     "data": {
      "text/plain": [
       "179"
      ]
     },
     "execution_count": 19,
     "metadata": {},
     "output_type": "execute_result"
    }
   ],
   "source": [
    "df[\"Weight\"].nunique()"
   ]
  },
  {
   "cell_type": "code",
   "execution_count": 20,
   "id": "6453b616-bea0-4cd1-b24b-100c68ffd6fc",
   "metadata": {},
   "outputs": [
    {
     "data": {
      "text/plain": [
       "array(['macOS', 'No OS', 'Windows 10', 'Mac OS X', 'Linux', 'Android',\n",
       "       'Windows 10 S', 'Chrome OS', 'Windows 7'], dtype=object)"
      ]
     },
     "execution_count": 20,
     "metadata": {},
     "output_type": "execute_result"
    }
   ],
   "source": [
    "df[\"OpSys\"].unique()"
   ]
  },
  {
   "cell_type": "code",
   "execution_count": 21,
   "id": "3f9d9be2-b480-4931-9a8a-9e1a4c7e10be",
   "metadata": {},
   "outputs": [],
   "source": [
    "df[\"Ram\"] = df[\"Ram\"].str.replace(\"GB\", \"\").astype(int)"
   ]
  },
  {
   "cell_type": "code",
   "execution_count": 22,
   "id": "4d6ecbab-4468-4f7c-95ac-ac3d4ccd42f2",
   "metadata": {},
   "outputs": [],
   "source": [
    "df[\"Weight\"] = df[\"Weight\"].str.replace(\"kg\", \"\").astype(float)\n",
    "##ram ve kg sutunlarınında ram ve kg ifadelerini kaldırırp onları sayısal sutuna çevirdim "
   ]
  },
  {
   "cell_type": "code",
   "execution_count": 23,
   "id": "3003b317-d75f-44a4-81de-c646ee808059",
   "metadata": {
    "collapsed": true,
    "jupyter": {
     "outputs_hidden": true
    }
   },
   "outputs": [
    {
     "data": {
      "text/plain": [
       "Unnamed: 0            int64\n",
       "Company              object\n",
       "TypeName             object\n",
       "Inches              float64\n",
       "ScreenResolution     object\n",
       "Cpu                  object\n",
       "Ram                   int32\n",
       "Memory               object\n",
       "Gpu                  object\n",
       "OpSys                object\n",
       "Weight              float64\n",
       "Price               float64\n",
       "dtype: object"
      ]
     },
     "execution_count": 23,
     "metadata": {},
     "output_type": "execute_result"
    }
   ],
   "source": [
    "df.dtypes  "
   ]
  },
  {
   "cell_type": "code",
   "execution_count": 24,
   "id": "e6433f65-5330-40dc-aa83-be1f0f6fb760",
   "metadata": {
    "collapsed": true,
    "jupyter": {
     "outputs_hidden": true
    }
   },
   "outputs": [
    {
     "name": "stdout",
     "output_type": "stream",
     "text": [
      "               Ram       Weight\n",
      "count  1303.000000  1303.000000\n",
      "mean      8.382195     2.038734\n",
      "std       5.084665     0.665475\n",
      "min       2.000000     0.690000\n",
      "25%       4.000000     1.500000\n",
      "50%       8.000000     2.040000\n",
      "75%       8.000000     2.300000\n",
      "max      64.000000     4.700000\n"
     ]
    }
   ],
   "source": [
    "print(df[[\"Ram\", \"Weight\"]].describe())"
   ]
  },
  {
   "cell_type": "code",
   "execution_count": 26,
   "id": "a00db809-a687-471e-a0f6-0871ae44530c",
   "metadata": {
    "collapsed": true,
    "jupyter": {
     "outputs_hidden": true
    }
   },
   "outputs": [
    {
     "name": "stdout",
     "output_type": "stream",
     "text": [
      "                    Memory\n",
      "0                128GB SSD\n",
      "1      128GB Flash Storage\n",
      "2                256GB SSD\n",
      "3                512GB SSD\n",
      "4                256GB SSD\n",
      "5                500GB HDD\n",
      "6      256GB Flash Storage\n",
      "7      256GB Flash Storage\n",
      "8                512GB SSD\n",
      "9                256GB SSD\n",
      "10               500GB HDD\n",
      "11               500GB HDD\n",
      "12               256GB SSD\n",
      "13               256GB SSD\n",
      "14               256GB SSD\n",
      "15               256GB SSD\n",
      "16               256GB SSD\n",
      "17               512GB SSD\n",
      "18                 1TB HDD\n",
      "19               128GB SSD\n",
      "20      32GB Flash Storage\n",
      "21    128GB SSD +  1TB HDD\n",
      "22               500GB HDD\n",
      "23               256GB SSD\n",
      "24               256GB SSD\n",
      "25                 1TB HDD\n",
      "26     128GB Flash Storage\n",
      "27               256GB SSD\n",
      "28  256GB SSD +  256GB SSD\n",
      "29                 1TB HDD\n"
     ]
    }
   ],
   "source": [
    "print(df[[\"Memory\"]].head())"
   ]
  },
  {
   "cell_type": "code",
   "execution_count": 3,
   "id": "f947799d-4918-4cf7-8755-9bde89e0ee66",
   "metadata": {},
   "outputs": [],
   "source": [
    "#memory sutunu için gruplandırma yeni sutun oluşturma\n",
    "df[\"SSD\"] = 0\n",
    "df[\"HDD\"] = 0\n",
    "df[\"Flash Storage\"] = 0\n",
    "df[\"Hybrid\"] = 0"
   ]
  },
  {
   "cell_type": "code",
   "execution_count": 4,
   "id": "bae9d5f5-12e5-4395-a521-338bc6adea92",
   "metadata": {},
   "outputs": [],
   "source": [
    "#memory sütunundaki veriler\n",
    "for i, row in df.iterrows():\n",
    "    memory_info = row[\"Memory\"]"
   ]
  },
  {
   "cell_type": "code",
   "execution_count": 20,
   "id": "77f3b7bc-e4b0-46da-bc20-f9fbf193319a",
   "metadata": {},
   "outputs": [],
   "source": [
    "import re\n",
    "matches=re.findall(r\"(\\d+)(TB|GB)?\\s*(SSD|HDD|Flash Storage|Hybrid)\", memory_info)"
   ]
  },
  {
   "cell_type": "code",
   "execution_count": 21,
   "id": "9be81555-4097-4f62-bed3-63d637d534d4",
   "metadata": {},
   "outputs": [],
   "source": [
    "\"\"\" TB varsa GB'a çevir (1TB = 1000GB)\"\"\"\n",
    "for amount, unit, storage_type in matches:\n",
    "    gb_value=int(amount)*(1000 if unit == \"TB\" else 1)"
   ]
  },
  {
   "cell_type": "code",
   "execution_count": 22,
   "id": "51018848-c593-468f-b6f1-0587fe8d5ec2",
   "metadata": {},
   "outputs": [],
   "source": [
    "if storage_type == \"SSD\":\n",
    "    df.at[i, \"SSD\"]+= gb_value\n",
    "elif storage_type == \"HDD\":\n",
    "    df.at[i, \"HDD\"]+= gb_value\n",
    "elif storage_type == \"Flash Storage\":\n",
    "    df.at[i, \"Flash Storage\"] += gb_value\n",
    "elif storage_type == \"Hybrid\":\n",
    "    df.at[i, \"Hybrid\"]+= gb_value"
   ]
  },
  {
   "cell_type": "code",
   "execution_count": 27,
   "id": "71752650-da0a-49e3-8521-c877ce1492ab",
   "metadata": {},
   "outputs": [
    {
     "data": {
      "text/html": [
       "<div>\n",
       "<style scoped>\n",
       "    .dataframe tbody tr th:only-of-type {\n",
       "        vertical-align: middle;\n",
       "    }\n",
       "\n",
       "    .dataframe tbody tr th {\n",
       "        vertical-align: top;\n",
       "    }\n",
       "\n",
       "    .dataframe thead th {\n",
       "        text-align: right;\n",
       "    }\n",
       "</style>\n",
       "<table border=\"1\" class=\"dataframe\">\n",
       "  <thead>\n",
       "    <tr style=\"text-align: right;\">\n",
       "      <th></th>\n",
       "      <th>SSD</th>\n",
       "      <th>HDD</th>\n",
       "      <th>Flash Storage</th>\n",
       "      <th>Hybrid</th>\n",
       "    </tr>\n",
       "  </thead>\n",
       "  <tbody>\n",
       "    <tr>\n",
       "      <th>0</th>\n",
       "      <td>0</td>\n",
       "      <td>0</td>\n",
       "      <td>0</td>\n",
       "      <td>0</td>\n",
       "    </tr>\n",
       "    <tr>\n",
       "      <th>1</th>\n",
       "      <td>0</td>\n",
       "      <td>0</td>\n",
       "      <td>0</td>\n",
       "      <td>0</td>\n",
       "    </tr>\n",
       "    <tr>\n",
       "      <th>2</th>\n",
       "      <td>0</td>\n",
       "      <td>0</td>\n",
       "      <td>0</td>\n",
       "      <td>0</td>\n",
       "    </tr>\n",
       "    <tr>\n",
       "      <th>3</th>\n",
       "      <td>0</td>\n",
       "      <td>0</td>\n",
       "      <td>0</td>\n",
       "      <td>0</td>\n",
       "    </tr>\n",
       "    <tr>\n",
       "      <th>4</th>\n",
       "      <td>0</td>\n",
       "      <td>0</td>\n",
       "      <td>0</td>\n",
       "      <td>0</td>\n",
       "    </tr>\n",
       "    <tr>\n",
       "      <th>5</th>\n",
       "      <td>0</td>\n",
       "      <td>0</td>\n",
       "      <td>0</td>\n",
       "      <td>0</td>\n",
       "    </tr>\n",
       "    <tr>\n",
       "      <th>6</th>\n",
       "      <td>0</td>\n",
       "      <td>0</td>\n",
       "      <td>0</td>\n",
       "      <td>0</td>\n",
       "    </tr>\n",
       "    <tr>\n",
       "      <th>7</th>\n",
       "      <td>0</td>\n",
       "      <td>0</td>\n",
       "      <td>0</td>\n",
       "      <td>0</td>\n",
       "    </tr>\n",
       "    <tr>\n",
       "      <th>8</th>\n",
       "      <td>0</td>\n",
       "      <td>0</td>\n",
       "      <td>0</td>\n",
       "      <td>0</td>\n",
       "    </tr>\n",
       "    <tr>\n",
       "      <th>9</th>\n",
       "      <td>0</td>\n",
       "      <td>0</td>\n",
       "      <td>0</td>\n",
       "      <td>0</td>\n",
       "    </tr>\n",
       "  </tbody>\n",
       "</table>\n",
       "</div>"
      ],
      "text/plain": [
       "   SSD  HDD  Flash Storage  Hybrid\n",
       "0    0    0              0       0\n",
       "1    0    0              0       0\n",
       "2    0    0              0       0\n",
       "3    0    0              0       0\n",
       "4    0    0              0       0\n",
       "5    0    0              0       0\n",
       "6    0    0              0       0\n",
       "7    0    0              0       0\n",
       "8    0    0              0       0\n",
       "9    0    0              0       0"
      ]
     },
     "execution_count": 27,
     "metadata": {},
     "output_type": "execute_result"
    }
   ],
   "source": [
    "df[[\"SSD\",\"HDD\",\"Flash Storage\",\"Hybrid\"]].head(10)"
   ]
  },
  {
   "cell_type": "code",
   "execution_count": 7,
   "id": "3dc0505e-d343-4227-8e1b-2aeac89ee2b7",
   "metadata": {},
   "outputs": [],
   "source": [
    "#Özellik Mühendisliği\n",
    "#Ekran çözünürlüğü bilgisinden IPS Panel ve Dokunmatik Ekran bilgilerini çıkarma\n",
    "df['TouchScreen'] = df['ScreenResolution'].apply(lambda x: 1 if 'Touchscreen' in x else 0)\n",
    "df['IPS'] = df['ScreenResolution'].apply(lambda x: 1 if 'IPS' in x else 0)z"
   ]
  },
  {
   "cell_type": "code",
   "execution_count": 8,
   "id": "9a8f3af5-b207-4a4f-b3fd-fb10d77f674e",
   "metadata": {},
   "outputs": [],
   "source": [
    "df[\"Cpu Brand\"] = df[\"Cpu\"].apply(lambda x: x.split()[0])\n",
    "#İşlemciden marka bilgisini çıkaralım:"
   ]
  },
  {
   "cell_type": "code",
   "execution_count": 9,
   "id": "a3878707-5935-44a4-a7ba-7a172da5a584",
   "metadata": {},
   "outputs": [],
   "source": [
    "df[\"X_res\"] = df[\"ScreenResolution\"].str.extract(r'(\\d+)x')[0].astype(int)\n",
    "df[\"Y_res\"] = df[\"ScreenResolution\"].str.extract(r'x(\\d+)')[0].astype(int)\n",
    "df[\"PPI\"] = ((df[\"X_res\"]**2 + df[\"Y_res\"]**2) ** 0.5) / df[\"Inches\"]\n",
    "#Çözünürlüğü ayırarak en-boy oranını ve piksel sayısını çıkartama\n",
    "\"\"\"Bu kod, dizüstü veya masaüstü bilgisayarların ekran çözünürlüğünü analiz edip PPI (Pixel Per Inch) değerini hesaplar. \n",
    "İlk satır, ScreenResolution sütunundaki çözünürlük değerlerinden X ekseni (genişlik) bilgisini almak için regex kullanır: \n",
    "df[\"X_res\"] = df[\"ScreenResolution\"].str.extract(r'(\\d+)x')[0].astype(int), yani \"1920x1080\" için 1920 değerini çeker. İkinci satır, \n",
    "aynı yöntemi kullanarak Y ekseni (yükseklik) bilgisini çıkarır: df[\"Y_res\"] = df[\"ScreenResolution\"].str.extract(r'x(\\d+)')[0].astype(int), \n",
    "yani \"1920x1080\" için 1080 değerini çeker. Son satır, PPI değerini hesaplamak için önce Pisagor Teoremi ile ekranın piksel cinsinden köşegen\n",
    "uzunluğunu bulur: ((df[\"X_res\"]**2 + df[\"Y_res\"]**2) ** 0.5), ardından bunu ekran boyutuna (Inches sütunu) bölerek PPI\n",
    "değerini hesaplar: df[\"PPI\"] = ((df[\"X_res\"]**2 + df[\"Y_res\"]**2) ** 0.5) / df[\"Inches\"], böylece ekrandaki piksel yoğunluğu belirlenir.\"\"\";"
   ]
  },
  {
   "cell_type": "code",
   "execution_count": 14,
   "id": "5a083008-5c2c-4363-93e1-fbbd50bffd04",
   "metadata": {},
   "outputs": [
    {
     "data": {
      "text/plain": [
       "array(['128 SSD', '128 Flash Storage', '256 SSD', '512 SSD', '500 HDD',\n",
       "       '256 Flash Storage', '1000 HDD', '32 Flash Storage',\n",
       "       '128 SSD +  1000 HDD', '256 SSD +  256 SSD', '64 Flash Storage',\n",
       "       '256 SSD +  1000 HDD', '256 SSD +  2000 HDD', '32 SSD', '2000 HDD',\n",
       "       '64 SSD', '1.0000 Hybrid', '512 SSD +  1000 HDD', '1000 SSD',\n",
       "       '256 SSD +  500 HDD', '128 SSD +  2000 HDD', '512 SSD +  512 SSD',\n",
       "       '16 SSD', '16 Flash Storage', '512 SSD +  256 SSD',\n",
       "       '512 SSD +  2000 HDD', '64 Flash Storage +  1000 HDD', '180 SSD',\n",
       "       '1000 HDD +  1000 HDD', '32 HDD', '1000 SSD +  1000 HDD',\n",
       "       '512 Flash Storage', '128 HDD', '240 SSD', '8 SSD', '508 Hybrid',\n",
       "       '1.0000 HDD', '512 SSD +  1.0000 Hybrid',\n",
       "       '256 SSD +  1.0000 Hybrid'], dtype=object)"
      ]
     },
     "execution_count": 14,
     "metadata": {},
     "output_type": "execute_result"
    }
   ],
   "source": [
    "df[\"Memory\"].unique()"
   ]
  },
  {
   "cell_type": "code",
   "execution_count": 16,
   "id": "eb92b7fa-86aa-45d1-9ca2-dcf7d0b95561",
   "metadata": {},
   "outputs": [
    {
     "ename": "AttributeError",
     "evalue": "Can only use .str accessor with string values!",
     "output_type": "error",
     "traceback": [
      "\u001b[1;31m---------------------------------------------------------------------------\u001b[0m",
      "\u001b[1;31mAttributeError\u001b[0m                            Traceback (most recent call last)",
      "Cell \u001b[1;32mIn[16], line 4\u001b[0m\n\u001b[0;32m      1\u001b[0m \u001b[38;5;28;01mimport\u001b[39;00m \u001b[38;5;21;01mpandas\u001b[39;00m \u001b[38;5;28;01mas\u001b[39;00m \u001b[38;5;21;01mpd\u001b[39;00m\n\u001b[0;32m      3\u001b[0m \u001b[38;5;66;03m# Önce tüm verileri küçük harfe çevirip gereksiz kelimeleri temizleyelim\u001b[39;00m\n\u001b[1;32m----> 4\u001b[0m df[\u001b[38;5;124m\"\u001b[39m\u001b[38;5;124mMemory\u001b[39m\u001b[38;5;124m\"\u001b[39m] \u001b[38;5;241m=\u001b[39m df[\u001b[38;5;124m\"\u001b[39m\u001b[38;5;124mMemory\u001b[39m\u001b[38;5;124m\"\u001b[39m]\u001b[38;5;241m.\u001b[39mstr\u001b[38;5;241m.\u001b[39mlower()  \u001b[38;5;66;03m# Küçük harf yap\u001b[39;00m\n\u001b[0;32m      5\u001b[0m df[\u001b[38;5;124m\"\u001b[39m\u001b[38;5;124mMemory\u001b[39m\u001b[38;5;124m\"\u001b[39m] \u001b[38;5;241m=\u001b[39m df[\u001b[38;5;124m\"\u001b[39m\u001b[38;5;124mMemory\u001b[39m\u001b[38;5;124m\"\u001b[39m]\u001b[38;5;241m.\u001b[39mstr\u001b[38;5;241m.\u001b[39mreplace(\u001b[38;5;124m\"\u001b[39m\u001b[38;5;124mgb\u001b[39m\u001b[38;5;124m\"\u001b[39m, \u001b[38;5;124m\"\u001b[39m\u001b[38;5;124m\"\u001b[39m)\u001b[38;5;241m.\u001b[39mstr\u001b[38;5;241m.\u001b[39mreplace(\u001b[38;5;124m\"\u001b[39m\u001b[38;5;124mtb\u001b[39m\u001b[38;5;124m\"\u001b[39m, \u001b[38;5;124m\"\u001b[39m\u001b[38;5;124m000\u001b[39m\u001b[38;5;124m\"\u001b[39m)  \u001b[38;5;66;03m# TB → GB çevir\u001b[39;00m\n\u001b[0;32m      6\u001b[0m df[\u001b[38;5;124m\"\u001b[39m\u001b[38;5;124mMemory\u001b[39m\u001b[38;5;124m\"\u001b[39m] \u001b[38;5;241m=\u001b[39m df[\u001b[38;5;124m\"\u001b[39m\u001b[38;5;124mMemory\u001b[39m\u001b[38;5;124m\"\u001b[39m]\u001b[38;5;241m.\u001b[39mstr\u001b[38;5;241m.\u001b[39mreplace(\u001b[38;5;124m\"\u001b[39m\u001b[38;5;124mflash storage\u001b[39m\u001b[38;5;124m\"\u001b[39m, \u001b[38;5;124m\"\u001b[39m\u001b[38;5;124m\"\u001b[39m)\u001b[38;5;241m.\u001b[39mstr\u001b[38;5;241m.\u001b[39mreplace(\u001b[38;5;124m\"\u001b[39m\u001b[38;5;124mhdd\u001b[39m\u001b[38;5;124m\"\u001b[39m, \u001b[38;5;124m\"\u001b[39m\u001b[38;5;124m\"\u001b[39m)\u001b[38;5;241m.\u001b[39mstr\u001b[38;5;241m.\u001b[39mreplace(\u001b[38;5;124m\"\u001b[39m\u001b[38;5;124mssd\u001b[39m\u001b[38;5;124m\"\u001b[39m, \u001b[38;5;124m\"\u001b[39m\u001b[38;5;124m\"\u001b[39m)\u001b[38;5;241m.\u001b[39mstr\u001b[38;5;241m.\u001b[39mreplace(\u001b[38;5;124m\"\u001b[39m\u001b[38;5;124mhybrid\u001b[39m\u001b[38;5;124m\"\u001b[39m, \u001b[38;5;124m\"\u001b[39m\u001b[38;5;124m\"\u001b[39m)\n",
      "File \u001b[1;32m~\\.anaconda\\anacon\\Lib\\site-packages\\pandas\\core\\generic.py:6299\u001b[0m, in \u001b[0;36mNDFrame.__getattr__\u001b[1;34m(self, name)\u001b[0m\n\u001b[0;32m   6292\u001b[0m \u001b[38;5;28;01mif\u001b[39;00m (\n\u001b[0;32m   6293\u001b[0m     name \u001b[38;5;129;01mnot\u001b[39;00m \u001b[38;5;129;01min\u001b[39;00m \u001b[38;5;28mself\u001b[39m\u001b[38;5;241m.\u001b[39m_internal_names_set\n\u001b[0;32m   6294\u001b[0m     \u001b[38;5;129;01mand\u001b[39;00m name \u001b[38;5;129;01mnot\u001b[39;00m \u001b[38;5;129;01min\u001b[39;00m \u001b[38;5;28mself\u001b[39m\u001b[38;5;241m.\u001b[39m_metadata\n\u001b[0;32m   6295\u001b[0m     \u001b[38;5;129;01mand\u001b[39;00m name \u001b[38;5;129;01mnot\u001b[39;00m \u001b[38;5;129;01min\u001b[39;00m \u001b[38;5;28mself\u001b[39m\u001b[38;5;241m.\u001b[39m_accessors\n\u001b[0;32m   6296\u001b[0m     \u001b[38;5;129;01mand\u001b[39;00m \u001b[38;5;28mself\u001b[39m\u001b[38;5;241m.\u001b[39m_info_axis\u001b[38;5;241m.\u001b[39m_can_hold_identifiers_and_holds_name(name)\n\u001b[0;32m   6297\u001b[0m ):\n\u001b[0;32m   6298\u001b[0m     \u001b[38;5;28;01mreturn\u001b[39;00m \u001b[38;5;28mself\u001b[39m[name]\n\u001b[1;32m-> 6299\u001b[0m \u001b[38;5;28;01mreturn\u001b[39;00m \u001b[38;5;28mobject\u001b[39m\u001b[38;5;241m.\u001b[39m\u001b[38;5;21m__getattribute__\u001b[39m(\u001b[38;5;28mself\u001b[39m, name)\n",
      "File \u001b[1;32m~\\.anaconda\\anacon\\Lib\\site-packages\\pandas\\core\\accessor.py:224\u001b[0m, in \u001b[0;36mCachedAccessor.__get__\u001b[1;34m(self, obj, cls)\u001b[0m\n\u001b[0;32m    221\u001b[0m \u001b[38;5;28;01mif\u001b[39;00m obj \u001b[38;5;129;01mis\u001b[39;00m \u001b[38;5;28;01mNone\u001b[39;00m:\n\u001b[0;32m    222\u001b[0m     \u001b[38;5;66;03m# we're accessing the attribute of the class, i.e., Dataset.geo\u001b[39;00m\n\u001b[0;32m    223\u001b[0m     \u001b[38;5;28;01mreturn\u001b[39;00m \u001b[38;5;28mself\u001b[39m\u001b[38;5;241m.\u001b[39m_accessor\n\u001b[1;32m--> 224\u001b[0m accessor_obj \u001b[38;5;241m=\u001b[39m \u001b[38;5;28mself\u001b[39m\u001b[38;5;241m.\u001b[39m_accessor(obj)\n\u001b[0;32m    225\u001b[0m \u001b[38;5;66;03m# Replace the property with the accessor object. Inspired by:\u001b[39;00m\n\u001b[0;32m    226\u001b[0m \u001b[38;5;66;03m# https://www.pydanny.com/cached-property.html\u001b[39;00m\n\u001b[0;32m    227\u001b[0m \u001b[38;5;66;03m# We need to use object.__setattr__ because we overwrite __setattr__ on\u001b[39;00m\n\u001b[0;32m    228\u001b[0m \u001b[38;5;66;03m# NDFrame\u001b[39;00m\n\u001b[0;32m    229\u001b[0m \u001b[38;5;28mobject\u001b[39m\u001b[38;5;241m.\u001b[39m\u001b[38;5;21m__setattr__\u001b[39m(obj, \u001b[38;5;28mself\u001b[39m\u001b[38;5;241m.\u001b[39m_name, accessor_obj)\n",
      "File \u001b[1;32m~\\.anaconda\\anacon\\Lib\\site-packages\\pandas\\core\\strings\\accessor.py:191\u001b[0m, in \u001b[0;36mStringMethods.__init__\u001b[1;34m(self, data)\u001b[0m\n\u001b[0;32m    188\u001b[0m \u001b[38;5;28;01mdef\u001b[39;00m \u001b[38;5;21m__init__\u001b[39m(\u001b[38;5;28mself\u001b[39m, data) \u001b[38;5;241m-\u001b[39m\u001b[38;5;241m>\u001b[39m \u001b[38;5;28;01mNone\u001b[39;00m:\n\u001b[0;32m    189\u001b[0m     \u001b[38;5;28;01mfrom\u001b[39;00m \u001b[38;5;21;01mpandas\u001b[39;00m\u001b[38;5;21;01m.\u001b[39;00m\u001b[38;5;21;01mcore\u001b[39;00m\u001b[38;5;21;01m.\u001b[39;00m\u001b[38;5;21;01marrays\u001b[39;00m\u001b[38;5;21;01m.\u001b[39;00m\u001b[38;5;21;01mstring_\u001b[39;00m \u001b[38;5;28;01mimport\u001b[39;00m StringDtype\n\u001b[1;32m--> 191\u001b[0m     \u001b[38;5;28mself\u001b[39m\u001b[38;5;241m.\u001b[39m_inferred_dtype \u001b[38;5;241m=\u001b[39m \u001b[38;5;28mself\u001b[39m\u001b[38;5;241m.\u001b[39m_validate(data)\n\u001b[0;32m    192\u001b[0m     \u001b[38;5;28mself\u001b[39m\u001b[38;5;241m.\u001b[39m_is_categorical \u001b[38;5;241m=\u001b[39m \u001b[38;5;28misinstance\u001b[39m(data\u001b[38;5;241m.\u001b[39mdtype, CategoricalDtype)\n\u001b[0;32m    193\u001b[0m     \u001b[38;5;28mself\u001b[39m\u001b[38;5;241m.\u001b[39m_is_string \u001b[38;5;241m=\u001b[39m \u001b[38;5;28misinstance\u001b[39m(data\u001b[38;5;241m.\u001b[39mdtype, StringDtype)\n",
      "File \u001b[1;32m~\\.anaconda\\anacon\\Lib\\site-packages\\pandas\\core\\strings\\accessor.py:245\u001b[0m, in \u001b[0;36mStringMethods._validate\u001b[1;34m(data)\u001b[0m\n\u001b[0;32m    242\u001b[0m inferred_dtype \u001b[38;5;241m=\u001b[39m lib\u001b[38;5;241m.\u001b[39minfer_dtype(values, skipna\u001b[38;5;241m=\u001b[39m\u001b[38;5;28;01mTrue\u001b[39;00m)\n\u001b[0;32m    244\u001b[0m \u001b[38;5;28;01mif\u001b[39;00m inferred_dtype \u001b[38;5;129;01mnot\u001b[39;00m \u001b[38;5;129;01min\u001b[39;00m allowed_types:\n\u001b[1;32m--> 245\u001b[0m     \u001b[38;5;28;01mraise\u001b[39;00m \u001b[38;5;167;01mAttributeError\u001b[39;00m(\u001b[38;5;124m\"\u001b[39m\u001b[38;5;124mCan only use .str accessor with string values!\u001b[39m\u001b[38;5;124m\"\u001b[39m)\n\u001b[0;32m    246\u001b[0m \u001b[38;5;28;01mreturn\u001b[39;00m inferred_dtype\n",
      "\u001b[1;31mAttributeError\u001b[0m: Can only use .str accessor with string values!"
     ]
    }
   ],
   "source": [
    "# Önce tüm verileri küçük harfe çevirip gereksiz kelimeleri temizleyelim\n",
    "df[\"Memory\"] = df[\"Memory\"].str.lower()  # Küçük harf yap\n",
    "df[\"Memory\"] = df[\"Memory\"].str.replace(\"gb\", \"\").str.replace(\"tb\", \"000\")  # TB → GB çevir\n",
    "df[\"Memory\"] = df[\"Memory\"].str.replace(\"flash storage\", \"\").str.replace(\"hdd\", \"\").str.replace(\"ssd\", \"\").str.replace(\"hybrid\", \"\")\n",
    "# Bellekleri '+' ile ayırıp toplayan fonksiyon\n",
    "def sum_memory(mem_str):\n",
    "    try:\n",
    "        return sum(map(int, mem_str.split(\"+\")))  # '+' ile ayır ve sayıları topla\n",
    "    except:\n",
    "        return None  # Hata olursa None döndür\n",
    "df[\"Memory\"] = df[\"Memory\"].apply(sum_memory)\n",
    "# Hatalı (None) olanları temizle\n",
    "df.dropna(subset=[\"Memory\"], inplace=True)\n",
    "# Tüm veriyi tam sayıya çevir\n",
    "df[\"Memory\"] = df[\"Memory\"].astype(int)\n",
    "# Kontrol için unique değerleri yazdır\n",
    "print(df[\"Memory\"].unique())\n",
    "\"\"\"#GB\", \"TB\", \"SSD\", \"HDD\", \"Flash Storage\", \"Hybrid\" gibi kelimeleri sildik.\n",
    "✅ TB olanları 1000 GB olarak çevirdik.\n",
    "✅ \"+\" ile ayrılmış bellekleri toplam GB olarak hesapladık.\n",
    "✅ Sayıya çevirdik ve temizledik.\"\"\";"
   ]
  },
  {
   "cell_type": "code",
   "execution_count": 12,
   "id": "8288e845-e3a7-4ea9-a493-5dac61cf8646",
   "metadata": {},
   "outputs": [],
   "source": [
    "import pandas as pd\n",
    "import numpy as np\n",
    "import matplotlib.pyplot as plt\n",
    "import seaborn as sns\n",
    "from sklearn.model_selection import train_test_split\n",
    "from sklearn.preprocessing import LabelEncoder\n",
    "from sklearn.ensemble import RandomForestRegressor\n",
    "from sklearn.metrics import mean_absolute_error, mean_squared_error, r2_score"
   ]
  },
  {
   "cell_type": "code",
   "execution_count": 13,
   "id": "666f67aa-ebb6-4b8e-b50d-c15568df58d5",
   "metadata": {},
   "outputs": [],
   "source": [
    "df[\"OpSys\"] = LabelEncoder().fit_transform(df[\"OpSys\"])\n",
    "df[\"Company\"] = LabelEncoder().fit_transform(df[\"Company\"])\n",
    "df[\"TypeName\"] = LabelEncoder().fit_transform(df[\"TypeName\"])\n",
    "df[\"Cpu Brand\"] = LabelEncoder().fit_transform(df[\"Cpu Brand\"])\n",
    "#Kategorik verileri sayısal hale getirelim (One-hot encoding ya da Label Encoding):"
   ]
  },
  {
   "cell_type": "code",
   "execution_count": 22,
   "id": "f09c082a-89ff-4f8d-a5af-c72aee4a039f",
   "metadata": {},
   "outputs": [],
   "source": [
    "X = df.drop([\"Price\", \"ScreenResolution\", \"Cpu\", \"Gpu\"], axis=1)\n",
    "y = df[\"Price\"]\n",
    "X_train, X_test, y_train, y_test = train_test_split(X, y, test_size=0.2, random_state=42)"
   ]
  },
  {
   "cell_type": "code",
   "execution_count": 23,
   "id": "3680594b-81c7-4054-a6d4-e0763b0da37a",
   "metadata": {},
   "outputs": [
    {
     "name": "stdout",
     "output_type": "stream",
     "text": [
      "Linear Regression R2 Score: 0.687788872850267\n"
     ]
    }
   ],
   "source": [
    "from sklearn.linear_model import LinearRegression\n",
    "lr = LinearRegression()\n",
    "lr.fit(X_train, y_train)\n",
    "y_pred_lr = lr.predict(X_test)\n",
    "print(\"Linear Regression R2 Score:\", r2_score(y_test, y_pred_lr))"
   ]
  },
  {
   "cell_type": "code",
   "execution_count": 21,
   "id": "5866111b-4825-4b3c-a76a-a87af2c512f9",
   "metadata": {
    "collapsed": true,
    "jupyter": {
     "outputs_hidden": true
    }
   },
   "outputs": [
    {
     "name": "stdout",
     "output_type": "stream",
     "text": [
      "   Unnamed: 0  Company  TypeName  Inches                    ScreenResolution  \\\n",
      "0           0        1         4    13.3  IPS Panel Retina Display 2560x1600   \n",
      "1           1        1         4    13.3                            1440x900   \n",
      "2           2        7         3    15.6                   Full HD 1920x1080   \n",
      "3           3        1         4    15.4  IPS Panel Retina Display 2880x1800   \n",
      "4           4        1         4    13.3  IPS Panel Retina Display 2560x1600   \n",
      "\n",
      "                          Cpu  Ram  Memory                           Gpu  \\\n",
      "0        Intel Core i5 2.3GHz    8     128  Intel Iris Plus Graphics 640   \n",
      "1        Intel Core i5 1.8GHz    8     128        Intel HD Graphics 6000   \n",
      "2  Intel Core i5 7200U 2.5GHz    8     256         Intel HD Graphics 620   \n",
      "3        Intel Core i7 2.7GHz   16     512            AMD Radeon Pro 455   \n",
      "4        Intel Core i5 3.1GHz    8     256  Intel Iris Plus Graphics 650   \n",
      "\n",
      "   OpSys  Weight        Price  TouchScreen  IPS  Cpu Brand  X_res  Y_res  \\\n",
      "0      8    1.37   71378.6832            0    1          1   2560   1600   \n",
      "1      8    1.34   47895.5232            0    0          1   1440    900   \n",
      "2      4    1.86   30636.0000            0    0          1   1920   1080   \n",
      "3      8    1.83  135195.3360            0    1          1   2880   1800   \n",
      "4      8    1.37   96095.8080            0    1          1   2560   1600   \n",
      "\n",
      "          PPI           Storage1 Storage2  \n",
      "0  226.983005            128 SSD     None  \n",
      "1  127.677940  128 Flash Storage     None  \n",
      "2  141.211998            256 SSD     None  \n",
      "3  220.534624            512 SSD     None  \n",
      "4  226.983005            256 SSD     None  \n",
      "Unnamed: 0            int64\n",
      "Company               int32\n",
      "TypeName              int32\n",
      "Inches              float64\n",
      "ScreenResolution     object\n",
      "Cpu                  object\n",
      "Ram                   int32\n",
      "Memory                int32\n",
      "Gpu                  object\n",
      "OpSys                 int32\n",
      "Weight              float64\n",
      "Price               float64\n",
      "TouchScreen           int64\n",
      "IPS                   int64\n",
      "Cpu Brand             int32\n",
      "X_res                 int32\n",
      "Y_res                 int32\n",
      "PPI                 float64\n",
      "Storage1             object\n",
      "Storage2             object\n",
      "dtype: object\n",
      "Unnamed: 0            int64\n",
      "Company               int32\n",
      "TypeName              int32\n",
      "Inches              float64\n",
      "ScreenResolution     object\n",
      "Cpu                  object\n",
      "Ram                   int32\n",
      "Memory                int32\n",
      "Gpu                  object\n",
      "OpSys                 int32\n",
      "Weight              float64\n",
      "Price               float64\n",
      "TouchScreen           int64\n",
      "IPS                   int64\n",
      "Cpu Brand             int32\n",
      "X_res                 int32\n",
      "Y_res                 int32\n",
      "PPI                 float64\n",
      "Total_Storage       float64\n",
      "dtype: object\n"
     ]
    }
   ],
   "source": [
    "print(df.head())  # İlk birkaç satırı görmek için\n",
    "print(df.dtypes)  # Hangi sütunların sayısal, hangilerinin string olduğunu görmek için\n",
    "import pandas as pd\n",
    "\n",
    "# Sayısal olmayan karakterleri kaldır ve float olarak dönüştür\n",
    "df[\"Storage1\"] = df[\"Storage1\"].str.extract(r\"(\\d+)\").astype(float)\n",
    "df[\"Storage2\"] = df[\"Storage2\"].str.extract(r\"(\\d+)\").astype(float)\n",
    "\n",
    "# NaN olanları 0 ile dolduralım (İkinci depolama birimi olmayanlar için)\n",
    "df[\"Storage2\"] = df[\"Storage2\"].fillna(0)\n",
    "\n",
    "# Toplam depolama alanını yeni bir sütunda saklayabiliriz\n",
    "df[\"Total_Storage\"] = df[\"Storage1\"] + df[\"Storage2\"]\n",
    "\n",
    "# Artık eski sütunları kaldırabiliriz\n",
    "df.drop(columns=[\"Storage1\", \"Storage2\"], inplace=True)\n",
    "\n",
    "# Güncellenmiş veri türlerini kontrol edelim\n",
    "print(df.dtypes)\n"
   ]
  },
  {
   "cell_type": "code",
   "execution_count": 51,
   "id": "74aa47fc-17c3-47b0-9b7b-485df820e2f5",
   "metadata": {
    "collapsed": true,
    "jupyter": {
     "outputs_hidden": true
    }
   },
   "outputs": [
    {
     "name": "stdout",
     "output_type": "stream",
     "text": [
      "   Unnamed: 0 Company   TypeName  Inches                    ScreenResolution  \\\n",
      "0           0   Apple  Ultrabook    13.3  IPS Panel Retina Display 2560x1600   \n",
      "1           1   Apple  Ultrabook    13.3                            1440x900   \n",
      "2           2      HP   Notebook    15.6                   Full HD 1920x1080   \n",
      "3           3   Apple  Ultrabook    15.4  IPS Panel Retina Display 2880x1800   \n",
      "4           4   Apple  Ultrabook    13.3  IPS Panel Retina Display 2560x1600   \n",
      "\n",
      "                          Cpu  Ram               Memory  \\\n",
      "0        Intel Core i5 2.3GHz    8            128GB SSD   \n",
      "1        Intel Core i5 1.8GHz    8  128GB Flash Storage   \n",
      "2  Intel Core i5 7200U 2.5GHz    8            256GB SSD   \n",
      "3        Intel Core i7 2.7GHz   16            512GB SSD   \n",
      "4        Intel Core i5 3.1GHz    8            256GB SSD   \n",
      "\n",
      "                            Gpu  OpSys  Weight        Price  Resolution_X  \\\n",
      "0  Intel Iris Plus Graphics 640  macOS    1.37   71378.6832          2560   \n",
      "1        Intel HD Graphics 6000  macOS    1.34   47895.5232          1440   \n",
      "2         Intel HD Graphics 620  No OS    1.86   30636.0000          1920   \n",
      "3            AMD Radeon Pro 455  macOS    1.83  135195.3360          2880   \n",
      "4  Intel Iris Plus Graphics 650  macOS    1.37   96095.8080          2560   \n",
      "\n",
      "   Resolution_Y  TouchScreen  IPS_Display  \n",
      "0          1600            0            1  \n",
      "1           900            0            0  \n",
      "2          1080            0            0  \n",
      "3          1800            0            1  \n",
      "4          1600            0            1  \n"
     ]
    }
   ],
   "source": [
    "print(df.head())\n",
    "print(df['sütun_adı'].unique())  # Veride hangi tür değerler var görmek için\n"
   ]
  },
  {
   "cell_type": "code",
   "execution_count": 52,
   "id": "2a1bc5e1-33ff-45c9-b1ca-aeb82b725fed",
   "metadata": {
    "collapsed": true,
    "jupyter": {
     "outputs_hidden": true
    }
   },
   "outputs": [
    {
     "name": "stdout",
     "output_type": "stream",
     "text": [
      "Unnamed: 0          0\n",
      "Company             0\n",
      "TypeName            0\n",
      "Inches              0\n",
      "ScreenResolution    0\n",
      "Cpu                 0\n",
      "Ram                 0\n",
      "Memory              0\n",
      "Gpu                 0\n",
      "OpSys               0\n",
      "Weight              0\n",
      "Price               0\n",
      "Resolution_X        0\n",
      "Resolution_Y        0\n",
      "TouchScreen         0\n",
      "IPS_Display         0\n",
      "dtype: int64\n"
     ]
    }
   ],
   "source": [
    "# Eksik verileri kontrol et\n",
    "print(df.isnull().sum())\n",
    "\n",
    "# Eksik verileri doldurmak için örnek\n",
    "#df = df.dropna()  # Eksik verileri çıkarabilirsiniz\n",
    "# Ya da df.fillna() ile belirli bir değerle doldurabilirsiniz\n"
   ]
  },
  {
   "cell_type": "code",
   "execution_count": 53,
   "id": "74658481-d697-4e4b-bdd9-f61d2b176a88",
   "metadata": {
    "collapsed": true,
    "jupyter": {
     "outputs_hidden": true
    }
   },
   "outputs": [
    {
     "name": "stdout",
     "output_type": "stream",
     "text": [
      "Unnamed: 0            int64\n",
      "Company              object\n",
      "TypeName             object\n",
      "Inches              float64\n",
      "ScreenResolution     object\n",
      "Cpu                  object\n",
      "Ram                   int32\n",
      "Memory               object\n",
      "Gpu                  object\n",
      "OpSys                object\n",
      "Weight              float64\n",
      "Price               float64\n",
      "Resolution_X          int32\n",
      "Resolution_Y          int32\n",
      "TouchScreen           int64\n",
      "IPS_Display           int64\n",
      "dtype: object\n"
     ]
    }
   ],
   "source": [
    "# Veri türlerini kontrol et\n",
    "print(df.dtypes)\n",
    "\n",
    "# Eğer gerekirse dönüşüm yapın\n",
    "df['Price'] = df['Price'].astype(float)\n",
    "df['Weight'] = df['Weight'].astype(float)\n"
   ]
  },
  {
   "cell_type": "code",
   "execution_count": 54,
   "id": "a5cee0b1-9fa7-408c-945c-9c7aa80522f0",
   "metadata": {},
   "outputs": [],
   "source": [
    "# Kategorik verileri dönüştürme\n",
    "df = pd.get_dummies(df, columns=['Company', 'TypeName', 'OpSys', 'Cpu', 'Gpu', 'Memory','ScreenResolution'], drop_first=True)\n",
    "#int olmayan sutunları int e çevirme işlemi \n",
    "# bu işlemi her bir değerin var ollup olmamasına göre 1 yada 0 olarak ayırır. yeni katagoriler oluşturarak . mesela typename sutunu var burda nootbok \n",
    "#diz ustu mu onu gösteriyor. ultra nootbok nootbok gibi seçenekler var. get dummies yapınca bu ultar nootbok bir sutun nootbok bir sutun oluyor ve eğer \n",
    "#ultra nootbook sa 1 değilse 0 oluyor . nootbok sutununda da aynı şekilde. eğer nootboksa 1 değilse 0 oluyorç bu şekilde kaç tane değeri varsa ona göre\n",
    "# o kadar sutun oluşturuyor."
   ]
  },
  {
   "cell_type": "code",
   "execution_count": 25,
   "id": "ed9c592f-8bc3-4f23-980b-f3a3df56fa68",
   "metadata": {},
   "outputs": [],
   "source": [
    "import numpy as np\n",
    "from sklearn.model_selection import train_test_split, GridSearchCV\n",
    "from sklearn.preprocessing import LabelEncoder, StandardScaler\n",
    "from sklearn.linear_model import LinearRegression\n",
    "from sklearn.tree import DecisionTreeRegressor\n",
    "from sklearn.ensemble import RandomForestRegressor, AdaBoostRegressor\n",
    "from xgboost import XGBRegressor\n",
    "from sklearn.metrics import mean_squared_error, mean_absolute_error, r2_score\n",
    "\n",
    "# Veriyi yükleme (örnek: 'laptop_data.csv')"
   ]
  },
  {
   "cell_type": "code",
   "execution_count": 56,
   "id": "6cda87d9-5d0f-426b-ba97-ac7899753ca8",
   "metadata": {},
   "outputs": [],
   "source": [
    "# Özellik ve hedef değişkeni belirleme\n",
    "x = df.drop(columns=['Price'])  # Bağımsız değişkenler (tüm özellikler)\n",
    "y = df['Price']  # Bağımlı değişken (fiyat)"
   ]
  },
  {
   "cell_type": "code",
   "execution_count": 57,
   "id": "5a9f3694-09e9-430f-b0ff-05f7ab6082bb",
   "metadata": {},
   "outputs": [],
   "source": [
    "# Veriyi eğitim ve test setlerine ayırma\n",
    "x_train, x_test, y_train, y_test = train_test_split(x, y, test_size=0.2, random_state=42)"
   ]
  },
  {
   "cell_type": "code",
   "execution_count": 58,
   "id": "e96ec077-123f-410b-acbe-926febee8be1",
   "metadata": {
    "collapsed": true,
    "jupyter": {
     "outputs_hidden": true
    }
   },
   "outputs": [
    {
     "data": {
      "text/plain": [
       "<bound method NDFrame.describe of       Unnamed: 0  Inches  Ram  Weight        Price  Resolution_X  \\\n",
       "0              0    13.3    8    1.37   71378.6832          2560   \n",
       "1              1    13.3    8    1.34   47895.5232          1440   \n",
       "2              2    15.6    8    1.86   30636.0000          1920   \n",
       "3              3    15.4   16    1.83  135195.3360          2880   \n",
       "4              4    13.3    8    1.37   96095.8080          2560   \n",
       "...          ...     ...  ...     ...          ...           ...   \n",
       "1298        1298    14.0    4    1.80   33992.6400          1920   \n",
       "1299        1299    13.3   16    1.30   79866.7200          3200   \n",
       "1300        1300    14.0    2    1.50   12201.1200          1366   \n",
       "1301        1301    15.6    6    2.19   40705.9200          1366   \n",
       "1302        1302    15.6    4    2.20   19660.3200          1366   \n",
       "\n",
       "      Resolution_Y  TouchScreen  IPS_Display  Company_Apple  ...  \\\n",
       "0             1600            0            1           True  ...   \n",
       "1              900            0            0           True  ...   \n",
       "2             1080            0            0          False  ...   \n",
       "3             1800            0            1           True  ...   \n",
       "4             1600            0            1           True  ...   \n",
       "...            ...          ...          ...            ...  ...   \n",
       "1298          1080            1            1          False  ...   \n",
       "1299          1800            1            1          False  ...   \n",
       "1300           768            0            0          False  ...   \n",
       "1301           768            0            0          False  ...   \n",
       "1302           768            0            0          False  ...   \n",
       "\n",
       "      ScreenResolution_IPS Panel Touchscreen 2560x1440  \\\n",
       "0                                                False   \n",
       "1                                                False   \n",
       "2                                                False   \n",
       "3                                                False   \n",
       "4                                                False   \n",
       "...                                                ...   \n",
       "1298                                             False   \n",
       "1299                                             False   \n",
       "1300                                             False   \n",
       "1301                                             False   \n",
       "1302                                             False   \n",
       "\n",
       "      ScreenResolution_Quad HD+ / Touchscreen 3200x1800  \\\n",
       "0                                                 False   \n",
       "1                                                 False   \n",
       "2                                                 False   \n",
       "3                                                 False   \n",
       "4                                                 False   \n",
       "...                                                 ...   \n",
       "1298                                              False   \n",
       "1299                                              False   \n",
       "1300                                              False   \n",
       "1301                                              False   \n",
       "1302                                              False   \n",
       "\n",
       "      ScreenResolution_Quad HD+ 3200x1800  \\\n",
       "0                                   False   \n",
       "1                                   False   \n",
       "2                                   False   \n",
       "3                                   False   \n",
       "4                                   False   \n",
       "...                                   ...   \n",
       "1298                                False   \n",
       "1299                                False   \n",
       "1300                                False   \n",
       "1301                                False   \n",
       "1302                                False   \n",
       "\n",
       "      ScreenResolution_Touchscreen / 4K Ultra HD 3840x2160  \\\n",
       "0                                                 False      \n",
       "1                                                 False      \n",
       "2                                                 False      \n",
       "3                                                 False      \n",
       "4                                                 False      \n",
       "...                                                 ...      \n",
       "1298                                              False      \n",
       "1299                                              False      \n",
       "1300                                              False      \n",
       "1301                                              False      \n",
       "1302                                              False      \n",
       "\n",
       "      ScreenResolution_Touchscreen / Full HD 1920x1080  \\\n",
       "0                                                False   \n",
       "1                                                False   \n",
       "2                                                False   \n",
       "3                                                False   \n",
       "4                                                False   \n",
       "...                                                ...   \n",
       "1298                                             False   \n",
       "1299                                             False   \n",
       "1300                                             False   \n",
       "1301                                             False   \n",
       "1302                                             False   \n",
       "\n",
       "      ScreenResolution_Touchscreen / Quad HD+ 3200x1800  \\\n",
       "0                                                 False   \n",
       "1                                                 False   \n",
       "2                                                 False   \n",
       "3                                                 False   \n",
       "4                                                 False   \n",
       "...                                                 ...   \n",
       "1298                                              False   \n",
       "1299                                              False   \n",
       "1300                                              False   \n",
       "1301                                              False   \n",
       "1302                                              False   \n",
       "\n",
       "      ScreenResolution_Touchscreen 1366x768  \\\n",
       "0                                     False   \n",
       "1                                     False   \n",
       "2                                     False   \n",
       "3                                     False   \n",
       "4                                     False   \n",
       "...                                     ...   \n",
       "1298                                  False   \n",
       "1299                                  False   \n",
       "1300                                  False   \n",
       "1301                                  False   \n",
       "1302                                  False   \n",
       "\n",
       "      ScreenResolution_Touchscreen 2256x1504  \\\n",
       "0                                      False   \n",
       "1                                      False   \n",
       "2                                      False   \n",
       "3                                      False   \n",
       "4                                      False   \n",
       "...                                      ...   \n",
       "1298                                   False   \n",
       "1299                                   False   \n",
       "1300                                   False   \n",
       "1301                                   False   \n",
       "1302                                   False   \n",
       "\n",
       "      ScreenResolution_Touchscreen 2400x1600  \\\n",
       "0                                      False   \n",
       "1                                      False   \n",
       "2                                      False   \n",
       "3                                      False   \n",
       "4                                      False   \n",
       "...                                      ...   \n",
       "1298                                   False   \n",
       "1299                                   False   \n",
       "1300                                   False   \n",
       "1301                                   False   \n",
       "1302                                   False   \n",
       "\n",
       "      ScreenResolution_Touchscreen 2560x1440  \n",
       "0                                      False  \n",
       "1                                      False  \n",
       "2                                      False  \n",
       "3                                      False  \n",
       "4                                      False  \n",
       "...                                      ...  \n",
       "1298                                   False  \n",
       "1299                                   False  \n",
       "1300                                   False  \n",
       "1301                                   False  \n",
       "1302                                   False  \n",
       "\n",
       "[1303 rows x 343 columns]>"
      ]
     },
     "execution_count": 58,
     "metadata": {},
     "output_type": "execute_result"
    }
   ],
   "source": [
    "df.describe"
   ]
  },
  {
   "cell_type": "code",
   "execution_count": 59,
   "id": "a5be1472-e619-4455-bfe2-4457f9979a0c",
   "metadata": {},
   "outputs": [],
   "source": [
    "# Veriyi ölçeklendirme\n",
    "scaler = StandardScaler()\n",
    "x_train = scaler.fit_transform(x_train)\n",
    "x_test = scaler.transform(x_test)"
   ]
  },
  {
   "cell_type": "code",
   "execution_count": 60,
   "id": "d3271fc5-3c25-4493-881f-f03e7b0c26ca",
   "metadata": {
    "collapsed": true,
    "jupyter": {
     "outputs_hidden": true
    }
   },
   "outputs": [
    {
     "name": "stdout",
     "output_type": "stream",
     "text": [
      "Unnamed: 0                                                    0\n",
      "Inches                                                     13.3\n",
      "Ram                                                           8\n",
      "Weight                                                     1.37\n",
      "Price                                                71378.6832\n",
      "                                                        ...    \n",
      "ScreenResolution_Touchscreen / Quad HD+ 3200x1800         False\n",
      "ScreenResolution_Touchscreen 1366x768                     False\n",
      "ScreenResolution_Touchscreen 2256x1504                    False\n",
      "ScreenResolution_Touchscreen 2400x1600                    False\n",
      "ScreenResolution_Touchscreen 2560x1440                    False\n",
      "Name: 0, Length: 343, dtype: object\n"
     ]
    }
   ],
   "source": [
    "print(df.iloc[0])\n"
   ]
  },
  {
   "cell_type": "code",
   "execution_count": 62,
   "id": "6525ecb7-f3a3-4164-a258-7c82f88ff796",
   "metadata": {
    "collapsed": true,
    "jupyter": {
     "outputs_hidden": true
    }
   },
   "outputs": [
    {
     "name": "stdout",
     "output_type": "stream",
     "text": [
      "['Unnamed: 0', 'Inches', 'Ram', 'Weight', 'Price', 'Resolution_X', 'Resolution_Y', 'TouchScreen', 'IPS_Display', 'Company_Apple', 'Company_Asus', 'Company_Chuwi', 'Company_Dell', 'Company_Fujitsu', 'Company_Google', 'Company_HP', 'Company_Huawei', 'Company_LG', 'Company_Lenovo', 'Company_MSI', 'Company_Mediacom', 'Company_Microsoft', 'Company_Razer', 'Company_Samsung', 'Company_Toshiba', 'Company_Vero', 'Company_Xiaomi', 'TypeName_Gaming', 'TypeName_Netbook', 'TypeName_Notebook', 'TypeName_Ultrabook', 'TypeName_Workstation', 'OpSys_Chrome OS', 'OpSys_Linux', 'OpSys_Mac OS X', 'OpSys_No OS', 'OpSys_Windows 10', 'OpSys_Windows 10 S', 'OpSys_Windows 7', 'OpSys_macOS', 'Cpu_AMD A10-Series 9620P 2.5GHz', 'Cpu_AMD A10-Series A10-9620P 2.5GHz', 'Cpu_AMD A12-Series 9700P 2.5GHz', 'Cpu_AMD A12-Series 9720P 2.7GHz', 'Cpu_AMD A12-Series 9720P 3.6GHz', 'Cpu_AMD A4-Series 7210 2.2GHz', 'Cpu_AMD A6-Series 7310 2GHz', 'Cpu_AMD A6-Series 9220 2.5GHz', 'Cpu_AMD A6-Series 9220 2.9GHz', 'Cpu_AMD A6-Series A6-9220 2.5GHz', 'Cpu_AMD A8-Series 7410 2.2GHz', 'Cpu_AMD A9-Series 9410 2.9GHz', 'Cpu_AMD A9-Series 9420 2.9GHz', 'Cpu_AMD A9-Series 9420 3GHz', 'Cpu_AMD A9-Series A9-9420 3GHz', 'Cpu_AMD E-Series 6110 1.5GHz', 'Cpu_AMD E-Series 7110 1.8GHz', 'Cpu_AMD E-Series 9000 2.2GHz', 'Cpu_AMD E-Series 9000e 1.5GHz', 'Cpu_AMD E-Series E2-6110 1.5GHz', 'Cpu_AMD E-Series E2-9000 2.2GHz', 'Cpu_AMD E-Series E2-9000e 1.5GHz', 'Cpu_AMD FX 8800P 2.1GHz', 'Cpu_AMD FX 9830P 3GHz', 'Cpu_AMD Ryzen 1600 3.2GHz', 'Cpu_AMD Ryzen 1700 3GHz', 'Cpu_Intel Atom X5-Z8350 1.44GHz', 'Cpu_Intel Atom Z8350 1.92GHz', 'Cpu_Intel Atom x5-Z8300 1.44GHz', 'Cpu_Intel Atom x5-Z8350 1.44GHz', 'Cpu_Intel Atom x5-Z8550 1.44GHz', 'Cpu_Intel Celeron Dual Core 3205U 1.5GHz', 'Cpu_Intel Celeron Dual Core 3855U 1.6GHz', 'Cpu_Intel Celeron Dual Core N3050 1.6GHz', 'Cpu_Intel Celeron Dual Core N3060 1.60GHz', 'Cpu_Intel Celeron Dual Core N3060 1.6GHz', 'Cpu_Intel Celeron Dual Core N3350 1.1GHz', 'Cpu_Intel Celeron Dual Core N3350 2.0GHz', 'Cpu_Intel Celeron Dual Core N3350 2GHz', 'Cpu_Intel Celeron Quad Core N3160 1.6GHz', 'Cpu_Intel Celeron Quad Core N3450 1.1GHz', 'Cpu_Intel Celeron Quad Core N3710 1.6GHz', 'Cpu_Intel Core M 1.1GHz', 'Cpu_Intel Core M 1.2GHz', 'Cpu_Intel Core M 6Y30 0.9GHz', 'Cpu_Intel Core M 6Y54 1.1GHz', 'Cpu_Intel Core M 6Y75 1.2GHz', 'Cpu_Intel Core M 7Y30 1.0GHz', 'Cpu_Intel Core M M3-6Y30 0.9GHz', 'Cpu_Intel Core M M7-6Y75 1.2GHz', 'Cpu_Intel Core M m3 1.2GHz', 'Cpu_Intel Core M m3-7Y30 2.2GHz', 'Cpu_Intel Core M m7-6Y75 1.2GHz', 'Cpu_Intel Core i3 6006U 2.0GHz', 'Cpu_Intel Core i3 6006U 2.2GHz', 'Cpu_Intel Core i3 6006U 2GHz', 'Cpu_Intel Core i3 6100U 2.1GHz', 'Cpu_Intel Core i3 6100U 2.3GHz', 'Cpu_Intel Core i3 7100U 2.4GHz', 'Cpu_Intel Core i3 7130U 2.7GHz', 'Cpu_Intel Core i5 1.3GHz', 'Cpu_Intel Core i5 1.6GHz', 'Cpu_Intel Core i5 1.8GHz', 'Cpu_Intel Core i5 2.0GHz', 'Cpu_Intel Core i5 2.3GHz', 'Cpu_Intel Core i5 2.9GHz', 'Cpu_Intel Core i5 3.1GHz', 'Cpu_Intel Core i5 6200U 2.3GHz', 'Cpu_Intel Core i5 6260U 1.8GHz', 'Cpu_Intel Core i5 6300HQ 2.3GHz', 'Cpu_Intel Core i5 6300U 2.4GHz', 'Cpu_Intel Core i5 6440HQ 2.6GHz', 'Cpu_Intel Core i5 7200U 2.50GHz', 'Cpu_Intel Core i5 7200U 2.5GHz', 'Cpu_Intel Core i5 7200U 2.70GHz', 'Cpu_Intel Core i5 7200U 2.7GHz', 'Cpu_Intel Core i5 7300HQ 2.5GHz', 'Cpu_Intel Core i5 7300U 2.6GHz', 'Cpu_Intel Core i5 7440HQ 2.8GHz', 'Cpu_Intel Core i5 7500U 2.7GHz', 'Cpu_Intel Core i5 7Y54 1.2GHz', 'Cpu_Intel Core i5 7Y57 1.2GHz', 'Cpu_Intel Core i5 8250U 1.6GHz', 'Cpu_Intel Core i7 2.2GHz', 'Cpu_Intel Core i7 2.7GHz', 'Cpu_Intel Core i7 2.8GHz', 'Cpu_Intel Core i7 2.9GHz', 'Cpu_Intel Core i7 6500U 2.50GHz', 'Cpu_Intel Core i7 6500U 2.5GHz', 'Cpu_Intel Core i7 6560U 2.2GHz', 'Cpu_Intel Core i7 6600U 2.6GHz', 'Cpu_Intel Core i7 6700HQ 2.6GHz', 'Cpu_Intel Core i7 6820HK 2.7GHz', 'Cpu_Intel Core i7 6820HQ 2.7GHz', 'Cpu_Intel Core i7 6920HQ 2.9GHz', 'Cpu_Intel Core i7 7500U 2.5GHz', 'Cpu_Intel Core i7 7500U 2.7GHz', 'Cpu_Intel Core i7 7560U 2.4GHz', 'Cpu_Intel Core i7 7600U 2.8GHz', 'Cpu_Intel Core i7 7660U 2.5GHz', 'Cpu_Intel Core i7 7700HQ 2.7GHz', 'Cpu_Intel Core i7 7700HQ 2.8GHz', 'Cpu_Intel Core i7 7820HK 2.9GHz', 'Cpu_Intel Core i7 7820HQ 2.9GHz', 'Cpu_Intel Core i7 7Y75 1.3GHz', 'Cpu_Intel Core i7 8550U 1.8GHz', 'Cpu_Intel Core i7 8650U 1.9GHz', 'Cpu_Intel Pentium Dual Core 4405U 2.1GHz', 'Cpu_Intel Pentium Dual Core 4405Y 1.5GHz', 'Cpu_Intel Pentium Dual Core N4200 1.1GHz', 'Cpu_Intel Pentium Quad Core N3700 1.6GHz', 'Cpu_Intel Pentium Quad Core N3710 1.6GHz', 'Cpu_Intel Pentium Quad Core N4200 1.1GHz', 'Cpu_Intel Xeon E3-1505M V6 3GHz', 'Cpu_Intel Xeon E3-1535M v5 2.9GHz', 'Cpu_Intel Xeon E3-1535M v6 3.1GHz', 'Cpu_Samsung Cortex A72&A53 2.0GHz', 'Gpu_AMD FirePro W4190M ', 'Gpu_AMD FirePro W5130M', 'Gpu_AMD FirePro W6150M', 'Gpu_AMD R17M-M1-70', 'Gpu_AMD R4 Graphics', 'Gpu_AMD Radeon 520', 'Gpu_AMD Radeon 530', 'Gpu_AMD Radeon 540', 'Gpu_AMD Radeon Pro 455', 'Gpu_AMD Radeon Pro 555', 'Gpu_AMD Radeon Pro 560', 'Gpu_AMD Radeon R2', 'Gpu_AMD Radeon R2 Graphics', 'Gpu_AMD Radeon R3', 'Gpu_AMD Radeon R4', 'Gpu_AMD Radeon R4 Graphics', 'Gpu_AMD Radeon R5', 'Gpu_AMD Radeon R5 430', 'Gpu_AMD Radeon R5 520', 'Gpu_AMD Radeon R5 M315', 'Gpu_AMD Radeon R5 M330', 'Gpu_AMD Radeon R5 M420', 'Gpu_AMD Radeon R5 M420X', 'Gpu_AMD Radeon R5 M430', 'Gpu_AMD Radeon R7', 'Gpu_AMD Radeon R7 Graphics', 'Gpu_AMD Radeon R7 M360', 'Gpu_AMD Radeon R7 M365X', 'Gpu_AMD Radeon R7 M440', 'Gpu_AMD Radeon R7 M445', 'Gpu_AMD Radeon R7 M460', 'Gpu_AMD Radeon R7 M465', 'Gpu_AMD Radeon R9 M385', 'Gpu_AMD Radeon RX 540', 'Gpu_AMD Radeon RX 550', 'Gpu_AMD Radeon RX 560', 'Gpu_AMD Radeon RX 580', 'Gpu_ARM Mali T860 MP4', 'Gpu_Intel Graphics 620', 'Gpu_Intel HD Graphics', 'Gpu_Intel HD Graphics 400', 'Gpu_Intel HD Graphics 405', 'Gpu_Intel HD Graphics 500', 'Gpu_Intel HD Graphics 505', 'Gpu_Intel HD Graphics 510', 'Gpu_Intel HD Graphics 515', 'Gpu_Intel HD Graphics 520', 'Gpu_Intel HD Graphics 530', 'Gpu_Intel HD Graphics 5300', 'Gpu_Intel HD Graphics 540', 'Gpu_Intel HD Graphics 6000', 'Gpu_Intel HD Graphics 615', 'Gpu_Intel HD Graphics 620', 'Gpu_Intel HD Graphics 620 ', 'Gpu_Intel HD Graphics 630', 'Gpu_Intel Iris Graphics 540', 'Gpu_Intel Iris Graphics 550', 'Gpu_Intel Iris Plus Graphics 640', 'Gpu_Intel Iris Plus Graphics 650', 'Gpu_Intel Iris Pro Graphics', 'Gpu_Intel UHD Graphics 620', 'Gpu_Nvidia GTX 980 SLI', 'Gpu_Nvidia GeForce 150MX', 'Gpu_Nvidia GeForce 920', 'Gpu_Nvidia GeForce 920M', 'Gpu_Nvidia GeForce 920MX', 'Gpu_Nvidia GeForce 920MX ', 'Gpu_Nvidia GeForce 930M', 'Gpu_Nvidia GeForce 930MX', 'Gpu_Nvidia GeForce 930MX ', 'Gpu_Nvidia GeForce 940M', 'Gpu_Nvidia GeForce 940MX', 'Gpu_Nvidia GeForce 960M', 'Gpu_Nvidia GeForce GT 940MX', 'Gpu_Nvidia GeForce GTX 1050', 'Gpu_Nvidia GeForce GTX 1050 Ti', 'Gpu_Nvidia GeForce GTX 1050M', 'Gpu_Nvidia GeForce GTX 1050Ti', 'Gpu_Nvidia GeForce GTX 1060', 'Gpu_Nvidia GeForce GTX 1070', 'Gpu_Nvidia GeForce GTX 1070M', 'Gpu_Nvidia GeForce GTX 1080', 'Gpu_Nvidia GeForce GTX 930MX', 'Gpu_Nvidia GeForce GTX 940M', 'Gpu_Nvidia GeForce GTX 940MX', 'Gpu_Nvidia GeForce GTX 950M', 'Gpu_Nvidia GeForce GTX 960', 'Gpu_Nvidia GeForce GTX 960<U+039C>', 'Gpu_Nvidia GeForce GTX 960M', 'Gpu_Nvidia GeForce GTX 965M', 'Gpu_Nvidia GeForce GTX 970M', 'Gpu_Nvidia GeForce GTX 980 ', 'Gpu_Nvidia GeForce GTX 980M', 'Gpu_Nvidia GeForce GTX1050 Ti', 'Gpu_Nvidia GeForce GTX1060', 'Gpu_Nvidia GeForce GTX1080', 'Gpu_Nvidia GeForce MX130', 'Gpu_Nvidia GeForce MX150', 'Gpu_Nvidia Quadro 3000M', 'Gpu_Nvidia Quadro M1000M', 'Gpu_Nvidia Quadro M1200', 'Gpu_Nvidia Quadro M2000M', 'Gpu_Nvidia Quadro M2200', 'Gpu_Nvidia Quadro M2200M', 'Gpu_Nvidia Quadro M3000M', 'Gpu_Nvidia Quadro M500M', 'Gpu_Nvidia Quadro M520M', 'Gpu_Nvidia Quadro M620', 'Gpu_Nvidia Quadro M620M', 'Memory_1.0TB Hybrid', 'Memory_128GB Flash Storage', 'Memory_128GB HDD', 'Memory_128GB SSD', 'Memory_128GB SSD +  1TB HDD', 'Memory_128GB SSD +  2TB HDD', 'Memory_16GB Flash Storage', 'Memory_16GB SSD', 'Memory_180GB SSD', 'Memory_1TB HDD', 'Memory_1TB HDD +  1TB HDD', 'Memory_1TB SSD', 'Memory_1TB SSD +  1TB HDD', 'Memory_240GB SSD', 'Memory_256GB Flash Storage', 'Memory_256GB SSD', 'Memory_256GB SSD +  1.0TB Hybrid', 'Memory_256GB SSD +  1TB HDD', 'Memory_256GB SSD +  256GB SSD', 'Memory_256GB SSD +  2TB HDD', 'Memory_256GB SSD +  500GB HDD', 'Memory_2TB HDD', 'Memory_32GB Flash Storage', 'Memory_32GB HDD', 'Memory_32GB SSD', 'Memory_500GB HDD', 'Memory_508GB Hybrid', 'Memory_512GB Flash Storage', 'Memory_512GB SSD', 'Memory_512GB SSD +  1.0TB Hybrid', 'Memory_512GB SSD +  1TB HDD', 'Memory_512GB SSD +  256GB SSD', 'Memory_512GB SSD +  2TB HDD', 'Memory_512GB SSD +  512GB SSD', 'Memory_64GB Flash Storage', 'Memory_64GB Flash Storage +  1TB HDD', 'Memory_64GB SSD', 'Memory_8GB SSD', 'ScreenResolution_1440x900', 'ScreenResolution_1600x900', 'ScreenResolution_1920x1080', 'ScreenResolution_2560x1440', 'ScreenResolution_4K Ultra HD / Touchscreen 3840x2160', 'ScreenResolution_4K Ultra HD 3840x2160', 'ScreenResolution_Full HD / Touchscreen 1920x1080', 'ScreenResolution_Full HD 1920x1080', 'ScreenResolution_IPS Panel 1366x768', 'ScreenResolution_IPS Panel 2560x1440', 'ScreenResolution_IPS Panel 4K Ultra HD / Touchscreen 3840x2160', 'ScreenResolution_IPS Panel 4K Ultra HD 3840x2160', 'ScreenResolution_IPS Panel Full HD / Touchscreen 1920x1080', 'ScreenResolution_IPS Panel Full HD 1366x768', 'ScreenResolution_IPS Panel Full HD 1920x1080', 'ScreenResolution_IPS Panel Full HD 1920x1200', 'ScreenResolution_IPS Panel Full HD 2160x1440', 'ScreenResolution_IPS Panel Full HD 2560x1440', 'ScreenResolution_IPS Panel Quad HD+ / Touchscreen 3200x1800', 'ScreenResolution_IPS Panel Quad HD+ 2560x1440', 'ScreenResolution_IPS Panel Quad HD+ 3200x1800', 'ScreenResolution_IPS Panel Retina Display 2304x1440', 'ScreenResolution_IPS Panel Retina Display 2560x1600', 'ScreenResolution_IPS Panel Retina Display 2736x1824', 'ScreenResolution_IPS Panel Retina Display 2880x1800', 'ScreenResolution_IPS Panel Touchscreen / 4K Ultra HD 3840x2160', 'ScreenResolution_IPS Panel Touchscreen 1366x768', 'ScreenResolution_IPS Panel Touchscreen 1920x1200', 'ScreenResolution_IPS Panel Touchscreen 2400x1600', 'ScreenResolution_IPS Panel Touchscreen 2560x1440', 'ScreenResolution_Quad HD+ / Touchscreen 3200x1800', 'ScreenResolution_Quad HD+ 3200x1800', 'ScreenResolution_Touchscreen / 4K Ultra HD 3840x2160', 'ScreenResolution_Touchscreen / Full HD 1920x1080', 'ScreenResolution_Touchscreen / Quad HD+ 3200x1800', 'ScreenResolution_Touchscreen 1366x768', 'ScreenResolution_Touchscreen 2256x1504', 'ScreenResolution_Touchscreen 2400x1600', 'ScreenResolution_Touchscreen 2560x1440']\n",
      "[0, 13.3, 8, 1.37, 71378.6832, 2560, 1600, 0, 1, True, False, False, False, False, False, False, False, False, False, False, False, False, False, False, False, False, False, False, False, False, True, False, False, False, False, False, False, False, False, True, False, False, False, False, False, False, False, False, False, False, False, False, False, False, False, False, False, False, False, False, False, False, False, False, False, False, False, False, False, False, False, False, False, False, False, False, False, False, False, False, False, False, False, False, False, False, False, False, False, False, False, False, False, False, False, False, False, False, False, False, False, False, False, False, True, False, False, False, False, False, False, False, False, False, False, False, False, False, False, False, False, False, False, False, False, False, False, False, False, False, False, False, False, False, False, False, False, False, False, False, False, False, False, False, False, False, False, False, False, False, False, False, False, False, False, False, False, False, False, False, False, False, False, False, False, False, False, False, False, False, False, False, False, False, False, False, False, False, False, False, False, False, False, False, False, False, False, False, False, False, False, False, False, False, False, False, False, False, False, False, False, False, False, False, False, False, False, False, False, False, False, False, False, False, True, False, False, False, False, False, False, False, False, False, False, False, False, False, False, False, False, False, False, False, False, False, False, False, False, False, False, False, False, False, False, False, False, False, False, False, False, False, False, False, False, False, False, False, False, False, False, False, False, False, False, False, False, False, False, True, False, False, False, False, False, False, False, False, False, False, False, False, False, False, False, False, False, False, False, False, False, False, False, False, False, False, False, False, False, False, False, False, False, False, False, False, False, False, False, False, False, False, False, False, False, False, False, False, False, False, False, False, False, False, False, False, True, False, False, False, False, False, False, False, False, False, False, False, False, False, False, False, False]\n"
     ]
    }
   ],
   "source": [
    "print(df.columns.tolist())  # Sütun isimlerini al\n",
    "print(df.iloc[0].tolist())  # İlk satırdaki değerleri liste halinde al\n"
   ]
  },
  {
   "cell_type": "code",
   "execution_count": 30,
   "id": "a597dbec-2c04-4303-ab16-db749203d31e",
   "metadata": {
    "collapsed": true,
    "jupyter": {
     "outputs_hidden": true
    }
   },
   "outputs": [
    {
     "name": "stdout",
     "output_type": "stream",
     "text": [
      "Unnamed: 0                                                                    0\n",
      "Inches                                                                     13.3\n",
      "ScreenResolution                             IPS Panel Retina Display 2560x1600\n",
      "Ram                                                                           8\n",
      "Weight                                                                     1.37\n",
      "Price                                                                71378.6832\n",
      "Resolution_X                                                               2560\n",
      "Resolution_Y                                                               1600\n",
      "TouchScreen                                                                   0\n",
      "IPS_Display                                                                   1\n",
      "Company_Apple                                                              True\n",
      "Company_Asus                                                              False\n",
      "Company_Chuwi                                                             False\n",
      "Company_Dell                                                              False\n",
      "Company_Fujitsu                                                           False\n",
      "Company_Google                                                            False\n",
      "Company_HP                                                                False\n",
      "Company_Huawei                                                            False\n",
      "Company_LG                                                                False\n",
      "Company_Lenovo                                                            False\n",
      "Company_MSI                                                               False\n",
      "Company_Mediacom                                                          False\n",
      "Company_Microsoft                                                         False\n",
      "Company_Razer                                                             False\n",
      "Company_Samsung                                                           False\n",
      "Company_Toshiba                                                           False\n",
      "Company_Vero                                                              False\n",
      "Company_Xiaomi                                                            False\n",
      "TypeName_Gaming                                                           False\n",
      "TypeName_Netbook                                                          False\n",
      "TypeName_Notebook                                                         False\n",
      "TypeName_Ultrabook                                                         True\n",
      "TypeName_Workstation                                                      False\n",
      "OpSys_Chrome OS                                                           False\n",
      "OpSys_Linux                                                               False\n",
      "OpSys_Mac OS X                                                            False\n",
      "OpSys_No OS                                                               False\n",
      "OpSys_Windows 10                                                          False\n",
      "OpSys_Windows 10 S                                                        False\n",
      "OpSys_Windows 7                                                           False\n",
      "OpSys_macOS                                                                True\n",
      "Cpu_AMD A10-Series 9620P 2.5GHz                                           False\n",
      "Cpu_AMD A10-Series A10-9620P 2.5GHz                                       False\n",
      "Cpu_AMD A12-Series 9700P 2.5GHz                                           False\n",
      "Cpu_AMD A12-Series 9720P 2.7GHz                                           False\n",
      "Cpu_AMD A12-Series 9720P 3.6GHz                                           False\n",
      "Cpu_AMD A4-Series 7210 2.2GHz                                             False\n",
      "Cpu_AMD A6-Series 7310 2GHz                                               False\n",
      "Cpu_AMD A6-Series 9220 2.5GHz                                             False\n",
      "Cpu_AMD A6-Series 9220 2.9GHz                                             False\n",
      "Cpu_AMD A6-Series A6-9220 2.5GHz                                          False\n",
      "Cpu_AMD A8-Series 7410 2.2GHz                                             False\n",
      "Cpu_AMD A9-Series 9410 2.9GHz                                             False\n",
      "Cpu_AMD A9-Series 9420 2.9GHz                                             False\n",
      "Cpu_AMD A9-Series 9420 3GHz                                               False\n",
      "Cpu_AMD A9-Series A9-9420 3GHz                                            False\n",
      "Cpu_AMD E-Series 6110 1.5GHz                                              False\n",
      "Cpu_AMD E-Series 7110 1.8GHz                                              False\n",
      "Cpu_AMD E-Series 9000 2.2GHz                                              False\n",
      "Cpu_AMD E-Series 9000e 1.5GHz                                             False\n",
      "Cpu_AMD E-Series E2-6110 1.5GHz                                           False\n",
      "Cpu_AMD E-Series E2-9000 2.2GHz                                           False\n",
      "Cpu_AMD E-Series E2-9000e 1.5GHz                                          False\n",
      "Cpu_AMD FX 8800P 2.1GHz                                                   False\n",
      "Cpu_AMD FX 9830P 3GHz                                                     False\n",
      "Cpu_AMD Ryzen 1600 3.2GHz                                                 False\n",
      "Cpu_AMD Ryzen 1700 3GHz                                                   False\n",
      "Cpu_Intel Atom X5-Z8350 1.44GHz                                           False\n",
      "Cpu_Intel Atom Z8350 1.92GHz                                              False\n",
      "Cpu_Intel Atom x5-Z8300 1.44GHz                                           False\n",
      "Cpu_Intel Atom x5-Z8350 1.44GHz                                           False\n",
      "Cpu_Intel Atom x5-Z8550 1.44GHz                                           False\n",
      "Cpu_Intel Celeron Dual Core 3205U 1.5GHz                                  False\n",
      "Cpu_Intel Celeron Dual Core 3855U 1.6GHz                                  False\n",
      "Cpu_Intel Celeron Dual Core N3050 1.6GHz                                  False\n",
      "Cpu_Intel Celeron Dual Core N3060 1.60GHz                                 False\n",
      "Cpu_Intel Celeron Dual Core N3060 1.6GHz                                  False\n",
      "Cpu_Intel Celeron Dual Core N3350 1.1GHz                                  False\n",
      "Cpu_Intel Celeron Dual Core N3350 2.0GHz                                  False\n",
      "Cpu_Intel Celeron Dual Core N3350 2GHz                                    False\n",
      "Cpu_Intel Celeron Quad Core N3160 1.6GHz                                  False\n",
      "Cpu_Intel Celeron Quad Core N3450 1.1GHz                                  False\n",
      "Cpu_Intel Celeron Quad Core N3710 1.6GHz                                  False\n",
      "Cpu_Intel Core M 1.1GHz                                                   False\n",
      "Cpu_Intel Core M 1.2GHz                                                   False\n",
      "Cpu_Intel Core M 6Y30 0.9GHz                                              False\n",
      "Cpu_Intel Core M 6Y54 1.1GHz                                              False\n",
      "Cpu_Intel Core M 6Y75 1.2GHz                                              False\n",
      "Cpu_Intel Core M 7Y30 1.0GHz                                              False\n",
      "Cpu_Intel Core M M3-6Y30 0.9GHz                                           False\n",
      "Cpu_Intel Core M M7-6Y75 1.2GHz                                           False\n",
      "Cpu_Intel Core M m3 1.2GHz                                                False\n",
      "Cpu_Intel Core M m3-7Y30 2.2GHz                                           False\n",
      "Cpu_Intel Core M m7-6Y75 1.2GHz                                           False\n",
      "Cpu_Intel Core i3 6006U 2.0GHz                                            False\n",
      "Cpu_Intel Core i3 6006U 2.2GHz                                            False\n",
      "Cpu_Intel Core i3 6006U 2GHz                                              False\n",
      "Cpu_Intel Core i3 6100U 2.1GHz                                            False\n",
      "Cpu_Intel Core i3 6100U 2.3GHz                                            False\n",
      "Cpu_Intel Core i3 7100U 2.4GHz                                            False\n",
      "Cpu_Intel Core i3 7130U 2.7GHz                                            False\n",
      "Cpu_Intel Core i5 1.3GHz                                                  False\n",
      "Cpu_Intel Core i5 1.6GHz                                                  False\n",
      "Cpu_Intel Core i5 1.8GHz                                                  False\n",
      "Cpu_Intel Core i5 2.0GHz                                                  False\n",
      "Cpu_Intel Core i5 2.3GHz                                                   True\n",
      "Cpu_Intel Core i5 2.9GHz                                                  False\n",
      "Cpu_Intel Core i5 3.1GHz                                                  False\n",
      "Cpu_Intel Core i5 6200U 2.3GHz                                            False\n",
      "Cpu_Intel Core i5 6260U 1.8GHz                                            False\n",
      "Cpu_Intel Core i5 6300HQ 2.3GHz                                           False\n",
      "Cpu_Intel Core i5 6300U 2.4GHz                                            False\n",
      "Cpu_Intel Core i5 6440HQ 2.6GHz                                           False\n",
      "Cpu_Intel Core i5 7200U 2.50GHz                                           False\n",
      "Cpu_Intel Core i5 7200U 2.5GHz                                            False\n",
      "Cpu_Intel Core i5 7200U 2.70GHz                                           False\n",
      "Cpu_Intel Core i5 7200U 2.7GHz                                            False\n",
      "Cpu_Intel Core i5 7300HQ 2.5GHz                                           False\n",
      "Cpu_Intel Core i5 7300U 2.6GHz                                            False\n",
      "Cpu_Intel Core i5 7440HQ 2.8GHz                                           False\n",
      "Cpu_Intel Core i5 7500U 2.7GHz                                            False\n",
      "Cpu_Intel Core i5 7Y54 1.2GHz                                             False\n",
      "Cpu_Intel Core i5 7Y57 1.2GHz                                             False\n",
      "Cpu_Intel Core i5 8250U 1.6GHz                                            False\n",
      "Cpu_Intel Core i7 2.2GHz                                                  False\n",
      "Cpu_Intel Core i7 2.7GHz                                                  False\n",
      "Cpu_Intel Core i7 2.8GHz                                                  False\n",
      "Cpu_Intel Core i7 2.9GHz                                                  False\n",
      "Cpu_Intel Core i7 6500U 2.50GHz                                           False\n",
      "Cpu_Intel Core i7 6500U 2.5GHz                                            False\n",
      "Cpu_Intel Core i7 6560U 2.2GHz                                            False\n",
      "Cpu_Intel Core i7 6600U 2.6GHz                                            False\n",
      "Cpu_Intel Core i7 6700HQ 2.6GHz                                           False\n",
      "Cpu_Intel Core i7 6820HK 2.7GHz                                           False\n",
      "Cpu_Intel Core i7 6820HQ 2.7GHz                                           False\n",
      "Cpu_Intel Core i7 6920HQ 2.9GHz                                           False\n",
      "Cpu_Intel Core i7 7500U 2.5GHz                                            False\n",
      "Cpu_Intel Core i7 7500U 2.7GHz                                            False\n",
      "Cpu_Intel Core i7 7560U 2.4GHz                                            False\n",
      "Cpu_Intel Core i7 7600U 2.8GHz                                            False\n",
      "Cpu_Intel Core i7 7660U 2.5GHz                                            False\n",
      "Cpu_Intel Core i7 7700HQ 2.7GHz                                           False\n",
      "Cpu_Intel Core i7 7700HQ 2.8GHz                                           False\n",
      "Cpu_Intel Core i7 7820HK 2.9GHz                                           False\n",
      "Cpu_Intel Core i7 7820HQ 2.9GHz                                           False\n",
      "Cpu_Intel Core i7 7Y75 1.3GHz                                             False\n",
      "Cpu_Intel Core i7 8550U 1.8GHz                                            False\n",
      "Cpu_Intel Core i7 8650U 1.9GHz                                            False\n",
      "Cpu_Intel Pentium Dual Core 4405U 2.1GHz                                  False\n",
      "Cpu_Intel Pentium Dual Core 4405Y 1.5GHz                                  False\n",
      "Cpu_Intel Pentium Dual Core N4200 1.1GHz                                  False\n",
      "Cpu_Intel Pentium Quad Core N3700 1.6GHz                                  False\n",
      "Cpu_Intel Pentium Quad Core N3710 1.6GHz                                  False\n",
      "Cpu_Intel Pentium Quad Core N4200 1.1GHz                                  False\n",
      "Cpu_Intel Xeon E3-1505M V6 3GHz                                           False\n",
      "Cpu_Intel Xeon E3-1535M v5 2.9GHz                                         False\n",
      "Cpu_Intel Xeon E3-1535M v6 3.1GHz                                         False\n",
      "Cpu_Samsung Cortex A72&A53 2.0GHz                                         False\n",
      "Gpu_AMD FirePro W4190M                                                    False\n",
      "Gpu_AMD FirePro W5130M                                                    False\n",
      "Gpu_AMD FirePro W6150M                                                    False\n",
      "Gpu_AMD R17M-M1-70                                                        False\n",
      "Gpu_AMD R4 Graphics                                                       False\n",
      "Gpu_AMD Radeon 520                                                        False\n",
      "Gpu_AMD Radeon 530                                                        False\n",
      "Gpu_AMD Radeon 540                                                        False\n",
      "Gpu_AMD Radeon Pro 455                                                    False\n",
      "Gpu_AMD Radeon Pro 555                                                    False\n",
      "Gpu_AMD Radeon Pro 560                                                    False\n",
      "Gpu_AMD Radeon R2                                                         False\n",
      "Gpu_AMD Radeon R2 Graphics                                                False\n",
      "Gpu_AMD Radeon R3                                                         False\n",
      "Gpu_AMD Radeon R4                                                         False\n",
      "Gpu_AMD Radeon R4 Graphics                                                False\n",
      "Gpu_AMD Radeon R5                                                         False\n",
      "Gpu_AMD Radeon R5 430                                                     False\n",
      "Gpu_AMD Radeon R5 520                                                     False\n",
      "Gpu_AMD Radeon R5 M315                                                    False\n",
      "Gpu_AMD Radeon R5 M330                                                    False\n",
      "Gpu_AMD Radeon R5 M420                                                    False\n",
      "Gpu_AMD Radeon R5 M420X                                                   False\n",
      "Gpu_AMD Radeon R5 M430                                                    False\n",
      "Gpu_AMD Radeon R7                                                         False\n",
      "Gpu_AMD Radeon R7 Graphics                                                False\n",
      "Gpu_AMD Radeon R7 M360                                                    False\n",
      "Gpu_AMD Radeon R7 M365X                                                   False\n",
      "Gpu_AMD Radeon R7 M440                                                    False\n",
      "Gpu_AMD Radeon R7 M445                                                    False\n",
      "Gpu_AMD Radeon R7 M460                                                    False\n",
      "Gpu_AMD Radeon R7 M465                                                    False\n",
      "Gpu_AMD Radeon R9 M385                                                    False\n",
      "Gpu_AMD Radeon RX 540                                                     False\n",
      "Gpu_AMD Radeon RX 550                                                     False\n",
      "Gpu_AMD Radeon RX 560                                                     False\n",
      "Gpu_AMD Radeon RX 580                                                     False\n",
      "Gpu_ARM Mali T860 MP4                                                     False\n",
      "Gpu_Intel Graphics 620                                                    False\n",
      "Gpu_Intel HD Graphics                                                     False\n",
      "Gpu_Intel HD Graphics 400                                                 False\n",
      "Gpu_Intel HD Graphics 405                                                 False\n",
      "Gpu_Intel HD Graphics 500                                                 False\n",
      "Gpu_Intel HD Graphics 505                                                 False\n",
      "Gpu_Intel HD Graphics 510                                                 False\n",
      "Gpu_Intel HD Graphics 515                                                 False\n",
      "Gpu_Intel HD Graphics 520                                                 False\n",
      "Gpu_Intel HD Graphics 530                                                 False\n",
      "Gpu_Intel HD Graphics 5300                                                False\n",
      "Gpu_Intel HD Graphics 540                                                 False\n",
      "Gpu_Intel HD Graphics 6000                                                False\n",
      "Gpu_Intel HD Graphics 615                                                 False\n",
      "Gpu_Intel HD Graphics 620                                                 False\n",
      "Gpu_Intel HD Graphics 620                                                 False\n",
      "Gpu_Intel HD Graphics 630                                                 False\n",
      "Gpu_Intel Iris Graphics 540                                               False\n",
      "Gpu_Intel Iris Graphics 550                                               False\n",
      "Gpu_Intel Iris Plus Graphics 640                                           True\n",
      "Gpu_Intel Iris Plus Graphics 650                                          False\n",
      "Gpu_Intel Iris Pro Graphics                                               False\n",
      "Gpu_Intel UHD Graphics 620                                                False\n",
      "Gpu_Nvidia GTX 980 SLI                                                    False\n",
      "Gpu_Nvidia GeForce 150MX                                                  False\n",
      "Gpu_Nvidia GeForce 920                                                    False\n",
      "Gpu_Nvidia GeForce 920M                                                   False\n",
      "Gpu_Nvidia GeForce 920MX                                                  False\n",
      "Gpu_Nvidia GeForce 920MX                                                  False\n",
      "Gpu_Nvidia GeForce 930M                                                   False\n",
      "Gpu_Nvidia GeForce 930MX                                                  False\n",
      "Gpu_Nvidia GeForce 930MX                                                  False\n",
      "Gpu_Nvidia GeForce 940M                                                   False\n",
      "Gpu_Nvidia GeForce 940MX                                                  False\n",
      "Gpu_Nvidia GeForce 960M                                                   False\n",
      "Gpu_Nvidia GeForce GT 940MX                                               False\n",
      "Gpu_Nvidia GeForce GTX 1050                                               False\n",
      "Gpu_Nvidia GeForce GTX 1050 Ti                                            False\n",
      "Gpu_Nvidia GeForce GTX 1050M                                              False\n",
      "Gpu_Nvidia GeForce GTX 1050Ti                                             False\n",
      "Gpu_Nvidia GeForce GTX 1060                                               False\n",
      "Gpu_Nvidia GeForce GTX 1070                                               False\n",
      "Gpu_Nvidia GeForce GTX 1070M                                              False\n",
      "Gpu_Nvidia GeForce GTX 1080                                               False\n",
      "Gpu_Nvidia GeForce GTX 930MX                                              False\n",
      "Gpu_Nvidia GeForce GTX 940M                                               False\n",
      "Gpu_Nvidia GeForce GTX 940MX                                              False\n",
      "Gpu_Nvidia GeForce GTX 950M                                               False\n",
      "Gpu_Nvidia GeForce GTX 960                                                False\n",
      "Gpu_Nvidia GeForce GTX 960<U+039C>                                        False\n",
      "Gpu_Nvidia GeForce GTX 960M                                               False\n",
      "Gpu_Nvidia GeForce GTX 965M                                               False\n",
      "Gpu_Nvidia GeForce GTX 970M                                               False\n",
      "Gpu_Nvidia GeForce GTX 980                                                False\n",
      "Gpu_Nvidia GeForce GTX 980M                                               False\n",
      "Gpu_Nvidia GeForce GTX1050 Ti                                             False\n",
      "Gpu_Nvidia GeForce GTX1060                                                False\n",
      "Gpu_Nvidia GeForce GTX1080                                                False\n",
      "Gpu_Nvidia GeForce MX130                                                  False\n",
      "Gpu_Nvidia GeForce MX150                                                  False\n",
      "Gpu_Nvidia Quadro 3000M                                                   False\n",
      "Gpu_Nvidia Quadro M1000M                                                  False\n",
      "Gpu_Nvidia Quadro M1200                                                   False\n",
      "Gpu_Nvidia Quadro M2000M                                                  False\n",
      "Gpu_Nvidia Quadro M2200                                                   False\n",
      "Gpu_Nvidia Quadro M2200M                                                  False\n",
      "Gpu_Nvidia Quadro M3000M                                                  False\n",
      "Gpu_Nvidia Quadro M500M                                                   False\n",
      "Gpu_Nvidia Quadro M520M                                                   False\n",
      "Gpu_Nvidia Quadro M620                                                    False\n",
      "Gpu_Nvidia Quadro M620M                                                   False\n",
      "Memory_1.0TB Hybrid                                                       False\n",
      "Memory_128GB Flash Storage                                                False\n",
      "Memory_128GB HDD                                                          False\n",
      "Memory_128GB SSD                                                           True\n",
      "Memory_128GB SSD +  1TB HDD                                               False\n",
      "Memory_128GB SSD +  2TB HDD                                               False\n",
      "Memory_16GB Flash Storage                                                 False\n",
      "Memory_16GB SSD                                                           False\n",
      "Memory_180GB SSD                                                          False\n",
      "Memory_1TB HDD                                                            False\n",
      "Memory_1TB HDD +  1TB HDD                                                 False\n",
      "Memory_1TB SSD                                                            False\n",
      "Memory_1TB SSD +  1TB HDD                                                 False\n",
      "Memory_240GB SSD                                                          False\n",
      "Memory_256GB Flash Storage                                                False\n",
      "Memory_256GB SSD                                                          False\n",
      "Memory_256GB SSD +  1.0TB Hybrid                                          False\n",
      "Memory_256GB SSD +  1TB HDD                                               False\n",
      "Memory_256GB SSD +  256GB SSD                                             False\n",
      "Memory_256GB SSD +  2TB HDD                                               False\n",
      "Memory_256GB SSD +  500GB HDD                                             False\n",
      "Memory_2TB HDD                                                            False\n",
      "Memory_32GB Flash Storage                                                 False\n",
      "Memory_32GB HDD                                                           False\n",
      "Memory_32GB SSD                                                           False\n",
      "Memory_500GB HDD                                                          False\n",
      "Memory_508GB Hybrid                                                       False\n",
      "Memory_512GB Flash Storage                                                False\n",
      "Memory_512GB SSD                                                          False\n",
      "Memory_512GB SSD +  1.0TB Hybrid                                          False\n",
      "Memory_512GB SSD +  1TB HDD                                               False\n",
      "Memory_512GB SSD +  256GB SSD                                             False\n",
      "Memory_512GB SSD +  2TB HDD                                               False\n",
      "Memory_512GB SSD +  512GB SSD                                             False\n",
      "Memory_64GB Flash Storage                                                 False\n",
      "Memory_64GB Flash Storage +  1TB HDD                                      False\n",
      "Memory_64GB SSD                                                           False\n",
      "Memory_8GB SSD                                                            False\n"
     ]
    }
   ],
   "source": [
    "print(df.iloc[0].to_string())  # Tüm sütunları yazdırır\n"
   ]
  },
  {
   "cell_type": "code",
   "execution_count": 26,
   "id": "cff60f8f-6832-4085-aa5d-ec82c71c1bc5",
   "metadata": {},
   "outputs": [],
   "source": [
    "# 1️⃣ MODELLERİ TANIMLA\n",
    "models = {\n",
    "    \"Linear Regression\": LinearRegression(),\n",
    "    \"Decision Tree\": DecisionTreeRegressor(),\n",
    "    \"Random Forest\": RandomForestRegressor(n_estimators=100, random_state=42),\n",
    "    \"AdaBoost\": AdaBoostRegressor(n_estimators=100, random_state=42),\n",
    "    \"XGBoost\": XGBRegressor(n_estimators=100, random_state=42)\n",
    "}"
   ]
  },
  {
   "cell_type": "code",
   "execution_count": 28,
   "id": "46b50ccd-e744-420c-bad0-216347d37a77",
   "metadata": {},
   "outputs": [],
   "source": [
    "# 2️⃣ MODELLERİ EĞİT VE TEST ET\n",
    "results = {}\n",
    "for name, model in models.items():\n",
    "    model.fit(X_train, y_train)\n",
    "    y_pred = model.predict(X_test)\n",
    "    \n",
    "    mse = mean_squared_error(y_test, y_pred)\n",
    "    mae = mean_absolute_error(y_test, y_pred)\n",
    "    r2 = r2_score(y_test, y_pred)\n",
    "    \n",
    "    results[name] = {\n",
    "        \"MSE\": mse,\n",
    "        \"MAE\": mae,\n",
    "        \"R² Score\": r2\n",
    "    }\n",
    "    "
   ]
  },
  {
   "cell_type": "code",
   "execution_count": 66,
   "id": "0554d926-bdee-40ec-86ed-f35a32845f26",
   "metadata": {},
   "outputs": [
    {
     "name": "stdout",
     "output_type": "stream",
     "text": [
      "📌 XGBoost Model Sonuçları:\n",
      "  - MSE: 293085108.11\n",
      "  - MAE: 10105.16\n",
      "  - R² Score: 0.7967\n",
      "\n"
     ]
    }
   ],
   "source": [
    "print(f\"📌 {name} Model Sonuçları:\")\n",
    "print(f\"  - MSE: {mse:.2f}\")\n",
    "print(f\"  - MAE: {mae:.2f}\")\n",
    "print(f\"  - R² Score: {r2:.4f}\\n\")\n"
   ]
  },
  {
   "cell_type": "code",
   "execution_count": 29,
   "id": "3559850b-e612-49b3-bcc0-88e70bd39d0f",
   "metadata": {},
   "outputs": [
    {
     "name": "stdout",
     "output_type": "stream",
     "text": [
      "🏆 En iyi model: Random Forest (R² Score: 0.8183)\n"
     ]
    }
   ],
   "source": [
    "# 3️⃣ En iyi modeli belirle\n",
    "best_model = max(results, key=lambda x: results[x][\"R² Score\"])\n",
    "print(f\"🏆 En iyi model: {best_model} (R² Score: {results[best_model]['R² Score']:.4f})\")"
   ]
  },
  {
   "cell_type": "code",
   "execution_count": null,
   "id": "8d4be208-c813-4455-9731-8c7a199ab780",
   "metadata": {},
   "outputs": [],
   "source": []
  }
 ],
 "metadata": {
  "kernelspec": {
   "display_name": "Python 3 (ipykernel)",
   "language": "python",
   "name": "python3"
  },
  "language_info": {
   "codemirror_mode": {
    "name": "ipython",
    "version": 3
   },
   "file_extension": ".py",
   "mimetype": "text/x-python",
   "name": "python",
   "nbconvert_exporter": "python",
   "pygments_lexer": "ipython3",
   "version": "3.12.7"
  }
 },
 "nbformat": 4,
 "nbformat_minor": 5
}
