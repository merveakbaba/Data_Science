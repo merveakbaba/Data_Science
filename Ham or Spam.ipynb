{
 "cells": [
  {
   "cell_type": "markdown",
   "id": "02bc39ca-5617-4ed0-9e50-9f1b20bd8bf0",
   "metadata": {},
   "source": [
    "# Ham or Spam"
   ]
  },
  {
   "cell_type": "markdown",
   "id": "93691f33-912b-4285-a41c-ed566144f5a1",
   "metadata": {},
   "source": [
    "<font color=red > bu projede Turkcell e gönderilen mesajların spam olup olmadığını bilen bir classification model geliştireceğiz"
   ]
  },
  {
   "cell_type": "code",
   "execution_count": 2,
   "id": "e93b76a8-3ed0-4641-9fb5-7ae0162511e1",
   "metadata": {},
   "outputs": [],
   "source": [
    "import pandas as pd "
   ]
  },
  {
   "cell_type": "code",
   "execution_count": 7,
   "id": "2946e868-f253-489a-a5f7-ef01750912d8",
   "metadata": {},
   "outputs": [],
   "source": [
    "df=pd.read_csv('spam.csv',encoding='iso-8859-1')\n",
    "#encoding='iso-8859-1') türkçe karakterleri tanımadığı için kullandık"
   ]
  },
  {
   "cell_type": "code",
   "execution_count": 8,
   "id": "faa3b00a-41e1-4f78-81d1-54daa78c6b07",
   "metadata": {
    "collapsed": true,
    "jupyter": {
     "outputs_hidden": true
    }
   },
   "outputs": [
    {
     "data": {
      "text/html": [
       "<div>\n",
       "<style scoped>\n",
       "    .dataframe tbody tr th:only-of-type {\n",
       "        vertical-align: middle;\n",
       "    }\n",
       "\n",
       "    .dataframe tbody tr th {\n",
       "        vertical-align: top;\n",
       "    }\n",
       "\n",
       "    .dataframe thead th {\n",
       "        text-align: right;\n",
       "    }\n",
       "</style>\n",
       "<table border=\"1\" class=\"dataframe\">\n",
       "  <thead>\n",
       "    <tr style=\"text-align: right;\">\n",
       "      <th></th>\n",
       "      <th>v1</th>\n",
       "      <th>v2</th>\n",
       "      <th>Unnamed: 2</th>\n",
       "      <th>Unnamed: 3</th>\n",
       "      <th>Unnamed: 4</th>\n",
       "    </tr>\n",
       "  </thead>\n",
       "  <tbody>\n",
       "    <tr>\n",
       "      <th>0</th>\n",
       "      <td>ham</td>\n",
       "      <td>Go until jurong point, crazy.. Available only ...</td>\n",
       "      <td>NaN</td>\n",
       "      <td>NaN</td>\n",
       "      <td>NaN</td>\n",
       "    </tr>\n",
       "    <tr>\n",
       "      <th>1</th>\n",
       "      <td>ham</td>\n",
       "      <td>Ok lar... Joking wif u oni...</td>\n",
       "      <td>NaN</td>\n",
       "      <td>NaN</td>\n",
       "      <td>NaN</td>\n",
       "    </tr>\n",
       "    <tr>\n",
       "      <th>2</th>\n",
       "      <td>spam</td>\n",
       "      <td>Free entry in 2 a wkly comp to win FA Cup fina...</td>\n",
       "      <td>NaN</td>\n",
       "      <td>NaN</td>\n",
       "      <td>NaN</td>\n",
       "    </tr>\n",
       "    <tr>\n",
       "      <th>3</th>\n",
       "      <td>ham</td>\n",
       "      <td>U dun say so early hor... U c already then say...</td>\n",
       "      <td>NaN</td>\n",
       "      <td>NaN</td>\n",
       "      <td>NaN</td>\n",
       "    </tr>\n",
       "    <tr>\n",
       "      <th>4</th>\n",
       "      <td>ham</td>\n",
       "      <td>Nah I don't think he goes to usf, he lives aro...</td>\n",
       "      <td>NaN</td>\n",
       "      <td>NaN</td>\n",
       "      <td>NaN</td>\n",
       "    </tr>\n",
       "  </tbody>\n",
       "</table>\n",
       "</div>"
      ],
      "text/plain": [
       "     v1                                                 v2 Unnamed: 2  \\\n",
       "0   ham  Go until jurong point, crazy.. Available only ...        NaN   \n",
       "1   ham                      Ok lar... Joking wif u oni...        NaN   \n",
       "2  spam  Free entry in 2 a wkly comp to win FA Cup fina...        NaN   \n",
       "3   ham  U dun say so early hor... U c already then say...        NaN   \n",
       "4   ham  Nah I don't think he goes to usf, he lives aro...        NaN   \n",
       "\n",
       "  Unnamed: 3 Unnamed: 4  \n",
       "0        NaN        NaN  \n",
       "1        NaN        NaN  \n",
       "2        NaN        NaN  \n",
       "3        NaN        NaN  \n",
       "4        NaN        NaN  "
      ]
     },
     "execution_count": 8,
     "metadata": {},
     "output_type": "execute_result"
    }
   ],
   "source": [
    "df.head()"
   ]
  },
  {
   "cell_type": "code",
   "execution_count": 9,
   "id": "e508ef45-0a25-427c-84a4-be5a1b8e0787",
   "metadata": {},
   "outputs": [],
   "source": [
    "import neattext as nt "
   ]
  },
  {
   "cell_type": "code",
   "execution_count": 10,
   "id": "2b278054-b262-444e-ae5b-4d8013689976",
   "metadata": {},
   "outputs": [
    {
     "data": {
      "text/plain": [
       "(5572, 5)"
      ]
     },
     "execution_count": 10,
     "metadata": {},
     "output_type": "execute_result"
    }
   ],
   "source": [
    "df.shape\n"
   ]
  },
  {
   "cell_type": "code",
   "execution_count": 13,
   "id": "48c8432c-779c-4707-8f1b-90217ad2f75c",
   "metadata": {},
   "outputs": [],
   "source": [
    "#del df['Unnamed:4'] \n",
    "df.drop(['Unnamed: 2','Unnamed: 3','Unnamed: 4'],axis=1,inplace=True)"
   ]
  },
  {
   "cell_type": "code",
   "execution_count": 14,
   "id": "05cbfab9-93ec-40e1-9351-c67506ef33b6",
   "metadata": {
    "collapsed": true,
    "jupyter": {
     "outputs_hidden": true
    }
   },
   "outputs": [
    {
     "data": {
      "text/html": [
       "<div>\n",
       "<style scoped>\n",
       "    .dataframe tbody tr th:only-of-type {\n",
       "        vertical-align: middle;\n",
       "    }\n",
       "\n",
       "    .dataframe tbody tr th {\n",
       "        vertical-align: top;\n",
       "    }\n",
       "\n",
       "    .dataframe thead th {\n",
       "        text-align: right;\n",
       "    }\n",
       "</style>\n",
       "<table border=\"1\" class=\"dataframe\">\n",
       "  <thead>\n",
       "    <tr style=\"text-align: right;\">\n",
       "      <th></th>\n",
       "      <th>v1</th>\n",
       "      <th>v2</th>\n",
       "    </tr>\n",
       "  </thead>\n",
       "  <tbody>\n",
       "    <tr>\n",
       "      <th>0</th>\n",
       "      <td>ham</td>\n",
       "      <td>Go until jurong point, crazy.. Available only ...</td>\n",
       "    </tr>\n",
       "    <tr>\n",
       "      <th>1</th>\n",
       "      <td>ham</td>\n",
       "      <td>Ok lar... Joking wif u oni...</td>\n",
       "    </tr>\n",
       "    <tr>\n",
       "      <th>2</th>\n",
       "      <td>spam</td>\n",
       "      <td>Free entry in 2 a wkly comp to win FA Cup fina...</td>\n",
       "    </tr>\n",
       "    <tr>\n",
       "      <th>3</th>\n",
       "      <td>ham</td>\n",
       "      <td>U dun say so early hor... U c already then say...</td>\n",
       "    </tr>\n",
       "    <tr>\n",
       "      <th>4</th>\n",
       "      <td>ham</td>\n",
       "      <td>Nah I don't think he goes to usf, he lives aro...</td>\n",
       "    </tr>\n",
       "  </tbody>\n",
       "</table>\n",
       "</div>"
      ],
      "text/plain": [
       "     v1                                                 v2\n",
       "0   ham  Go until jurong point, crazy.. Available only ...\n",
       "1   ham                      Ok lar... Joking wif u oni...\n",
       "2  spam  Free entry in 2 a wkly comp to win FA Cup fina...\n",
       "3   ham  U dun say so early hor... U c already then say...\n",
       "4   ham  Nah I don't think he goes to usf, he lives aro..."
      ]
     },
     "execution_count": 14,
     "metadata": {},
     "output_type": "execute_result"
    }
   ],
   "source": [
    "df.head()"
   ]
  },
  {
   "cell_type": "code",
   "execution_count": 15,
   "id": "a8e8ece6-1cef-46b6-94e6-1c56719bb62a",
   "metadata": {},
   "outputs": [],
   "source": [
    "df.columns=['class','text']"
   ]
  },
  {
   "cell_type": "code",
   "execution_count": 16,
   "id": "f2560ad8-9a15-4b62-b3d8-837449701be9",
   "metadata": {
    "collapsed": true,
    "jupyter": {
     "outputs_hidden": true
    }
   },
   "outputs": [
    {
     "data": {
      "text/html": [
       "<div>\n",
       "<style scoped>\n",
       "    .dataframe tbody tr th:only-of-type {\n",
       "        vertical-align: middle;\n",
       "    }\n",
       "\n",
       "    .dataframe tbody tr th {\n",
       "        vertical-align: top;\n",
       "    }\n",
       "\n",
       "    .dataframe thead th {\n",
       "        text-align: right;\n",
       "    }\n",
       "</style>\n",
       "<table border=\"1\" class=\"dataframe\">\n",
       "  <thead>\n",
       "    <tr style=\"text-align: right;\">\n",
       "      <th></th>\n",
       "      <th>class</th>\n",
       "      <th>text</th>\n",
       "    </tr>\n",
       "  </thead>\n",
       "  <tbody>\n",
       "    <tr>\n",
       "      <th>0</th>\n",
       "      <td>ham</td>\n",
       "      <td>Go until jurong point, crazy.. Available only ...</td>\n",
       "    </tr>\n",
       "    <tr>\n",
       "      <th>1</th>\n",
       "      <td>ham</td>\n",
       "      <td>Ok lar... Joking wif u oni...</td>\n",
       "    </tr>\n",
       "    <tr>\n",
       "      <th>2</th>\n",
       "      <td>spam</td>\n",
       "      <td>Free entry in 2 a wkly comp to win FA Cup fina...</td>\n",
       "    </tr>\n",
       "    <tr>\n",
       "      <th>3</th>\n",
       "      <td>ham</td>\n",
       "      <td>U dun say so early hor... U c already then say...</td>\n",
       "    </tr>\n",
       "    <tr>\n",
       "      <th>4</th>\n",
       "      <td>ham</td>\n",
       "      <td>Nah I don't think he goes to usf, he lives aro...</td>\n",
       "    </tr>\n",
       "  </tbody>\n",
       "</table>\n",
       "</div>"
      ],
      "text/plain": [
       "  class                                               text\n",
       "0   ham  Go until jurong point, crazy.. Available only ...\n",
       "1   ham                      Ok lar... Joking wif u oni...\n",
       "2  spam  Free entry in 2 a wkly comp to win FA Cup fina...\n",
       "3   ham  U dun say so early hor... U c already then say...\n",
       "4   ham  Nah I don't think he goes to usf, he lives aro..."
      ]
     },
     "execution_count": 16,
     "metadata": {},
     "output_type": "execute_result"
    }
   ],
   "source": [
    "df.head()"
   ]
  },
  {
   "cell_type": "code",
   "execution_count": 21,
   "id": "9531d72b-323a-437d-813b-d30e938e7ca2",
   "metadata": {},
   "outputs": [],
   "source": [
    "hepsi=' '.join(df['text'])# text sutunundaki butun satirlari birleştiren kod"
   ]
  },
  {
   "cell_type": "code",
   "execution_count": 22,
   "id": "dba1e5e0-ccbb-4fea-88f3-ff44898f4c30",
   "metadata": {},
   "outputs": [],
   "source": [
    "sent=nt.TextFrame(hepsi)"
   ]
  },
  {
   "cell_type": "code",
   "execution_count": 24,
   "id": "fcef5369-eb62-4f38-968c-690f6f549032",
   "metadata": {
    "collapsed": true,
    "jupyter": {
     "outputs_hidden": true
    }
   },
   "outputs": [
    {
     "name": "stdout",
     "output_type": "stream",
     "text": [
      "Key      Value          \n",
      "Length  : 451993         \n",
      "vowels  : 123893         \n",
      "consonants: 203282         \n",
      "stopwords: 36082          \n",
      "punctuations: 22903          \n",
      "special_char: 23446          \n",
      "tokens(whitespace): 86335          \n",
      "tokens(words): 90106          \n"
     ]
    }
   ],
   "source": [
    "sent.describe()"
   ]
  },
  {
   "cell_type": "code",
   "execution_count": 25,
   "id": "6b84cb2a-9879-45d5-a1e9-aa02ff8d44be",
   "metadata": {},
   "outputs": [
    {
     "data": {
      "text/plain": [
       "(5572, 2)"
      ]
     },
     "execution_count": 25,
     "metadata": {},
     "output_type": "execute_result"
    }
   ],
   "source": [
    "df.shape"
   ]
  },
  {
   "cell_type": "code",
   "execution_count": 26,
   "id": "dd5a87ce-5f7a-4150-b413-c1fa5762a7aa",
   "metadata": {},
   "outputs": [
    {
     "data": {
      "text/plain": [
       "451993"
      ]
     },
     "execution_count": 26,
     "metadata": {},
     "output_type": "execute_result"
    }
   ],
   "source": [
    "sent.length"
   ]
  },
  {
   "cell_type": "code",
   "execution_count": 27,
   "id": "0bb88a29-e673-438c-83ad-f95514dc75ed",
   "metadata": {},
   "outputs": [
    {
     "data": {
      "text/plain": [
       "'Go until jurong poin'"
      ]
     },
     "execution_count": 27,
     "metadata": {},
     "output_type": "execute_result"
    }
   ],
   "source": [
    "sent.head(20)"
   ]
  },
  {
   "cell_type": "code",
   "execution_count": 28,
   "id": "92185177-2a71-4144-a986-f879894ec988",
   "metadata": {},
   "outputs": [
    {
     "data": {
      "text/plain": [
       "'ree Rofl. Its true to its name'"
      ]
     },
     "execution_count": 28,
     "metadata": {},
     "output_type": "execute_result"
    }
   ],
   "source": [
    "sent.tail(30)"
   ]
  },
  {
   "cell_type": "code",
   "execution_count": 29,
   "id": "2d604eb6-2780-452b-81c2-49605dfd65cf",
   "metadata": {},
   "outputs": [
    {
     "data": {
      "text/plain": [
       "{'a': 25248, 'e': 34934, 'i': 22439, 'o': 28962, 'u': 12310}"
      ]
     },
     "execution_count": 29,
     "metadata": {},
     "output_type": "execute_result"
    }
   ],
   "source": [
    "sent.count_vowels()"
   ]
  },
  {
   "cell_type": "code",
   "execution_count": null,
   "id": "766ae74e-88e1-40a8-bfe1-3475ea097cea",
   "metadata": {},
   "outputs": [],
   "source": [
    "#a,e,i,o,u\n",
    "#a,e,iı,uü,oö\n",
    "#\"fetha,zamme,kesra"
   ]
  },
  {
   "cell_type": "code",
   "execution_count": 31,
   "id": "3d271fdc-edc3-4a4b-9cd7-d5d74a23db4a",
   "metadata": {
    "collapsed": true,
    "jupyter": {
     "outputs_hidden": true
    }
   },
   "outputs": [
    {
     "data": {
      "text/plain": [
       "{'go': 262,\n",
       " 'until': 27,\n",
       " 'only': 183,\n",
       " 'in': 855,\n",
       " 'there': 135,\n",
       " 'a': 1419,\n",
       " 'to': 2226,\n",
       " 'may': 43,\n",
       " 'say': 80,\n",
       " 'so': 423,\n",
       " 'already': 48,\n",
       " 'then': 205,\n",
       " 'i': 2208,\n",
       " \"don't\": 134,\n",
       " 'he': 180,\n",
       " 'around': 53,\n",
       " 'here': 79,\n",
       " 'though': 16,\n",
       " \"it's\": 96,\n",
       " 'been': 128,\n",
       " 'now': 247,\n",
       " 'and': 967,\n",
       " 'no': 257,\n",
       " 'some': 118,\n",
       " 'you': 1917,\n",
       " 'up': 262,\n",
       " 'for': 697,\n",
       " 'it': 465,\n",
       " 'even': 61,\n",
       " 'my': 751,\n",
       " 'is': 862,\n",
       " 'not': 404,\n",
       " 'with': 377,\n",
       " 'they': 124,\n",
       " 'me': 605,\n",
       " 'as': 176,\n",
       " 'per': 56,\n",
       " 'your': 676,\n",
       " 'has': 115,\n",
       " 'all': 259,\n",
       " 'have': 568,\n",
       " 'call': 557,\n",
       " 'had': 100,\n",
       " 'or': 414,\n",
       " 'the': 1317,\n",
       " 'on': 520,\n",
       " 'be': 375,\n",
       " 'about': 156,\n",
       " 'this': 312,\n",
       " 'enough': 22,\n",
       " 'six': 4,\n",
       " 'from': 277,\n",
       " 'won': 64,\n",
       " 'our': 142,\n",
       " 'take': 124,\n",
       " 'will': 374,\n",
       " 'at': 398,\n",
       " 'next': 60,\n",
       " 'how': 253,\n",
       " 'his': 57,\n",
       " 'make': 101,\n",
       " 'if': 378,\n",
       " 'its': 207,\n",
       " 'that': 468,\n",
       " 'first': 50,\n",
       " 'when': 282,\n",
       " 'down': 48,\n",
       " 'can': 385,\n",
       " 'just': 363,\n",
       " 'myself': 9,\n",
       " 'really': 80,\n",
       " 'always': 54,\n",
       " 'did': 115,\n",
       " 'are': 485,\n",
       " 'an': 112,\n",
       " 'over': 52,\n",
       " 'do': 365,\n",
       " 'back': 121,\n",
       " 'what': 250,\n",
       " 'does': 30,\n",
       " 'still': 150,\n",
       " 'were': 61,\n",
       " 'being': 43,\n",
       " 'why': 75,\n",
       " \"doesn't\": 15,\n",
       " 'us': 55,\n",
       " 'was': 230,\n",
       " 'out': 220,\n",
       " 'she': 129,\n",
       " 'but': 420,\n",
       " 'we': 345,\n",
       " \"won't\": 22,\n",
       " 'doing': 67,\n",
       " 'too': 73,\n",
       " 'anything': 60,\n",
       " 'of': 613,\n",
       " 'please': 117,\n",
       " 'by': 167,\n",
       " 'her': 104,\n",
       " 'done': 29,\n",
       " 'see': 144,\n",
       " \"you'd\": 8,\n",
       " 'most': 28,\n",
       " 're': 18,\n",
       " 'who': 105,\n",
       " 'well': 80,\n",
       " 'am': 216,\n",
       " \"didn't\": 42,\n",
       " 'get': 375,\n",
       " 'could': 60,\n",
       " 'almost': 13,\n",
       " 'whole': 14,\n",
       " 'never': 43,\n",
       " 'since': 26,\n",
       " 'seemed': 3,\n",
       " 'more': 99,\n",
       " 'where': 98,\n",
       " 'yourself': 16,\n",
       " 'part': 27,\n",
       " 'which': 60,\n",
       " 'give': 97,\n",
       " 'once': 31,\n",
       " 'very': 77,\n",
       " 'after': 87,\n",
       " 'same': 40,\n",
       " 'much': 93,\n",
       " 'one': 149,\n",
       " 'used': 13,\n",
       " 'another': 35,\n",
       " \"haven't\": 22,\n",
       " 'any': 129,\n",
       " 'y': 38,\n",
       " 'someone': 58,\n",
       " 'between': 31,\n",
       " 'show': 22,\n",
       " 'four': 2,\n",
       " 'nothing': 27,\n",
       " 'else': 13,\n",
       " 'name': 37,\n",
       " 'them': 70,\n",
       " \"you're\": 51,\n",
       " 'something': 52,\n",
       " 'would': 75,\n",
       " \"isn't\": 11,\n",
       " 'again': 32,\n",
       " 'last': 78,\n",
       " 'must': 26,\n",
       " \"hasn't\": 3,\n",
       " \"shouldn't\": 5,\n",
       " 'top': 22,\n",
       " 'him': 93,\n",
       " \"you'll\": 14,\n",
       " 'those': 27,\n",
       " 'd': 93,\n",
       " 'their': 14,\n",
       " 'everywhere': 1,\n",
       " 'sometimes': 7,\n",
       " 'without': 28,\n",
       " 'become': 6,\n",
       " 'keep': 65,\n",
       " 'because': 36,\n",
       " 'everyone': 13,\n",
       " 'each': 17,\n",
       " 'should': 94,\n",
       " 'also': 62,\n",
       " \"you've\": 14,\n",
       " 'towards': 7,\n",
       " 'using': 9,\n",
       " 'however': 8,\n",
       " 'every': 72,\n",
       " 'cannot': 4,\n",
       " 'itself': 3,\n",
       " 'before': 56,\n",
       " 'both': 18,\n",
       " 'few': 42,\n",
       " 'anyway': 17,\n",
       " 'yours': 10,\n",
       " 'off': 45,\n",
       " 'than': 38,\n",
       " 'side': 8,\n",
       " 'although': 2,\n",
       " 'into': 34,\n",
       " 'everything': 24,\n",
       " 'other': 49,\n",
       " 'own': 8,\n",
       " 'might': 34,\n",
       " 'full': 20,\n",
       " 'unless': 9,\n",
       " 'somewhere': 9,\n",
       " \"aren't\": 5,\n",
       " 'made': 29,\n",
       " 'via': 11,\n",
       " 'two': 28,\n",
       " 'ever': 30,\n",
       " 'further': 4,\n",
       " 'quite': 34,\n",
       " 'having': 42,\n",
       " 'put': 29,\n",
       " 'none': 7,\n",
       " 'fifteen': 4,\n",
       " 'ten': 14,\n",
       " 'thru': 7,\n",
       " 'many': 59,\n",
       " 'll': 4,\n",
       " 'either': 20,\n",
       " 'less': 9,\n",
       " 't': 13,\n",
       " 'within': 13,\n",
       " 'across': 10,\n",
       " 'these': 19,\n",
       " 'rather': 7,\n",
       " 'while': 20,\n",
       " 'through': 11,\n",
       " 'three': 4,\n",
       " 'haven': 1,\n",
       " 'often': 3,\n",
       " 'together': 16,\n",
       " 'hundred': 1,\n",
       " 'under': 7,\n",
       " 'seem': 4,\n",
       " 'whatever': 11,\n",
       " 'seems': 9,\n",
       " \"hadn't\": 1,\n",
       " 'anyone': 13,\n",
       " 'anywhere': 2,\n",
       " \"couldn't\": 5,\n",
       " \"she's\": 18,\n",
       " 'yet': 21,\n",
       " 'five': 5,\n",
       " 'hence': 2,\n",
       " 'meanwhile': 4,\n",
       " 'whenever': 11,\n",
       " 'otherwise': 10,\n",
       " 'thus': 1,\n",
       " 'due': 6,\n",
       " 'several': 2,\n",
       " 'ma': 4,\n",
       " 'm': 9,\n",
       " 'wherever': 6,\n",
       " 'least': 12,\n",
       " 'against': 9,\n",
       " 'don': 11,\n",
       " 'during': 8,\n",
       " 'herself': 2,\n",
       " 'move': 7,\n",
       " 'onto': 7,\n",
       " 's': 16,\n",
       " 'mine': 13,\n",
       " 'various': 3,\n",
       " 'nobody': 8,\n",
       " 'others': 8,\n",
       " 'among': 3,\n",
       " 'front': 2,\n",
       " 'whose': 2,\n",
       " 've': 4,\n",
       " 'alone': 13,\n",
       " 'along': 2,\n",
       " 'except': 5,\n",
       " 'eight': 1,\n",
       " 'o': 10,\n",
       " 'whom': 4,\n",
       " 'anyhow': 1,\n",
       " \"wasn't\": 11,\n",
       " 'mostly': 2,\n",
       " 'indeed': 2,\n",
       " 'becomes': 2,\n",
       " 'regarding': 3,\n",
       " 'beyond': 3,\n",
       " 'nor': 1,\n",
       " 'elsewhere': 1,\n",
       " \"weren't\": 1,\n",
       " 'empty': 10,\n",
       " \"that'll\": 2,\n",
       " 'whether': 5,\n",
       " 'serious': 2,\n",
       " 'amount': 5,\n",
       " 'behind': 5,\n",
       " 'above': 1,\n",
       " 'amongst': 2,\n",
       " 'neither': 2,\n",
       " 'twenty': 2,\n",
       " 'such': 1,\n",
       " 'bottom': 2,\n",
       " \"wouldn't\": 5,\n",
       " 'beside': 1,\n",
       " 'sometime': 2,\n",
       " 'eleven': 1,\n",
       " 'perhaps': 1}"
      ]
     },
     "execution_count": 31,
     "metadata": {},
     "output_type": "execute_result"
    }
   ],
   "source": [
    "sent.count_stopwords()"
   ]
  },
  {
   "cell_type": "code",
   "execution_count": 32,
   "id": "1c71eaa6-a38d-4cd3-bef5-914c52bb65db",
   "metadata": {
    "collapsed": true,
    "jupyter": {
     "outputs_hidden": true
    }
   },
   "outputs": [
    {
     "data": {
      "text/plain": [
       "{'b': 5310,\n",
       " 'c': 8876,\n",
       " 'd': 11275,\n",
       " 'f': 5745,\n",
       " 'g': 8284,\n",
       " 'h': 14204,\n",
       " 'j': 935,\n",
       " 'k': 4533,\n",
       " 'l': 15757,\n",
       " 'm': 10573,\n",
       " 'n': 21738,\n",
       " 'p': 6811,\n",
       " 'q': 236,\n",
       " 'r': 17738,\n",
       " 's': 18898,\n",
       " 't': 27921,\n",
       " 'v': 3504,\n",
       " 'w': 8462,\n",
       " 'x': 1586,\n",
       " 'y': 10396,\n",
       " 'z': 500}"
      ]
     },
     "execution_count": 32,
     "metadata": {},
     "output_type": "execute_result"
    }
   ],
   "source": [
    "sent.count_consonants()"
   ]
  },
  {
   "cell_type": "code",
   "execution_count": 33,
   "id": "def14973-bdc1-4112-a0d7-cf90b3e2bc80",
   "metadata": {},
   "outputs": [
    {
     "data": {
      "text/plain": [
       "{'automated readability': 6.9861830850031055,\n",
       " 'description': '12-13 years (Seventh Grade)'}"
      ]
     },
     "execution_count": 33,
     "metadata": {},
     "output_type": "execute_result"
    }
   ],
   "source": [
    "sent.readability()"
   ]
  },
  {
   "cell_type": "code",
   "execution_count": 34,
   "id": "7c5dc850-1dc4-43a2-94c6-d20fc1651ea2",
   "metadata": {},
   "outputs": [],
   "source": [
    "import nltk # natural language toolkit"
   ]
  },
  {
   "cell_type": "code",
   "execution_count": 35,
   "id": "0b3ec328-e81b-4fa8-807e-884f8571cfd2",
   "metadata": {},
   "outputs": [
    {
     "name": "stderr",
     "output_type": "stream",
     "text": [
      "[nltk_data] Downloading package gutenberg to\n",
      "[nltk_data]     C:\\Users\\akbab\\AppData\\Roaming\\nltk_data...\n",
      "[nltk_data]   Unzipping corpora\\gutenberg.zip.\n"
     ]
    },
    {
     "data": {
      "text/plain": [
       "True"
      ]
     },
     "execution_count": 35,
     "metadata": {},
     "output_type": "execute_result"
    }
   ],
   "source": [
    "nltk.download('gutenberg')"
   ]
  },
  {
   "cell_type": "code",
   "execution_count": 36,
   "id": "c125e406-8833-4482-99fa-31a7be2367a7",
   "metadata": {
    "collapsed": true,
    "jupyter": {
     "outputs_hidden": true
    }
   },
   "outputs": [
    {
     "data": {
      "text/plain": [
       "['austen-emma.txt',\n",
       " 'austen-persuasion.txt',\n",
       " 'austen-sense.txt',\n",
       " 'bible-kjv.txt',\n",
       " 'blake-poems.txt',\n",
       " 'bryant-stories.txt',\n",
       " 'burgess-busterbrown.txt',\n",
       " 'carroll-alice.txt',\n",
       " 'chesterton-ball.txt',\n",
       " 'chesterton-brown.txt',\n",
       " 'chesterton-thursday.txt',\n",
       " 'edgeworth-parents.txt',\n",
       " 'melville-moby_dick.txt',\n",
       " 'milton-paradise.txt',\n",
       " 'shakespeare-caesar.txt',\n",
       " 'shakespeare-hamlet.txt',\n",
       " 'shakespeare-macbeth.txt',\n",
       " 'whitman-leaves.txt']"
      ]
     },
     "execution_count": 36,
     "metadata": {},
     "output_type": "execute_result"
    }
   ],
   "source": [
    "nltk.corpus.gutenberg.fileids()"
   ]
  },
  {
   "cell_type": "code",
   "execution_count": 38,
   "id": "1a61106d-f9fd-4b8e-971a-0402e50707bd",
   "metadata": {},
   "outputs": [],
   "source": [
    "seyhbir=nltk.corpus.gutenberg.raw('shakespeare-macbeth.txt')"
   ]
  },
  {
   "cell_type": "code",
   "execution_count": 39,
   "id": "457b5c16-ef13-4b4f-8455-c0eaec04b6ad",
   "metadata": {
    "collapsed": true,
    "jupyter": {
     "outputs_hidden": true
    }
   },
   "outputs": [
    {
     "data": {
      "text/plain": [
       "\"[The Tragedie of Macbeth by William Shakespeare 1603]\\n\\n\\nActus Primus. Scoena Prima.\\n\\nThunder and Lightning. Enter three Witches.\\n\\n  1. When shall we three meet againe?\\nIn Thunder, Lightning, or in Raine?\\n  2. When the Hurley-burley's done,\\nWhen the Battaile's lost, and wonne\\n\\n   3. That will be ere the set of Sunne\\n\\n   1. Where the place?\\n  2. Vpon the Heath\\n\\n   3. There to meet with Macbeth\\n\\n   1. I come, Gray-Malkin\\n\\n   All. Padock calls anon: faire is foule, and foule is faire,\\nHouer through the fogge and filthie ayre.\\n\\nExeunt.\\n\\n\\nScena Secunda.\\n\\nAlarum within. Enter King Malcome, Donalbaine, Lenox, with\\nattendants,\\nmeeting a bleeding Captaine.\\n\\n  King. What bloody man is that? he can report,\\nAs seemeth by his plight, of the Reuolt\\nThe newest state\\n\\n   Mal. This is the Serieant,\\nWho like a good and hardie Souldier fought\\n'Gainst my Captiuitie: Haile braue friend;\\nSay to the King, the knowledge of the Broyle,\\nAs thou didst leaue it\\n\\n   Cap. Doubtfull it stood,\\nAs two spent Swimmers, that doe cling together,\\nAnd choake their Art: The mercilesse Macdonwald\\n(Worthie to be a Rebell, for to that\\nThe multiplying Villanies of Nature\\nDoe swarme vpon him) from the Westerne Isles\\nOf Kernes and Gallowgrosses is supply'd,\\nAnd Fortune on his damned Quarry smiling,\\nShew'd like a Rebells Whore: but all's too weake:\\nFor braue Macbeth (well hee deserues that Name)\\nDisdayning Fortune, with his brandisht Steele,\\nWhich smoak'd with bloody execution\\n(Like Valours Minion) caru'd out his passage,\\nTill hee fac'd the Slaue:\\nWhich neu'r shooke hands, nor bad farwell to him,\\nTill he vnseam'd him from the Naue toth' Chops,\\nAnd fix'd his Head vpon our Battlements\\n\\n   King. O valiant Cousin, worthy Gentleman\\n\\n   Cap. As whence the Sunne 'gins his reflection,\\nShipwracking Stormes, and direfull Thunders:\\nSo from that Spring, whence comfort seem'd to come,\\nDiscomfort swells: Marke King of Scotland, marke,\\nNo sooner Iustice had, with Valour arm'd,\\nCompell'd these skipping Kernes to trust their heeles,\\nBut the Norweyan Lord, surueying vantage,\\nWith furbusht Armes, and new supplyes of men,\\nBegan a fresh assault\\n\\n   King. Dismay'd not this our Captaines, Macbeth and\\nBanquoh?\\n  Cap. Yes, as Sparrowes, Eagles;\\nOr the Hare, the Lyon:\\nIf I say sooth, I must report they were\\nAs Cannons ouer-charg'd with double Cracks,\\nSo they doubly redoubled stroakes vpon the Foe:\\nExcept they meant to bathe in reeking Wounds,\\nOr memorize another Golgotha,\\nI cannot tell: but I am faint,\\nMy Gashes cry for helpe\\n\\n   King. So well thy words become thee, as thy wounds,\\nThey smack of Honor both: Goe get him Surgeons.\\nEnter Rosse and Angus.\\n\\nWho comes here?\\n  Mal. The worthy Thane of Rosse\\n\\n   Lenox. What a haste lookes through his eyes?\\nSo should he looke, that seemes to speake things strange\\n\\n   Rosse. God saue the King\\n\\n   King. Whence cam'st thou, worthy Thane?\\n  Rosse. From Fiffe, great King,\\nWhere the Norweyan Banners flowt the Skie,\\nAnd fanne our people cold.\\nNorway himselfe, with terrible numbers,\\nAssisted by that most disloyall Traytor,\\nThe Thane of Cawdor, began a dismall Conflict,\\nTill that Bellona's Bridegroome, lapt in proofe,\\nConfronted him with selfe-comparisons,\\nPoint against Point, rebellious Arme 'gainst Arme,\\nCurbing his lauish spirit: and to conclude,\\nThe Victorie fell on vs\\n\\n   King. Great happinesse\\n\\n   Rosse. That now Sweno, the Norwayes King,\\nCraues composition:\\nNor would we deigne him buriall of his men,\\nTill he disbursed, at Saint Colmes ynch,\\nTen thousand Dollars, to our generall vse\\n\\n   King. No more that Thane of Cawdor shall deceiue\\nOur Bosome interest: Goe pronounce his present death,\\nAnd with his former Title greet Macbeth\\n\\n   Rosse. Ile see it done\\n\\n   King. What he hath lost, Noble Macbeth hath wonne.\\n\\nExeunt.\\n\\n\\nScena Tertia.\\n\\nThunder. Enter the three Witches.\\n\\n  1. Where hast thou beene, Sister?\\n  2. Killing Swine\\n\\n   3. Sister, where thou?\\n  1. A Saylors Wife had Chestnuts in her Lappe,\\nAnd mouncht, & mouncht, and mouncht:\\nGiue me, quoth I.\\nAroynt thee, Witch, the rumpe-fed Ronyon cryes.\\nHer Husband's to Aleppo gone, Master o'th' Tiger:\\nBut in a Syue Ile thither sayle,\\nAnd like a Rat without a tayle,\\nIle doe, Ile doe, and Ile doe\\n\\n   2. Ile giue thee a Winde\\n\\n   1. Th'art kinde\\n\\n   3. And I another\\n\\n   1. I my selfe haue all the other,\\nAnd the very Ports they blow,\\nAll the Quarters that they know,\\nI'th' Ship-mans Card.\\nIle dreyne him drie as Hay:\\nSleepe shall neyther Night nor Day\\nHang vpon his Pent-house Lid:\\nHe shall liue a man forbid:\\nWearie Seu'nights, nine times nine,\\nShall he dwindle, peake, and pine:\\nThough his Barke cannot be lost,\\nYet it shall be Tempest-tost.\\nLooke what I haue\\n\\n   2. Shew me, shew me\\n\\n   1. Here I haue a Pilots Thumbe,\\nWrackt, as homeward he did come.\\n\\nDrum within.\\n\\n  3. A Drumme, a Drumme:\\nMacbeth doth come\\n\\n   All. The weyward Sisters, hand in hand,\\nPosters of the Sea and Land,\\nThus doe goe, about, about,\\nThrice to thine, and thrice to mine,\\nAnd thrice againe, to make vp nine.\\nPeace, the Charme's wound vp.\\nEnter Macbeth and Banquo.\\n\\n  Macb. So foule and faire a day I haue not seene\\n\\n   Banquo. How farre is't call'd to Soris? What are these,\\nSo wither'd, and so wilde in their attyre,\\nThat looke not like th' Inhabitants o'th' Earth,\\nAnd yet are on't? Liue you, or are you aught\\nThat man may question? you seeme to vnderstand me,\\nBy each at once her choppie finger laying\\nVpon her skinnie Lips: you should be Women,\\nAnd yet your Beards forbid me to interprete\\nThat you are so\\n\\n   Mac. Speake if you can: what are you?\\n  1. All haile Macbeth, haile to thee Thane of Glamis\\n\\n   2. All haile Macbeth, haile to thee Thane of Cawdor\\n\\n   3. All haile Macbeth, that shalt be King hereafter\\n\\n   Banq. Good Sir, why doe you start, and seeme to feare\\nThings that doe sound so faire? i'th' name of truth\\nAre ye fantasticall, or that indeed\\nWhich outwardly ye shew? My Noble Partner\\nYou greet with present Grace, and great prediction\\nOf Noble hauing, and of Royall hope,\\nThat he seemes wrapt withall: to me you speake not.\\nIf you can looke into the Seedes of Time,\\nAnd say, which Graine will grow, and which will not,\\nSpeake then to me, who neyther begge, nor feare\\nYour fauors, nor your hate\\n\\n   1. Hayle\\n\\n   2. Hayle\\n\\n   3. Hayle\\n\\n   1. Lesser than Macbeth, and greater\\n\\n   2. Not so happy, yet much happyer\\n\\n   3. Thou shalt get Kings, though thou be none:\\nSo all haile Macbeth, and Banquo\\n\\n   1. Banquo, and Macbeth, all haile\\n\\n   Macb. Stay you imperfect Speakers, tell me more:\\nBy Sinells death, I know I am Thane of Glamis,\\nBut how, of Cawdor? the Thane of Cawdor liues\\nA prosperous Gentleman: And to be King,\\nStands not within the prospect of beleefe,\\nNo more then to be Cawdor. Say from whence\\nYou owe this strange Intelligence, or why\\nVpon this blasted Heath you stop our way\\nWith such Prophetique greeting?\\nSpeake, I charge you.\\n\\nWitches vanish.\\n\\n  Banq. The Earth hath bubbles, as the Water ha's,\\nAnd these are of them: whither are they vanish'd?\\n  Macb. Into the Ayre: and what seem'd corporall,\\nMelted, as breath into the Winde.\\nWould they had stay'd\\n\\n   Banq. Were such things here, as we doe speake about?\\nOr haue we eaten on the insane Root,\\nThat takes the Reason Prisoner?\\n  Macb. Your Children shall be Kings\\n\\n   Banq. You shall be King\\n\\n   Macb. And Thane of Cawdor too: went it not so?\\n  Banq. Toth' selfe-same tune and words: who's here?\\nEnter Rosse and Angus.\\n\\n  Rosse. The King hath happily receiu'd, Macbeth,\\nThe newes of thy successe: and when he reades\\nThy personall Venture in the Rebels sight,\\nHis Wonders and his Prayses doe contend,\\nWhich should be thine, or his: silenc'd with that,\\nIn viewing o're the rest o'th' selfe-same day,\\nHe findes thee in the stout Norweyan Rankes,\\nNothing afeard of what thy selfe didst make\\nStrange Images of death, as thick as Tale\\nCan post with post, and euery one did beare\\nThy prayses in his Kingdomes great defence,\\nAnd powr'd them downe before him\\n\\n   Ang. Wee are sent,\\nTo giue thee from our Royall Master thanks,\\nOnely to harrold thee into his sight,\\nNot pay thee\\n\\n   Rosse. And for an earnest of a greater Honor,\\nHe bad me, from him, call thee Thane of Cawdor:\\nIn which addition, haile most worthy Thane,\\nFor it is thine\\n\\n   Banq. What, can the Deuill speake true?\\n  Macb. The Thane of Cawdor liues:\\nWhy doe you dresse me in borrowed Robes?\\n  Ang. Who was the Thane, liues yet,\\nBut vnder heauie Iudgement beares that Life,\\nWhich he deserues to loose.\\nWhether he was combin'd with those of Norway,\\nOr did lyne the Rebell with hidden helpe,\\nAnd vantage; or that with both he labour'd\\nIn his Countreyes wracke, I know not:\\nBut Treasons Capitall, confess'd, and prou'd,\\nHaue ouerthrowne him\\n\\n   Macb. Glamys, and Thane of Cawdor:\\nThe greatest is behinde. Thankes for your paines.\\nDoe you not hope your Children shall be Kings,\\nWhen those that gaue the Thane of Cawdor to me,\\nPromis'd no lesse to them\\n\\n   Banq. That trusted home,\\nMight yet enkindle you vnto the Crowne,\\nBesides the Thane of Cawdor. But 'tis strange:\\nAnd oftentimes, to winne vs to our harme,\\nThe Instruments of Darknesse tell vs Truths,\\nWinne vs with honest Trifles, to betray's\\nIn deepest consequence.\\nCousins, a word, I pray you\\n\\n   Macb. Two Truths are told,\\nAs happy Prologues to the swelling Act\\nOf the Imperiall Theame. I thanke you Gentlemen:\\nThis supernaturall solliciting\\nCannot be ill; cannot be good.\\nIf ill? why hath it giuen me earnest of successe,\\nCommencing in a Truth? I am Thane of Cawdor.\\nIf good? why doe I yeeld to that suggestion,\\nWhose horrid Image doth vnfixe my Heire,\\nAnd make my seated Heart knock at my Ribbes,\\nAgainst the vse of Nature? Present Feares\\nAre lesse then horrible Imaginings:\\nMy Thought, whose Murther yet is but fantasticall,\\nShakes so my single state of Man,\\nThat Function is smother'd in surmise,\\nAnd nothing is, but what is not\\n\\n   Banq. Looke how our Partner's rapt\\n\\n   Macb. If Chance will haue me King,\\nWhy Chance may Crowne me,\\nWithout my stirre\\n\\n   Banq. New Honors come vpon him\\nLike our strange Garments, cleaue not to their mould,\\nBut with the aid of vse\\n\\n   Macb. Come what come may,\\nTime, and the Houre, runs through the roughest Day\\n\\n   Banq. Worthy Macbeth, wee stay vpon your leysure\\n\\n   Macb. Giue me your fauour:\\nMy dull Braine was wrought with things forgotten.\\nKinde Gentlemen, your paines are registred,\\nWhere euery day I turne the Leafe,\\nTo reade them.\\nLet vs toward the King: thinke vpon\\nWhat hath chanc'd: and at more time,\\nThe Interim hauing weigh'd it, let vs speake\\nOur free Hearts each to other\\n\\n   Banq. Very gladly\\n\\n   Macb. Till then enough:\\nCome friends.\\n\\nExeunt.\\n\\n\\nScena Quarta.\\n\\nFlourish. Enter King, Lenox, Malcolme, Donalbaine, and\\nAttendants.\\n\\n  King. Is execution done on Cawdor?\\nOr not those in Commission yet return'd?\\n  Mal. My Liege, they are not yet come back.\\nBut I haue spoke with one that saw him die:\\nWho did report, that very frankly hee\\nConfess'd his Treasons, implor'd your Highnesse Pardon,\\nAnd set forth a deepe Repentance:\\nNothing in his Life became him,\\nLike the leauing it. Hee dy'de,\\nAs one that had beene studied in his death,\\nTo throw away the dearest thing he ow'd,\\nAs 'twere a carelesse Trifle\\n\\n   King. There's no Art,\\nTo finde the Mindes construction in the Face.\\nHe was a Gentleman, on whom I built\\nAn absolute Trust.\\nEnter Macbeth, Banquo, Rosse, and Angus.\\n\\nO worthyest Cousin,\\nThe sinne of my Ingratitude euen now\\nWas heauie on me. Thou art so farre before,\\nThat swiftest Wing of Recompence is slow,\\nTo ouertake thee. Would thou hadst lesse deseru'd,\\nThat the proportion both of thanks, and payment,\\nMight haue beene mine: onely I haue left to say,\\nMore is thy due, then more then all can pay\\n\\n   Macb. The seruice, and the loyaltie I owe,\\nIn doing it, payes it selfe.\\nYour Highnesse part, is to receiue our Duties:\\nAnd our Duties are to your Throne, and State,\\nChildren, and Seruants; which doe but what they should,\\nBy doing euery thing safe toward your Loue\\nAnd Honor\\n\\n   King. Welcome hither:\\nI haue begun to plant thee, and will labour\\nTo make thee full of growing. Noble Banquo,\\nThat hast no lesse deseru'd, nor must be knowne\\nNo lesse to haue done so: Let me enfold thee,\\nAnd hold thee to my Heart\\n\\n   Banq. There if I grow,\\nThe Haruest is your owne\\n\\n   King. My plenteous Ioyes,\\nWanton in fulnesse, seeke to hide themselues\\nIn drops of sorrow. Sonnes, Kinsmen, Thanes,\\nAnd you whose places are the nearest, know,\\nWe will establish our Estate vpon\\nOur eldest, Malcolme, whom we name hereafter,\\nThe Prince of Cumberland: which Honor must\\nNot vnaccompanied, inuest him onely,\\nBut signes of Noblenesse, like Starres, shall shine\\nOn all deseruers. From hence to Envernes,\\nAnd binde vs further to you\\n\\n   Macb. The Rest is Labor, which is not vs'd for you:\\nIle be my selfe the Herbenger, and make ioyfull\\nThe hearing of my Wife, with your approach:\\nSo humbly take my leaue\\n\\n   King. My worthy Cawdor\\n\\n   Macb. The Prince of Cumberland: that is a step,\\nOn which I must fall downe, or else o're-leape,\\nFor in my way it lyes. Starres hide your fires,\\nLet not Light see my black and deepe desires:\\nThe Eye winke at the Hand: yet let that bee,\\nWhich the Eye feares, when it is done to see.\\nEnter.\\n\\n  King. True worthy Banquo: he is full so valiant,\\nAnd in his commendations, I am fed:\\nIt is a Banquet to me. Let's after him,\\nWhose care is gone before, to bid vs welcome:\\nIt is a peerelesse Kinsman.\\n\\nFlourish. Exeunt.\\n\\n\\nScena Quinta.\\n\\nEnter Macbeths Wife alone with a Letter.\\n\\n  Lady. They met me in the day of successe: and I haue\\nlearn'd by the perfect'st report, they haue more in them, then\\nmortall knowledge. When I burnt in desire to question them\\nfurther, they made themselues Ayre, into which they vanish'd.\\nWhiles I stood rapt in the wonder of it, came Missiues from\\nthe King, who all-hail'd me Thane of Cawdor, by which Title\\nbefore, these weyward Sisters saluted me, and referr'd me to\\nthe comming on of time, with haile King that shalt be. This\\nhaue I thought good to deliuer thee (my dearest Partner of\\nGreatnesse) that thou might'st not loose the dues of reioycing\\nby being ignorant of what Greatnesse is promis'd thee. Lay\\nit to thy heart and farewell.\\nGlamys thou art, and Cawdor, and shalt be\\nWhat thou art promis'd: yet doe I feare thy Nature,\\nIt is too full o'th' Milke of humane kindnesse,\\nTo catch the neerest way. Thou would'st be great,\\nArt not without Ambition, but without\\nThe illnesse should attend it. What thou would'st highly,\\nThat would'st thou holily: would'st not play false,\\nAnd yet would'st wrongly winne.\\nThould'st haue, great Glamys, that which cryes,\\nThus thou must doe, if thou haue it;\\nAnd that which rather thou do'st feare to doe,\\nThen wishest should be vndone. High thee hither,\\nThat I may powre my Spirits in thine Eare,\\nAnd chastise with the valour of my Tongue\\nAll that impeides thee from the Golden Round,\\nWhich Fate and Metaphysicall ayde doth seeme\\nTo haue thee crown'd withall.\\nEnter Messenger.\\n\\nWhat is your tidings?\\n  Mess. The King comes here to Night\\n\\n   Lady. Thou'rt mad to say it.\\nIs not thy Master with him? who, wer't so,\\nWould haue inform'd for preparation\\n\\n   Mess. So please you, it is true: our Thane is comming:\\nOne of my fellowes had the speed of him;\\nWho almost dead for breath, had scarcely more\\nThen would make vp his Message\\n\\n   Lady. Giue him tending,\\nHe brings great newes,\\n\\nExit Messenger.\\n\\nThe Rauen himselfe is hoarse,\\nThat croakes the fatall entrance of Duncan\\nVnder my Battlements. Come you Spirits,\\nThat tend on mortall thoughts, vnsex me here,\\nAnd fill me from the Crowne to the Toe, top-full\\nOf direst Crueltie: make thick my blood,\\nStop vp th' accesse, and passage to Remorse,\\nThat no compunctious visitings of Nature\\nShake my fell purpose, nor keepe peace betweene\\nTh' effect, and hit. Come to my Womans Brests,\\nAnd take my Milke for Gall, you murth'ring Ministers,\\nWhere-euer, in your sightlesse substances,\\nYou wait on Natures Mischiefe. Come thick Night,\\nAnd pall thee in the dunnest smoake of Hell,\\n\\nThat my keene Knife see not the Wound it makes,\\nNor Heauen peepe through the Blanket of the darke,\\nTo cry, hold, hold.\\nEnter Macbeth.\\n\\nGreat Glamys, worthy Cawdor,\\nGreater then both, by the all-haile hereafter,\\nThy Letters haue transported me beyond\\nThis ignorant present, and I feele now\\nThe future in the instant\\n\\n   Macb. My dearest Loue,\\nDuncan comes here to Night\\n\\n   Lady. And when goes hence?\\n  Macb. To morrow, as he purposes\\n\\n   Lady. O neuer,\\nShall Sunne that Morrow see.\\nYour Face, my Thane, is as a Booke, where men\\nMay reade strange matters, to beguile the time.\\nLooke like the time, beare welcome in your Eye,\\nYour Hand, your Tongue: looke like th' innocent flower,\\nBut be the Serpent vnder't. He that's comming,\\nMust be prouided for: and you shall put\\nThis Nights great Businesse into my dispatch,\\nWhich shall to all our Nights, and Dayes to come,\\nGiue solely soueraigne sway, and Masterdome\\n\\n   Macb. We will speake further,\\n  Lady. Onely looke vp cleare:\\nTo alter fauor, euer is to feare:\\nLeaue all the rest to me.\\n\\nExeunt.\\n\\n\\nScena Sexta.\\n\\nHoboyes, and Torches. Enter King, Malcolme, Donalbaine,\\nBanquo, Lenox,\\nMacduff, Rosse, Angus, and Attendants.\\n\\n  King. This Castle hath a pleasant seat,\\nThe ayre nimbly and sweetly recommends it selfe\\nVnto our gentle sences\\n\\n   Banq. This Guest of Summer,\\nThe Temple-haunting Barlet does approue,\\nBy his loued Mansonry, that the Heauens breath\\nSmells wooingly here: no Iutty frieze,\\nButtrice, nor Coigne of Vantage, but this Bird\\nHath made his pendant Bed, and procreant Cradle,\\nWhere they must breed, and haunt: I haue obseru'd\\nThe ayre is delicate.\\nEnter Lady.\\n\\n  King. See, see our honor'd Hostesse:\\nThe Loue that followes vs, sometime is our trouble,\\nWhich still we thanke as Loue. Herein I teach you,\\nHow you shall bid God-eyld vs for your paines,\\nAnd thanke vs for your trouble\\n\\n   Lady. All our seruice,\\nIn euery point twice done, and then done double,\\nWere poore, and single Businesse, to contend\\nAgainst those Honors deepe, and broad,\\nWherewith your Maiestie loades our House:\\nFor those of old, and the late Dignities,\\nHeap'd vp to them, we rest your Ermites\\n\\n   King. Where's the Thane of Cawdor?\\nWe courst him at the heeles, and had a purpose\\nTo be his Purueyor: But he rides well,\\nAnd his great Loue (sharpe as his Spurre) hath holp him\\nTo his home before vs: Faire and Noble Hostesse\\nWe are your guest to night\\n\\n   La. Your Seruants euer,\\nHaue theirs, themselues, and what is theirs in compt,\\nTo make their Audit at your Highnesse pleasure,\\nStill to returne your owne\\n\\n   King. Giue me your hand:\\nConduct me to mine Host we loue him highly,\\nAnd shall continue, our Graces towards him.\\nBy your leaue Hostesse.\\n\\nExeunt.\\n\\nScena Septima.\\n\\nHoboyes. Torches. Enter a Sewer, and diuers Seruants with Dishes\\nand\\nSeruice ouer the Stage. Then enter Macbeth\\n\\n   Macb. If it were done, when 'tis done, then 'twer well,\\nIt were done quickly: If th' Assassination\\nCould trammell vp the Consequence, and catch\\nWith his surcease, Successe: that but this blow\\nMight be the be all, and the end all. Heere,\\nBut heere, vpon this Banke and Schoole of time,\\nWee'ld iumpe the life to come. But in these Cases,\\nWe still haue iudgement heere, that we but teach\\nBloody Instructions, which being taught, returne\\nTo plague th' Inuenter, this euen-handed Iustice\\nCommends th' Ingredience of our poyson'd Challice\\nTo our owne lips. Hee's heere in double trust;\\nFirst, as I am his Kinsman, and his Subiect,\\nStrong both against the Deed: Then, as his Host,\\nWho should against his Murtherer shut the doore,\\nNot beare the knife my selfe. Besides, this Duncane\\nHath borne his Faculties so meeke; hath bin\\nSo cleere in his great Office, that his Vertues\\nWill pleade like Angels, Trumpet-tongu'd against\\nThe deepe damnation of his taking off:\\nAnd Pitty, like a naked New-borne-Babe,\\nStriding the blast, or Heauens Cherubin, hors'd\\nVpon the sightlesse Curriors of the Ayre,\\nShall blow the horrid deed in euery eye,\\nThat teares shall drowne the winde. I haue no Spurre\\nTo pricke the sides of my intent, but onely\\nVaulting Ambition, which ore-leapes it selfe,\\nAnd falles on th' other.\\nEnter Lady.\\n\\nHow now? What Newes?\\n  La. He has almost supt: why haue you left the chamber?\\n  Mac. Hath he ask'd for me?\\n  La. Know you not, he ha's?\\n  Mac. We will proceed no further in this Businesse:\\nHe hath Honour'd me of late, and I haue bought\\nGolden Opinions from all sorts of people,\\nWhich would be worne now in their newest glosse,\\nNot cast aside so soone\\n\\n   La. Was the hope drunke,\\nWherein you drest your selfe? Hath it slept since?\\nAnd wakes it now to looke so greene, and pale,\\nAt what it did so freely? From this time,\\nSuch I account thy loue. Art thou affear'd\\nTo be the same in thine owne Act, and Valour,\\nAs thou art in desire? Would'st thou haue that\\nWhich thou esteem'st the Ornament of Life,\\nAnd liue a Coward in thine owne Esteeme?\\nLetting I dare not, wait vpon I would,\\nLike the poore Cat i'th' Addage\\n\\n   Macb. Prythee peace:\\nI dare do all that may become a man,\\nWho dares do more, is none\\n\\n   La. What Beast was't then\\nThat made you breake this enterprize to me?\\nWhen you durst do it, then you were a man:\\nAnd to be more then what you were, you would\\nBe so much more the man. Nor time, nor place\\nDid then adhere, and yet you would make both:\\nThey haue made themselues, and that their fitnesse now\\nDo's vnmake you. I haue giuen Sucke, and know\\nHow tender 'tis to loue the Babe that milkes me,\\nI would, while it was smyling in my Face,\\nHaue pluckt my Nipple from his Bonelesse Gummes,\\nAnd dasht the Braines out, had I so sworne\\nAs you haue done to this\\n\\n   Macb. If we should faile?\\n  Lady. We faile?\\nBut screw your courage to the sticking place,\\nAnd wee'le not fayle: when Duncan is asleepe,\\n(Whereto the rather shall his dayes hard Iourney\\nSoundly inuite him) his two Chamberlaines\\nWill I with Wine, and Wassell, so conuince,\\nThat Memorie, the Warder of the Braine,\\nShall be a Fume, and the Receit of Reason\\nA Lymbeck onely: when in Swinish sleepe,\\nTheir drenched Natures lyes as in a Death,\\nWhat cannot you and I performe vpon\\nTh' vnguarded Duncan? What not put vpon\\nHis spungie Officers? who shall beare the guilt\\nOf our great quell\\n\\n   Macb. Bring forth Men-Children onely:\\nFor thy vndaunted Mettle should compose\\nNothing but Males. Will it not be receiu'd,\\nWhen we haue mark'd with blood those sleepie two\\nOf his owne Chamber, and vs'd their very Daggers,\\nThat they haue don't?\\n  Lady. Who dares receiue it other,\\nAs we shall make our Griefes and Clamor rore,\\nVpon his Death?\\n  Macb. I am settled, and bend vp\\nEach corporall Agent to this terrible Feat.\\nAway, and mock the time with fairest show,\\nFalse Face must hide what the false Heart doth know.\\n\\nExeunt.\\n\\n\\nActus Secundus. Scena Prima.\\n\\nEnter Banquo, and Fleance, with a Torch before him.\\n\\n  Banq. How goes the Night, Boy?\\n  Fleance. The Moone is downe: I haue not heard the\\nClock\\n\\n   Banq. And she goes downe at Twelue\\n\\n   Fleance. I take't, 'tis later, Sir\\n\\n   Banq. Hold, take my Sword:\\nThere's Husbandry in Heauen,\\nTheir Candles are all out: take thee that too.\\nA heauie Summons lyes like Lead vpon me,\\nAnd yet I would not sleepe:\\nMercifull Powers, restraine in me the cursed thoughts\\nThat Nature giues way to in repose.\\nEnter Macbeth, and a Seruant with a Torch.\\n\\nGiue me my Sword: who's there?\\n  Macb. A Friend\\n\\n   Banq. What Sir, not yet at rest? the King's a bed.\\nHe hath beene in vnusuall Pleasure,\\nAnd sent forth great Largesse to your Offices.\\nThis Diamond he greetes your Wife withall,\\nBy the name of most kind Hostesse,\\nAnd shut vp in measurelesse content\\n\\n   Mac. Being vnprepar'd,\\nOur will became the seruant to defect,\\nWhich else should free haue wrought\\n\\n   Banq. All's well.\\nI dreamt last Night of the three weyward Sisters:\\nTo you they haue shew'd some truth\\n\\n   Macb. I thinke not of them:\\nYet when we can entreat an houre to serue,\\nWe would spend it in some words vpon that Businesse,\\nIf you would graunt the time\\n\\n   Banq. At your kind'st leysure\\n\\n   Macb. If you shall cleaue to my consent,\\nWhen 'tis, it shall make Honor for you\\n\\n   Banq. So I lose none,\\nIn seeking to augment it, but still keepe\\nMy Bosome franchis'd, and Allegeance cleare,\\nI shall be counsail'd\\n\\n   Macb. Good repose the while\\n\\n   Banq. Thankes Sir: the like to you.\\n\\nExit Banquo.\\n\\n  Macb. Goe bid thy Mistresse, when my drinke is ready,\\nShe strike vpon the Bell. Get thee to bed.\\nEnter.\\n\\nIs this a Dagger, which I see before me,\\nThe Handle toward my Hand? Come, let me clutch thee:\\nI haue thee not, and yet I see thee still.\\nArt thou not fatall Vision, sensible\\nTo feeling, as to sight? or art thou but\\nA Dagger of the Minde, a false Creation,\\nProceeding from the heat-oppressed Braine?\\nI see thee yet, in forme as palpable,\\nAs this which now I draw.\\nThou marshall'st me the way that I was going,\\nAnd such an Instrument I was to vse.\\nMine Eyes are made the fooles o'th' other Sences,\\nOr else worth all the rest: I see thee still;\\nAnd on thy Blade, and Dudgeon, Gouts of Blood,\\nWhich was not so before. There's no such thing:\\nIt is the bloody Businesse, which informes\\nThus to mine Eyes. Now o're the one halfe World\\nNature seemes dead, and wicked Dreames abuse\\nThe Curtain'd sleepe: Witchcraft celebrates\\nPale Heccats Offrings: and wither'd Murther,\\nAlarum'd by his Centinell, the Wolfe,\\nWhose howle's his Watch, thus with his stealthy pace,\\nWith Tarquins rauishing sides, towards his designe\\nMoues like a Ghost. Thou sowre and firme-set Earth\\nHeare not my steps, which they may walke, for feare\\nThy very stones prate of my where-about,\\nAnd take the present horror from the time,\\nWhich now sutes with it. Whiles I threat, he liues:\\nWords to the heat of deedes too cold breath giues.\\n\\nA Bell rings.\\n\\nI goe, and it is done: the Bell inuites me.\\nHeare it not, Duncan, for it is a Knell,\\nThat summons thee to Heauen, or to Hell.\\nEnter.\\n\\n\\nScena Secunda.\\n\\nEnter Lady.\\n\\n  La. That which hath made the[m] drunk, hath made me bold:\\nWhat hath quench'd them, hath giuen me fire.\\nHearke, peace: it was the Owle that shriek'd,\\nThe fatall Bell-man, which giues the stern'st good-night.\\nHe is about it, the Doores are open:\\nAnd the surfeted Groomes doe mock their charge\\nWith Snores. I haue drugg'd their Possets,\\nThat Death and Nature doe contend about them,\\nWhether they liue, or dye.\\nEnter Macbeth.\\n\\n  Macb. Who's there? what hoa?\\n  Lady. Alack, I am afraid they haue awak'd,\\nAnd 'tis not done: th' attempt, and not the deed,\\nConfounds vs: hearke: I lay'd their Daggers ready,\\nHe could not misse 'em. Had he not resembled\\nMy Father as he slept, I had don't.\\nMy Husband?\\n  Macb. I haue done the deed:\\nDidst thou not heare a noyse?\\n  Lady. I heard the Owle schreame, and the Crickets cry.\\nDid not you speake?\\n  Macb. When?\\n  Lady. Now\\n\\n   Macb. As I descended?\\n  Lady. I\\n\\n   Macb. Hearke, who lyes i'th' second Chamber?\\n  Lady. Donalbaine\\n\\n   Mac. This is a sorry sight\\n\\n   Lady. A foolish thought, to say a sorry sight\\n\\n   Macb. There's one did laugh in's sleepe,\\nAnd one cry'd Murther, that they did wake each other:\\nI stood, and heard them: But they did say their Prayers,\\nAnd addrest them againe to sleepe\\n\\n   Lady. There are two lodg'd together\\n\\n   Macb. One cry'd God blesse vs, and Amen the other,\\nAs they had seene me with these Hangmans hands:\\nListning their feare, I could not say Amen,\\nWhen they did say God blesse vs\\n\\n   Lady. Consider it not so deepely\\n\\n   Mac. But wherefore could not I pronounce Amen?\\nI had most need of Blessing, and Amen stuck in my throat\\n\\n   Lady. These deeds must not be thought\\nAfter these wayes: so, it will make vs mad\\n\\n   Macb. Me thought I heard a voyce cry, Sleep no more:\\nMacbeth does murther Sleepe, the innocent Sleepe,\\nSleepe that knits vp the rauel'd Sleeue of Care,\\nThe death of each dayes Life, sore Labors Bath,\\nBalme of hurt Mindes, great Natures second Course,\\nChiefe nourisher in Life's Feast\\n\\n   Lady. What doe you meane?\\n  Macb. Still it cry'd, Sleepe no more to all the House:\\nGlamis hath murther'd Sleepe, and therefore Cawdor\\nShall sleepe no more: Macbeth shall sleepe no more\\n\\n   Lady. Who was it, that thus cry'd? why worthy Thane,\\nYou doe vnbend your Noble strength, to thinke\\nSo braine-sickly of things: Goe get some Water,\\nAnd wash this filthie Witnesse from your Hand.\\nWhy did you bring these Daggers from the place?\\nThey must lye there: goe carry them, and smeare\\nThe sleepie Groomes with blood\\n\\n   Macb. Ile goe no more:\\nI am afraid, to thinke what I haue done:\\nLooke on't againe, I dare not\\n\\n   Lady. Infirme of purpose:\\nGiue me the Daggers: the sleeping, and the dead,\\nAre but as Pictures: 'tis the Eye of Childhood,\\nThat feares a painted Deuill. If he doe bleed,\\nIle guild the Faces of the Groomes withall,\\nFor it must seeme their Guilt.\\nEnter.\\n\\nKnocke within.\\n\\n  Macb. Whence is that knocking?\\nHow is't with me, when euery noyse appalls me?\\nWhat Hands are here? hah: they pluck out mine Eyes.\\nWill all great Neptunes Ocean wash this blood\\nCleane from my Hand? no: this my Hand will rather\\nThe multitudinous Seas incarnardine,\\nMaking the Greene one, Red.\\nEnter Lady.\\n\\n  Lady. My Hands are of your colour: but I shame\\nTo weare a Heart so white.\\n\\nKnocke.\\n\\nI heare a knocking at the South entry:\\nRetyre we to our Chamber:\\nA little Water cleares vs of this deed.\\nHow easie is it then? your Constancie\\nHath left you vnattended.\\n\\nKnocke.\\n\\nHearke, more knocking.\\nGet on your Night-Gowne, least occasion call vs,\\nAnd shew vs to be Watchers: be not lost\\nSo poorely in your thoughts\\n\\n   Macb. To know my deed,\\n\\nKnocke.\\n\\n'Twere best not know my selfe.\\nWake Duncan with thy knocking:\\nI would thou could'st.\\n\\nExeunt.\\n\\n\\nScena Tertia.\\n\\nEnter a Porter. Knocking within.\\n\\n  Porter. Here's a knocking indeede: if a man were\\nPorter of Hell Gate, hee should haue old turning the\\nKey.\\n\\nKnock.\\n\\nKnock, Knock, Knock. Who's there\\ni'th' name of Belzebub? Here's a Farmer, that hang'd\\nhimselfe on th' expectation of Plentie: Come in time, haue\\nNapkins enow about you, here you'le sweat for't.\\n\\nKnock.\\n\\nKnock, knock. Who's there in th' other Deuils Name?\\nFaith here's an Equiuocator, that could sweare in both\\nthe Scales against eyther Scale, who committed Treason\\nenough for Gods sake, yet could not equiuocate to Heauen:\\noh come in, Equiuocator.\\n\\nKnock.\\n\\nKnock, Knock, Knock. Who's there? 'Faith here's an English\\nTaylor come hither, for stealing out of a French Hose:\\nCome in Taylor, here you may rost your Goose.\\nKnock.\\n\\nKnock, Knock. Neuer at quiet: What are you? but this\\nplace is too cold for Hell. Ile Deuill-Porter it no further:\\nI had thought to haue let in some of all Professions, that\\ngoe the Primrose way to th' euerlasting Bonfire.\\n\\nKnock.\\n\\nAnon, anon, I pray you remember the Porter.\\nEnter Macduff, and Lenox.\\n\\n  Macd. Was it so late, friend, ere you went to Bed,\\nThat you doe lye so late?\\n  Port. Faith Sir, we were carowsing till the second Cock:\\nAnd Drinke, Sir, is a great prouoker of three things\\n\\n   Macd. What three things does Drinke especially\\nprouoke?\\n  Port. Marry, Sir, Nose-painting, Sleepe, and Vrine.\\nLecherie, Sir, it prouokes, and vnprouokes: it prouokes\\nthe desire, but it takes away the performance. Therefore\\nmuch Drinke may be said to be an Equiuocator with Lecherie:\\nit makes him, and it marres him; it sets him on,\\nand it takes him off; it perswades him, and dis-heartens\\nhim; makes him stand too, and not stand too: in conclusion,\\nequiuocates him in a sleepe, and giuing him the Lye,\\nleaues him\\n\\n   Macd. I beleeue, Drinke gaue thee the Lye last Night\\n\\n   Port. That it did, Sir, i'the very Throat on me: but I\\nrequited him for his Lye, and (I thinke) being too strong\\nfor him, though he tooke vp my Legges sometime, yet I\\nmade a Shift to cast him.\\nEnter Macbeth.\\n\\n  Macd. Is thy Master stirring?\\nOur knocking ha's awak'd him: here he comes\\n\\n   Lenox. Good morrow, Noble Sir\\n\\n   Macb. Good morrow both\\n\\n   Macd. Is the King stirring, worthy Thane?\\n  Macb. Not yet\\n\\n   Macd. He did command me to call timely on him,\\nI haue almost slipt the houre\\n\\n   Macb. Ile bring you to him\\n\\n   Macd. I know this is a ioyfull trouble to you:\\nBut yet 'tis one\\n\\n   Macb. The labour we delight in, Physicks paine:\\nThis is the Doore\\n\\n   Macd. Ile make so bold to call, for 'tis my limitted\\nseruice.\\n\\nExit Macduffe.\\n\\n  Lenox. Goes the King hence to day?\\n  Macb. He does: he did appoint so\\n\\n   Lenox. The Night ha's been vnruly:\\nWhere we lay, our Chimneys were blowne downe,\\nAnd (as they say) lamentings heard i'th' Ayre;\\nStrange Schreemes of Death,\\nAnd Prophecying, with Accents terrible,\\nOf dyre Combustion, and confus'd Euents,\\nNew hatch'd toth' wofull time.\\nThe obscure Bird clamor'd the liue-long Night.\\nSome say, the Earth was Feuorous,\\nAnd did shake\\n\\n   Macb. 'Twas a rough Night\\n\\n   Lenox. My young remembrance cannot paralell\\nA fellow to it.\\nEnter Macduff.\\n\\n  Macd. O horror, horror, horror,\\nTongue nor Heart cannot conceiue, nor name thee\\n\\n   Macb. and Lenox. What's the matter?\\n  Macd. Confusion now hath made his Master-peece:\\nMost sacrilegious Murther hath broke ope\\nThe Lords anoynted Temple, and stole thence\\nThe Life o'th' Building\\n\\n   Macb. What is't you say, the Life?\\n  Lenox. Meane you his Maiestie?\\n  Macd. Approch the Chamber, and destroy your sight\\nWith a new Gorgon. Doe not bid me speake:\\nSee, and then speake your selues: awake, awake,\\n\\nExeunt. Macbeth and Lenox.\\n\\nRing the Alarum Bell: Murther, and Treason,\\nBanquo, and Donalbaine: Malcolme awake,\\nShake off this Downey sleepe, Deaths counterfeit,\\nAnd looke on Death it selfe: vp, vp, and see\\nThe great Doomes Image: Malcolme, Banquo,\\nAs from your Graues rise vp, and walke like Sprights,\\nTo countenance this horror. Ring the Bell.\\n\\nBell rings. Enter Lady.\\n\\n  Lady. What's the Businesse?\\nThat such a hideous Trumpet calls to parley\\nThe sleepers of the House? speake, speake\\n\\n   Macd. O gentle Lady,\\n'Tis not for you to heare what I can speake:\\nThe repetition in a Womans eare,\\nWould murther as it fell.\\nEnter Banquo.\\n\\nO Banquo, Banquo, Our Royall Master's murther'd\\n\\n   Lady. Woe, alas:\\nWhat, in our House?\\n  Ban. Too cruell, any where.\\nDeare Duff, I prythee contradict thy selfe,\\nAnd say, it is not so.\\nEnter Macbeth, Lenox, and Rosse.\\n\\n  Macb. Had I but dy'd an houre before this chance,\\nI had liu'd a blessed time: for from this instant,\\nThere's nothing serious in Mortalitie:\\nAll is but Toyes: Renowne and Grace is dead,\\nThe Wine of Life is drawne, and the meere Lees\\nIs left this Vault, to brag of.\\nEnter Malcolme and Donalbaine.\\n\\n  Donal. What is amisse?\\n  Macb. You are, and doe not know't:\\nThe Spring, the Head, the Fountaine of your Blood\\nIs stopt, the very Source of it is stopt\\n\\n   Macd. Your Royall Father's murther'd\\n\\n   Mal. Oh, by whom?\\n  Lenox. Those of his Chamber, as it seem'd, had don't:\\nTheir Hands and Faces were all badg'd with blood,\\nSo were their Daggers, which vnwip'd, we found\\nVpon their Pillowes: they star'd, and were distracted,\\nNo mans Life was to be trusted with them\\n\\n   Macb. O, yet I doe repent me of my furie,\\nThat I did kill them\\n\\n   Macd. Wherefore did you so?\\n  Macb. Who can be wise, amaz'd, temp'rate, & furious,\\nLoyall, and Neutrall, in a moment? No man:\\nTh' expedition of my violent Loue\\nOut-run the pawser, Reason. Here lay Duncan,\\nHis Siluer skinne, lac'd with His Golden Blood,\\nAnd his gash'd Stabs, look'd like a Breach in Nature,\\nFor Ruines wastfull entrance: there the Murtherers,\\nSteep'd in the Colours of their Trade; their Daggers\\nVnmannerly breech'd with gore: who could refraine,\\nThat had a heart to loue; and in that heart,\\nCourage, to make's loue knowne?\\n  Lady. Helpe me hence, hoa\\n\\n   Macd. Looke to the Lady\\n\\n   Mal. Why doe we hold our tongues,\\nThat most may clayme this argument for ours?\\n  Donal. What should be spoken here,\\nWhere our Fate hid in an augure hole,\\nMay rush, and seize vs? Let's away,\\nOur Teares are not yet brew'd\\n\\n   Mal. Nor our strong Sorrow\\nVpon the foot of Motion\\n\\n   Banq. Looke to the Lady:\\nAnd when we haue our naked Frailties hid,\\nThat suffer in exposure; let vs meet,\\nAnd question this most bloody piece of worke,\\nTo know it further. Feares and scruples shake vs:\\nIn the great Hand of God I stand, and thence,\\nAgainst the vndivulg'd pretence, I fight\\nOf Treasonous Mallice\\n\\n   Macd. And so doe I\\n\\n   All. So all\\n\\n   Macb. Let's briefely put on manly readinesse,\\nAnd meet i'th' Hall together\\n\\n   All. Well contented.\\n\\nExeunt.\\n\\n  Malc. What will you doe?\\nLet's not consort with them:\\nTo shew an vnfelt Sorrow, is an Office\\nWhich the false man do's easie.\\nIle to England\\n\\n   Don. To Ireland, I:\\nOur seperated fortune shall keepe vs both the safer:\\nWhere we are, there's Daggers in mens smiles;\\nThe neere in blood, the neerer bloody\\n\\n   Malc. This murtherous Shaft that's shot,\\nHath not yet lighted: and our safest way,\\nIs to auoid the ayme. Therefore to Horse,\\nAnd let vs not be daintie of leaue-taking,\\nBut shift away: there's warrant in that Theft,\\nWhich steales it selfe, when there's no mercie left.\\n\\nExeunt.\\n\\n\\n\\nScena Quarta.\\n\\nEnter Rosse, with an Old man.\\n\\n  Old man. Threescore and ten I can remember well,\\nWithin the Volume of which Time, I haue seene\\nHoures dreadfull, and things strange: but this sore Night\\nHath trifled former knowings\\n\\n   Rosse. Ha, good Father,\\nThou seest the Heauens, as troubled with mans Act,\\nThreatens his bloody Stage: byth' Clock 'tis Day,\\nAnd yet darke Night strangles the trauailing Lampe:\\nIs't Nights predominance, or the Dayes shame,\\nThat Darknesse does the face of Earth intombe,\\nWhen liuing Light should kisse it?\\n  Old man. 'Tis vnnaturall,\\nEuen like the deed that's done: On Tuesday last,\\nA Faulcon towring in her pride of place,\\nWas by a Mowsing Owle hawkt at, and kill'd\\n\\n   Rosse. And Duncans Horses,\\n(A thing most strange, and certaine)\\nBeauteous, and swift, the Minions of their Race,\\nTurn'd wilde in nature, broke their stalls, flong out,\\nContending 'gainst Obedience, as they would\\nMake Warre with Mankinde\\n\\n   Old man. 'Tis said, they eate each other\\n\\n   Rosse. They did so:\\nTo th' amazement of mine eyes that look'd vpon't.\\nEnter Macduffe.\\n\\nHeere comes the good Macduffe.\\nHow goes the world Sir, now?\\n  Macd. Why see you not?\\n  Ross. Is't known who did this more then bloody deed?\\n  Macd. Those that Macbeth hath slaine\\n\\n   Ross. Alas the day,\\nWhat good could they pretend?\\n  Macd. They were subborned,\\nMalcolme, and Donalbaine the Kings two Sonnes\\nAre stolne away and fled, which puts vpon them\\nSuspition of the deed\\n\\n   Rosse. 'Gainst Nature still,\\nThriftlesse Ambition, that will rauen vp\\nThine owne liues meanes: Then 'tis most like,\\nThe Soueraignty will fall vpon Macbeth\\n\\n   Macd. He is already nam'd, and gone to Scone\\nTo be inuested\\n\\n   Rosse. Where is Duncans body?\\n  Macd. Carried to Colmekill,\\nThe Sacred Store-house of his Predecessors,\\nAnd Guardian of their Bones\\n\\n   Rosse. Will you to Scone?\\n  Macd. No Cosin, Ile to Fife\\n\\n   Rosse. Well, I will thither\\n\\n   Macd. Well may you see things wel done there: Adieu\\nLeast our old Robes sit easier then our new\\n\\n   Rosse. Farewell, Father\\n\\n   Old M. Gods benyson go with you, and with those\\nThat would make good of bad, and Friends of Foes.\\n\\nExeunt. omnes\\n\\nActus Tertius. Scena Prima.\\n\\nEnter Banquo.\\n\\n  Banq. Thou hast it now, King, Cawdor, Glamis, all,\\nAs the weyard Women promis'd, and I feare\\nThou playd'st most fowly for't: yet it was saide\\nIt should not stand in thy Posterity,\\nBut that my selfe should be the Roote, and Father\\nOf many Kings. If there come truth from them,\\nAs vpon thee Macbeth, their Speeches shine,\\nWhy by the verities on thee made good,\\nMay they not be my Oracles as well,\\nAnd set me vp in hope. But hush, no more.\\n\\nSenit sounded. Enter Macbeth as King, Lady Lenox, Rosse, Lords,\\nand\\nAttendants.\\n\\n  Macb. Heere's our chiefe Guest\\n\\n   La. If he had beene forgotten,\\nIt had bene as a gap in our great Feast,\\nAnd all-thing vnbecomming\\n\\n   Macb. To night we hold a solemne Supper sir,\\nAnd Ile request your presence\\n\\n   Banq. Let your Highnesse\\nCommand vpon me, to the which my duties\\nAre with a most indissoluble tye\\nFor euer knit\\n\\n   Macb. Ride you this afternoone?\\n  Ban. I, my good Lord\\n\\n   Macb. We should haue else desir'd your good aduice\\n(Which still hath been both graue, and prosperous)\\nIn this dayes Councell: but wee'le take to morrow.\\nIs't farre you ride?\\n  Ban. As farre, my Lord, as will fill vp the time\\n'Twixt this, and Supper. Goe not my Horse the better,\\nI must become a borrower of the Night,\\nFor a darke houre, or twaine\\n\\n   Macb. Faile not our Feast\\n\\n   Ban. My Lord, I will not\\n\\n   Macb. We heare our bloody Cozens are bestow'd\\nIn England, and in Ireland, not confessing\\nTheir cruell Parricide, filling their hearers\\nWith strange inuention. But of that to morrow,\\nWhen therewithall, we shall haue cause of State,\\nCrauing vs ioyntly. Hye you to Horse:\\nAdieu, till you returne at Night.\\nGoes Fleance with you?\\n  Ban. I, my good Lord: our time does call vpon's\\n\\n   Macb. I wish your Horses swift, and sure of foot:\\nAnd so I doe commend you to their backs.\\nFarwell.\\n\\nExit Banquo.\\n\\nLet euery man be master of his time,\\nTill seuen at Night, to make societie\\nThe sweeter welcome:\\nWe will keepe our selfe till Supper time alone:\\nWhile then, God be with you.\\n\\nExeunt. Lords.\\n\\nSirrha, a word with you: Attend those men\\nOur pleasure?\\n  Seruant. They are, my Lord, without the Pallace\\nGate\\n\\n   Macb. Bring them before vs.\\n\\nExit Seruant.\\n\\nTo be thus, is nothing, but to be safely thus\\nOur feares in Banquo sticke deepe,\\nAnd in his Royaltie of Nature reignes that\\nWhich would be fear'd. 'Tis much he dares,\\nAnd to that dauntlesse temper of his Minde,\\nHe hath a Wisdome, that doth guide his Valour,\\nTo act in safetie. There is none but he,\\nWhose being I doe feare: and vnder him,\\nMy Genius is rebuk'd, as it is said\\nMark Anthonies was by Caesar. He chid the Sisters,\\nWhen first they put the Name of King vpon me,\\nAnd bad them speake to him. Then Prophet-like,\\nThey hayl'd him Father to a Line of Kings.\\nVpon my Head they plac'd a fruitlesse Crowne,\\nAnd put a barren Scepter in my Gripe,\\nThence to be wrencht with an vnlineall Hand,\\nNo Sonne of mine succeeding: if't be so,\\nFor Banquo's Issue haue I fil'd my Minde,\\nFor them, the gracious Duncan haue I murther'd,\\nPut Rancours in the Vessell of my Peace\\nOnely for them, and mine eternall Iewell\\nGiuen to the common Enemie of Man,\\nTo make them Kings, the Seedes of Banquo Kings.\\nRather then so, come Fate into the Lyst,\\nAnd champion me to th' vtterance.\\nWho's there?\\nEnter Seruant, and two Murtherers.\\n\\nNow goe to the Doore, and stay there till we call.\\n\\nExit Seruant.\\n\\nWas it not yesterday we spoke together?\\n  Murth. It was, so please your Highnesse\\n\\n   Macb. Well then,\\nNow haue you consider'd of my speeches:\\nKnow, that it was he, in the times past,\\nWhich held you so vnder fortune,\\nWhich you thought had been our innocent selfe.\\nThis I made good to you, in our last conference,\\nPast in probation with you:\\nHow you were borne in hand, how crost:\\nThe Instruments: who wrought with them:\\nAnd all things else, that might\\nTo halfe a Soule, and to a Notion craz'd,\\nSay, Thus did Banquo\\n\\n   1.Murth. You made it knowne to vs\\n\\n   Macb. I did so:\\nAnd went further, which is now\\nOur point of second meeting.\\nDoe you finde your patience so predominant,\\nIn your nature, that you can let this goe?\\nAre you so Gospell'd, to pray for this good man,\\nAnd for his Issue, whose heauie hand\\nHath bow'd you to the Graue, and begger'd\\nYours for euer?\\n  1.Murth. We are men, my Liege\\n\\n   Macb. I, in the Catalogue ye goe for men,\\nAs Hounds, and Greyhounds, Mungrels, Spaniels, Curres,\\nShowghes, Water-Rugs, and Demy-Wolues are clipt\\nAll by the Name of Dogges: the valued file\\nDistinguishes the swift, the slow, the subtle,\\nThe House-keeper, the Hunter, euery one\\nAccording to the gift, which bounteous Nature\\nHath in him clos'd: whereby he does receiue\\nParticular addition, from the Bill,\\nThat writes them all alike: and so of men.\\nNow, if you haue a station in the file,\\nNot i'th' worst ranke of Manhood, say't,\\nAnd I will put that Businesse in your Bosomes,\\nWhose execution takes your Enemie off,\\nGrapples you to the heart; and loue of vs,\\nWho weare our Health but sickly in his Life,\\nWhich in his Death were perfect\\n\\n   2.Murth. I am one, my Liege,\\nWhom the vile Blowes and Buffets of the World\\nHath so incens'd, that I am recklesse what I doe,\\nTo spight the World\\n\\n   1.Murth. And I another,\\nSo wearie with Disasters, tugg'd with Fortune,\\nThat I would set my Life on any Chance,\\nTo mend it, or be rid on't\\n\\n   Macb. Both of you know Banquo was your Enemie\\n\\n   Murth. True, my Lord\\n\\n   Macb. So is he mine: and in such bloody distance,\\nThat euery minute of his being, thrusts\\nAgainst my neer'st of Life: and though I could\\nWith bare-fac'd power sweepe him from my sight,\\nAnd bid my will auouch it; yet I must not,\\nFor certaine friends that are both his, and mine,\\nWhose loues I may not drop, but wayle his fall,\\nWho I my selfe struck downe: and thence it is,\\nThat I to your assistance doe make loue,\\nMasking the Businesse from the common Eye,\\nFor sundry weightie Reasons\\n\\n   2.Murth. We shall, my Lord,\\nPerforme what you command vs\\n\\n   1.Murth. Though our Liues-\\n  Macb. Your Spirits shine through you.\\nWithin this houre, at most,\\nI will aduise you where to plant your selues,\\nAcquaint you with the perfect Spy o'th' time,\\nThe moment on't, for't must be done to Night,\\nAnd something from the Pallace: alwayes thought,\\nThat I require a clearenesse; and with him,\\nTo leaue no Rubs nor Botches in the Worke:\\n  Fleans , his Sonne, that keepes him companie,\\nWhose absence is no lesse materiall to me,\\nThen is his Fathers, must embrace the fate\\nOf that darke houre: resolue your selues apart,\\nIle come to you anon\\n\\n   Murth. We are resolu'd, my Lord\\n\\n   Macb. Ile call vpon you straight: abide within,\\nIt is concluded: Banquo, thy Soules flight,\\nIf it finde Heauen, must finde it out to Night.\\n\\nExeunt.\\n\\n\\nScena Secunda.\\n\\nEnter Macbeths Lady, and a Seruant.\\n\\n  Lady. Is Banquo gone from Court?\\n  Seruant. I, Madame, but returnes againe to Night\\n\\n   Lady. Say to the King, I would attend his leysure,\\nFor a few words\\n\\n   Seruant. Madame, I will.\\nEnter.\\n\\n  Lady. Nought's had, all's spent.\\nWhere our desire is got without content:\\n'Tis safer, to be that which we destroy,\\nThen by destruction dwell in doubtfull ioy.\\nEnter Macbeth.\\n\\nHow now, my Lord, why doe you keepe alone?\\nOf sorryest Fancies your Companions making,\\nVsing those Thoughts, which should indeed haue dy'd\\nWith them they thinke on: things without all remedie\\nShould be without regard: what's done, is done\\n\\n   Macb. We haue scorch'd the Snake, not kill'd it:\\nShee'le close, and be her selfe, whilest our poore Mallice\\nRemaines in danger of her former Tooth.\\nBut let the frame of things dis-ioynt,\\nBoth the Worlds suffer,\\nEre we will eate our Meale in feare, and sleepe\\nIn the affliction of these terrible Dreames,\\nThat shake vs Nightly: Better be with the dead,\\nWhom we, to gayne our peace, haue sent to peace,\\nThen on the torture of the Minde to lye\\nIn restlesse extasie.\\nDuncane is in his Graue:\\nAfter Lifes fitfull Feuer, he sleepes well,\\nTreason ha's done his worst: nor Steele, nor Poyson,\\nMallice domestique, forraine Leuie, nothing,\\nCan touch him further\\n\\n   Lady. Come on:\\nGentle my Lord, sleeke o're your rugged Lookes,\\nBe bright and Iouiall among your Guests to Night\\n\\n   Macb. So shall I Loue, and so I pray be you:\\nLet your remembrance apply to Banquo,\\nPresent him Eminence, both with Eye and Tongue:\\nVnsafe the while, that wee must laue\\nOur Honors in these flattering streames,\\nAnd make our Faces Vizards to our Hearts,\\nDisguising what they are\\n\\n   Lady. You must leaue this\\n\\n   Macb. O, full of Scorpions is my Minde, deare Wife:\\nThou know'st, that Banquo and his Fleans liues\\n\\n   Lady. But in them, Natures Coppie's not eterne\\n\\n   Macb. There's comfort yet, they are assaileable,\\nThen be thou iocund: ere the Bat hath flowne\\nHis Cloyster'd flight, ere to black Heccats summons\\nThe shard-borne Beetle, with his drowsie hums,\\nHath rung Nights yawning Peale,\\nThere shall be done a deed of dreadfull note\\n\\n   Lady. What's to be done?\\n  Macb. Be innocent of the knowledge, dearest Chuck,\\nTill thou applaud the deed: Come, seeling Night,\\nSkarfe vp the tender Eye of pittifull Day,\\nAnd with thy bloodie and inuisible Hand\\nCancell and teare to pieces that great Bond,\\nWhich keepes me pale. Light thickens,\\nAnd the Crow makes Wing toth' Rookie Wood:\\nGood things of Day begin to droope, and drowse,\\nWhiles Nights black Agents to their Prey's doe rowse.\\nThou maruell'st at my words: but hold thee still,\\nThings bad begun, make strong themselues by ill:\\nSo prythee goe with me.\\n\\nExeunt.\\n\\n\\nScena Tertia.\\n\\nEnter three Murtherers.\\n\\n  1. But who did bid thee ioyne with vs?\\n  3. Macbeth\\n\\n   2. He needes not our mistrust, since he deliuers\\nOur Offices, and what we haue to doe,\\nTo the direction iust\\n\\n   1. Then stand with vs:\\nThe West yet glimmers with some streakes of Day.\\nNow spurres the lated Traueller apace,\\nTo gayne the timely Inne, and neere approches\\nThe subiect of our Watch\\n\\n   3. Hearke, I heare Horses\\n\\n   Banquo within. Giue vs a Light there, hoa\\n\\n   2. Then 'tis hee:\\nThe rest, that are within the note of expectation,\\nAlreadie are i'th' Court\\n\\n   1. His Horses goe about\\n\\n   3. Almost a mile: but he does vsually,\\nSo all men doe, from hence toth' Pallace Gate\\nMake it their Walke.\\nEnter Banquo and Fleans, with a Torch.\\n\\n  2. A Light, a Light\\n\\n   3. 'Tis hee\\n\\n   1. Stand too't\\n\\n   Ban. It will be Rayne to Night\\n\\n   1. Let it come downe\\n\\n   Ban. O, Trecherie!\\nFlye good Fleans, flye, flye, flye,\\nThou may'st reuenge. O Slaue!\\n  3. Who did strike out the Light?\\n  1. Was't not the way?\\n  3. There's but one downe: the Sonne is fled\\n\\n   2. We haue lost\\nBest halfe of our Affaire\\n\\n   1. Well, let's away, and say how much is done.\\n\\nExeunt.\\n\\n\\nScaena Quarta.\\n\\nBanquet prepar'd. Enter Macbeth, Lady, Rosse, Lenox, Lords, and\\nAttendants.\\n\\n  Macb. You know your owne degrees, sit downe:\\nAt first and last, the hearty welcome\\n\\n   Lords. Thankes to your Maiesty\\n\\n   Macb. Our selfe will mingle with Society,\\nAnd play the humble Host:\\nOur Hostesse keepes her State, but in best time\\nWe will require her welcome\\n\\n   La. Pronounce it for me Sir, to all our Friends,\\nFor my heart speakes, they are welcome.\\nEnter first Murtherer.\\n\\n  Macb. See they encounter thee with their harts thanks\\nBoth sides are euen: heere Ile sit i'th' mid'st,\\nBe large in mirth, anon wee'l drinke a Measure\\nThe Table round. There's blood vpon thy face\\n\\n   Mur. 'Tis Banquo's then\\n\\n   Macb. 'Tis better thee without, then he within.\\nIs he dispatch'd?\\n  Mur. My Lord his throat is cut, that I did for him\\n\\n   Mac. Thou art the best o'th' Cut-throats,\\nYet hee's good that did the like for Fleans:\\nIf thou did'st it, thou art the Non-pareill\\n\\n   Mur. Most Royall Sir\\nFleans is scap'd\\n\\n   Macb. Then comes my Fit againe:\\nI had else beene perfect;\\nWhole as the Marble, founded as the Rocke,\\nAs broad, and generall, as the casing Ayre:\\nBut now I am cabin'd, crib'd, confin'd, bound in\\nTo sawcy doubts, and feares. But Banquo's safe?\\n  Mur. I, my good Lord: safe in a ditch he bides,\\nWith twenty trenched gashes on his head;\\nThe least a Death to Nature\\n\\n   Macb. Thankes for that:\\nThere the growne Serpent lyes, the worme that's fled\\nHath Nature that in time will Venom breed,\\nNo teeth for th' present. Get thee gone, to morrow\\nWee'l heare our selues againe.\\n\\nExit Murderer.\\n\\n  Lady. My Royall Lord,\\nYou do not giue the Cheere, the Feast is sold\\nThat is not often vouch'd, while 'tis a making:\\n'Tis giuen, with welcome: to feede were best at home:\\nFrom thence, the sawce to meate is Ceremony,\\nMeeting were bare without it.\\nEnter the Ghost of Banquo, and sits in Macbeths place.\\n\\n  Macb. Sweet Remembrancer:\\nNow good digestion waite on Appetite,\\nAnd health on both\\n\\n   Lenox. May't please your Highnesse sit\\n\\n   Macb. Here had we now our Countries Honor, roof'd,\\nWere the grac'd person of our Banquo present:\\nWho, may I rather challenge for vnkindnesse,\\nThen pitty for Mischance\\n\\n   Rosse. His absence (Sir)\\nLayes blame vpon his promise. Pleas't your Highnesse\\nTo grace vs with your Royall Company?\\n  Macb. The Table's full\\n\\n   Lenox. Heere is a place reseru'd Sir\\n\\n   Macb. Where?\\n  Lenox. Heere my good Lord.\\nWhat is't that moues your Highnesse?\\n  Macb. Which of you haue done this?\\n  Lords. What, my good Lord?\\n  Macb. Thou canst not say I did it: neuer shake\\nThy goary lockes at me\\n\\n   Rosse. Gentlemen rise, his Highnesse is not well\\n\\n   Lady. Sit worthy Friends: my Lord is often thus,\\nAnd hath beene from his youth. Pray you keepe Seat,\\nThe fit is momentary, vpon a thought\\nHe will againe be well. If much you note him\\nYou shall offend him, and extend his Passion,\\nFeed, and regard him not. Are you a man?\\n  Macb. I, and a bold one, that dare looke on that\\nWhich might appall the Diuell\\n\\n   La. O proper stuffe:\\nThis is the very painting of your feare:\\nThis is the Ayre-drawne-Dagger which you said\\nLed you to Duncan. O, these flawes and starts\\n(Impostors to true feare) would well become\\nA womans story, at a Winters fire\\nAuthoriz'd by her Grandam: shame it selfe,\\nWhy do you make such faces? When all's done\\nYou looke but on a stoole\\n\\n   Macb. Prythee see there:\\nBehold, looke, loe, how say you:\\nWhy what care I, if thou canst nod, speake too.\\nIf Charnell houses, and our Graues must send\\nThose that we bury, backe; our Monuments\\nShall be the Mawes of Kytes\\n\\n   La. What? quite vnmann'd in folly\\n\\n   Macb. If I stand heere, I saw him\\n\\n   La. Fie for shame\\n\\n   Macb. Blood hath bene shed ere now, i'th' olden time\\nEre humane Statute purg'd the gentle Weale:\\nI, and since too, Murthers haue bene perform'd\\nToo terrible for the eare. The times has bene,\\nThat when the Braines were out, the man would dye,\\nAnd there an end: But now they rise againe\\nWith twenty mortall murthers on their crownes,\\nAnd push vs from our stooles. This is more strange\\nThen such a murther is\\n\\n   La. My worthy Lord\\nYour Noble Friends do lacke you\\n\\n   Macb. I do forget:\\nDo not muse at me my most worthy Friends,\\nI haue a strange infirmity, which is nothing\\nTo those that know me. Come, loue and health to all,\\nThen Ile sit downe: Giue me some Wine, fill full:\\nEnter Ghost.\\n\\nI drinke to th' generall ioy o'th' whole Table,\\nAnd to our deere Friend Banquo, whom we misse:\\nWould he were heere: to all, and him we thirst,\\nAnd all to all\\n\\n   Lords. Our duties, and the pledge\\n\\n   Mac. Auant, & quit my sight, let the earth hide thee:\\nThy bones are marrowlesse, thy blood is cold:\\nThou hast no speculation in those eyes\\nWhich thou dost glare with\\n\\n   La. Thinke of this good Peeres\\nBut as a thing of Custome: 'Tis no other,\\nOnely it spoyles the pleasure of the time\\n\\n   Macb. What man dare, I dare:\\nApproach thou like the rugged Russian Beare,\\nThe arm'd Rhinoceros, or th' Hircan Tiger,\\nTake any shape but that, and my firme Nerues\\nShall neuer tremble. Or be aliue againe,\\nAnd dare me to the Desart with thy Sword:\\nIf trembling I inhabit then, protest mee\\nThe Baby of a Girle. Hence horrible shadow,\\nVnreall mock'ry hence. Why so, being gone\\nI am a man againe: pray you sit still\\n\\n   La. You haue displac'd the mirth,\\nBroke the good meeting, with most admir'd disorder\\n\\n   Macb. Can such things be,\\nAnd ouercome vs like a Summers Clowd,\\nWithout our speciall wonder? You make me strange\\nEuen to the disposition that I owe,\\nWhen now I thinke you can behold such sights,\\nAnd keepe the naturall Rubie of your Cheekes,\\nWhen mine is blanch'd with feare\\n\\n   Rosse. What sights, my Lord?\\n  La. I pray you speake not: he growes worse & worse\\nQuestion enrages him: at once, goodnight.\\nStand not vpon the order of your going,\\nBut go at once\\n\\n   Len. Good night, and better health\\nAttend his Maiesty\\n\\n   La. A kinde goodnight to all.\\n\\nExit Lords.\\n\\n  Macb. It will haue blood they say:\\nBlood will haue Blood:\\nStones haue beene knowne to moue, & Trees to speake:\\nAugures, and vnderstood Relations, haue\\nBy Maggot Pyes, & Choughes, & Rookes brought forth\\nThe secret'st man of Blood. What is the night?\\n  La. Almost at oddes with morning, which is which\\n\\n   Macb. How say'st thou that Macduff denies his person\\nAt our great bidding\\n\\n   La. Did you send to him Sir?\\n  Macb. I heare it by the way: But I will send:\\nThere's not a one of them but in his house\\nI keepe a Seruant Feed. I will to morrow\\n(And betimes I will) to the weyard Sisters.\\nMore shall they speake: for now I am bent to know\\nBy the worst meanes, the worst, for mine owne good,\\nAll causes shall giue way. I am in blood\\nStept in so farre, that should I wade no more,\\nReturning were as tedious as go ore:\\nStrange things I haue in head, that will to hand,\\nWhich must be acted, ere they may be scand\\n\\n   La. You lacke the season of all Natures, sleepe\\n\\n   Macb. Come, wee'l to sleepe: My strange & self-abuse\\nIs the initiate feare, that wants hard vse:\\nWe are yet but yong indeed.\\n\\nExeunt.\\n\\n\\nScena Quinta.\\n\\nThunder. Enter the three Witches, meeting Hecat.\\n\\n  1. Why how now Hecat, you looke angerly?\\n  Hec. Haue I not reason (Beldams) as you are?\\nSawcy, and ouer-bold, how did you dare\\nTo Trade, and Trafficke with Macbeth,\\nIn Riddles, and Affaires of death;\\nAnd I the Mistris of your Charmes,\\nThe close contriuer of all harmes,\\nWas neuer call'd to beare my part,\\nOr shew the glory of our Art?\\nAnd which is worse, all you haue done\\nHath bene but for a wayward Sonne,\\nSpightfull, and wrathfull, who (as others do)\\nLoues for his owne ends, not for you.\\nBut make amends now: Get you gon,\\nAnd at the pit of Acheron\\nMeete me i'th' Morning: thither he\\nWill come, to know his Destinie.\\nYour Vessels, and your Spels prouide,\\nYour Charmes, and euery thing beside;\\nI am for th' Ayre: This night Ile spend\\nVnto a dismall, and a Fatall end.\\nGreat businesse must be wrought ere Noone.\\nVpon the Corner of the Moone\\nThere hangs a vap'rous drop, profound,\\nIle catch it ere it come to ground;\\nAnd that distill'd by Magicke slights,\\nShall raise such Artificiall Sprights,\\nAs by the strength of their illusion,\\nShall draw him on to his Confusion.\\nHe shall spurne Fate, scorne Death, and beare\\nHis hopes 'boue Wisedome, Grace, and Feare:\\nAnd you all know, Security\\nIs Mortals cheefest Enemie.\\n\\nMusicke, and a Song.\\n\\nHearke, I am call'd: my little Spirit see\\nSits in Foggy cloud, and stayes for me.\\n\\nSing within. Come away, come away, &c.\\n\\n  1 Come, let's make hast, shee'l soone be\\nBacke againe.\\n\\nExeunt.\\n\\n\\nScaena Sexta.\\n\\nEnter Lenox, and another Lord.\\n\\n  Lenox. My former Speeches,\\nHaue but hit your Thoughts\\nWhich can interpret farther: Onely I say\\nThings haue bin strangely borne. The gracious Duncan\\nWas pittied of Macbeth: marry he was dead:\\nAnd the right valiant Banquo walk'd too late,\\nWhom you may say (if't please you) Fleans kill'd,\\nFor Fleans fled: Men must not walke too late.\\nWho cannot want the thought, how monstrous\\nIt was for Malcolme, and for Donalbane\\nTo kill their gracious Father? Damned Fact,\\nHow it did greeue Macbeth? Did he not straight\\nIn pious rage, the two delinquents teare,\\nThat were the Slaues of drinke, and thralles of sleepe?\\nWas not that Nobly done? I, and wisely too:\\nFor 'twould haue anger'd any heart aliue\\nTo heare the men deny't. So that I say,\\nHe ha's borne all things well, and I do thinke,\\nThat had he Duncans Sonnes vnder his Key,\\n(As, and't please Heauen he shall not) they should finde\\nWhat 'twere to kill a Father: So should Fleans.\\nBut peace; for from broad words, and cause he fayl'd\\nHis presence at the Tyrants Feast, I heare\\nMacduffe liues in disgrace. Sir, can you tell\\nWhere he bestowes himselfe?\\n  Lord. The Sonnes of Duncane\\n(From whom this Tyrant holds the due of Birth)\\nLiues in the English Court, and is receyu'd\\nOf the most Pious Edward, with such grace,\\nThat the maleuolence of Fortune, nothing\\nTakes from his high respect. Thither Macduffe\\nIs gone, to pray the Holy King, vpon his ayd\\nTo wake Northumberland, and warlike Seyward,\\nThat by the helpe of these (with him aboue)\\nTo ratifie the Worke) we may againe\\nGiue to our Tables meate, sleepe to our Nights:\\nFree from our Feasts, and Banquets bloody kniues;\\nDo faithfull Homage, and receiue free Honors,\\nAll which we pine for now. And this report\\nHath so exasperate their King, that hee\\nPrepares for some attempt of Warre\\n\\n   Len. Sent he to Macduffe?\\n  Lord. He did: and with an absolute Sir, not I\\nThe clowdy Messenger turnes me his backe,\\nAnd hums; as who should say, you'l rue the time\\nThat clogges me with this Answer\\n\\n   Lenox. And that well might\\nAduise him to a Caution, t' hold what distance\\nHis wisedome can prouide. Some holy Angell\\nFlye to the Court of England, and vnfold\\nHis Message ere he come, that a swift blessing\\nMay soone returne to this our suffering Country,\\nVnder a hand accurs'd\\n\\n   Lord. Ile send my Prayers with him.\\n\\nExeunt.\\n\\nActus Quartus. Scena Prima.\\n\\nThunder. Enter the three Witches.\\n\\n  1 Thrice the brinded Cat hath mew'd\\n\\n   2 Thrice, and once the Hedge-Pigge whin'd\\n\\n   3 Harpier cries, 'tis time, 'tis time\\n\\n   1 Round about the Caldron go:\\nIn the poysond Entrailes throw\\nToad, that vnder cold stone,\\nDayes and Nights, ha's thirty one:\\nSweltred Venom sleeping got,\\nBoyle thou first i'th' charmed pot\\n\\n   All. Double, double, toile and trouble;\\nFire burne, and Cauldron bubble\\n\\n   2 Fillet of a Fenny Snake,\\nIn the Cauldron boyle and bake:\\nEye of Newt, and Toe of Frogge,\\nWooll of Bat, and Tongue of Dogge:\\nAdders Forke, and Blinde-wormes Sting,\\nLizards legge, and Howlets wing:\\nFor a Charme of powrefull trouble,\\nLike a Hell-broth, boyle and bubble\\n\\n   All. Double, double, toyle and trouble,\\nFire burne, and Cauldron bubble\\n\\n   3 Scale of Dragon, Tooth of Wolfe,\\nWitches Mummey, Maw, and Gulfe\\nOf the rauin'd salt Sea sharke:\\nRoote of Hemlocke, digg'd i'th' darke:\\nLiuer of Blaspheming Iew,\\nGall of Goate, and Slippes of Yew,\\nSliuer'd in the Moones Ecclipse:\\nNose of Turke, and Tartars lips:\\nFinger of Birth-strangled Babe,\\nDitch-deliuer'd by a Drab,\\nMake the Grewell thicke, and slab.\\nAdde thereto a Tigers Chawdron,\\nFor th' Ingredience of our Cawdron\\n\\n   All. Double, double, toyle and trouble,\\nFire burne, and Cauldron bubble\\n\\n   2 Coole it with a Baboones blood,\\nThen the Charme is firme and good.\\nEnter Hecat, and the other three Witches.\\n\\n  Hec. O well done: I commend your paines,\\nAnd euery one shall share i'th' gaines:\\nAnd now about the Cauldron sing\\nLike Elues and Fairies in a Ring,\\nInchanting all that you put in.\\n\\nMusicke and a Song. Blacke Spirits, &c.\\n\\n  2 By the pricking of my Thumbes,\\nSomething wicked this way comes:\\nOpen Lockes, who euer knockes.\\nEnter Macbeth.\\n\\n  Macb. How now you secret, black, & midnight Hags?\\nWhat is't you do?\\n  All. A deed without a name\\n\\n   Macb. I coniure you, by that which you Professe,\\n(How ere you come to know it) answer me:\\nThough you vntye the Windes, and let them fight\\nAgainst the Churches: Though the yesty Waues\\nConfound and swallow Nauigation vp:\\nThough bladed Corne be lodg'd, & Trees blown downe,\\nThough Castles topple on their Warders heads:\\nThough Pallaces, and Pyramids do slope\\nTheir heads to their Foundations: Though the treasure\\nOf Natures Germaine, tumble altogether,\\nEuen till destruction sicken: Answer me\\nTo what I aske you\\n\\n   1 Speake\\n\\n   2 Demand\\n\\n   3 Wee'l answer\\n\\n   1 Say, if th'hadst rather heare it from our mouthes,\\nOr from our Masters\\n\\n   Macb. Call 'em: let me see 'em\\n\\n   1 Powre in Sowes blood, that hath eaten\\nHer nine Farrow: Greaze that's sweaten\\nFrom the Murderers Gibbet, throw\\nInto the Flame\\n\\n   All. Come high or low:\\nThy Selfe and Office deaftly show.\\nThunder. 1. Apparation, an Armed Head.\\n\\n  Macb. Tell me, thou vnknowne power\\n\\n   1 He knowes thy thought:\\nHeare his speech, but say thou nought\\n\\n   1 Appar. Macbeth, Macbeth, Macbeth:\\nBeware Macduffe,\\nBeware the Thane of Fife: dismisse me. Enough.\\n\\nHe Descends.\\n\\n  Macb. What ere thou art, for thy good caution, thanks\\nThou hast harp'd my feare aright. But one word more\\n\\n   1 He will not be commanded: heere's another\\nMore potent then the first.\\n\\nThunder. 2 Apparition, a Bloody Childe.\\n\\n  2 Appar. Macbeth, Macbeth, Macbeth\\n\\n   Macb. Had I three eares, Il'd heare thee\\n\\n   Appar. Be bloody, bold, & resolute:\\nLaugh to scorne\\nThe powre of man: For none of woman borne\\nShall harme Macbeth.\\n\\nDescends.\\n\\n  Mac. Then liue Macduffe: what need I feare of thee?\\nBut yet Ile make assurance: double sure,\\nAnd take a Bond of Fate: thou shalt not liue,\\nThat I may tell pale-hearted Feare, it lies;\\nAnd sleepe in spight of Thunder.\\n\\nThunder 3 Apparation, a Childe Crowned, with a Tree in his hand.\\n\\nWhat is this, that rises like the issue of a King,\\nAnd weares vpon his Baby-brow, the round\\nAnd top of Soueraignty?\\n  All. Listen, but speake not too't\\n\\n   3 Appar. Be Lyon metled, proud, and take no care:\\nWho chafes, who frets, or where Conspirers are:\\nMacbeth shall neuer vanquish'd be, vntill\\nGreat Byrnam Wood, to high Dunsmane Hill\\nShall come against him.\\n\\nDescend.\\n\\n  Macb. That will neuer bee:\\nWho can impresse the Forrest, bid the Tree\\nVnfixe his earth-bound Root? Sweet boadments, good:\\nRebellious dead, rise neuer till the Wood\\nOf Byrnan rise, and our high plac'd Macbeth\\nShall liue the Lease of Nature, pay his breath\\nTo time, and mortall Custome. Yet my Hart\\nThrobs to know one thing: Tell me, if your Art\\nCan tell so much: Shall Banquo's issue euer\\nReigne in this Kingdome?\\n  All. Seeke to know no more\\n\\n   Macb. I will be satisfied. Deny me this,\\nAnd an eternall Curse fall on you: Let me know.\\nWhy sinkes that Caldron? & what noise is this?\\n\\nHoboyes\\n\\n  1 Shew\\n\\n   2 Shew\\n\\n   3 Shew\\n\\n   All. Shew his Eyes, and greeue his Hart,\\nCome like shadowes, so depart.\\n\\nA shew of eight Kings, and Banquo last, with a glasse in his hand.\\n\\n  Macb. Thou art too like the Spirit of Banquo: Down:\\nThy Crowne do's seare mine Eye-bals. And thy haire\\nThou other Gold-bound-brow, is like the first:\\nA third, is like the former. Filthy Hagges,\\nWhy do you shew me this? - A fourth? Start eyes!\\nWhat will the Line stretch out to'th' cracke of Doome?\\nAnother yet? A seauenth? Ile see no more:\\nAnd yet the eighth appeares, who beares a glasse,\\nWhich shewes me many more: and some I see,\\nThat two-fold Balles, and trebble Scepters carry.\\nHorrible sight: Now I see 'tis true,\\nFor the Blood-bolter'd Banquo smiles vpon me,\\nAnd points at them for his. What? is this so?\\n  1 I Sir, all this is so. But why\\nStands Macbeth thus amazedly?\\nCome Sisters, cheere we vp his sprights,\\nAnd shew the best of our delights.\\nIle Charme the Ayre to giue a sound,\\nWhile you performe your Antique round:\\nThat this great King may kindly say,\\nOur duties, did his welcome pay.\\n\\nMusicke. The Witches Dance, and vanish.\\n\\n  Macb. Where are they? Gone?\\nLet this pernitious houre,\\nStand aye accursed in the Kalender.\\nCome in, without there.\\nEnter Lenox.\\n\\n  Lenox. What's your Graces will\\n\\n   Macb. Saw you the Weyard Sisters?\\n  Lenox. No my Lord\\n\\n   Macb. Came they not by you?\\n  Lenox. No indeed my Lord\\n\\n   Macb. Infected be the Ayre whereon they ride,\\nAnd damn'd all those that trust them. I did heare\\nThe gallopping of Horse. Who was't came by?\\n  Len. 'Tis two or three my Lord, that bring you word:\\nMacduff is fled to England\\n\\n   Macb. Fled to England?\\n  Len. I, my good Lord\\n\\n   Macb. Time, thou anticipat'st my dread exploits:\\nThe flighty purpose neuer is o're-tooke\\nVnlesse the deed go with it. From this moment,\\nThe very firstlings of my heart shall be\\nThe firstlings of my hand. And euen now\\nTo Crown my thoughts with Acts: be it thoght & done:\\nThe Castle of Macduff, I will surprize.\\nSeize vpon Fife; giue to th' edge o'th' Sword\\nHis Wife, his Babes, and all vnfortunate Soules\\nThat trace him in his Line. No boasting like a Foole,\\nThis deed Ile do, before this purpose coole,\\nBut no more sights. Where are these Gentlemen?\\nCome bring me where they are.\\n\\nExeunt.\\n\\nScena Secunda.\\n\\nEnter Macduffes Wife, her Son, and Rosse.\\n\\n  Wife. What had he done, to make him fly the Land?\\n  Rosse. You must haue patience Madam\\n\\n   Wife. He had none:\\nHis flight was madnesse: when our Actions do not,\\nOur feares do make vs Traitors\\n\\n   Rosse. You know not\\nWhether it was his wisedome, or his feare\\n\\n   Wife. Wisedom? to leaue his wife, to leaue his Babes,\\nHis Mansion, and his Titles, in a place\\nFrom whence himselfe do's flye? He loues vs not,\\nHe wants the naturall touch. For the poore Wren\\n(The most diminitiue of Birds) will fight,\\nHer yong ones in her Nest, against the Owle:\\nAll is the Feare, and nothing is the Loue;\\nAs little is the Wisedome, where the flight\\nSo runnes against all reason\\n\\n   Rosse. My deerest Cooz,\\nI pray you schoole your selfe. But for your Husband,\\nHe is Noble, Wise, Iudicious, and best knowes\\nThe fits o'th' Season. I dare not speake much further,\\nBut cruell are the times, when we are Traitors\\nAnd do not know our selues: when we hold Rumor\\nFrom what we feare, yet know not what we feare,\\nBut floate vpon a wilde and violent Sea\\nEach way, and moue. I take my leaue of you:\\nShall not be long but Ile be heere againe:\\nThings at the worst will cease, or else climbe vpward,\\nTo what they were before. My pretty Cosine,\\nBlessing vpon you\\n\\n   Wife. Father'd he is,\\nAnd yet hee's Father-lesse\\n\\n   Rosse. I am so much a Foole, should I stay longer\\nIt would be my disgrace, and your discomfort.\\nI take my leaue at once.\\n\\nExit Rosse.\\n\\n  Wife. Sirra, your Fathers dead,\\nAnd what will you do now? How will you liue?\\n  Son. As Birds do Mother\\n\\n   Wife. What with Wormes, and Flyes?\\n  Son. With what I get I meane, and so do they\\n\\n   Wife. Poore Bird,\\nThou'dst neuer Feare the Net, nor Lime,\\nThe Pitfall, nor the Gin\\n\\n   Son. Why should I Mother?\\nPoore Birds they are not set for:\\nMy Father is not dead for all your saying\\n\\n   Wife. Yes, he is dead:\\nHow wilt thou do for a Father?\\n  Son. Nay how will you do for a Husband?\\n  Wife. Why I can buy me twenty at any Market\\n\\n   Son. Then you'l by 'em to sell againe\\n\\n   Wife. Thou speak'st withall thy wit,\\nAnd yet I'faith with wit enough for thee\\n\\n   Son. Was my Father a Traitor, Mother?\\n  Wife. I, that he was\\n\\n   Son. What is a Traitor?\\n  Wife. Why one that sweares, and lyes\\n\\n   Son. And be all Traitors, that do so\\n\\n   Wife. Euery one that do's so, is a Traitor,\\nAnd must be hang'd\\n\\n   Son. And must they all be hang'd, that swear and lye?\\n  Wife. Euery one\\n\\n   Son. Who must hang them?\\n  Wife. Why, the honest men\\n\\n   Son. Then the Liars and Swearers are Fools: for there\\nare Lyars and Swearers enow, to beate the honest men,\\nand hang vp them\\n\\n   Wife. Now God helpe thee, poore Monkie:\\nBut how wilt thou do for a Father?\\n  Son. If he were dead, youl'd weepe for him: if you\\nwould not, it were a good signe, that I should quickely\\nhaue a new Father\\n\\n   Wife. Poore pratler, how thou talk'st?\\nEnter a Messenger.\\n\\n  Mes. Blesse you faire Dame: I am not to you known,\\nThough in your state of Honor I am perfect;\\nI doubt some danger do's approach you neerely.\\nIf you will take a homely mans aduice,\\nBe not found heere: Hence with your little ones\\nTo fright you thus. Me thinkes I am too sauage:\\nTo do worse to you, were fell Cruelty,\\nWhich is too nie your person. Heauen preserue you,\\nI dare abide no longer.\\n\\nExit Messenger\\n\\n  Wife. Whether should I flye?\\nI haue done no harme. But I remember now\\nI am in this earthly world: where to do harme\\nIs often laudable, to do good sometime\\nAccounted dangerous folly. Why then (alas)\\nDo I put vp that womanly defence,\\nTo say I haue done no harme?\\nWhat are these faces?\\nEnter Murtherers.\\n\\n  Mur. Where is your Husband?\\n  Wife. I hope in no place so vnsanctified,\\nWhere such as thou may'st finde him\\n\\n   Mur. He's a Traitor\\n\\n   Son. Thou ly'st thou shagge-ear'd Villaine\\n\\n   Mur. What you Egge?\\nYong fry of Treachery?\\n  Son. He ha's kill'd me Mother,\\nRun away I pray you.\\n\\nExit crying Murther.\\n\\n\\nScaena Tertia.\\n\\nEnter Malcolme and Macduffe.\\n\\n  Mal. Let vs seeke out some desolate shade, & there\\nWeepe our sad bosomes empty\\n\\n   Macd. Let vs rather\\nHold fast the mortall Sword: and like good men,\\nBestride our downfall Birthdome: each new Morne,\\nNew Widdowes howle, new Orphans cry, new sorowes\\nStrike heauen on the face, that it resounds\\nAs if it felt with Scotland, and yell'd out\\nLike Syllable of Dolour\\n\\n   Mal. What I beleeue, Ile waile;\\nWhat know, beleeue; and what I can redresse,\\nAs I shall finde the time to friend: I wil.\\nWhat you haue spoke, it may be so perchance.\\nThis Tyrant, whose sole name blisters our tongues,\\nWas once thought honest: you haue lou'd him well,\\nHe hath not touch'd you yet. I am yong, but something\\nYou may discerne of him through me, and wisedome\\nTo offer vp a weake, poore innocent Lambe\\nT' appease an angry God\\n\\n   Macd. I am not treacherous\\n\\n   Malc. But Macbeth is.\\nA good and vertuous Nature may recoyle\\nIn an Imperiall charge. But I shall craue your pardon:\\nThat which you are, my thoughts cannot transpose;\\nAngels are bright still, though the brightest fell.\\nThough all things foule, would wear the brows of grace\\nYet Grace must still looke so\\n\\n   Macd. I haue lost my Hopes\\n\\n   Malc. Perchance euen there\\nWhere I did finde my doubts.\\nWhy in that rawnesse left you Wife, and Childe?\\nThose precious Motiues, those strong knots of Loue,\\nWithout leaue-taking. I pray you,\\nLet not my Iealousies, be your Dishonors,\\nBut mine owne Safeties: you may be rightly iust,\\nWhat euer I shall thinke\\n\\n   Macd. Bleed, bleed poore Country,\\nGreat Tyrrany, lay thou thy basis sure,\\nFor goodnesse dare not check thee: wear y thy wrongs,\\nThe Title, is affear'd. Far thee well Lord,\\nI would not be the Villaine that thou think'st,\\nFor the whole Space that's in the Tyrants Graspe,\\nAnd the rich East to boot\\n\\n   Mal. Be not offended:\\nI speake not as in absolute feare of you:\\nI thinke our Country sinkes beneath the yoake,\\nIt weepes, it bleeds, and each new day a gash\\nIs added to her wounds. I thinke withall,\\nThere would be hands vplifted in my right:\\nAnd heere from gracious England haue I offer\\nOf goodly thousands. But for all this,\\nWhen I shall treade vpon the Tyrants head,\\nOr weare it on my Sword; yet my poore Country\\nShall haue more vices then it had before,\\nMore suffer, and more sundry wayes then euer,\\nBy him that shall succeede\\n\\n   Macd. What should he be?\\n  Mal. It is my selfe I meane: in whom I know\\nAll the particulars of Vice so grafted,\\nThat when they shall be open'd, blacke Macbeth\\nWill seeme as pure as Snow, and the poore State\\nEsteeme him as a Lambe, being compar'd\\nWith my confinelesse harmes\\n\\n   Macd. Not in the Legions\\nOf horrid Hell, can come a Diuell more damn'd\\nIn euils, to top Macbeth\\n\\n   Mal. I grant him Bloody,\\nLuxurious, Auaricious, False, Deceitfull,\\nSodaine, Malicious, smacking of euery sinne\\nThat ha's a name. But there's no bottome, none\\nIn my Voluptuousnesse: Your Wiues, your Daughters,\\nYour Matrons, and your Maides, could not fill vp\\nThe Cesterne of my Lust, and my Desire\\nAll continent Impediments would ore-beare\\nThat did oppose my will. Better Macbeth,\\nThen such an one to reigne\\n\\n   Macd. Boundlesse intemperance\\nIn Nature is a Tyranny: It hath beene\\nTh' vntimely emptying of the happy Throne,\\nAnd fall of many Kings. But feare not yet\\nTo take vpon you what is yours: you may\\nConuey your pleasures in a spacious plenty,\\nAnd yet seeme cold. The time you may so hoodwinke:\\nWe haue willing Dames enough: there cannot be\\nThat Vulture in you, to deuoure so many\\nAs will to Greatnesse dedicate themselues,\\nFinding it so inclinde\\n\\n   Mal. With this, there growes\\nIn my most ill-composd Affection, such\\nA stanchlesse Auarice, that were I King,\\nI should cut off the Nobles for their Lands,\\nDesire his Iewels, and this others House,\\nAnd my more-hauing, would be as a Sawce\\nTo make me hunger more, that I should forge\\nQuarrels vniust against the Good and Loyall,\\nDestroying them for wealth\\n\\n   Macd. This Auarice\\nstickes deeper: growes with more pernicious roote\\nThen Summer-seeming Lust: and it hath bin\\nThe Sword of our slaine Kings: yet do not feare,\\nScotland hath Foysons, to fill vp your will\\nOf your meere Owne. All these are portable,\\nWith other Graces weigh'd\\n\\n   Mal. But I haue none. The King-becoming Graces,\\nAs Iustice, Verity, Temp'rance, Stablenesse,\\nBounty, Perseuerance, Mercy, Lowlinesse,\\nDeuotion, Patience, Courage, Fortitude,\\nI haue no rellish of them, but abound\\nIn the diuision of each seuerall Crime,\\nActing it many wayes. Nay, had I powre, I should\\nPoure the sweet Milke of Concord, into Hell,\\nVprore the vniuersall peace, confound\\nAll vnity on earth\\n\\n   Macd. O Scotland, Scotland\\n\\n   Mal. If such a one be fit to gouerne, speake:\\nI am as I haue spoken\\n\\n   Mac. Fit to gouern? No not to liue. O Natio[n] miserable!\\nWith an vntitled Tyrant, bloody Sceptred,\\nWhen shalt thou see thy wholsome dayes againe?\\nSince that the truest Issue of thy Throne\\nBy his owne Interdiction stands accust,\\nAnd do's blaspheme his breed? Thy Royall Father\\nWas a most Sainted-King: the Queene that bore thee,\\nOftner vpon her knees, then on her feet,\\nDy'de euery day she liu'd. Fare thee well,\\nThese Euils thou repeat'st vpon thy selfe,\\nHath banish'd me from Scotland. O my Brest,\\nThy hope ends heere\\n\\n   Mal. Macduff, this Noble passion\\nChilde of integrity, hath from my soule\\nWip'd the blacke Scruples, reconcil'd my thoughts\\nTo thy good Truth, and Honor. Diuellish Macbeth,\\nBy many of these traines, hath sought to win me\\nInto his power: and modest Wisedome pluckes me\\nFrom ouer-credulous hast: but God aboue\\nDeale betweene thee and me; For euen now\\nI put my selfe to thy Direction, and\\nVnspeake mine owne detraction. Heere abiure\\nThe taints, and blames I laide vpon my selfe,\\nFor strangers to my Nature. I am yet\\nVnknowne to Woman, neuer was forsworne,\\nScarsely haue coueted what was mine owne.\\nAt no time broke my Faith, would not betray\\nThe Deuill to his Fellow, and delight\\nNo lesse in truth then life. My first false speaking\\nWas this vpon my selfe. What I am truly\\nIs thine, and my poore Countries to command:\\nWhither indeed, before they heere approach\\nOld Seyward with ten thousand warlike men\\nAlready at a point, was setting foorth:\\nNow wee'l together, and the chance of goodnesse\\nBe like our warranted Quarrell. Why are you silent?\\n  Macd. Such welcome, and vnwelcom things at once\\n'Tis hard to reconcile.\\nEnter a Doctor.\\n\\n  Mal. Well, more anon. Comes the King forth\\nI pray you?\\n  Doct. I Sir: there are a crew of wretched Soules\\nThat stay his Cure: their malady conuinces\\nThe great assay of Art. But at his touch,\\nSuch sanctity hath Heauen giuen his hand,\\nThey presently amend.\\nEnter.\\n\\n  Mal. I thanke you Doctor\\n\\n   Macd. What's the Disease he meanes?\\n  Mal. Tis call'd the Euill.\\nA most myraculous worke in this good King,\\nWhich often since my heere remaine in England,\\nI haue seene him do: How he solicites heauen\\nHimselfe best knowes: but strangely visited people\\nAll swolne and Vlcerous, pittifull to the eye,\\nThe meere dispaire of Surgery, he cures,\\nHanging a golden stampe about their neckes,\\nPut on with holy Prayers, and 'tis spoken\\nTo the succeeding Royalty he leaues\\nThe healing Benediction. With this strange vertue,\\nHe hath a heauenly guift of Prophesie,\\nAnd sundry Blessings hang about his Throne,\\nThat speake him full of Grace.\\nEnter Rosse.\\n\\n  Macd. See who comes heere\\n\\n   Malc. My Countryman: but yet I know him not\\n\\n   Macd. My euer gentle Cozen, welcome hither\\n\\n   Malc. I know him now. Good God betimes remoue\\nThe meanes that makes vs Strangers\\n\\n   Rosse. Sir, Amen\\n\\n   Macd. Stands Scotland where it did?\\n  Rosse. Alas poore Countrey,\\nAlmost affraid to know it selfe. It cannot\\nBe call'd our Mother, but our Graue; where nothing\\nBut who knowes nothing, is once seene to smile:\\nWhere sighes, and groanes, and shrieks that rent the ayre\\nAre made, not mark'd: Where violent sorrow seemes\\nA Moderne extasie: The Deadmans knell,\\nIs there scarse ask'd for who, and good mens liues\\nExpire before the Flowers in their Caps,\\nDying, or ere they sicken\\n\\n   Macd. Oh Relation; too nice, and yet too true\\n\\n   Malc. What's the newest griefe?\\n  Rosse. That of an houres age, doth hisse the speaker,\\nEach minute teemes a new one\\n\\n   Macd. How do's my Wife?\\n  Rosse. Why well\\n\\n   Macd. And all my Children?\\n  Rosse. Well too\\n\\n   Macd. The Tyrant ha's not batter'd at their peace?\\n  Rosse. No, they were wel at peace, when I did leaue 'em\\n  Macd. Be not a niggard of your speech: How gos't?\\n  Rosse. When I came hither to transport the Tydings\\nWhich I haue heauily borne, there ran a Rumour\\nOf many worthy Fellowes, that were out,\\nWhich was to my beleefe witnest the rather,\\nFor that I saw the Tyrants Power a-foot.\\nNow is the time of helpe: your eye in Scotland\\nWould create Soldiours, make our women fight,\\nTo doffe their dire distresses\\n\\n   Malc. Bee't their comfort\\nWe are comming thither: Gracious England hath\\nLent vs good Seyward, and ten thousand men,\\nAn older, and a better Souldier, none\\nThat Christendome giues out\\n\\n   Rosse. Would I could answer\\nThis comfort with the like. But I haue words\\nThat would be howl'd out in the desert ayre,\\nWhere hearing should not latch them\\n\\n   Macd. What concerne they,\\nThe generall cause, or is it a Fee-griefe\\nDue to some single brest?\\n  Rosse. No minde that's honest\\nBut in it shares some woe, though the maine part\\nPertaines to you alone\\n\\n   Macd. If it be mine\\nKeepe it not from me, quickly let me haue it\\n\\n   Rosse. Let not your eares dispise my tongue for euer,\\nWhich shall possesse them with the heauiest sound\\nthat euer yet they heard\\n\\n   Macd. Humh: I guesse at it\\n\\n   Rosse. Your Castle is surpriz'd: your Wife, and Babes\\nSauagely slaughter'd: To relate the manner\\nWere on the Quarry of these murther'd Deere\\nTo adde the death of you\\n\\n   Malc. Mercifull Heauen:\\nWhat man, ne're pull your hat vpon your browes:\\nGiue sorrow words; the griefe that do's not speake,\\nWhispers the o're-fraught heart, and bids it breake\\n\\n   Macd. My Children too?\\n  Ro. Wife, Children, Seruants, all that could be found\\n\\n   Macd. And I must be from thence? My wife kil'd too?\\n  Rosse. I haue said\\n\\n   Malc. Be comforted.\\nLet's make vs Med'cines of our great Reuenge,\\nTo cure this deadly greefe\\n\\n   Macd. He ha's no Children. All my pretty ones?\\nDid you say All? Oh Hell-Kite! All?\\nWhat, All my pretty Chickens, and their Damme\\nAt one fell swoope?\\n  Malc. Dispute it like a man\\n\\n   Macd. I shall do so:\\nBut I must also feele it as a man;\\nI cannot but remember such things were\\nThat were most precious to me: Did heauen looke on,\\nAnd would not take their part? Sinfull Macduff,\\nThey were all strooke for thee: Naught that I am,\\nNot for their owne demerits, but for mine\\nFell slaughter on their soules: Heauen rest them now\\n\\n   Mal. Be this the Whetstone of your sword, let griefe\\nConuert to anger: blunt not the heart, enrage it\\n\\n   Macd. O I could play the woman with mine eyes,\\nAnd Braggart with my tongue. But gentle Heauens,\\nCut short all intermission: Front to Front,\\nBring thou this Fiend of Scotland, and my selfe\\nWithin my Swords length set him, if he scape\\nHeauen forgiue him too\\n\\n   Mal. This time goes manly:\\nCome go we to the King, our Power is ready,\\nOur lacke is nothing but our leaue. Macbeth\\nIs ripe for shaking, and the Powres aboue\\nPut on their Instruments: Receiue what cheere you may,\\nThe Night is long, that neuer findes the Day.\\n\\nExeunt.\\n\\nActus Quintus. Scena Prima.\\n\\nEnter a Doctor of Physicke, and a Wayting Gentlewoman.\\n\\n  Doct. I haue too Nights watch'd with you, but can\\nperceiue no truth in your report. When was it shee last\\nwalk'd?\\n  Gent. Since his Maiesty went into the Field, I haue\\nseene her rise from her bed, throw her Night-Gown vppon\\nher, vnlocke her Closset, take foorth paper, folde it,\\nwrite vpon't, read it, afterwards Seale it, and againe returne\\nto bed; yet all this while in a most fast sleepe\\n\\n   Doct. A great perturbation in Nature, to receyue at\\nonce the benefit of sleep, and do the effects of watching.\\nIn this slumbry agitation, besides her walking, and other\\nactuall performances, what (at any time) haue you heard\\nher say?\\n  Gent. That Sir, which I will not report after her\\n\\n   Doct. You may to me, and 'tis most meet you should\\n\\n   Gent. Neither to you, nor any one, hauing no witnesse\\nto confirme my speech.\\nEnter Lady, with a Taper.\\n\\nLo you, heere she comes: This is her very guise, and vpon\\nmy life fast asleepe: obserue her, stand close\\n\\n   Doct. How came she by that light?\\n  Gent. Why it stood by her: she ha's light by her continually,\\n'tis her command\\n\\n   Doct. You see her eyes are open\\n\\n   Gent. I, but their sense are shut\\n\\n   Doct. What is it she do's now?\\nLooke how she rubbes her hands\\n\\n   Gent. It is an accustom'd action with her, to seeme\\nthus washing her hands: I haue knowne her continue in\\nthis a quarter of an houre\\n\\n   Lad. Yet heere's a spot\\n\\n   Doct. Heark, she speaks, I will set downe what comes\\nfrom her, to satisfie my remembrance the more strongly\\n\\n   La. Out damned spot: out I say. One: Two: Why\\nthen 'tis time to doo't: Hell is murky. Fye, my Lord, fie,\\na Souldier, and affear'd? what need we feare? who knowes\\nit, when none can call our powre to accompt: yet who\\nwould haue thought the olde man to haue had so much\\nblood in him\\n\\n   Doct. Do you marke that?\\n  Lad. The Thane of Fife, had a wife: where is she now?\\nWhat will these hands ne're be cleane? No more o'that\\nmy Lord, no more o'that: you marre all with this starting\\n\\n   Doct. Go too, go too:\\nYou haue knowne what you should not\\n\\n   Gent. She ha's spoke what shee should not, I am sure\\nof that: Heauen knowes what she ha's knowne\\n\\n   La. Heere's the smell of the blood still: all the perfumes\\nof Arabia will not sweeten this little hand.\\nOh, oh, oh\\n\\n   Doct. What a sigh is there? The hart is sorely charg'd\\n\\n   Gent. I would not haue such a heart in my bosome,\\nfor the dignity of the whole body\\n\\n   Doct. Well, well, well\\n\\n   Gent. Pray God it be sir\\n\\n   Doct. This disease is beyond my practise: yet I haue\\nknowne those which haue walkt in their sleep, who haue\\ndyed holily in their beds\\n\\n   Lad. Wash your hands, put on your Night-Gowne,\\nlooke not so pale: I tell you yet againe Banquo's buried;\\nhe cannot come out on's graue\\n\\n   Doct. Euen so?\\n  Lady. To bed, to bed: there's knocking at the gate:\\nCome, come, come, come, giue me your hand: What's\\ndone, cannot be vndone. To bed, to bed, to bed.\\n\\nExit Lady.\\n\\n  Doct. Will she go now to bed?\\n  Gent. Directly\\n\\n   Doct. Foule whisp'rings are abroad: vnnaturall deeds\\nDo breed vnnaturall troubles: infected mindes\\nTo their deafe pillowes will discharge their Secrets:\\nMore needs she the Diuine, then the Physitian:\\nGod, God forgiue vs all. Looke after her,\\nRemoue from her the meanes of all annoyance,\\nAnd still keepe eyes vpon her: So goodnight,\\nMy minde she ha's mated, and amaz'd my sight.\\nI thinke, but dare not speake\\n\\n   Gent. Good night good Doctor.\\n\\nExeunt.\\n\\n\\nScena Secunda.\\n\\nDrum and Colours. Enter Menteth, Cathnes, Angus, Lenox,\\nSoldiers.\\n\\n  Ment. The English powre is neere, led on by Malcolm,\\nHis Vnkle Seyward, and the good Macduff.\\nReuenges burne in them: for their deere causes\\nWould to the bleeding, and the grim Alarme\\nExcite the mortified man\\n\\n   Ang. Neere Byrnan wood\\nShall we well meet them, that way are they comming\\n\\n   Cath. Who knowes if Donalbane be with his brother?\\n  Len. For certaine Sir, he is not: I haue a File\\nOf all the Gentry; there is Seywards Sonne,\\nAnd many vnruffe youths, that euen now\\nProtest their first of Manhood\\n\\n   Ment. What do's the Tyrant\\n\\n   Cath. Great Dunsinane he strongly Fortifies:\\nSome say hee's mad: Others, that lesser hate him,\\nDo call it valiant Fury, but for certaine\\nHe cannot buckle his distemper'd cause\\nWithin the belt of Rule\\n\\n   Ang. Now do's he feele\\nHis secret Murthers sticking on his hands,\\nNow minutely Reuolts vpbraid his Faith-breach:\\nThose he commands, moue onely in command,\\nNothing in loue: Now do's he feele his Title\\nHang loose about him, like a Giants Robe\\nVpon a dwarfish Theefe\\n\\n   Ment. Who then shall blame\\nHis pester'd Senses to recoyle, and start,\\nWhen all that is within him, do's condemne\\nIt selfe, for being there\\n\\n   Cath. Well, march we on,\\nTo giue Obedience, where 'tis truly ow'd:\\nMeet we the Med'cine of the sickly Weale,\\nAnd with him poure we in our Countries purge,\\nEach drop of vs\\n\\n   Lenox. Or so much as it needes,\\nTo dew the Soueraigne Flower, and drowne the Weeds:\\nMake we our March towards Birnan.\\n\\nExeunt. marching.\\n\\n\\nScaena Tertia.\\n\\nEnter Macbeth, Doctor, and Attendants.\\n\\n  Macb. Bring me no more Reports, let them flye all:\\nTill Byrnane wood remoue to Dunsinane,\\nI cannot taint with Feare. What's the Boy Malcolme?\\nWas he not borne of woman? The Spirits that know\\nAll mortall Consequences, haue pronounc'd me thus:\\nFeare not Macbeth, no man that's borne of woman\\nShall ere haue power vpon thee. Then fly false Thanes,\\nAnd mingle with the English Epicures,\\nThe minde I sway by, and the heart I beare,\\nShall neuer sagge with doubt, nor shake with feare.\\nEnter Seruant.\\n\\nThe diuell damne thee blacke, thou cream-fac'd Loone:\\nWhere got'st thou that Goose-looke\\n\\n   Ser. There is ten thousand\\n\\n   Macb. Geese Villaine?\\n  Ser. Souldiers Sir\\n\\n   Macb. Go pricke thy face, and ouer-red thy feare\\nThou Lilly-liuer'd Boy. What Soldiers, Patch?\\nDeath of thy Soule, those Linnen cheekes of thine\\nAre Counsailers to feare. What Soldiers Whay-face?\\n  Ser. The English Force, so please you\\n\\n   Macb. Take thy face hence. Seyton, I am sick at hart,\\nWhen I behold: Seyton, I say, this push\\nWill cheere me euer, or dis-eate me now.\\nI haue liu'd long enough: my way of life\\nIs falne into the Seare, the yellow Leafe,\\nAnd that which should accompany Old-Age,\\nAs Honor, Loue, Obedience, Troopes of Friends,\\nI must not looke to haue: but in their steed,\\nCurses, not lowd but deepe, Mouth-honor, breath\\nWhich the poore heart would faine deny, and dare not.\\nSeyton?\\nEnter Seyton.\\n\\n  Sey. What's your gracious pleasure?\\n  Macb. What Newes more?\\n  Sey. All is confirm'd my Lord, which was reported\\n\\n   Macb. Ile fight, till from my bones, my flesh be hackt.\\nGiue me my Armor\\n\\n   Seyt. 'Tis not needed yet\\n\\n   Macb. Ile put it on:\\nSend out moe Horses, skirre the Country round,\\nHang those that talke of Feare. Giue me mine Armor:\\nHow do's your Patient, Doctor?\\n  Doct. Not so sicke my Lord,\\nAs she is troubled with thicke-comming Fancies\\nThat keepe her from her rest\\n\\n   Macb. Cure of that:\\nCan'st thou not Minister to a minde diseas'd,\\nPlucke from the Memory a rooted Sorrow,\\nRaze out the written troubles of the Braine,\\nAnd with some sweet Obliuious Antidote\\nCleanse the stufft bosome, of that perillous stuffe\\nWhich weighes vpon the heart?\\n  Doct. Therein the Patient\\nMust minister to himselfe\\n\\n   Macb. Throw Physicke to the Dogs, Ile none of it.\\nCome, put mine Armour on: giue me my Staffe:\\nSeyton, send out: Doctor, the Thanes flye from me:\\nCome sir, dispatch. If thou could'st Doctor, cast\\nThe Water of my Land, finde her Disease,\\nAnd purge it to a sound and pristine Health,\\nI would applaud thee to the very Eccho,\\nThat should applaud againe. Pull't off I say,\\nWhat Rubarb, Cyme, or what Purgatiue drugge\\nWould scowre these English hence: hear'st y of them?\\n  Doct. I my good Lord: your Royall Preparation\\nMakes vs heare something\\n\\n   Macb. Bring it after me:\\nI will not be affraid of Death and Bane,\\nTill Birnane Forrest come to Dunsinane\\n\\n   Doct. Were I from Dunsinane away, and cleere,\\nProfit againe should hardly draw me heere.\\n\\nExeunt.\\n\\nScena Quarta.\\n\\nDrum and Colours. Enter Malcolme, Seyward, Macduffe,\\nSeywards Sonne,\\nMenteth, Cathnes, Angus, and Soldiers Marching.\\n\\n  Malc. Cosins, I hope the dayes are neere at hand\\nThat Chambers will be safe\\n\\n   Ment. We doubt it nothing\\n\\n   Seyw. What wood is this before vs?\\n  Ment. The wood of Birnane\\n\\n   Malc. Let euery Souldier hew him downe a Bough,\\nAnd bear't before him, thereby shall we shadow\\nThe numbers of our Hoast, and make discouery\\nErre in report of vs\\n\\n   Sold. It shall be done\\n\\n   Syw. We learne no other, but the confident Tyrant\\nKeepes still in Dunsinane, and will indure\\nOur setting downe befor't\\n\\n   Malc. 'Tis his maine hope:\\nFor where there is aduantage to be giuen,\\nBoth more and lesse haue giuen him the Reuolt,\\nAnd none serue with him, but constrained things,\\nWhose hearts are absent too\\n\\n   Macd. Let our iust Censures\\nAttend the true euent, and put we on\\nIndustrious Souldiership\\n\\n   Sey. The time approaches,\\nThat will with due decision make vs know\\nWhat we shall say we haue, and what we owe:\\nThoughts speculatiue, their vnsure hopes relate,\\nBut certaine issue, stroakes must arbitrate,\\nTowards which, aduance the warre.\\n\\nExeunt. marching\\n\\nScena Quinta.\\n\\nEnter Macbeth, Seyton, & Souldiers, with Drum and Colours.\\n\\n  Macb. Hang out our Banners on the outward walls,\\nThe Cry is still, they come: our Castles strength\\nWill laugh a Siedge to scorne: Heere let them lye,\\nTill Famine and the Ague eate them vp:\\nWere they not forc'd with those that should be ours,\\nWe might haue met them darefull, beard to beard,\\nAnd beate them backward home. What is that noyse?\\n\\nA Cry within of Women.\\n\\n  Sey. It is the cry of women, my good Lord\\n\\n   Macb. I haue almost forgot the taste of Feares:\\nThe time ha's beene, my sences would haue cool'd\\nTo heare a Night-shrieke, and my Fell of haire\\nWould at a dismall Treatise rowze, and stirre\\nAs life were in't. I haue supt full with horrors,\\nDirenesse familiar to my slaughterous thoughts\\nCannot once start me. Wherefore was that cry?\\n  Sey. The Queene (my Lord) is dead\\n\\n   Macb. She should haue dy'de heereafter;\\nThere would haue beene a time for such a word:\\nTo morrow, and to morrow, and to morrow,\\nCreepes in this petty pace from day to day,\\nTo the last Syllable of Recorded time:\\nAnd all our yesterdayes, haue lighted Fooles\\nThe way to dusty death. Out, out, breefe Candle,\\nLife's but a walking Shadow, a poore Player,\\nThat struts and frets his houre vpon the Stage,\\nAnd then is heard no more. It is a Tale\\nTold by an Ideot, full of sound and fury\\nSignifying nothing.\\nEnter a Messenger.\\n\\nThou com'st to vse thy Tongue: thy Story quickly\\n\\n   Mes. Gracious my Lord,\\nI should report that which I say I saw,\\nBut know not how to doo't\\n\\n   Macb. Well, say sir\\n\\n   Mes. As I did stand my watch vpon the Hill\\nI look'd toward Byrnane, and anon me thought\\nThe Wood began to moue\\n\\n   Macb. Lyar, and Slaue\\n\\n   Mes. Let me endure your wrath, if't be not so:\\nWithin this three Mile may you see it comming.\\nI say, a mouing Groue\\n\\n   Macb. If thou speak'st false,\\nVpon the next Tree shall thou hang aliue\\nTill Famine cling thee: If thy speech be sooth,\\nI care not if thou dost for me as much.\\nI pull in Resolution, and begin\\nTo doubt th' Equiuocation of the Fiend,\\nThat lies like truth. Feare not, till Byrnane Wood\\nDo come to Dunsinane, and now a Wood\\nComes toward Dunsinane. Arme, Arme, and out,\\nIf this which he auouches, do's appeare,\\nThere is nor flying hence, nor tarrying here.\\nI 'ginne to be a-weary of the Sun,\\nAnd wish th' estate o'th' world were now vndon.\\nRing the Alarum Bell, blow Winde, come wracke,\\nAt least wee'l dye with Harnesse on our backe.\\n\\nExeunt.\\n\\nScena Sexta.\\n\\nDrumme and Colours. Enter Malcolme, Seyward, Macduffe, and\\ntheir Army,\\nwith Boughes.\\n\\n  Mal. Now neere enough:\\nYour leauy Skreenes throw downe,\\nAnd shew like those you are: You (worthy Vnkle)\\nShall with my Cosin your right Noble Sonne\\nLeade our first Battell. Worthy Macduffe, and wee\\nShall take vpon's what else remaines to do,\\nAccording to our order\\n\\n   Sey. Fare you well:\\nDo we but finde the Tyrants power to night,\\nLet vs be beaten, if we cannot fight\\n\\n   Macd. Make all our Trumpets speak, giue the[m] all breath\\nThose clamorous Harbingers of Blood, & Death.\\n\\nExeunt.\\n\\nAlarums continued.\\n\\n\\nScena Septima.\\n\\nEnter Macbeth.\\n\\n  Macb. They haue tied me to a stake, I cannot flye,\\nBut Beare-like I must fight the course. What's he\\nThat was not borne of Woman? Such a one\\nAm I to feare, or none.\\nEnter young Seyward.\\n\\n  Y.Sey. What is thy name?\\n  Macb. Thou'lt be affraid to heare it\\n\\n   Y.Sey. No: though thou call'st thy selfe a hoter name\\nThen any is in hell\\n\\n   Macb. My name's Macbeth\\n\\n   Y.Sey. The diuell himselfe could not pronounce a Title\\nMore hatefull to mine eare\\n\\n   Macb. No: nor more fearefull\\n\\n   Y.Sey. Thou lyest abhorred Tyrant, with my Sword\\nIle proue the lye thou speak'st.\\n\\nFight, and young Seyward slaine.\\n\\n  Macb. Thou was't borne of woman;\\nBut Swords I smile at, Weapons laugh to scorne,\\nBrandish'd by man that's of a Woman borne.\\nEnter.\\n\\nAlarums. Enter Macduffe.\\n\\n  Macd. That way the noise is: Tyrant shew thy face,\\nIf thou beest slaine, and with no stroake of mine,\\nMy Wife and Childrens Ghosts will haunt me still:\\nI cannot strike at wretched Kernes, whose armes\\nAre hyr'd to beare their Staues; either thou Macbeth,\\nOr else my Sword with an vnbattered edge\\nI sheath againe vndeeded. There thou should'st be,\\nBy this great clatter, one of greatest note\\nSeemes bruited. Let me finde him Fortune,\\nAnd more I begge not.\\n\\nExit. Alarums.\\n\\nEnter Malcolme and Seyward.\\n\\n  Sey. This way my Lord, the Castles gently rendred:\\nThe Tyrants people, on both sides do fight,\\nThe Noble Thanes do brauely in the Warre,\\nThe day almost it selfe professes yours,\\nAnd little is to do\\n\\n   Malc. We haue met with Foes\\nThat strike beside vs\\n\\n   Sey. Enter Sir, the Castle.\\n\\nExeunt. Alarum\\n\\nEnter Macbeth.\\n\\n  Macb. Why should I play the Roman Foole, and dye\\nOn mine owne sword? whiles I see liues, the gashes\\nDo better vpon them.\\nEnter Macduffe.\\n\\n  Macd. Turne Hell-hound, turne\\n\\n   Macb. Of all men else I haue auoyded thee:\\nBut get thee backe, my soule is too much charg'd\\nWith blood of thine already\\n\\n   Macd. I haue no words,\\nMy voice is in my Sword, thou bloodier Villaine\\nThen tearmes can giue thee out.\\n\\nFight: Alarum\\n\\n  Macb. Thou loosest labour\\nAs easie may'st thou the intrenchant Ayre\\nWith thy keene Sword impresse, as make me bleed:\\nLet fall thy blade on vulnerable Crests,\\nI beare a charmed Life, which must not yeeld\\nTo one of woman borne\\n\\n   Macd. Dispaire thy Charme,\\nAnd let the Angell whom thou still hast seru'd\\nTell thee, Macduffe was from his Mothers womb\\nVntimely ript\\n\\n   Macb. Accursed be that tongue that tels mee so;\\nFor it hath Cow'd my better part of man:\\nAnd be these Iugling Fiends no more beleeu'd,\\nThat palter with vs in a double sence,\\nThat keepe the word of promise to our eare,\\nAnd breake it to our hope. Ile not fight with thee\\n\\n   Macd. Then yeeld thee Coward,\\nAnd liue to be the shew, and gaze o'th' time.\\nWee'l haue thee, as our rarer Monsters are\\nPainted vpon a pole, and vnder-writ,\\nHeere may you see the Tyrant\\n\\n   Macb. I will not yeeld\\nTo kisse the ground before young Malcolmes feet,\\nAnd to be baited with the Rabbles curse.\\nThough Byrnane wood be come to Dunsinane,\\nAnd thou oppos'd, being of no woman borne,\\nYet I will try the last. Before my body,\\nI throw my warlike Shield: Lay on Macduffe,\\nAnd damn'd be him, that first cries hold, enough.\\n\\nExeunt. fighting. Alarums.\\n\\nEnter Fighting, and Macbeth slaine.\\n\\nRetreat, and Flourish. Enter with Drumme and Colours, Malcolm,\\nSeyward,\\nRosse, Thanes, & Soldiers.\\n\\n  Mal. I would the Friends we misse, were safe arriu'd\\n\\n   Sey. Some must go off: and yet by these I see,\\nSo great a day as this is cheapely bought\\n\\n   Mal. Macduffe is missing, and your Noble Sonne\\n\\n   Rosse. Your son my Lord, ha's paid a souldiers debt,\\nHe onely liu'd but till he was a man,\\nThe which no sooner had his Prowesse confirm'd\\nIn the vnshrinking station where he fought,\\nBut like a man he dy'de\\n\\n   Sey. Then he is dead?\\n  Rosse. I, and brought off the field: your cause of sorrow\\nMust not be measur'd by his worth, for then\\nIt hath no end\\n\\n   Sey. Had he his hurts before?\\n  Rosse. I, on the Front\\n\\n   Sey. Why then, Gods Soldier be he:\\nHad I as many Sonnes, as I haue haires,\\nI would not wish them to a fairer death:\\nAnd so his Knell is knoll'd\\n\\n   Mal. Hee's worth more sorrow,\\nand that Ile spend for him\\n\\n   Sey. He's worth no more,\\nThey say he parted well, and paid his score,\\nAnd so God be with him. Here comes newer comfort.\\nEnter Macduffe, with Macbeths head.\\n\\n  Macd. Haile King, for so thou art.\\nBehold where stands\\nTh' Vsurpers cursed head: the time is free:\\nI see thee compast with thy Kingdomes Pearle,\\nThat speake my salutation in their minds:\\nWhose voyces I desire alowd with mine.\\nHaile King of Scotland\\n\\n   All. Haile King of Scotland.\\n\\nFlourish.\\n\\n  Mal. We shall not spend a large expence of time,\\nBefore we reckon with your seuerall loues,\\nAnd make vs euen with you. My Thanes and Kinsmen\\nHenceforth be Earles, the first that euer Scotland\\nIn such an Honor nam'd: What's more to do,\\nWhich would be planted newly with the time,\\nAs calling home our exil'd Friends abroad,\\nThat fled the Snares of watchfull Tyranny,\\nProducing forth the cruell Ministers\\nOf this dead Butcher, and his Fiend-like Queene;\\nWho (as 'tis thought) by selfe and violent hands,\\nTooke off her life. This, and what need full else\\nThat call's vpon vs, by the Grace of Grace,\\nWe will performe in measure, time, and place:\\nSo thankes to all at once, and to each one,\\nWhom we inuite, to see vs Crown'd at Scone.\\n\\nFlourish. Exeunt Omnes.\\n\\n\\nFINIS. THE TRAGEDIE OF MACBETH.\\n\""
      ]
     },
     "execution_count": 39,
     "metadata": {},
     "output_type": "execute_result"
    }
   ],
   "source": [
    "seyhbir"
   ]
  },
  {
   "cell_type": "code",
   "execution_count": 40,
   "id": "f4151e4e-06f2-4dc5-bd73-4879f1661625",
   "metadata": {},
   "outputs": [],
   "source": [
    "seyh=nt.TextFrame(seyhbir)"
   ]
  },
  {
   "cell_type": "code",
   "execution_count": 41,
   "id": "3d82f0a1-0c38-4785-b86d-eb0c4b68920a",
   "metadata": {
    "collapsed": true,
    "jupyter": {
     "outputs_hidden": true
    }
   },
   "outputs": [
    {
     "name": "stdout",
     "output_type": "stream",
     "text": [
      "Key      Value          \n",
      "Length  : 100351         \n",
      "vowels  : 29039          \n",
      "consonants: 46278          \n",
      "stopwords: 7895           \n",
      "punctuations: 4789           \n",
      "special_char: 4789           \n",
      "tokens(whitespace): 17741          \n",
      "tokens(words): 18353          \n"
     ]
    }
   ],
   "source": [
    "seyh.describe()"
   ]
  },
  {
   "cell_type": "code",
   "execution_count": 42,
   "id": "e9659576-4c6a-4f66-a78e-dcbb16f09a03",
   "metadata": {},
   "outputs": [
    {
     "data": {
      "text/plain": [
       "{'automated readability': 13.40177050724963,\n",
       " 'description': '18-24 years (College student)'}"
      ]
     },
     "execution_count": 42,
     "metadata": {},
     "output_type": "execute_result"
    }
   ],
   "source": [
    "seyh.readability()"
   ]
  },
  {
   "cell_type": "code",
   "execution_count": 44,
   "id": "bec54ae2-5357-4aa4-a635-3325f6baee5c",
   "metadata": {},
   "outputs": [],
   "source": [
    "import seaborn as sns"
   ]
  },
  {
   "cell_type": "code",
   "execution_count": 45,
   "id": "9510dd9e-8a5b-4598-b9b8-98111e9e5dd1",
   "metadata": {},
   "outputs": [
    {
     "data": {
      "text/html": [
       "<div>\n",
       "<style scoped>\n",
       "    .dataframe tbody tr th:only-of-type {\n",
       "        vertical-align: middle;\n",
       "    }\n",
       "\n",
       "    .dataframe tbody tr th {\n",
       "        vertical-align: top;\n",
       "    }\n",
       "\n",
       "    .dataframe thead th {\n",
       "        text-align: right;\n",
       "    }\n",
       "</style>\n",
       "<table border=\"1\" class=\"dataframe\">\n",
       "  <thead>\n",
       "    <tr style=\"text-align: right;\">\n",
       "      <th></th>\n",
       "      <th>class</th>\n",
       "      <th>text</th>\n",
       "    </tr>\n",
       "  </thead>\n",
       "  <tbody>\n",
       "    <tr>\n",
       "      <th>2138</th>\n",
       "      <td>ham</td>\n",
       "      <td>K still are you loving me.</td>\n",
       "    </tr>\n",
       "  </tbody>\n",
       "</table>\n",
       "</div>"
      ],
      "text/plain": [
       "     class                        text\n",
       "2138   ham  K still are you loving me."
      ]
     },
     "execution_count": 45,
     "metadata": {},
     "output_type": "execute_result"
    }
   ],
   "source": [
    "df.sample()"
   ]
  },
  {
   "cell_type": "code",
   "execution_count": 52,
   "id": "ef83d38e-987c-41a6-8064-9934ce459343",
   "metadata": {
    "collapsed": true,
    "jupyter": {
     "outputs_hidden": true
    }
   },
   "outputs": [
    {
     "data": {
      "image/png": "[encoded data removed]",
      "text/plain": [
       "<Figure size 640x480 with 1 Axes>"
      ]
     },
     "metadata": {},
     "output_type": "display_data"
    }
   ],
   "source": [
    "sns.countplot(x=df['class'],hue=df['class']);"
   ]
  },
  {
   "cell_type": "code",
   "execution_count": 53,
   "id": "52e1cb90-4ec0-4cc3-9cac-3462ff519593",
   "metadata": {},
   "outputs": [],
   "source": [
    "#imbalanced dataset"
   ]
  },
  {
   "cell_type": "code",
   "execution_count": 54,
   "id": "6008b81e-eefa-412a-9ce3-b105d70009f4",
   "metadata": {},
   "outputs": [
    {
     "data": {
      "text/plain": [
       "class\n",
       "ham     4825\n",
       "spam     747\n",
       "Name: count, dtype: int64"
      ]
     },
     "execution_count": 54,
     "metadata": {},
     "output_type": "execute_result"
    }
   ],
   "source": [
    "df['class'].value_counts()"
   ]
  },
  {
   "cell_type": "code",
   "execution_count": 55,
   "id": "ebb7a8d1-629d-4157-9913-a3f4ff440be7",
   "metadata": {},
   "outputs": [],
   "source": [
    "#from imblearn.over_sampling import SMOTE\n",
    "#x,y=SMOTE().fiit_resample(x,y)"
   ]
  },
  {
   "cell_type": "code",
   "execution_count": 65,
   "id": "168e2ad2-4601-4219-a692-e83c5f96225f",
   "metadata": {},
   "outputs": [
    {
     "name": "stderr",
     "output_type": "stream",
     "text": [
      "<>:1: SyntaxWarning: invalid escape sequence '\\w'\n",
      "<>:1: SyntaxWarning: invalid escape sequence '\\w'\n",
      "C:\\Users\\akbab\\AppData\\Local\\Temp\\ipykernel_15220\\2521687621.py:1: SyntaxWarning: invalid escape sequence '\\w'\n",
      "  \"\"\"def temzileme(df)\n"
     ]
    }
   ],
   "source": [
    "\"\"\"def temzileme(df)\n",
    "    df['text']=df['text'].str.lower()\n",
    "    df['text']=df['text'].str.replace('[^\\w\\s]','',regex=True)\n",
    "    df['text']=df['text'].str.replace('\\d+','',regex=True)\n",
    "    df['text']=df['text'].str.replace('\\n','',regex=True)\n",
    "    df['text']=df['text'].str.replace('\\r','',regex=True)\n",
    "    return  df\"\"\" ;"
   ]
  },
  {
   "cell_type": "code",
   "execution_count": 66,
   "id": "d1a977a1-183e-4d65-8a17-28452e33766a",
   "metadata": {
    "collapsed": true,
    "jupyter": {
     "outputs_hidden": true
    }
   },
   "outputs": [
    {
     "name": "stderr",
     "output_type": "stream",
     "text": [
      "<>:2: SyntaxWarning: invalid escape sequence '\\w'\n",
      "<>:3: SyntaxWarning: invalid escape sequence '\\d'\n",
      "<>:2: SyntaxWarning: invalid escape sequence '\\w'\n",
      "<>:3: SyntaxWarning: invalid escape sequence '\\d'\n",
      "C:\\Users\\akbab\\AppData\\Local\\Temp\\ipykernel_15220\\3288080637.py:2: SyntaxWarning: invalid escape sequence '\\w'\n",
      "  df['text']=df['text'].str.replace('[^\\w\\s]','',regex=True)\n",
      "C:\\Users\\akbab\\AppData\\Local\\Temp\\ipykernel_15220\\3288080637.py:3: SyntaxWarning: invalid escape sequence '\\d'\n",
      "  df['text']=df['text'].str.replace('\\d+','',regex=True)\n"
     ]
    }
   ],
   "source": [
    "df['text']=df['text'].str.lower()\n",
    "df['text']=df['text'].str.replace('[^\\w\\s]','',regex=True)\n",
    "df['text']=df['text'].str.replace('\\d+','',regex=True)\n",
    "df['text']=df['text'].str.replace('\\n','',regex=True)  \n",
    "df['text']=df['text'].str.replace('\\r','',regex=True)"
   ]
  },
  {
   "cell_type": "code",
   "execution_count": 60,
   "id": "aab9d744-b110-4e00-a3b2-c6cac574490b",
   "metadata": {
    "collapsed": true,
    "jupyter": {
     "outputs_hidden": true
    }
   },
   "outputs": [
    {
     "data": {
      "text/html": [
       "<div>\n",
       "<style scoped>\n",
       "    .dataframe tbody tr th:only-of-type {\n",
       "        vertical-align: middle;\n",
       "    }\n",
       "\n",
       "    .dataframe tbody tr th {\n",
       "        vertical-align: top;\n",
       "    }\n",
       "\n",
       "    .dataframe thead th {\n",
       "        text-align: right;\n",
       "    }\n",
       "</style>\n",
       "<table border=\"1\" class=\"dataframe\">\n",
       "  <thead>\n",
       "    <tr style=\"text-align: right;\">\n",
       "      <th></th>\n",
       "      <th>class</th>\n",
       "      <th>text</th>\n",
       "    </tr>\n",
       "  </thead>\n",
       "  <tbody>\n",
       "    <tr>\n",
       "      <th>0</th>\n",
       "      <td>ham</td>\n",
       "      <td>go until jurong point crazy available only in ...</td>\n",
       "    </tr>\n",
       "    <tr>\n",
       "      <th>1</th>\n",
       "      <td>ham</td>\n",
       "      <td>ok lar joking wif u oni</td>\n",
       "    </tr>\n",
       "    <tr>\n",
       "      <th>2</th>\n",
       "      <td>spam</td>\n",
       "      <td>free entry in  a wkly comp to win fa cup final...</td>\n",
       "    </tr>\n",
       "    <tr>\n",
       "      <th>3</th>\n",
       "      <td>ham</td>\n",
       "      <td>u dun say so early hor u c already then say</td>\n",
       "    </tr>\n",
       "    <tr>\n",
       "      <th>4</th>\n",
       "      <td>ham</td>\n",
       "      <td>nah i dont think he goes to usf he lives aroun...</td>\n",
       "    </tr>\n",
       "  </tbody>\n",
       "</table>\n",
       "</div>"
      ],
      "text/plain": [
       "  class                                               text\n",
       "0   ham  go until jurong point crazy available only in ...\n",
       "1   ham                            ok lar joking wif u oni\n",
       "2  spam  free entry in  a wkly comp to win fa cup final...\n",
       "3   ham        u dun say so early hor u c already then say\n",
       "4   ham  nah i dont think he goes to usf he lives aroun..."
      ]
     },
     "execution_count": 60,
     "metadata": {},
     "output_type": "execute_result"
    }
   ],
   "source": [
    "df.head()"
   ]
  },
  {
   "cell_type": "code",
   "execution_count": 75,
   "id": "ac388e57-9356-4797-b7d0-e9e46e372bc4",
   "metadata": {},
   "outputs": [],
   "source": [
    "x=df['text']\n",
    "y=df['class']"
   ]
  },
  {
   "cell_type": "code",
   "execution_count": 68,
   "id": "8bc776dd-9e3f-46c0-b669-9455fd1895a0",
   "metadata": {},
   "outputs": [],
   "source": [
    "from sklearn.feature_extraction.text import CountVectorizer, TfidfVectorizer"
   ]
  },
  {
   "cell_type": "code",
   "execution_count": 70,
   "id": "eef9dbca-8689-4b58-a18f-bbf6111cd461",
   "metadata": {},
   "outputs": [],
   "source": [
    "from sklearn.ensemble import RandomForestClassifier"
   ]
  },
  {
   "cell_type": "code",
   "execution_count": 69,
   "id": "bc729be6-5bc3-4722-8e13-54509ac2167e",
   "metadata": {},
   "outputs": [],
   "source": [
    "from sklearn.pipeline import Pipeline"
   ]
  },
  {
   "cell_type": "code",
   "execution_count": 73,
   "id": "3216c79f-e1b1-41f0-8905-7145e2e1d2b2",
   "metadata": {},
   "outputs": [],
   "source": [
    "clf=Pipeline([('tfidf', TfidfVectorizer()),('classifier',RandomForestClassifier())])\n"
   ]
  },
  {
   "cell_type": "code",
   "execution_count": 74,
   "id": "96cf2519-a5f8-42ad-a59c-72faac93b86f",
   "metadata": {},
   "outputs": [],
   "source": [
    "from sklearn.model_selection import train_test_split"
   ]
  },
  {
   "cell_type": "code",
   "execution_count": 76,
   "id": "3604d5b8-88ea-4d9a-8c2a-acd1eaf35873",
   "metadata": {},
   "outputs": [],
   "source": [
    "x_train,x_test,y_train,y_test=train_test_split(x,y,test_size=.20,random_state=42)"
   ]
  },
  {
   "cell_type": "code",
   "execution_count": 77,
   "id": "ccbad146-07cf-4da8-aa87-6809f9f99e03",
   "metadata": {},
   "outputs": [
    {
     "data": {
      "text/html": [
       "<style>#sk-container-id-1 {\n",
       "  /* Definition of color scheme common for light and dark mode */\n",
       "  --sklearn-color-text: black;\n",
       "  --sklearn-color-line: gray;\n",
       "  /* Definition of color scheme for unfitted estimators */\n",
       "  --sklearn-color-unfitted-level-0: #fff5e6;\n",
       "  --sklearn-color-unfitted-level-1: #f6e4d2;\n",
       "  --sklearn-color-unfitted-level-2: #ffe0b3;\n",
       "  --sklearn-color-unfitted-level-3: chocolate;\n",
       "  /* Definition of color scheme for fitted estimators */\n",
       "  --sklearn-color-fitted-level-0: #f0f8ff;\n",
       "  --sklearn-color-fitted-level-1: #d4ebff;\n",
       "  --sklearn-color-fitted-level-2: #b3dbfd;\n",
       "  --sklearn-color-fitted-level-3: cornflowerblue;\n",
       "\n",
       "  /* Specific color for light theme */\n",
       "  --sklearn-color-text-on-default-background: var(--sg-text-color, var(--theme-code-foreground, var(--jp-content-font-color1, black)));\n",
       "  --sklearn-color-background: var(--sg-background-color, var(--theme-background, var(--jp-layout-color0, white)));\n",
       "  --sklearn-color-border-box: var(--sg-text-color, var(--theme-code-foreground, var(--jp-content-font-color1, black)));\n",
       "  --sklearn-color-icon: #696969;\n",
       "\n",
       "  @media (prefers-color-scheme: dark) {\n",
       "    /* Redefinition of color scheme for dark theme */\n",
       "    --sklearn-color-text-on-default-background: var(--sg-text-color, var(--theme-code-foreground, var(--jp-content-font-color1, white)));\n",
       "    --sklearn-color-background: var(--sg-background-color, var(--theme-background, var(--jp-layout-color0, #111)));\n",
       "    --sklearn-color-border-box: var(--sg-text-color, var(--theme-code-foreground, var(--jp-content-font-color1, white)));\n",
       "    --sklearn-color-icon: #878787;\n",
       "  }\n",
       "}\n",
       "\n",
       "#sk-container-id-1 {\n",
       "  color: var(--sklearn-color-text);\n",
       "}\n",
       "\n",
       "#sk-container-id-1 pre {\n",
       "  padding: 0;\n",
       "}\n",
       "\n",
       "#sk-container-id-1 input.sk-hidden--visually {\n",
       "  border: 0;\n",
       "  clip: rect(1px 1px 1px 1px);\n",
       "  clip: rect(1px, 1px, 1px, 1px);\n",
       "  height: 1px;\n",
       "  margin: -1px;\n",
       "  overflow: hidden;\n",
       "  padding: 0;\n",
       "  position: absolute;\n",
       "  width: 1px;\n",
       "}\n",
       "\n",
       "#sk-container-id-1 div.sk-dashed-wrapped {\n",
       "  border: 1px dashed var(--sklearn-color-line);\n",
       "  margin: 0 0.4em 0.5em 0.4em;\n",
       "  box-sizing: border-box;\n",
       "  padding-bottom: 0.4em;\n",
       "  background-color: var(--sklearn-color-background);\n",
       "}\n",
       "\n",
       "#sk-container-id-1 div.sk-container {\n",
       "  /* jupyter's `normalize.less` sets `[hidden] { display: none; }`\n",
       "     but bootstrap.min.css set `[hidden] { display: none !important; }`\n",
       "     so we also need the `!important` here to be able to override the\n",
       "     default hidden behavior on the sphinx rendered scikit-learn.org.\n",
       "     See: https://github.com/scikit-learn/scikit-learn/issues/21755 */\n",
       "  display: inline-block !important;\n",
       "  position: relative;\n",
       "}\n",
       "\n",
       "#sk-container-id-1 div.sk-text-repr-fallback {\n",
       "  display: none;\n",
       "}\n",
       "\n",
       "div.sk-parallel-item,\n",
       "div.sk-serial,\n",
       "div.sk-item {\n",
       "  /* draw centered vertical line to link estimators */\n",
       "  background-image: linear-gradient(var(--sklearn-color-text-on-default-background), var(--sklearn-color-text-on-default-background));\n",
       "  background-size: 2px 100%;\n",
       "  background-repeat: no-repeat;\n",
       "  background-position: center center;\n",
       "}\n",
       "\n",
       "/* Parallel-specific style estimator block */\n",
       "\n",
       "#sk-container-id-1 div.sk-parallel-item::after {\n",
       "  content: \"\";\n",
       "  width: 100%;\n",
       "  border-bottom: 2px solid var(--sklearn-color-text-on-default-background);\n",
       "  flex-grow: 1;\n",
       "}\n",
       "\n",
       "#sk-container-id-1 div.sk-parallel {\n",
       "  display: flex;\n",
       "  align-items: stretch;\n",
       "  justify-content: center;\n",
       "  background-color: var(--sklearn-color-background);\n",
       "  position: relative;\n",
       "}\n",
       "\n",
       "#sk-container-id-1 div.sk-parallel-item {\n",
       "  display: flex;\n",
       "  flex-direction: column;\n",
       "}\n",
       "\n",
       "#sk-container-id-1 div.sk-parallel-item:first-child::after {\n",
       "  align-self: flex-end;\n",
       "  width: 50%;\n",
       "}\n",
       "\n",
       "#sk-container-id-1 div.sk-parallel-item:last-child::after {\n",
       "  align-self: flex-start;\n",
       "  width: 50%;\n",
       "}\n",
       "\n",
       "#sk-container-id-1 div.sk-parallel-item:only-child::after {\n",
       "  width: 0;\n",
       "}\n",
       "\n",
       "/* Serial-specific style estimator block */\n",
       "\n",
       "#sk-container-id-1 div.sk-serial {\n",
       "  display: flex;\n",
       "  flex-direction: column;\n",
       "  align-items: center;\n",
       "  background-color: var(--sklearn-color-background);\n",
       "  padding-right: 1em;\n",
       "  padding-left: 1em;\n",
       "}\n",
       "\n",
       "\n",
       "/* Toggleable style: style used for estimator/Pipeline/ColumnTransformer box that is\n",
       "clickable and can be expanded/collapsed.\n",
       "- Pipeline and ColumnTransformer use this feature and define the default style\n",
       "- Estimators will overwrite some part of the style using the `sk-estimator` class\n",
       "*/\n",
       "\n",
       "/* Pipeline and ColumnTransformer style (default) */\n",
       "\n",
       "#sk-container-id-1 div.sk-toggleable {\n",
       "  /* Default theme specific background. It is overwritten whether we have a\n",
       "  specific estimator or a Pipeline/ColumnTransformer */\n",
       "  background-color: var(--sklearn-color-background);\n",
       "}\n",
       "\n",
       "/* Toggleable label */\n",
       "#sk-container-id-1 label.sk-toggleable__label {\n",
       "  cursor: pointer;\n",
       "  display: block;\n",
       "  width: 100%;\n",
       "  margin-bottom: 0;\n",
       "  padding: 0.5em;\n",
       "  box-sizing: border-box;\n",
       "  text-align: center;\n",
       "}\n",
       "\n",
       "#sk-container-id-1 label.sk-toggleable__label-arrow:before {\n",
       "  /* Arrow on the left of the label */\n",
       "  content: \"▸\";\n",
       "  float: left;\n",
       "  margin-right: 0.25em;\n",
       "  color: var(--sklearn-color-icon);\n",
       "}\n",
       "\n",
       "#sk-container-id-1 label.sk-toggleable__label-arrow:hover:before {\n",
       "  color: var(--sklearn-color-text);\n",
       "}\n",
       "\n",
       "/* Toggleable content - dropdown */\n",
       "\n",
       "#sk-container-id-1 div.sk-toggleable__content {\n",
       "  max-height: 0;\n",
       "  max-width: 0;\n",
       "  overflow: hidden;\n",
       "  text-align: left;\n",
       "  /* unfitted */\n",
       "  background-color: var(--sklearn-color-unfitted-level-0);\n",
       "}\n",
       "\n",
       "#sk-container-id-1 div.sk-toggleable__content.fitted {\n",
       "  /* fitted */\n",
       "  background-color: var(--sklearn-color-fitted-level-0);\n",
       "}\n",
       "\n",
       "#sk-container-id-1 div.sk-toggleable__content pre {\n",
       "  margin: 0.2em;\n",
       "  border-radius: 0.25em;\n",
       "  color: var(--sklearn-color-text);\n",
       "  /* unfitted */\n",
       "  background-color: var(--sklearn-color-unfitted-level-0);\n",
       "}\n",
       "\n",
       "#sk-container-id-1 div.sk-toggleable__content.fitted pre {\n",
       "  /* unfitted */\n",
       "  background-color: var(--sklearn-color-fitted-level-0);\n",
       "}\n",
       "\n",
       "#sk-container-id-1 input.sk-toggleable__control:checked~div.sk-toggleable__content {\n",
       "  /* Expand drop-down */\n",
       "  max-height: 200px;\n",
       "  max-width: 100%;\n",
       "  overflow: auto;\n",
       "}\n",
       "\n",
       "#sk-container-id-1 input.sk-toggleable__control:checked~label.sk-toggleable__label-arrow:before {\n",
       "  content: \"▾\";\n",
       "}\n",
       "\n",
       "/* Pipeline/ColumnTransformer-specific style */\n",
       "\n",
       "#sk-container-id-1 div.sk-label input.sk-toggleable__control:checked~label.sk-toggleable__label {\n",
       "  color: var(--sklearn-color-text);\n",
       "  background-color: var(--sklearn-color-unfitted-level-2);\n",
       "}\n",
       "\n",
       "#sk-container-id-1 div.sk-label.fitted input.sk-toggleable__control:checked~label.sk-toggleable__label {\n",
       "  background-color: var(--sklearn-color-fitted-level-2);\n",
       "}\n",
       "\n",
       "/* Estimator-specific style */\n",
       "\n",
       "/* Colorize estimator box */\n",
       "#sk-container-id-1 div.sk-estimator input.sk-toggleable__control:checked~label.sk-toggleable__label {\n",
       "  /* unfitted */\n",
       "  background-color: var(--sklearn-color-unfitted-level-2);\n",
       "}\n",
       "\n",
       "#sk-container-id-1 div.sk-estimator.fitted input.sk-toggleable__control:checked~label.sk-toggleable__label {\n",
       "  /* fitted */\n",
       "  background-color: var(--sklearn-color-fitted-level-2);\n",
       "}\n",
       "\n",
       "#sk-container-id-1 div.sk-label label.sk-toggleable__label,\n",
       "#sk-container-id-1 div.sk-label label {\n",
       "  /* The background is the default theme color */\n",
       "  color: var(--sklearn-color-text-on-default-background);\n",
       "}\n",
       "\n",
       "/* On hover, darken the color of the background */\n",
       "#sk-container-id-1 div.sk-label:hover label.sk-toggleable__label {\n",
       "  color: var(--sklearn-color-text);\n",
       "  background-color: var(--sklearn-color-unfitted-level-2);\n",
       "}\n",
       "\n",
       "/* Label box, darken color on hover, fitted */\n",
       "#sk-container-id-1 div.sk-label.fitted:hover label.sk-toggleable__label.fitted {\n",
       "  color: var(--sklearn-color-text);\n",
       "  background-color: var(--sklearn-color-fitted-level-2);\n",
       "}\n",
       "\n",
       "/* Estimator label */\n",
       "\n",
       "#sk-container-id-1 div.sk-label label {\n",
       "  font-family: monospace;\n",
       "  font-weight: bold;\n",
       "  display: inline-block;\n",
       "  line-height: 1.2em;\n",
       "}\n",
       "\n",
       "#sk-container-id-1 div.sk-label-container {\n",
       "  text-align: center;\n",
       "}\n",
       "\n",
       "/* Estimator-specific */\n",
       "#sk-container-id-1 div.sk-estimator {\n",
       "  font-family: monospace;\n",
       "  border: 1px dotted var(--sklearn-color-border-box);\n",
       "  border-radius: 0.25em;\n",
       "  box-sizing: border-box;\n",
       "  margin-bottom: 0.5em;\n",
       "  /* unfitted */\n",
       "  background-color: var(--sklearn-color-unfitted-level-0);\n",
       "}\n",
       "\n",
       "#sk-container-id-1 div.sk-estimator.fitted {\n",
       "  /* fitted */\n",
       "  background-color: var(--sklearn-color-fitted-level-0);\n",
       "}\n",
       "\n",
       "/* on hover */\n",
       "#sk-container-id-1 div.sk-estimator:hover {\n",
       "  /* unfitted */\n",
       "  background-color: var(--sklearn-color-unfitted-level-2);\n",
       "}\n",
       "\n",
       "#sk-container-id-1 div.sk-estimator.fitted:hover {\n",
       "  /* fitted */\n",
       "  background-color: var(--sklearn-color-fitted-level-2);\n",
       "}\n",
       "\n",
       "/* Specification for estimator info (e.g. \"i\" and \"?\") */\n",
       "\n",
       "/* Common style for \"i\" and \"?\" */\n",
       "\n",
       ".sk-estimator-doc-link,\n",
       "a:link.sk-estimator-doc-link,\n",
       "a:visited.sk-estimator-doc-link {\n",
       "  float: right;\n",
       "  font-size: smaller;\n",
       "  line-height: 1em;\n",
       "  font-family: monospace;\n",
       "  background-color: var(--sklearn-color-background);\n",
       "  border-radius: 1em;\n",
       "  height: 1em;\n",
       "  width: 1em;\n",
       "  text-decoration: none !important;\n",
       "  margin-left: 1ex;\n",
       "  /* unfitted */\n",
       "  border: var(--sklearn-color-unfitted-level-1) 1pt solid;\n",
       "  color: var(--sklearn-color-unfitted-level-1);\n",
       "}\n",
       "\n",
       ".sk-estimator-doc-link.fitted,\n",
       "a:link.sk-estimator-doc-link.fitted,\n",
       "a:visited.sk-estimator-doc-link.fitted {\n",
       "  /* fitted */\n",
       "  border: var(--sklearn-color-fitted-level-1) 1pt solid;\n",
       "  color: var(--sklearn-color-fitted-level-1);\n",
       "}\n",
       "\n",
       "/* On hover */\n",
       "div.sk-estimator:hover .sk-estimator-doc-link:hover,\n",
       ".sk-estimator-doc-link:hover,\n",
       "div.sk-label-container:hover .sk-estimator-doc-link:hover,\n",
       ".sk-estimator-doc-link:hover {\n",
       "  /* unfitted */\n",
       "  background-color: var(--sklearn-color-unfitted-level-3);\n",
       "  color: var(--sklearn-color-background);\n",
       "  text-decoration: none;\n",
       "}\n",
       "\n",
       "div.sk-estimator.fitted:hover .sk-estimator-doc-link.fitted:hover,\n",
       ".sk-estimator-doc-link.fitted:hover,\n",
       "div.sk-label-container:hover .sk-estimator-doc-link.fitted:hover,\n",
       ".sk-estimator-doc-link.fitted:hover {\n",
       "  /* fitted */\n",
       "  background-color: var(--sklearn-color-fitted-level-3);\n",
       "  color: var(--sklearn-color-background);\n",
       "  text-decoration: none;\n",
       "}\n",
       "\n",
       "/* Span, style for the box shown on hovering the info icon */\n",
       ".sk-estimator-doc-link span {\n",
       "  display: none;\n",
       "  z-index: 9999;\n",
       "  position: relative;\n",
       "  font-weight: normal;\n",
       "  right: .2ex;\n",
       "  padding: .5ex;\n",
       "  margin: .5ex;\n",
       "  width: min-content;\n",
       "  min-width: 20ex;\n",
       "  max-width: 50ex;\n",
       "  color: var(--sklearn-color-text);\n",
       "  box-shadow: 2pt 2pt 4pt #999;\n",
       "  /* unfitted */\n",
       "  background: var(--sklearn-color-unfitted-level-0);\n",
       "  border: .5pt solid var(--sklearn-color-unfitted-level-3);\n",
       "}\n",
       "\n",
       ".sk-estimator-doc-link.fitted span {\n",
       "  /* fitted */\n",
       "  background: var(--sklearn-color-fitted-level-0);\n",
       "  border: var(--sklearn-color-fitted-level-3);\n",
       "}\n",
       "\n",
       ".sk-estimator-doc-link:hover span {\n",
       "  display: block;\n",
       "}\n",
       "\n",
       "/* \"?\"-specific style due to the `<a>` HTML tag */\n",
       "\n",
       "#sk-container-id-1 a.estimator_doc_link {\n",
       "  float: right;\n",
       "  font-size: 1rem;\n",
       "  line-height: 1em;\n",
       "  font-family: monospace;\n",
       "  background-color: var(--sklearn-color-background);\n",
       "  border-radius: 1rem;\n",
       "  height: 1rem;\n",
       "  width: 1rem;\n",
       "  text-decoration: none;\n",
       "  /* unfitted */\n",
       "  color: var(--sklearn-color-unfitted-level-1);\n",
       "  border: var(--sklearn-color-unfitted-level-1) 1pt solid;\n",
       "}\n",
       "\n",
       "#sk-container-id-1 a.estimator_doc_link.fitted {\n",
       "  /* fitted */\n",
       "  border: var(--sklearn-color-fitted-level-1) 1pt solid;\n",
       "  color: var(--sklearn-color-fitted-level-1);\n",
       "}\n",
       "\n",
       "/* On hover */\n",
       "#sk-container-id-1 a.estimator_doc_link:hover {\n",
       "  /* unfitted */\n",
       "  background-color: var(--sklearn-color-unfitted-level-3);\n",
       "  color: var(--sklearn-color-background);\n",
       "  text-decoration: none;\n",
       "}\n",
       "\n",
       "#sk-container-id-1 a.estimator_doc_link.fitted:hover {\n",
       "  /* fitted */\n",
       "  background-color: var(--sklearn-color-fitted-level-3);\n",
       "}\n",
       "</style><div id=\"sk-container-id-1\" class=\"sk-top-container\"><div class=\"sk-text-repr-fallback\"><pre>Pipeline(steps=[(&#x27;tfidf&#x27;, TfidfVectorizer()),\n",
       "                (&#x27;classifier&#x27;, RandomForestClassifier())])</pre><b>In a Jupyter environment, please rerun this cell to show the HTML representation or trust the notebook. <br />On GitHub, the HTML representation is unable to render, please try loading this page with nbviewer.org.</b></div><div class=\"sk-container\" hidden><div class=\"sk-item sk-dashed-wrapped\"><div class=\"sk-label-container\"><div class=\"sk-label fitted sk-toggleable\"><input class=\"sk-toggleable__control sk-hidden--visually\" id=\"sk-estimator-id-1\" type=\"checkbox\" ><label for=\"sk-estimator-id-1\" class=\"sk-toggleable__label fitted sk-toggleable__label-arrow fitted\">&nbsp;&nbsp;Pipeline<a class=\"sk-estimator-doc-link fitted\" rel=\"noreferrer\" target=\"_blank\" href=\"https://scikit-learn.org/1.5/modules/generated/sklearn.pipeline.Pipeline.html\">?<span>Documentation for Pipeline</span></a><span class=\"sk-estimator-doc-link fitted\">i<span>Fitted</span></span></label><div class=\"sk-toggleable__content fitted\"><pre>Pipeline(steps=[(&#x27;tfidf&#x27;, TfidfVectorizer()),\n",
       "                (&#x27;classifier&#x27;, RandomForestClassifier())])</pre></div> </div></div><div class=\"sk-serial\"><div class=\"sk-item\"><div class=\"sk-estimator fitted sk-toggleable\"><input class=\"sk-toggleable__control sk-hidden--visually\" id=\"sk-estimator-id-2\" type=\"checkbox\" ><label for=\"sk-estimator-id-2\" class=\"sk-toggleable__label fitted sk-toggleable__label-arrow fitted\">&nbsp;TfidfVectorizer<a class=\"sk-estimator-doc-link fitted\" rel=\"noreferrer\" target=\"_blank\" href=\"https://scikit-learn.org/1.5/modules/generated/sklearn.feature_extraction.text.TfidfVectorizer.html\">?<span>Documentation for TfidfVectorizer</span></a></label><div class=\"sk-toggleable__content fitted\"><pre>TfidfVectorizer()</pre></div> </div></div><div class=\"sk-item\"><div class=\"sk-estimator fitted sk-toggleable\"><input class=\"sk-toggleable__control sk-hidden--visually\" id=\"sk-estimator-id-3\" type=\"checkbox\" ><label for=\"sk-estimator-id-3\" class=\"sk-toggleable__label fitted sk-toggleable__label-arrow fitted\">&nbsp;RandomForestClassifier<a class=\"sk-estimator-doc-link fitted\" rel=\"noreferrer\" target=\"_blank\" href=\"https://scikit-learn.org/1.5/modules/generated/sklearn.ensemble.RandomForestClassifier.html\">?<span>Documentation for RandomForestClassifier</span></a></label><div class=\"sk-toggleable__content fitted\"><pre>RandomForestClassifier()</pre></div> </div></div></div></div></div></div>"
      ],
      "text/plain": [
       "Pipeline(steps=[('tfidf', TfidfVectorizer()),\n",
       "                ('classifier', RandomForestClassifier())])"
      ]
     },
     "execution_count": 77,
     "metadata": {},
     "output_type": "execute_result"
    }
   ],
   "source": [
    "clf.fit(x_train,y_train)"
   ]
  },
  {
   "cell_type": "code",
   "execution_count": 78,
   "id": "4e5d93e6-b1bf-4d5c-be9c-d4b81b85070b",
   "metadata": {},
   "outputs": [],
   "source": [
    "y_pred=clf.predict(x_test)"
   ]
  },
  {
   "cell_type": "code",
   "execution_count": 79,
   "id": "32d6e627-987d-42ea-8a4a-82177a28b4f2",
   "metadata": {},
   "outputs": [],
   "source": [
    "from sklearn.metrics import classification_report,accuracy_score,confusion_matrix"
   ]
  },
  {
   "cell_type": "code",
   "execution_count": 80,
   "id": "6809019e-3d7d-4a35-81a0-b95ce3114680",
   "metadata": {},
   "outputs": [
    {
     "data": {
      "text/plain": [
       "0.968609865470852"
      ]
     },
     "execution_count": 80,
     "metadata": {},
     "output_type": "execute_result"
    }
   ],
   "source": [
    "accuracy_score(y_test,y_pred)"
   ]
  },
  {
   "cell_type": "code",
   "execution_count": 81,
   "id": "359fa9de-72ce-4bdf-b531-2ed19724b2ec",
   "metadata": {},
   "outputs": [
    {
     "data": {
      "text/plain": [
       "array([[965,   0],\n",
       "       [ 35, 115]], dtype=int64)"
      ]
     },
     "execution_count": 81,
     "metadata": {},
     "output_type": "execute_result"
    }
   ],
   "source": [
    "confusion_matrix(y_test,y_pred)"
   ]
  },
  {
   "cell_type": "code",
   "execution_count": 82,
   "id": "ad12a0b0-27fe-4b18-8d38-59a34e33abcf",
   "metadata": {},
   "outputs": [],
   "source": [
    "from sklearn.svm import SVC"
   ]
  },
  {
   "cell_type": "code",
   "execution_count": 84,
   "id": "18a1edbd-f3c8-46f2-8809-d264a6b2f697",
   "metadata": {},
   "outputs": [],
   "source": [
    "svm=Pipeline([('tfidf',TfidfVectorizer()),('classifier',SVC())])"
   ]
  },
  {
   "cell_type": "code",
   "execution_count": 85,
   "id": "d0d49286-b643-4289-bd5e-d89eb87cfd9e",
   "metadata": {
    "collapsed": true,
    "jupyter": {
     "outputs_hidden": true
    }
   },
   "outputs": [
    {
     "data": {
      "text/html": [
       "<style>#sk-container-id-2 {\n",
       "  /* Definition of color scheme common for light and dark mode */\n",
       "  --sklearn-color-text: black;\n",
       "  --sklearn-color-line: gray;\n",
       "  /* Definition of color scheme for unfitted estimators */\n",
       "  --sklearn-color-unfitted-level-0: #fff5e6;\n",
       "  --sklearn-color-unfitted-level-1: #f6e4d2;\n",
       "  --sklearn-color-unfitted-level-2: #ffe0b3;\n",
       "  --sklearn-color-unfitted-level-3: chocolate;\n",
       "  /* Definition of color scheme for fitted estimators */\n",
       "  --sklearn-color-fitted-level-0: #f0f8ff;\n",
       "  --sklearn-color-fitted-level-1: #d4ebff;\n",
       "  --sklearn-color-fitted-level-2: #b3dbfd;\n",
       "  --sklearn-color-fitted-level-3: cornflowerblue;\n",
       "\n",
       "  /* Specific color for light theme */\n",
       "  --sklearn-color-text-on-default-background: var(--sg-text-color, var(--theme-code-foreground, var(--jp-content-font-color1, black)));\n",
       "  --sklearn-color-background: var(--sg-background-color, var(--theme-background, var(--jp-layout-color0, white)));\n",
       "  --sklearn-color-border-box: var(--sg-text-color, var(--theme-code-foreground, var(--jp-content-font-color1, black)));\n",
       "  --sklearn-color-icon: #696969;\n",
       "\n",
       "  @media (prefers-color-scheme: dark) {\n",
       "    /* Redefinition of color scheme for dark theme */\n",
       "    --sklearn-color-text-on-default-background: var(--sg-text-color, var(--theme-code-foreground, var(--jp-content-font-color1, white)));\n",
       "    --sklearn-color-background: var(--sg-background-color, var(--theme-background, var(--jp-layout-color0, #111)));\n",
       "    --sklearn-color-border-box: var(--sg-text-color, var(--theme-code-foreground, var(--jp-content-font-color1, white)));\n",
       "    --sklearn-color-icon: #878787;\n",
       "  }\n",
       "}\n",
       "\n",
       "#sk-container-id-2 {\n",
       "  color: var(--sklearn-color-text);\n",
       "}\n",
       "\n",
       "#sk-container-id-2 pre {\n",
       "  padding: 0;\n",
       "}\n",
       "\n",
       "#sk-container-id-2 input.sk-hidden--visually {\n",
       "  border: 0;\n",
       "  clip: rect(1px 1px 1px 1px);\n",
       "  clip: rect(1px, 1px, 1px, 1px);\n",
       "  height: 1px;\n",
       "  margin: -1px;\n",
       "  overflow: hidden;\n",
       "  padding: 0;\n",
       "  position: absolute;\n",
       "  width: 1px;\n",
       "}\n",
       "\n",
       "#sk-container-id-2 div.sk-dashed-wrapped {\n",
       "  border: 1px dashed var(--sklearn-color-line);\n",
       "  margin: 0 0.4em 0.5em 0.4em;\n",
       "  box-sizing: border-box;\n",
       "  padding-bottom: 0.4em;\n",
       "  background-color: var(--sklearn-color-background);\n",
       "}\n",
       "\n",
       "#sk-container-id-2 div.sk-container {\n",
       "  /* jupyter's `normalize.less` sets `[hidden] { display: none; }`\n",
       "     but bootstrap.min.css set `[hidden] { display: none !important; }`\n",
       "     so we also need the `!important` here to be able to override the\n",
       "     default hidden behavior on the sphinx rendered scikit-learn.org.\n",
       "     See: https://github.com/scikit-learn/scikit-learn/issues/21755 */\n",
       "  display: inline-block !important;\n",
       "  position: relative;\n",
       "}\n",
       "\n",
       "#sk-container-id-2 div.sk-text-repr-fallback {\n",
       "  display: none;\n",
       "}\n",
       "\n",
       "div.sk-parallel-item,\n",
       "div.sk-serial,\n",
       "div.sk-item {\n",
       "  /* draw centered vertical line to link estimators */\n",
       "  background-image: linear-gradient(var(--sklearn-color-text-on-default-background), var(--sklearn-color-text-on-default-background));\n",
       "  background-size: 2px 100%;\n",
       "  background-repeat: no-repeat;\n",
       "  background-position: center center;\n",
       "}\n",
       "\n",
       "/* Parallel-specific style estimator block */\n",
       "\n",
       "#sk-container-id-2 div.sk-parallel-item::after {\n",
       "  content: \"\";\n",
       "  width: 100%;\n",
       "  border-bottom: 2px solid var(--sklearn-color-text-on-default-background);\n",
       "  flex-grow: 1;\n",
       "}\n",
       "\n",
       "#sk-container-id-2 div.sk-parallel {\n",
       "  display: flex;\n",
       "  align-items: stretch;\n",
       "  justify-content: center;\n",
       "  background-color: var(--sklearn-color-background);\n",
       "  position: relative;\n",
       "}\n",
       "\n",
       "#sk-container-id-2 div.sk-parallel-item {\n",
       "  display: flex;\n",
       "  flex-direction: column;\n",
       "}\n",
       "\n",
       "#sk-container-id-2 div.sk-parallel-item:first-child::after {\n",
       "  align-self: flex-end;\n",
       "  width: 50%;\n",
       "}\n",
       "\n",
       "#sk-container-id-2 div.sk-parallel-item:last-child::after {\n",
       "  align-self: flex-start;\n",
       "  width: 50%;\n",
       "}\n",
       "\n",
       "#sk-container-id-2 div.sk-parallel-item:only-child::after {\n",
       "  width: 0;\n",
       "}\n",
       "\n",
       "/* Serial-specific style estimator block */\n",
       "\n",
       "#sk-container-id-2 div.sk-serial {\n",
       "  display: flex;\n",
       "  flex-direction: column;\n",
       "  align-items: center;\n",
       "  background-color: var(--sklearn-color-background);\n",
       "  padding-right: 1em;\n",
       "  padding-left: 1em;\n",
       "}\n",
       "\n",
       "\n",
       "/* Toggleable style: style used for estimator/Pipeline/ColumnTransformer box that is\n",
       "clickable and can be expanded/collapsed.\n",
       "- Pipeline and ColumnTransformer use this feature and define the default style\n",
       "- Estimators will overwrite some part of the style using the `sk-estimator` class\n",
       "*/\n",
       "\n",
       "/* Pipeline and ColumnTransformer style (default) */\n",
       "\n",
       "#sk-container-id-2 div.sk-toggleable {\n",
       "  /* Default theme specific background. It is overwritten whether we have a\n",
       "  specific estimator or a Pipeline/ColumnTransformer */\n",
       "  background-color: var(--sklearn-color-background);\n",
       "}\n",
       "\n",
       "/* Toggleable label */\n",
       "#sk-container-id-2 label.sk-toggleable__label {\n",
       "  cursor: pointer;\n",
       "  display: block;\n",
       "  width: 100%;\n",
       "  margin-bottom: 0;\n",
       "  padding: 0.5em;\n",
       "  box-sizing: border-box;\n",
       "  text-align: center;\n",
       "}\n",
       "\n",
       "#sk-container-id-2 label.sk-toggleable__label-arrow:before {\n",
       "  /* Arrow on the left of the label */\n",
       "  content: \"▸\";\n",
       "  float: left;\n",
       "  margin-right: 0.25em;\n",
       "  color: var(--sklearn-color-icon);\n",
       "}\n",
       "\n",
       "#sk-container-id-2 label.sk-toggleable__label-arrow:hover:before {\n",
       "  color: var(--sklearn-color-text);\n",
       "}\n",
       "\n",
       "/* Toggleable content - dropdown */\n",
       "\n",
       "#sk-container-id-2 div.sk-toggleable__content {\n",
       "  max-height: 0;\n",
       "  max-width: 0;\n",
       "  overflow: hidden;\n",
       "  text-align: left;\n",
       "  /* unfitted */\n",
       "  background-color: var(--sklearn-color-unfitted-level-0);\n",
       "}\n",
       "\n",
       "#sk-container-id-2 div.sk-toggleable__content.fitted {\n",
       "  /* fitted */\n",
       "  background-color: var(--sklearn-color-fitted-level-0);\n",
       "}\n",
       "\n",
       "#sk-container-id-2 div.sk-toggleable__content pre {\n",
       "  margin: 0.2em;\n",
       "  border-radius: 0.25em;\n",
       "  color: var(--sklearn-color-text);\n",
       "  /* unfitted */\n",
       "  background-color: var(--sklearn-color-unfitted-level-0);\n",
       "}\n",
       "\n",
       "#sk-container-id-2 div.sk-toggleable__content.fitted pre {\n",
       "  /* unfitted */\n",
       "  background-color: var(--sklearn-color-fitted-level-0);\n",
       "}\n",
       "\n",
       "#sk-container-id-2 input.sk-toggleable__control:checked~div.sk-toggleable__content {\n",
       "  /* Expand drop-down */\n",
       "  max-height: 200px;\n",
       "  max-width: 100%;\n",
       "  overflow: auto;\n",
       "}\n",
       "\n",
       "#sk-container-id-2 input.sk-toggleable__control:checked~label.sk-toggleable__label-arrow:before {\n",
       "  content: \"▾\";\n",
       "}\n",
       "\n",
       "/* Pipeline/ColumnTransformer-specific style */\n",
       "\n",
       "#sk-container-id-2 div.sk-label input.sk-toggleable__control:checked~label.sk-toggleable__label {\n",
       "  color: var(--sklearn-color-text);\n",
       "  background-color: var(--sklearn-color-unfitted-level-2);\n",
       "}\n",
       "\n",
       "#sk-container-id-2 div.sk-label.fitted input.sk-toggleable__control:checked~label.sk-toggleable__label {\n",
       "  background-color: var(--sklearn-color-fitted-level-2);\n",
       "}\n",
       "\n",
       "/* Estimator-specific style */\n",
       "\n",
       "/* Colorize estimator box */\n",
       "#sk-container-id-2 div.sk-estimator input.sk-toggleable__control:checked~label.sk-toggleable__label {\n",
       "  /* unfitted */\n",
       "  background-color: var(--sklearn-color-unfitted-level-2);\n",
       "}\n",
       "\n",
       "#sk-container-id-2 div.sk-estimator.fitted input.sk-toggleable__control:checked~label.sk-toggleable__label {\n",
       "  /* fitted */\n",
       "  background-color: var(--sklearn-color-fitted-level-2);\n",
       "}\n",
       "\n",
       "#sk-container-id-2 div.sk-label label.sk-toggleable__label,\n",
       "#sk-container-id-2 div.sk-label label {\n",
       "  /* The background is the default theme color */\n",
       "  color: var(--sklearn-color-text-on-default-background);\n",
       "}\n",
       "\n",
       "/* On hover, darken the color of the background */\n",
       "#sk-container-id-2 div.sk-label:hover label.sk-toggleable__label {\n",
       "  color: var(--sklearn-color-text);\n",
       "  background-color: var(--sklearn-color-unfitted-level-2);\n",
       "}\n",
       "\n",
       "/* Label box, darken color on hover, fitted */\n",
       "#sk-container-id-2 div.sk-label.fitted:hover label.sk-toggleable__label.fitted {\n",
       "  color: var(--sklearn-color-text);\n",
       "  background-color: var(--sklearn-color-fitted-level-2);\n",
       "}\n",
       "\n",
       "/* Estimator label */\n",
       "\n",
       "#sk-container-id-2 div.sk-label label {\n",
       "  font-family: monospace;\n",
       "  font-weight: bold;\n",
       "  display: inline-block;\n",
       "  line-height: 1.2em;\n",
       "}\n",
       "\n",
       "#sk-container-id-2 div.sk-label-container {\n",
       "  text-align: center;\n",
       "}\n",
       "\n",
       "/* Estimator-specific */\n",
       "#sk-container-id-2 div.sk-estimator {\n",
       "  font-family: monospace;\n",
       "  border: 1px dotted var(--sklearn-color-border-box);\n",
       "  border-radius: 0.25em;\n",
       "  box-sizing: border-box;\n",
       "  margin-bottom: 0.5em;\n",
       "  /* unfitted */\n",
       "  background-color: var(--sklearn-color-unfitted-level-0);\n",
       "}\n",
       "\n",
       "#sk-container-id-2 div.sk-estimator.fitted {\n",
       "  /* fitted */\n",
       "  background-color: var(--sklearn-color-fitted-level-0);\n",
       "}\n",
       "\n",
       "/* on hover */\n",
       "#sk-container-id-2 div.sk-estimator:hover {\n",
       "  /* unfitted */\n",
       "  background-color: var(--sklearn-color-unfitted-level-2);\n",
       "}\n",
       "\n",
       "#sk-container-id-2 div.sk-estimator.fitted:hover {\n",
       "  /* fitted */\n",
       "  background-color: var(--sklearn-color-fitted-level-2);\n",
       "}\n",
       "\n",
       "/* Specification for estimator info (e.g. \"i\" and \"?\") */\n",
       "\n",
       "/* Common style for \"i\" and \"?\" */\n",
       "\n",
       ".sk-estimator-doc-link,\n",
       "a:link.sk-estimator-doc-link,\n",
       "a:visited.sk-estimator-doc-link {\n",
       "  float: right;\n",
       "  font-size: smaller;\n",
       "  line-height: 1em;\n",
       "  font-family: monospace;\n",
       "  background-color: var(--sklearn-color-background);\n",
       "  border-radius: 1em;\n",
       "  height: 1em;\n",
       "  width: 1em;\n",
       "  text-decoration: none !important;\n",
       "  margin-left: 1ex;\n",
       "  /* unfitted */\n",
       "  border: var(--sklearn-color-unfitted-level-1) 1pt solid;\n",
       "  color: var(--sklearn-color-unfitted-level-1);\n",
       "}\n",
       "\n",
       ".sk-estimator-doc-link.fitted,\n",
       "a:link.sk-estimator-doc-link.fitted,\n",
       "a:visited.sk-estimator-doc-link.fitted {\n",
       "  /* fitted */\n",
       "  border: var(--sklearn-color-fitted-level-1) 1pt solid;\n",
       "  color: var(--sklearn-color-fitted-level-1);\n",
       "}\n",
       "\n",
       "/* On hover */\n",
       "div.sk-estimator:hover .sk-estimator-doc-link:hover,\n",
       ".sk-estimator-doc-link:hover,\n",
       "div.sk-label-container:hover .sk-estimator-doc-link:hover,\n",
       ".sk-estimator-doc-link:hover {\n",
       "  /* unfitted */\n",
       "  background-color: var(--sklearn-color-unfitted-level-3);\n",
       "  color: var(--sklearn-color-background);\n",
       "  text-decoration: none;\n",
       "}\n",
       "\n",
       "div.sk-estimator.fitted:hover .sk-estimator-doc-link.fitted:hover,\n",
       ".sk-estimator-doc-link.fitted:hover,\n",
       "div.sk-label-container:hover .sk-estimator-doc-link.fitted:hover,\n",
       ".sk-estimator-doc-link.fitted:hover {\n",
       "  /* fitted */\n",
       "  background-color: var(--sklearn-color-fitted-level-3);\n",
       "  color: var(--sklearn-color-background);\n",
       "  text-decoration: none;\n",
       "}\n",
       "\n",
       "/* Span, style for the box shown on hovering the info icon */\n",
       ".sk-estimator-doc-link span {\n",
       "  display: none;\n",
       "  z-index: 9999;\n",
       "  position: relative;\n",
       "  font-weight: normal;\n",
       "  right: .2ex;\n",
       "  padding: .5ex;\n",
       "  margin: .5ex;\n",
       "  width: min-content;\n",
       "  min-width: 20ex;\n",
       "  max-width: 50ex;\n",
       "  color: var(--sklearn-color-text);\n",
       "  box-shadow: 2pt 2pt 4pt #999;\n",
       "  /* unfitted */\n",
       "  background: var(--sklearn-color-unfitted-level-0);\n",
       "  border: .5pt solid var(--sklearn-color-unfitted-level-3);\n",
       "}\n",
       "\n",
       ".sk-estimator-doc-link.fitted span {\n",
       "  /* fitted */\n",
       "  background: var(--sklearn-color-fitted-level-0);\n",
       "  border: var(--sklearn-color-fitted-level-3);\n",
       "}\n",
       "\n",
       ".sk-estimator-doc-link:hover span {\n",
       "  display: block;\n",
       "}\n",
       "\n",
       "/* \"?\"-specific style due to the `<a>` HTML tag */\n",
       "\n",
       "#sk-container-id-2 a.estimator_doc_link {\n",
       "  float: right;\n",
       "  font-size: 1rem;\n",
       "  line-height: 1em;\n",
       "  font-family: monospace;\n",
       "  background-color: var(--sklearn-color-background);\n",
       "  border-radius: 1rem;\n",
       "  height: 1rem;\n",
       "  width: 1rem;\n",
       "  text-decoration: none;\n",
       "  /* unfitted */\n",
       "  color: var(--sklearn-color-unfitted-level-1);\n",
       "  border: var(--sklearn-color-unfitted-level-1) 1pt solid;\n",
       "}\n",
       "\n",
       "#sk-container-id-2 a.estimator_doc_link.fitted {\n",
       "  /* fitted */\n",
       "  border: var(--sklearn-color-fitted-level-1) 1pt solid;\n",
       "  color: var(--sklearn-color-fitted-level-1);\n",
       "}\n",
       "\n",
       "/* On hover */\n",
       "#sk-container-id-2 a.estimator_doc_link:hover {\n",
       "  /* unfitted */\n",
       "  background-color: var(--sklearn-color-unfitted-level-3);\n",
       "  color: var(--sklearn-color-background);\n",
       "  text-decoration: none;\n",
       "}\n",
       "\n",
       "#sk-container-id-2 a.estimator_doc_link.fitted:hover {\n",
       "  /* fitted */\n",
       "  background-color: var(--sklearn-color-fitted-level-3);\n",
       "}\n",
       "</style><div id=\"sk-container-id-2\" class=\"sk-top-container\"><div class=\"sk-text-repr-fallback\"><pre>Pipeline(steps=[(&#x27;tfidf&#x27;, TfidfVectorizer()), (&#x27;classifier&#x27;, SVC())])</pre><b>In a Jupyter environment, please rerun this cell to show the HTML representation or trust the notebook. <br />On GitHub, the HTML representation is unable to render, please try loading this page with nbviewer.org.</b></div><div class=\"sk-container\" hidden><div class=\"sk-item sk-dashed-wrapped\"><div class=\"sk-label-container\"><div class=\"sk-label fitted sk-toggleable\"><input class=\"sk-toggleable__control sk-hidden--visually\" id=\"sk-estimator-id-4\" type=\"checkbox\" ><label for=\"sk-estimator-id-4\" class=\"sk-toggleable__label fitted sk-toggleable__label-arrow fitted\">&nbsp;&nbsp;Pipeline<a class=\"sk-estimator-doc-link fitted\" rel=\"noreferrer\" target=\"_blank\" href=\"https://scikit-learn.org/1.5/modules/generated/sklearn.pipeline.Pipeline.html\">?<span>Documentation for Pipeline</span></a><span class=\"sk-estimator-doc-link fitted\">i<span>Fitted</span></span></label><div class=\"sk-toggleable__content fitted\"><pre>Pipeline(steps=[(&#x27;tfidf&#x27;, TfidfVectorizer()), (&#x27;classifier&#x27;, SVC())])</pre></div> </div></div><div class=\"sk-serial\"><div class=\"sk-item\"><div class=\"sk-estimator fitted sk-toggleable\"><input class=\"sk-toggleable__control sk-hidden--visually\" id=\"sk-estimator-id-5\" type=\"checkbox\" ><label for=\"sk-estimator-id-5\" class=\"sk-toggleable__label fitted sk-toggleable__label-arrow fitted\">&nbsp;TfidfVectorizer<a class=\"sk-estimator-doc-link fitted\" rel=\"noreferrer\" target=\"_blank\" href=\"https://scikit-learn.org/1.5/modules/generated/sklearn.feature_extraction.text.TfidfVectorizer.html\">?<span>Documentation for TfidfVectorizer</span></a></label><div class=\"sk-toggleable__content fitted\"><pre>TfidfVectorizer()</pre></div> </div></div><div class=\"sk-item\"><div class=\"sk-estimator fitted sk-toggleable\"><input class=\"sk-toggleable__control sk-hidden--visually\" id=\"sk-estimator-id-6\" type=\"checkbox\" ><label for=\"sk-estimator-id-6\" class=\"sk-toggleable__label fitted sk-toggleable__label-arrow fitted\">&nbsp;SVC<a class=\"sk-estimator-doc-link fitted\" rel=\"noreferrer\" target=\"_blank\" href=\"https://scikit-learn.org/1.5/modules/generated/sklearn.svm.SVC.html\">?<span>Documentation for SVC</span></a></label><div class=\"sk-toggleable__content fitted\"><pre>SVC()</pre></div> </div></div></div></div></div></div>"
      ],
      "text/plain": [
       "Pipeline(steps=[('tfidf', TfidfVectorizer()), ('classifier', SVC())])"
      ]
     },
     "execution_count": 85,
     "metadata": {},
     "output_type": "execute_result"
    }
   ],
   "source": [
    "svm.fit(x_train,y_train)"
   ]
  },
  {
   "cell_type": "code",
   "execution_count": 86,
   "id": "7e247728-9f5f-47cc-8a72-c1bb1ce4e84a",
   "metadata": {},
   "outputs": [],
   "source": [
    "y_pred=svm.predict(x_test)"
   ]
  },
  {
   "cell_type": "code",
   "execution_count": 87,
   "id": "45391734-47d5-4d06-9dec-ad6654d784a1",
   "metadata": {},
   "outputs": [
    {
     "data": {
      "text/plain": [
       "0.979372197309417"
      ]
     },
     "execution_count": 87,
     "metadata": {},
     "output_type": "execute_result"
    }
   ],
   "source": [
    "accuracy_score(y_test,y_pred)"
   ]
  },
  {
   "cell_type": "code",
   "execution_count": 88,
   "id": "0566e095-d820-42d8-983b-243e24663c52",
   "metadata": {},
   "outputs": [
    {
     "data": {
      "text/plain": [
       "array([[965,   0],\n",
       "       [ 23, 127]], dtype=int64)"
      ]
     },
     "execution_count": 88,
     "metadata": {},
     "output_type": "execute_result"
    }
   ],
   "source": [
    "confusion_matrix(y_test,y_pred)"
   ]
  },
  {
   "cell_type": "code",
   "execution_count": 89,
   "id": "59940b73-9f17-4e91-ac69-459d9175bc22",
   "metadata": {
    "collapsed": true,
    "jupyter": {
     "outputs_hidden": true
    }
   },
   "outputs": [
    {
     "data": {
      "text/plain": [
       "<Axes: >"
      ]
     },
     "execution_count": 89,
     "metadata": {},
     "output_type": "execute_result"
    },
    {
     "data": {
      "image/png": "[encoded data removed]",
      "text/plain": [
       "<Figure size 640x480 with 2 Axes>"
      ]
     },
     "metadata": {},
     "output_type": "display_data"
    }
   ],
   "source": [
    "sns.heatmap(confusion_matrix(y_test,y_pred),annot=True)"
   ]
  },
  {
   "cell_type": "code",
   "execution_count": 90,
   "id": "e0ed793a-25d5-4f34-8786-487b1e253890",
   "metadata": {
    "collapsed": true,
    "jupyter": {
     "outputs_hidden": true
    },
    "scrolled": true
   },
   "outputs": [
    {
     "name": "stdout",
     "output_type": "stream",
     "text": [
      "              precision    recall  f1-score   support\n",
      "\n",
      "         ham       0.98      1.00      0.99       965\n",
      "        spam       1.00      0.85      0.92       150\n",
      "\n",
      "    accuracy                           0.98      1115\n",
      "   macro avg       0.99      0.92      0.95      1115\n",
      "weighted avg       0.98      0.98      0.98      1115\n",
      "\n"
     ]
    }
   ],
   "source": [
    "print(classification_report(y_test,y_pred))"
   ]
  },
  {
   "cell_type": "code",
   "execution_count": 1,
   "id": "871fa77f-054b-45a9-aa63-b4fd796fae2b",
   "metadata": {},
   "outputs": [],
   "source": [
    "test1=['Hwllo,you are learning Natural Language Processing']\n",
    "test2=['Congrulations,you won a lottary ticket. To clain call 1-800-899-9999']\n",
    "test3=['Click here to claim your $1 million lottary']"
   ]
  },
  {
   "cell_type": "code",
   "execution_count": 2,
   "id": "a45a8de4-917d-4854-94f7-3e645910f7e9",
   "metadata": {
    "collapsed": true,
    "jupyter": {
     "outputs_hidden": true
    }
   },
   "outputs": [
    {
     "ename": "NameError",
     "evalue": "name 'clf' is not defined",
     "output_type": "error",
     "traceback": [
      "\u001b[1;31m---------------------------------------------------------------------------\u001b[0m",
      "\u001b[1;31mNameError\u001b[0m                                 Traceback (most recent call last)",
      "Cell \u001b[1;32mIn[2], line 1\u001b[0m\n\u001b[1;32m----> 1\u001b[0m clf\u001b[38;5;241m.\u001b[39mpredict(test1)\n",
      "\u001b[1;31mNameError\u001b[0m: name 'clf' is not defined"
     ]
    }
   ],
   "source": [
    "print(clf.predict(test1))"
   ]
  },
  {
   "cell_type": "code",
   "execution_count": 3,
   "id": "3fb4d0dc-e8aa-4126-9673-df36e71309fc",
   "metadata": {
    "collapsed": true,
    "jupyter": {
     "outputs_hidden": true
    }
   },
   "outputs": [
    {
     "ename": "NameError",
     "evalue": "name 'clf' is not defined",
     "output_type": "error",
     "traceback": [
      "\u001b[1;31m---------------------------------------------------------------------------\u001b[0m",
      "\u001b[1;31mNameError\u001b[0m                                 Traceback (most recent call last)",
      "Cell \u001b[1;32mIn[3], line 1\u001b[0m\n\u001b[1;32m----> 1\u001b[0m \u001b[38;5;28mprint\u001b[39m(clf\u001b[38;5;241m.\u001b[39mpredict(test2))\n",
      "\u001b[1;31mNameError\u001b[0m: name 'clf' is not defined"
     ]
    }
   ],
   "source": [
    "print(clf.predict(test2))"
   ]
  },
  {
   "cell_type": "code",
   "execution_count": 4,
   "id": "86fca7c5-bf47-43ed-96af-808802fe7795",
   "metadata": {
    "collapsed": true,
    "jupyter": {
     "outputs_hidden": true
    }
   },
   "outputs": [
    {
     "ename": "NameError",
     "evalue": "name 'clf' is not defined",
     "output_type": "error",
     "traceback": [
      "\u001b[1;31m---------------------------------------------------------------------------\u001b[0m",
      "\u001b[1;31mNameError\u001b[0m                                 Traceback (most recent call last)",
      "Cell \u001b[1;32mIn[4], line 1\u001b[0m\n\u001b[1;32m----> 1\u001b[0m \u001b[38;5;28mprint\u001b[39m(clf\u001b[38;5;241m.\u001b[39mpredict(test3))\n",
      "\u001b[1;31mNameError\u001b[0m: name 'clf' is not defined"
     ]
    }
   ],
   "source": [
    "print(clf.predict(test3))"
   ]
  },
  {
   "cell_type": "code",
   "execution_count": 5,
   "id": "d0b265eb-eae6-4e01-825b-96a8c826960e",
   "metadata": {
    "collapsed": true,
    "jupyter": {
     "outputs_hidden": true
    }
   },
   "outputs": [
    {
     "ename": "NameError",
     "evalue": "name 'svm' is not defined",
     "output_type": "error",
     "traceback": [
      "\u001b[1;31m---------------------------------------------------------------------------\u001b[0m",
      "\u001b[1;31mNameError\u001b[0m                                 Traceback (most recent call last)",
      "Cell \u001b[1;32mIn[5], line 1\u001b[0m\n\u001b[1;32m----> 1\u001b[0m \u001b[38;5;28mprint\u001b[39m(svm\u001b[38;5;241m.\u001b[39mpredict(test1))\n",
      "\u001b[1;31mNameError\u001b[0m: name 'svm' is not defined"
     ]
    }
   ],
   "source": [
    "print(svm.predict(test1))"
   ]
  },
  {
   "cell_type": "code",
   "execution_count": 6,
   "id": "aaeb2721-f907-47ca-b547-27ef59c78035",
   "metadata": {
    "collapsed": true,
    "jupyter": {
     "outputs_hidden": true
    }
   },
   "outputs": [
    {
     "ename": "NameError",
     "evalue": "name 'svm' is not defined",
     "output_type": "error",
     "traceback": [
      "\u001b[1;31m---------------------------------------------------------------------------\u001b[0m",
      "\u001b[1;31mNameError\u001b[0m                                 Traceback (most recent call last)",
      "Cell \u001b[1;32mIn[6], line 1\u001b[0m\n\u001b[1;32m----> 1\u001b[0m \u001b[38;5;28mprint\u001b[39m(svm\u001b[38;5;241m.\u001b[39mpredict(test2))\n",
      "\u001b[1;31mNameError\u001b[0m: name 'svm' is not defined"
     ]
    }
   ],
   "source": [
    "print(svm.predict(test2))"
   ]
  },
  {
   "cell_type": "code",
   "execution_count": 7,
   "id": "3202e6ad-7627-4847-b935-a912a9f12ad1",
   "metadata": {
    "collapsed": true,
    "jupyter": {
     "outputs_hidden": true
    }
   },
   "outputs": [
    {
     "ename": "NameError",
     "evalue": "name 'svm' is not defined",
     "output_type": "error",
     "traceback": [
      "\u001b[1;31m---------------------------------------------------------------------------\u001b[0m",
      "\u001b[1;31mNameError\u001b[0m                                 Traceback (most recent call last)",
      "Cell \u001b[1;32mIn[7], line 1\u001b[0m\n\u001b[1;32m----> 1\u001b[0m \u001b[38;5;28mprint\u001b[39m(svm\u001b[38;5;241m.\u001b[39mpredict(test3))\n",
      "\u001b[1;31mNameError\u001b[0m: name 'svm' is not defined"
     ]
    }
   ],
   "source": [
    "print(svm.predict(test3))"
   ]
  },
  {
   "cell_type": "code",
   "execution_count": 8,
   "id": "dce91641-e6ba-416b-af84-647661e49e05",
   "metadata": {
    "collapsed": true,
    "jupyter": {
     "outputs_hidden": true
    }
   },
   "outputs": [
    {
     "ename": "NameError",
     "evalue": "name 'df' is not defined",
     "output_type": "error",
     "traceback": [
      "\u001b[1;31m---------------------------------------------------------------------------\u001b[0m",
      "\u001b[1;31mNameError\u001b[0m                                 Traceback (most recent call last)",
      "Cell \u001b[1;32mIn[8], line 1\u001b[0m\n\u001b[1;32m----> 1\u001b[0m df[\u001b[38;5;124m'\u001b[39m\u001b[38;5;124mtext\u001b[39m\u001b[38;5;124m'\u001b[39m][\u001b[38;5;241m250\u001b[39m]\n",
      "\u001b[1;31mNameError\u001b[0m: name 'df' is not defined"
     ]
    }
   ],
   "source": [
    "df['text'][250]"
   ]
  },
  {
   "cell_type": "code",
   "execution_count": 9,
   "id": "3d221476-0968-49fa-bf23-87afd66ede33",
   "metadata": {
    "collapsed": true,
    "jupyter": {
     "outputs_hidden": true
    }
   },
   "outputs": [
    {
     "ename": "NameError",
     "evalue": "name 'svm' is not defined",
     "output_type": "error",
     "traceback": [
      "\u001b[1;31m---------------------------------------------------------------------------\u001b[0m",
      "\u001b[1;31mNameError\u001b[0m                                 Traceback (most recent call last)",
      "Cell \u001b[1;32mIn[9], line 1\u001b[0m\n\u001b[1;32m----> 1\u001b[0m svm\u001b[38;5;241m.\u001b[39mpredict(df[\u001b[38;5;124m'\u001b[39m\u001b[38;5;124mtext\u001b[39m\u001b[38;5;124m'\u001b[39m][\u001b[38;5;241m250\u001b[39m])\n",
      "\u001b[1;31mNameError\u001b[0m: name 'svm' is not defined"
     ]
    }
   ],
   "source": [
    "svm.predict(df['text'][250])"
   ]
  },
  {
   "cell_type": "code",
   "execution_count": 10,
   "id": "a49bdb80-d344-4136-95ee-493fd05324da",
   "metadata": {
    "collapsed": true,
    "jupyter": {
     "outputs_hidden": true
    }
   },
   "outputs": [
    {
     "ename": "NameError",
     "evalue": "name 'df' is not defined",
     "output_type": "error",
     "traceback": [
      "\u001b[1;31m---------------------------------------------------------------------------\u001b[0m",
      "\u001b[1;31mNameError\u001b[0m                                 Traceback (most recent call last)",
      "Cell \u001b[1;32mIn[10], line 1\u001b[0m\n\u001b[1;32m----> 1\u001b[0m df[\u001b[38;5;124m'\u001b[39m\u001b[38;5;124mtext\u001b[39m\u001b[38;5;124m'\u001b[39m][\u001b[38;5;241m2\u001b[39m]\n",
      "\u001b[1;31mNameError\u001b[0m: name 'df' is not defined"
     ]
    }
   ],
   "source": [
    "df['text'][2]"
   ]
  },
  {
   "cell_type": "code",
   "execution_count": 11,
   "id": "49b55008-4d91-4435-bcda-90ae7c345d03",
   "metadata": {
    "collapsed": true,
    "jupyter": {
     "outputs_hidden": true
    }
   },
   "outputs": [
    {
     "ename": "NameError",
     "evalue": "name 'svm' is not defined",
     "output_type": "error",
     "traceback": [
      "\u001b[1;31m---------------------------------------------------------------------------\u001b[0m",
      "\u001b[1;31mNameError\u001b[0m                                 Traceback (most recent call last)",
      "Cell \u001b[1;32mIn[11], line 1\u001b[0m\n\u001b[1;32m----> 1\u001b[0m svm\u001b[38;5;241m.\u001b[39mpredict(df[\u001b[38;5;124m'\u001b[39m\u001b[38;5;124mtext\u001b[39m\u001b[38;5;124m'\u001b[39m][\u001b[38;5;241m2\u001b[39m])\n",
      "\u001b[1;31mNameError\u001b[0m: name 'svm' is not defined"
     ]
    }
   ],
   "source": [
    "svm.predict(df['text'][2])"
   ]
  },
  {
   "cell_type": "code",
   "execution_count": 12,
   "id": "10e65eb9-054d-4a5c-8e69-ec7c1d2418d3",
   "metadata": {},
   "outputs": [
    {
     "data": {
      "text/plain": [
       "0.13406317300789664"
      ]
     },
     "execution_count": 12,
     "metadata": {},
     "output_type": "execute_result"
    }
   ],
   "source": [
    "747/5572"
   ]
  },
  {
   "cell_type": "code",
   "execution_count": null,
   "id": "b7c37a54-b92a-45e9-b28c-bfeaab926447",
   "metadata": {
    "collapsed": true,
    "jupyter": {
     "outputs_hidden": true
    }
   },
   "outputs": [],
   "source": [
    "ham=df[df['class']=='ham']\n",
    "spam=df[df['class']=='spam']"
   ]
  },
  {
   "cell_type": "code",
   "execution_count": 15,
   "id": "655c9aac-df61-43b3-83ac-1191a12a43ce",
   "metadata": {},
   "outputs": [],
   "source": [
    "# Data auqmentation- Varolan datadan yeni datalar oluşturma\n",
    "#Synthetic data -"
   ]
  },
  {
   "cell_type": "code",
   "execution_count": 16,
   "id": "2b3c493f-24b4-4451-9536-2061b628164f",
   "metadata": {
    "collapsed": true,
    "jupyter": {
     "outputs_hidden": true
    }
   },
   "outputs": [
    {
     "name": "stdout",
     "output_type": "stream",
     "text": [
      "Collecting wordcloud\n",
      "  Downloading wordcloud-1.9.4-cp312-cp312-win_amd64.whl.metadata (3.5 kB)\n",
      "Requirement already satisfied: numpy>=1.6.1 in c:\\users\\akbab\\.anaconda\\anacon\\lib\\site-packages (from wordcloud) (1.26.4)\n",
      "Requirement already satisfied: pillow in c:\\users\\akbab\\.anaconda\\anacon\\lib\\site-packages (from wordcloud) (10.4.0)\n",
      "Requirement already satisfied: matplotlib in c:\\users\\akbab\\.anaconda\\anacon\\lib\\site-packages (from wordcloud) (3.9.2)\n",
      "Requirement already satisfied: contourpy>=1.0.1 in c:\\users\\akbab\\.anaconda\\anacon\\lib\\site-packages (from matplotlib->wordcloud) (1.2.0)\n",
      "Requirement already satisfied: cycler>=0.10 in c:\\users\\akbab\\.anaconda\\anacon\\lib\\site-packages (from matplotlib->wordcloud) (0.11.0)\n",
      "Requirement already satisfied: fonttools>=4.22.0 in c:\\users\\akbab\\.anaconda\\anacon\\lib\\site-packages (from matplotlib->wordcloud) (4.51.0)\n",
      "Requirement already satisfied: kiwisolver>=1.3.1 in c:\\users\\akbab\\.anaconda\\anacon\\lib\\site-packages (from matplotlib->wordcloud) (1.4.4)\n",
      "Requirement already satisfied: packaging>=20.0 in c:\\users\\akbab\\.anaconda\\anacon\\lib\\site-packages (from matplotlib->wordcloud) (24.1)\n",
      "Requirement already satisfied: pyparsing>=2.3.1 in c:\\users\\akbab\\.anaconda\\anacon\\lib\\site-packages (from matplotlib->wordcloud) (3.1.2)\n",
      "Requirement already satisfied: python-dateutil>=2.7 in c:\\users\\akbab\\.anaconda\\anacon\\lib\\site-packages (from matplotlib->wordcloud) (2.9.0.post0)\n",
      "Requirement already satisfied: six>=1.5 in c:\\users\\akbab\\.anaconda\\anacon\\lib\\site-packages (from python-dateutil>=2.7->matplotlib->wordcloud) (1.16.0)\n",
      "Downloading wordcloud-1.9.4-cp312-cp312-win_amd64.whl (301 kB)\n",
      "Installing collected packages: wordcloud\n",
      "Successfully installed wordcloud-1.9.4\n",
      "Note: you may need to restart the kernel to use updated packages.\n"
     ]
    }
   ],
   "source": [
    "pip install wordcloud"
   ]
  },
  {
   "cell_type": "code",
   "execution_count": 18,
   "id": "d7d619c2-c5ae-44d9-80b0-c651d4465c75",
   "metadata": {},
   "outputs": [],
   "source": [
    "from wordcloud import WordCloud\n",
    "from wordcloud import STOPWORDS\n",
    "from PIL import Image\n",
    "import numpy as np\n",
    "import matplotlib.pyplot as plt"
   ]
  },
  {
   "cell_type": "code",
   "execution_count": 19,
   "id": "95866773-211e-40ba-836d-c6d0d90a27ff",
   "metadata": {},
   "outputs": [],
   "source": [
    "def wc(data,color):\n",
    "    plt.figure(figsize=(10,10))\n",
    "    wc=WordCloud(background_color=color,stopwords=STOPWORDS)\n",
    "    wc.generate(''.join(data))\n",
    "    plt.imshow(wc)\n",
    "    plt.axis('off')"
   ]
  },
  {
   "cell_type": "code",
   "execution_count": 20,
   "id": "72a995fa-275a-4a31-8dba-af5d73636c4c",
   "metadata": {
    "collapsed": true,
    "jupyter": {
     "outputs_hidden": true
    }
   },
   "outputs": [
    {
     "ename": "NameError",
     "evalue": "name 'ham' is not defined",
     "output_type": "error",
     "traceback": [
      "\u001b[1;31m---------------------------------------------------------------------------\u001b[0m",
      "\u001b[1;31mNameError\u001b[0m                                 Traceback (most recent call last)",
      "Cell \u001b[1;32mIn[20], line 1\u001b[0m\n\u001b[1;32m----> 1\u001b[0m wc(ham[\u001b[38;5;124m'\u001b[39m\u001b[38;5;124mtext\u001b[39m\u001b[38;5;124m'\u001b[39m],\u001b[38;5;124m'\u001b[39m\u001b[38;5;124mwhite\u001b[39m\u001b[38;5;124m'\u001b[39m)\n",
      "\u001b[1;31mNameError\u001b[0m: name 'ham' is not defined"
     ]
    }
   ],
   "source": [
    "wc(ham['text'],'white')"
   ]
  },
  {
   "cell_type": "code",
   "execution_count": 21,
   "id": "ff3d7d30-25dd-4746-b40c-a935ad5d590b",
   "metadata": {
    "collapsed": true,
    "jupyter": {
     "outputs_hidden": true
    }
   },
   "outputs": [
    {
     "ename": "NameError",
     "evalue": "name 'spam' is not defined",
     "output_type": "error",
     "traceback": [
      "\u001b[1;31m---------------------------------------------------------------------------\u001b[0m",
      "\u001b[1;31mNameError\u001b[0m                                 Traceback (most recent call last)",
      "Cell \u001b[1;32mIn[21], line 1\u001b[0m\n\u001b[1;32m----> 1\u001b[0m wc(spam[\u001b[38;5;124m'\u001b[39m\u001b[38;5;124mtext\u001b[39m\u001b[38;5;124m'\u001b[39m],\u001b[38;5;124m'\u001b[39m\u001b[38;5;124mpink\u001b[39m\u001b[38;5;124m'\u001b[39m)\n",
      "\u001b[1;31mNameError\u001b[0m: name 'spam' is not defined"
     ]
    }
   ],
   "source": [
    "wc(spam['text'],'pink')"
   ]
  },
  {
   "cell_type": "code",
   "execution_count": 22,
   "id": "ef1238ef-b0c3-4623-92f8-4036b73512c9",
   "metadata": {
    "collapsed": true,
    "jupyter": {
     "outputs_hidden": true
    }
   },
   "outputs": [
    {
     "ename": "NameError",
     "evalue": "name 'ham' is not defined",
     "output_type": "error",
     "traceback": [
      "\u001b[1;31m---------------------------------------------------------------------------\u001b[0m",
      "\u001b[1;31mNameError\u001b[0m                                 Traceback (most recent call last)",
      "Cell \u001b[1;32mIn[22], line 1\u001b[0m\n\u001b[1;32m----> 1\u001b[0m ham\u001b[38;5;241m=\u001b[39mham\u001b[38;5;241m.\u001b[39msample(\u001b[38;5;241m747\u001b[39m)\n",
      "\u001b[1;31mNameError\u001b[0m: name 'ham' is not defined"
     ]
    }
   ],
   "source": [
    "ham=ham.sample(747)"
   ]
  },
  {
   "cell_type": "code",
   "execution_count": 31,
   "id": "72586390-909e-4bd1-8225-876a553f4c8a",
   "metadata": {
    "collapsed": true,
    "jupyter": {
     "outputs_hidden": true
    }
   },
   "outputs": [
    {
     "ename": "NameError",
     "evalue": "name 'spam' is not defined",
     "output_type": "error",
     "traceback": [
      "\u001b[1;31m---------------------------------------------------------------------------\u001b[0m",
      "\u001b[1;31mNameError\u001b[0m                                 Traceback (most recent call last)",
      "Cell \u001b[1;32mIn[31], line 1\u001b[0m\n\u001b[1;32m----> 1\u001b[0m spam\u001b[38;5;241m=\u001b[39mspam\u001b[38;5;241m.\u001b[39msample(ham\u001b[38;5;241m.\u001b[39mshape[\u001b[38;5;241m0\u001b[39m],replace\u001b[38;5;241m=\u001b[39m\u001b[38;5;28;01mTrue\u001b[39;00m)\n",
      "\u001b[1;31mNameError\u001b[0m: name 'spam' is not defined"
     ]
    }
   ],
   "source": [
    "spam=spam.sample(ham.shape[0],replace=True)"
   ]
  },
  {
   "cell_type": "code",
   "execution_count": 23,
   "id": "54f73a1d-5d44-4cf1-812d-55894bf0d2f6",
   "metadata": {
    "collapsed": true,
    "jupyter": {
     "outputs_hidden": true
    }
   },
   "outputs": [
    {
     "ename": "NameError",
     "evalue": "name 'ham' is not defined",
     "output_type": "error",
     "traceback": [
      "\u001b[1;31m---------------------------------------------------------------------------\u001b[0m",
      "\u001b[1;31mNameError\u001b[0m                                 Traceback (most recent call last)",
      "Cell \u001b[1;32mIn[23], line 1\u001b[0m\n\u001b[1;32m----> 1\u001b[0m ham\u001b[38;5;241m.\u001b[39mshape,spam\u001b[38;5;241m.\u001b[39mshape\n",
      "\u001b[1;31mNameError\u001b[0m: name 'ham' is not defined"
     ]
    }
   ],
   "source": [
    "ham.shape,spam.shape"
   ]
  },
  {
   "cell_type": "code",
   "execution_count": 24,
   "id": "396c2834-3055-4b83-905e-17c3d22136e9",
   "metadata": {
    "collapsed": true,
    "jupyter": {
     "outputs_hidden": true
    }
   },
   "outputs": [
    {
     "ename": "NameError",
     "evalue": "name 'pd' is not defined",
     "output_type": "error",
     "traceback": [
      "\u001b[1;31m---------------------------------------------------------------------------\u001b[0m",
      "\u001b[1;31mNameError\u001b[0m                                 Traceback (most recent call last)",
      "Cell \u001b[1;32mIn[24], line 1\u001b[0m\n\u001b[1;32m----> 1\u001b[0m data\u001b[38;5;241m=\u001b[39mpd\u001b[38;5;241m.\u001b[39mconcat([ham,spam],ignore_index\u001b[38;5;241m=\u001b[39m\u001b[38;5;28;01mTrue\u001b[39;00m)\n",
      "\u001b[1;31mNameError\u001b[0m: name 'pd' is not defined"
     ]
    }
   ],
   "source": [
    "data=pd.concat([ham,spam],ignore_index=True)"
   ]
  },
  {
   "cell_type": "code",
   "execution_count": 25,
   "id": "7e46ab2d-2e95-48d8-a83c-eefecfbbab5b",
   "metadata": {
    "collapsed": true,
    "jupyter": {
     "outputs_hidden": true
    }
   },
   "outputs": [
    {
     "ename": "NameError",
     "evalue": "name 'data' is not defined",
     "output_type": "error",
     "traceback": [
      "\u001b[1;31m---------------------------------------------------------------------------\u001b[0m",
      "\u001b[1;31mNameError\u001b[0m                                 Traceback (most recent call last)",
      "Cell \u001b[1;32mIn[25], line 1\u001b[0m\n\u001b[1;32m----> 1\u001b[0m data\u001b[38;5;241m.\u001b[39mhead()\n",
      "\u001b[1;31mNameError\u001b[0m: name 'data' is not defined"
     ]
    }
   ],
   "source": [
    "data.head()"
   ]
  },
  {
   "cell_type": "code",
   "execution_count": 26,
   "id": "e92a8877-e119-4c51-84da-092c7d61aa50",
   "metadata": {
    "collapsed": true,
    "jupyter": {
     "outputs_hidden": true
    }
   },
   "outputs": [
    {
     "ename": "NameError",
     "evalue": "name 'sns' is not defined",
     "output_type": "error",
     "traceback": [
      "\u001b[1;31m---------------------------------------------------------------------------\u001b[0m",
      "\u001b[1;31mNameError\u001b[0m                                 Traceback (most recent call last)",
      "Cell \u001b[1;32mIn[26], line 1\u001b[0m\n\u001b[1;32m----> 1\u001b[0m sns\u001b[38;5;241m.\u001b[39mcountplot(x\u001b[38;5;241m=\u001b[39mdata[\u001b[38;5;124m'\u001b[39m\u001b[38;5;124mclass\u001b[39m\u001b[38;5;124m'\u001b[39m],hue\u001b[38;5;241m=\u001b[39m[\u001b[38;5;124m'\u001b[39m\u001b[38;5;124mclass\u001b[39m\u001b[38;5;124m'\u001b[39m])\n",
      "\u001b[1;31mNameError\u001b[0m: name 'sns' is not defined"
     ]
    }
   ],
   "source": [
    "sns.countplot(x=data['class'],hue=['class'])"
   ]
  },
  {
   "cell_type": "code",
   "execution_count": 27,
   "id": "8714523f-77ee-424f-b780-ac3aab9eecb3",
   "metadata": {
    "collapsed": true,
    "jupyter": {
     "outputs_hidden": true
    }
   },
   "outputs": [
    {
     "ename": "SyntaxError",
     "evalue": "invalid syntax. Perhaps you forgot a comma? (4237916233.py, line 1)",
     "output_type": "error",
     "traceback": [
      "\u001b[1;36m  Cell \u001b[1;32mIn[27], line 1\u001b[1;36m\u001b[0m\n\u001b[1;33m    x_train,x_test,y_train,y_test=train_test_split(data['text'],data['class']x,y,test_size=.20,random_state=42)\u001b[0m\n\u001b[1;37m                                                                ^\u001b[0m\n\u001b[1;31mSyntaxError\u001b[0m\u001b[1;31m:\u001b[0m invalid syntax. Perhaps you forgot a comma?\n"
     ]
    }
   ],
   "source": [
    "x_train,x_test,y_train,y_test=train_test_split(data['text'],data['class'],test_size=.20,random_state=42)"
   ]
  },
  {
   "cell_type": "code",
   "execution_count": 28,
   "id": "9c22afab-2090-43d4-b18f-2b25dccfc967",
   "metadata": {
    "collapsed": true,
    "jupyter": {
     "outputs_hidden": true
    }
   },
   "outputs": [
    {
     "ename": "NameError",
     "evalue": "name 'Pipeline' is not defined",
     "output_type": "error",
     "traceback": [
      "\u001b[1;31m---------------------------------------------------------------------------\u001b[0m",
      "\u001b[1;31mNameError\u001b[0m                                 Traceback (most recent call last)",
      "Cell \u001b[1;32mIn[28], line 1\u001b[0m\n\u001b[1;32m----> 1\u001b[0m clf\u001b[38;5;241m=\u001b[39mPipeline([(\u001b[38;5;124m'\u001b[39m\u001b[38;5;124mtfidf\u001b[39m\u001b[38;5;124m'\u001b[39m, TfidfVectorizer()),(\u001b[38;5;124m'\u001b[39m\u001b[38;5;124mclassifier\u001b[39m\u001b[38;5;124m'\u001b[39m,RandomForestClassifier())])\n",
      "\u001b[1;31mNameError\u001b[0m: name 'Pipeline' is not defined"
     ]
    }
   ],
   "source": [
    "clf=Pipeline([('tfidf', TfidfVectorizer()),('classifier',RandomForestClassifier())])\n"
   ]
  },
  {
   "cell_type": "code",
   "execution_count": 29,
   "id": "5378b64e-af48-4ab9-96e2-28c34c62aa2a",
   "metadata": {
    "collapsed": true,
    "jupyter": {
     "outputs_hidden": true
    }
   },
   "outputs": [
    {
     "ename": "NameError",
     "evalue": "name 'clf' is not defined",
     "output_type": "error",
     "traceback": [
      "\u001b[1;31m---------------------------------------------------------------------------\u001b[0m",
      "\u001b[1;31mNameError\u001b[0m                                 Traceback (most recent call last)",
      "Cell \u001b[1;32mIn[29], line 1\u001b[0m\n\u001b[1;32m----> 1\u001b[0m clf\u001b[38;5;241m.\u001b[39mfit(x_train,y_train)\n",
      "\u001b[1;31mNameError\u001b[0m: name 'clf' is not defined"
     ]
    }
   ],
   "source": [
    "clf.fit(x_train,y_train)"
   ]
  },
  {
   "cell_type": "code",
   "execution_count": 30,
   "id": "465b0ca2-7c59-4c88-89b5-8fe2c6fe9c4f",
   "metadata": {
    "collapsed": true,
    "jupyter": {
     "outputs_hidden": true
    }
   },
   "outputs": [
    {
     "ename": "NameError",
     "evalue": "name 'clf' is not defined",
     "output_type": "error",
     "traceback": [
      "\u001b[1;31m---------------------------------------------------------------------------\u001b[0m",
      "\u001b[1;31mNameError\u001b[0m                                 Traceback (most recent call last)",
      "Cell \u001b[1;32mIn[30], line 1\u001b[0m\n\u001b[1;32m----> 1\u001b[0m y_pred\u001b[38;5;241m=\u001b[39mclf\u001b[38;5;241m.\u001b[39mpredict(x_test)\n",
      "\u001b[1;31mNameError\u001b[0m: name 'clf' is not defined"
     ]
    }
   ],
   "source": [
    "y_pred=clf.predict(x_test)"
   ]
  },
  {
   "cell_type": "code",
   "execution_count": 32,
   "id": "214b4cb6-e2dd-4566-8492-901605ee4919",
   "metadata": {
    "collapsed": true,
    "jupyter": {
     "outputs_hidden": true
    }
   },
   "outputs": [
    {
     "ename": "NameError",
     "evalue": "name 'accuracy_score' is not defined",
     "output_type": "error",
     "traceback": [
      "\u001b[1;31m---------------------------------------------------------------------------\u001b[0m",
      "\u001b[1;31mNameError\u001b[0m                                 Traceback (most recent call last)",
      "Cell \u001b[1;32mIn[32], line 1\u001b[0m\n\u001b[1;32m----> 1\u001b[0m accuracy_score(y_test,y_pred)\n",
      "\u001b[1;31mNameError\u001b[0m: name 'accuracy_score' is not defined"
     ]
    }
   ],
   "source": [
    "accuracy_score(y_test,y_pred)"
   ]
  },
  {
   "cell_type": "code",
   "execution_count": 33,
   "id": "f338aa7c-a22f-4373-8fb7-c98d531350ee",
   "metadata": {},
   "outputs": [],
   "source": [
    "#Sentiment Analysis"
   ]
  },
  {
   "cell_type": "code",
   "execution_count": 34,
   "id": "fd3c7cfc-bbe3-4997-8cff-2404c240c84c",
   "metadata": {},
   "outputs": [],
   "source": [
    "from textblob import TextBlob"
   ]
  },
  {
   "cell_type": "code",
   "execution_count": 35,
   "id": "ddee90c6-c442-4f6c-8d8d-8b09ee689992",
   "metadata": {},
   "outputs": [],
   "source": [
    "text='Zafer loves hard working'# ı hate "
   ]
  },
  {
   "cell_type": "code",
   "execution_count": 36,
   "id": "704828c0-deee-45c4-8bcd-4ec45568e3da",
   "metadata": {},
   "outputs": [],
   "source": [
    "blob=TextBlob(text)"
   ]
  },
  {
   "cell_type": "code",
   "execution_count": 37,
   "id": "ce26e375-b5eb-4bcd-8933-efcf8c4d0ed0",
   "metadata": {},
   "outputs": [
    {
     "data": {
      "text/plain": [
       "-0.2916666666666667"
      ]
     },
     "execution_count": 37,
     "metadata": {},
     "output_type": "execute_result"
    }
   ],
   "source": [
    "blob.sentiment.polarity"
   ]
  },
  {
   "cell_type": "code",
   "execution_count": 38,
   "id": "5575cf75-ea62-49b3-a3c8-6c40c7c5aab7",
   "metadata": {},
   "outputs": [
    {
     "data": {
      "text/plain": [
       "0.5416666666666666"
      ]
     },
     "execution_count": 38,
     "metadata": {},
     "output_type": "execute_result"
    }
   ],
   "source": [
    "blob.sentiment.subjectivity"
   ]
  },
  {
   "cell_type": "code",
   "execution_count": 39,
   "id": "7c3d7a7e-77dd-4576-9399-f3391ede1e81",
   "metadata": {
    "collapsed": true,
    "jupyter": {
     "outputs_hidden": true
    }
   },
   "outputs": [
    {
     "ename": "NameError",
     "evalue": "name 'df' is not defined",
     "output_type": "error",
     "traceback": [
      "\u001b[1;31m---------------------------------------------------------------------------\u001b[0m",
      "\u001b[1;31mNameError\u001b[0m                                 Traceback (most recent call last)",
      "Cell \u001b[1;32mIn[39], line 1\u001b[0m\n\u001b[1;32m----> 1\u001b[0m df[\u001b[38;5;124m'\u001b[39m\u001b[38;5;124msentiment\u001b[39m\u001b[38;5;124m'\u001b[39m]\u001b[38;5;241m=\u001b[39mdf[\u001b[38;5;124m'\u001b[39m\u001b[38;5;124mtext\u001b[39m\u001b[38;5;124m'\u001b[39m]\u001b[38;5;241m.\u001b[39mapply(blob\u001b[38;5;241m.\u001b[39msentiment\u001b[38;5;241m.\u001b[39mpolarity)\n",
      "\u001b[1;31mNameError\u001b[0m: name 'df' is not defined"
     ]
    }
   ],
   "source": [
    "#df['sentiment']=df['text'].apply(blob.sentiment.polarity)"
   ]
  },
  {
   "cell_type": "code",
   "execution_count": 40,
   "id": "2ade76dd-5e7f-4ad9-96a2-886d717ba711",
   "metadata": {
    "collapsed": true,
    "jupyter": {
     "outputs_hidden": true
    }
   },
   "outputs": [
    {
     "name": "stdout",
     "output_type": "stream",
     "text": [
      "Collecting spacy\n",
      "  Downloading spacy-3.8.4-cp312-cp312-win_amd64.whl.metadata (27 kB)\n",
      "Collecting spacy-legacy<3.1.0,>=3.0.11 (from spacy)\n",
      "  Downloading spacy_legacy-3.0.12-py2.py3-none-any.whl.metadata (2.8 kB)\n",
      "Collecting spacy-loggers<2.0.0,>=1.0.0 (from spacy)\n",
      "  Downloading spacy_loggers-1.0.5-py3-none-any.whl.metadata (23 kB)\n",
      "Collecting murmurhash<1.1.0,>=0.28.0 (from spacy)\n",
      "  Downloading murmurhash-1.0.12-cp312-cp312-win_amd64.whl.metadata (2.2 kB)\n",
      "Collecting cymem<2.1.0,>=2.0.2 (from spacy)\n",
      "  Downloading cymem-2.0.11-cp312-cp312-win_amd64.whl.metadata (8.8 kB)\n",
      "Collecting preshed<3.1.0,>=3.0.2 (from spacy)\n",
      "  Downloading preshed-3.0.9-cp312-cp312-win_amd64.whl.metadata (2.2 kB)\n",
      "Collecting thinc<8.4.0,>=8.3.4 (from spacy)\n",
      "  Downloading thinc-8.3.4-cp312-cp312-win_amd64.whl.metadata (15 kB)\n",
      "Collecting wasabi<1.2.0,>=0.9.1 (from spacy)\n",
      "  Downloading wasabi-1.1.3-py3-none-any.whl.metadata (28 kB)\n",
      "Collecting srsly<3.0.0,>=2.4.3 (from spacy)\n",
      "  Downloading srsly-2.5.1-cp312-cp312-win_amd64.whl.metadata (20 kB)\n",
      "Collecting catalogue<2.1.0,>=2.0.6 (from spacy)\n",
      "  Downloading catalogue-2.0.10-py3-none-any.whl.metadata (14 kB)\n",
      "Collecting weasel<0.5.0,>=0.1.0 (from spacy)\n",
      "  Downloading weasel-0.4.1-py3-none-any.whl.metadata (4.6 kB)\n",
      "Collecting typer<1.0.0,>=0.3.0 (from spacy)\n",
      "  Downloading typer-0.15.1-py3-none-any.whl.metadata (15 kB)\n",
      "Requirement already satisfied: tqdm<5.0.0,>=4.38.0 in c:\\users\\akbab\\.anaconda\\anacon\\lib\\site-packages (from spacy) (4.66.5)\n",
      "Requirement already satisfied: numpy>=1.19.0 in c:\\users\\akbab\\.anaconda\\anacon\\lib\\site-packages (from spacy) (1.26.4)\n",
      "Requirement already satisfied: requests<3.0.0,>=2.13.0 in c:\\users\\akbab\\.anaconda\\anacon\\lib\\site-packages (from spacy) (2.32.3)\n",
      "Requirement already satisfied: pydantic!=1.8,!=1.8.1,<3.0.0,>=1.7.4 in c:\\users\\akbab\\.anaconda\\anacon\\lib\\site-packages (from spacy) (2.8.2)\n",
      "Requirement already satisfied: jinja2 in c:\\users\\akbab\\.anaconda\\anacon\\lib\\site-packages (from spacy) (3.1.4)\n",
      "Requirement already satisfied: setuptools in c:\\users\\akbab\\.anaconda\\anacon\\lib\\site-packages (from spacy) (75.1.0)\n",
      "Requirement already satisfied: packaging>=20.0 in c:\\users\\akbab\\.anaconda\\anacon\\lib\\site-packages (from spacy) (24.1)\n",
      "Collecting langcodes<4.0.0,>=3.2.0 (from spacy)\n",
      "  Downloading langcodes-3.5.0-py3-none-any.whl.metadata (29 kB)\n",
      "Collecting language-data>=1.2 (from langcodes<4.0.0,>=3.2.0->spacy)\n",
      "  Downloading language_data-1.3.0-py3-none-any.whl.metadata (4.3 kB)\n",
      "Requirement already satisfied: annotated-types>=0.4.0 in c:\\users\\akbab\\.anaconda\\anacon\\lib\\site-packages (from pydantic!=1.8,!=1.8.1,<3.0.0,>=1.7.4->spacy) (0.6.0)\n",
      "Requirement already satisfied: pydantic-core==2.20.1 in c:\\users\\akbab\\.anaconda\\anacon\\lib\\site-packages (from pydantic!=1.8,!=1.8.1,<3.0.0,>=1.7.4->spacy) (2.20.1)\n",
      "Requirement already satisfied: typing-extensions>=4.6.1 in c:\\users\\akbab\\.anaconda\\anacon\\lib\\site-packages (from pydantic!=1.8,!=1.8.1,<3.0.0,>=1.7.4->spacy) (4.11.0)\n",
      "Requirement already satisfied: charset-normalizer<4,>=2 in c:\\users\\akbab\\.anaconda\\anacon\\lib\\site-packages (from requests<3.0.0,>=2.13.0->spacy) (3.3.2)\n",
      "Requirement already satisfied: idna<4,>=2.5 in c:\\users\\akbab\\.anaconda\\anacon\\lib\\site-packages (from requests<3.0.0,>=2.13.0->spacy) (3.7)\n",
      "Requirement already satisfied: urllib3<3,>=1.21.1 in c:\\users\\akbab\\.anaconda\\anacon\\lib\\site-packages (from requests<3.0.0,>=2.13.0->spacy) (2.2.3)\n",
      "Requirement already satisfied: certifi>=2017.4.17 in c:\\users\\akbab\\.anaconda\\anacon\\lib\\site-packages (from requests<3.0.0,>=2.13.0->spacy) (2024.8.30)\n",
      "Collecting blis<1.3.0,>=1.2.0 (from thinc<8.4.0,>=8.3.4->spacy)\n",
      "  Downloading blis-1.2.0-cp312-cp312-win_amd64.whl.metadata (7.9 kB)\n",
      "Collecting confection<1.0.0,>=0.0.1 (from thinc<8.4.0,>=8.3.4->spacy)\n",
      "  Downloading confection-0.1.5-py3-none-any.whl.metadata (19 kB)\n",
      "Requirement already satisfied: colorama in c:\\users\\akbab\\.anaconda\\anacon\\lib\\site-packages (from tqdm<5.0.0,>=4.38.0->spacy) (0.4.6)\n",
      "Requirement already satisfied: click>=8.0.0 in c:\\users\\akbab\\.anaconda\\anacon\\lib\\site-packages (from typer<1.0.0,>=0.3.0->spacy) (8.1.7)\n",
      "Collecting shellingham>=1.3.0 (from typer<1.0.0,>=0.3.0->spacy)\n",
      "  Downloading shellingham-1.5.4-py2.py3-none-any.whl.metadata (3.5 kB)\n",
      "Requirement already satisfied: rich>=10.11.0 in c:\\users\\akbab\\.anaconda\\anacon\\lib\\site-packages (from typer<1.0.0,>=0.3.0->spacy) (13.7.1)\n",
      "Collecting cloudpathlib<1.0.0,>=0.7.0 (from weasel<0.5.0,>=0.1.0->spacy)\n",
      "  Downloading cloudpathlib-0.20.0-py3-none-any.whl.metadata (14 kB)\n",
      "Requirement already satisfied: smart-open<8.0.0,>=5.2.1 in c:\\users\\akbab\\.anaconda\\anacon\\lib\\site-packages (from weasel<0.5.0,>=0.1.0->spacy) (5.2.1)\n",
      "Requirement already satisfied: MarkupSafe>=2.0 in c:\\users\\akbab\\.anaconda\\anacon\\lib\\site-packages (from jinja2->spacy) (2.1.3)\n",
      "Collecting marisa-trie>=1.1.0 (from language-data>=1.2->langcodes<4.0.0,>=3.2.0->spacy)\n",
      "  Downloading marisa_trie-1.2.1-cp312-cp312-win_amd64.whl.metadata (9.3 kB)\n",
      "Requirement already satisfied: markdown-it-py>=2.2.0 in c:\\users\\akbab\\.anaconda\\anacon\\lib\\site-packages (from rich>=10.11.0->typer<1.0.0,>=0.3.0->spacy) (2.2.0)\n",
      "Requirement already satisfied: pygments<3.0.0,>=2.13.0 in c:\\users\\akbab\\.anaconda\\anacon\\lib\\site-packages (from rich>=10.11.0->typer<1.0.0,>=0.3.0->spacy) (2.15.1)\n",
      "Requirement already satisfied: mdurl~=0.1 in c:\\users\\akbab\\.anaconda\\anacon\\lib\\site-packages (from markdown-it-py>=2.2.0->rich>=10.11.0->typer<1.0.0,>=0.3.0->spacy) (0.1.0)\n",
      "Downloading spacy-3.8.4-cp312-cp312-win_amd64.whl (11.8 MB)\n",
      "   ---------------------------------------- 0.0/11.8 MB ? eta -:--:--\n",
      "   - -------------------------------------- 0.5/11.8 MB 4.2 MB/s eta 0:00:03\n",
      "   ------------- -------------------------- 3.9/11.8 MB 11.8 MB/s eta 0:00:01\n",
      "   ------------------------ --------------- 7.3/11.8 MB 13.3 MB/s eta 0:00:01\n",
      "   ------------------------------------- -- 11.0/11.8 MB 14.9 MB/s eta 0:00:01\n",
      "   ---------------------------------------- 11.8/11.8 MB 14.5 MB/s eta 0:00:00\n",
      "Downloading catalogue-2.0.10-py3-none-any.whl (17 kB)\n",
      "Downloading cymem-2.0.11-cp312-cp312-win_amd64.whl (39 kB)\n",
      "Downloading langcodes-3.5.0-py3-none-any.whl (182 kB)\n",
      "Downloading murmurhash-1.0.12-cp312-cp312-win_amd64.whl (25 kB)\n",
      "Downloading preshed-3.0.9-cp312-cp312-win_amd64.whl (122 kB)\n",
      "Downloading spacy_legacy-3.0.12-py2.py3-none-any.whl (29 kB)\n",
      "Downloading spacy_loggers-1.0.5-py3-none-any.whl (22 kB)\n",
      "Downloading srsly-2.5.1-cp312-cp312-win_amd64.whl (632 kB)\n",
      "   ---------------------------------------- 0.0/632.6 kB ? eta -:--:--\n",
      "   ---------------------------------------- 632.6/632.6 kB 4.7 MB/s eta 0:00:00\n",
      "Downloading thinc-8.3.4-cp312-cp312-win_amd64.whl (1.5 MB)\n",
      "   ---------------------------------------- 0.0/1.5 MB ? eta -:--:--\n",
      "   ---------------------------------------- 1.5/1.5 MB 12.8 MB/s eta 0:00:00\n",
      "Downloading typer-0.15.1-py3-none-any.whl (44 kB)\n",
      "Downloading wasabi-1.1.3-py3-none-any.whl (27 kB)\n",
      "Downloading weasel-0.4.1-py3-none-any.whl (50 kB)\n",
      "Downloading blis-1.2.0-cp312-cp312-win_amd64.whl (6.3 MB)\n",
      "   ---------------------------------------- 0.0/6.3 MB ? eta -:--:--\n",
      "   -------------------- ------------------- 3.1/6.3 MB 15.3 MB/s eta 0:00:01\n",
      "   ------------------------------------ --- 5.8/6.3 MB 14.1 MB/s eta 0:00:01\n",
      "   ---------------------------------------- 6.3/6.3 MB 12.4 MB/s eta 0:00:00\n",
      "Downloading cloudpathlib-0.20.0-py3-none-any.whl (52 kB)\n",
      "Downloading confection-0.1.5-py3-none-any.whl (35 kB)\n",
      "Downloading language_data-1.3.0-py3-none-any.whl (5.4 MB)\n",
      "   ---------------------------------------- 0.0/5.4 MB ? eta -:--:--\n",
      "   ------------------------- -------------- 3.4/5.4 MB 16.7 MB/s eta 0:00:01\n",
      "   ---------------------------------------- 5.4/5.4 MB 13.1 MB/s eta 0:00:00\n",
      "Downloading shellingham-1.5.4-py2.py3-none-any.whl (9.8 kB)\n",
      "Downloading marisa_trie-1.2.1-cp312-cp312-win_amd64.whl (150 kB)\n",
      "Installing collected packages: cymem, wasabi, spacy-loggers, spacy-legacy, shellingham, murmurhash, marisa-trie, cloudpathlib, catalogue, blis, srsly, preshed, language-data, typer, langcodes, confection, weasel, thinc, spacy\n",
      "Successfully installed blis-1.2.0 catalogue-2.0.10 cloudpathlib-0.20.0 confection-0.1.5 cymem-2.0.11 langcodes-3.5.0 language-data-1.3.0 marisa-trie-1.2.1 murmurhash-1.0.12 preshed-3.0.9 shellingham-1.5.4 spacy-3.8.4 spacy-legacy-3.0.12 spacy-loggers-1.0.5 srsly-2.5.1 thinc-8.3.4 typer-0.15.1 wasabi-1.1.3 weasel-0.4.1\n",
      "Note: you may need to restart the kernel to use updated packages.\n"
     ]
    }
   ],
   "source": [
    "pip install spacy"
   ]
  },
  {
   "cell_type": "code",
   "execution_count": 44,
   "id": "655fdf16-a95d-4313-86e6-a624106d5159",
   "metadata": {
    "collapsed": true,
    "jupyter": {
     "outputs_hidden": true
    }
   },
   "outputs": [
    {
     "name": "stdout",
     "output_type": "stream",
     "text": [
      "Collecting en-core-web-md==3.8.0\n",
      "  Downloading https://github.com/explosion/spacy-models/releases/download/en_core_web_md-3.8.0/en_core_web_md-3.8.0-py3-none-any.whl (33.5 MB)\n",
      "     ---------------------------------------- 0.0/33.5 MB ? eta -:--:--\n",
      "     ---------------------------------------- 0.0/33.5 MB ? eta -:--:--\n",
      "     ---------------------------------------- 0.0/33.5 MB ? eta -:--:--\n",
      "     ---------------------------------------- 0.0/33.5 MB ? eta -:--:--\n",
      "     ---------------------------------------- 0.0/33.5 MB ? eta -:--:--\n",
      "     ---------------------------------------- 0.0/33.5 MB ? eta -:--:--\n",
      "     ---------------------------------------- 0.0/33.5 MB ? eta -:--:--\n",
      "     ---------------------------------------- 0.0/33.5 MB ? eta -:--:--\n",
      "     ---------------------------------------- 0.0/33.5 MB ? eta -:--:--\n",
      "     ---------------------------------------- 0.0/33.5 MB ? eta -:--:--\n",
      "     ---------------------------------------- 0.0/33.5 MB ? eta -:--:--\n",
      "     ---------------------------------------- 0.0/33.5 MB ? eta -:--:--\n",
      "     ---------------------------------------- 0.0/33.5 MB ? eta -:--:--\n",
      "     ---------------------------------------- 0.0/33.5 MB ? eta -:--:--\n",
      "     ---------------------------------------- 0.0/33.5 MB ? eta -:--:--\n",
      "     ---------------------------------------- 0.0/33.5 MB ? eta -:--:--\n",
      "     ---------------------------------------- 0.0/33.5 MB ? eta -:--:--\n",
      "     ---------------------------------------- 0.0/33.5 MB ? eta -:--:--\n",
      "     ---------------------------------------- 0.0/33.5 MB ? eta -:--:--\n",
      "     ---------------------------------------- 0.0/33.5 MB ? eta -:--:--\n",
      "     ---------------------------------------- 0.0/33.5 MB ? eta -:--:--\n",
      "     ---------------------------------------- 0.0/33.5 MB ? eta -:--:--\n",
      "     ---------------------------------------- 0.0/33.5 MB ? eta -:--:--\n",
      "     ---------------------------------------- 0.0/33.5 MB ? eta -:--:--\n",
      "     ---------------------------------------- 0.0/33.5 MB ? eta -:--:--\n",
      "     ---------------------------------------- 0.0/33.5 MB ? eta -:--:--\n",
      "     ---------------------------------------- 0.0/33.5 MB ? eta -:--:--\n",
      "     ---------------------------------------- 0.0/33.5 MB ? eta -:--:--\n",
      "     ---------------------------------------- 0.0/33.5 MB ? eta -:--:--\n",
      "     ---------------------------------------- 0.0/33.5 MB ? eta -:--:--\n",
      "     ---------------------------------------- 0.0/33.5 MB ? eta -:--:--\n",
      "     ---------------------------------------- 0.0/33.5 MB ? eta -:--:--\n",
      "     ---------------------------------------- 0.0/33.5 MB ? eta -:--:--\n",
      "     ---------------------------------------- 0.0/33.5 MB ? eta -:--:--\n",
      "     ---------------------------------------- 0.0/33.5 MB ? eta -:--:--\n",
      "     ---------------------------------------- 0.0/33.5 MB ? eta -:--:--\n",
      "     ---------------------------------------- 0.0/33.5 MB ? eta -:--:--\n",
      "     ---------------------------------------- 0.0/33.5 MB ? eta -:--:--\n",
      "     ---------------------------------------- 0.0/33.5 MB ? eta -:--:--\n",
      "     ---------------------------------------- 0.0/33.5 MB ? eta -:--:--\n",
      "     ---------------------------------------- 0.0/33.5 MB ? eta -:--:--\n",
      "     ---------------------------------------- 0.0/33.5 MB ? eta -:--:--\n",
      "     ---------------------------------------- 0.0/33.5 MB ? eta -:--:--\n",
      "     ---------------------------------------- 0.0/33.5 MB ? eta -:--:--\n",
      "     ---------------------------------------- 0.0/33.5 MB ? eta -:--:--\n",
      "     ---------------------------------------- 0.0/33.5 MB ? eta -:--:--\n",
      "     ---------------------------------------- 0.0/33.5 MB ? eta -:--:--\n",
      "     ---------------------------------------- 0.0/33.5 MB ? eta -:--:--\n",
      "     ---------------------------------------- 0.0/33.5 MB ? eta -:--:--\n",
      "     ---------------------------------------- 0.0/33.5 MB ? eta -:--:--\n",
      "     ---------------------------------------- 0.0/33.5 MB ? eta -:--:--\n",
      "     ---------------------------------------- 0.0/33.5 MB ? eta -:--:--\n",
      "     ---------------------------------------- 0.0/33.5 MB ? eta -:--:--\n",
      "     ---------------------------------------- 0.0/33.5 MB ? eta -:--:--\n",
      "     ---------------------------------------- 0.0/33.5 MB ? eta -:--:--\n",
      "     ---------------------------------------- 0.0/33.5 MB ? eta -:--:--\n",
      "     ---------------------------------------- 0.0/33.5 MB ? eta -:--:--\n",
      "     ---------------------------------------- 0.0/33.5 MB ? eta -:--:--\n",
      "     ---------------------------------------- 0.0/33.5 MB ? eta -:--:--\n",
      "     ---------------------------------------- 0.0/33.5 MB ? eta -:--:--\n",
      "     ---------------------------------------- 0.0/33.5 MB ? eta -:--:--\n",
      "     ---------------------------------------- 0.0/33.5 MB ? eta -:--:--\n",
      "     ---------------------------------------- 0.0/33.5 MB ? eta -:--:--\n",
      "     ---------------------------------------- 0.0/33.5 MB ? eta -:--:--\n",
      "     ---------------------------------------- 0.0/33.5 MB ? eta -:--:--\n",
      "     ---------------------------------------- 0.0/33.5 MB ? eta -:--:--\n",
      "     ---------------------------------------- 0.0/33.5 MB ? eta -:--:--\n",
      "     ---------------------------------------- 0.3/33.5 MB ? eta -:--:--\n",
      "     ---------------------------------------- 0.3/33.5 MB ? eta -:--:--\n",
      "     ---------------------------------------- 0.3/33.5 MB ? eta -:--:--\n",
      "      -------------------------------------- 0.5/33.5 MB 381.6 kB/s eta 0:01:27\n",
      "      -------------------------------------- 0.5/33.5 MB 381.6 kB/s eta 0:01:27\n",
      "      -------------------------------------- 0.8/33.5 MB 435.8 kB/s eta 0:01:16\n",
      "      -------------------------------------- 0.8/33.5 MB 435.8 kB/s eta 0:01:16\n",
      "     - ------------------------------------- 1.0/33.5 MB 484.0 kB/s eta 0:01:08\n",
      "     - ------------------------------------- 1.0/33.5 MB 484.0 kB/s eta 0:01:08\n",
      "     - ------------------------------------- 1.3/33.5 MB 524.3 kB/s eta 0:01:02\n",
      "     - ------------------------------------- 1.3/33.5 MB 524.3 kB/s eta 0:01:02\n",
      "     - ------------------------------------- 1.6/33.5 MB 551.9 kB/s eta 0:00:58\n",
      "     -- ------------------------------------ 1.8/33.5 MB 592.2 kB/s eta 0:00:54\n",
      "     -- ------------------------------------ 2.1/33.5 MB 628.0 kB/s eta 0:00:50\n",
      "     -- ------------------------------------ 2.1/33.5 MB 628.0 kB/s eta 0:00:50\n",
      "     -- ------------------------------------ 2.4/33.5 MB 658.0 kB/s eta 0:00:48\n",
      "     --- ----------------------------------- 2.6/33.5 MB 689.4 kB/s eta 0:00:45\n",
      "     --- ----------------------------------- 2.9/33.5 MB 723.2 kB/s eta 0:00:43\n",
      "     --- ----------------------------------- 3.4/33.5 MB 799.0 kB/s eta 0:00:38\n",
      "     ---- ---------------------------------- 3.7/33.5 MB 835.7 kB/s eta 0:00:36\n",
      "     ---- ---------------------------------- 4.2/33.5 MB 905.2 kB/s eta 0:00:33\n",
      "     ----- --------------------------------- 4.7/33.5 MB 973.4 kB/s eta 0:00:30\n",
      "     ------ --------------------------------- 5.2/33.5 MB 1.0 MB/s eta 0:00:28\n",
      "     ------ --------------------------------- 5.8/33.5 MB 1.1 MB/s eta 0:00:26\n",
      "     ------- -------------------------------- 6.3/33.5 MB 1.2 MB/s eta 0:00:24\n",
      "     ------- -------------------------------- 6.6/33.5 MB 1.2 MB/s eta 0:00:23\n",
      "     -------- ------------------------------- 7.3/33.5 MB 1.3 MB/s eta 0:00:21\n",
      "     --------- ------------------------------ 8.1/33.5 MB 1.3 MB/s eta 0:00:19\n",
      "     ---------- ----------------------------- 8.9/33.5 MB 1.4 MB/s eta 0:00:18\n",
      "     ----------- ---------------------------- 9.7/33.5 MB 1.5 MB/s eta 0:00:16\n",
      "     ------------ --------------------------- 10.5/33.5 MB 1.6 MB/s eta 0:00:15\n",
      "     ------------- -------------------------- 11.3/33.5 MB 1.7 MB/s eta 0:00:14\n",
      "     -------------- ------------------------- 12.1/33.5 MB 1.7 MB/s eta 0:00:13\n",
      "     --------------- ------------------------ 13.1/33.5 MB 1.8 MB/s eta 0:00:12\n",
      "     ---------------- ----------------------- 14.2/33.5 MB 1.9 MB/s eta 0:00:11\n",
      "     ------------------ --------------------- 15.5/33.5 MB 2.0 MB/s eta 0:00:09\n",
      "     -------------------- ------------------- 17.0/33.5 MB 2.2 MB/s eta 0:00:08\n",
      "     ---------------------- ----------------- 18.6/33.5 MB 2.3 MB/s eta 0:00:07\n",
      "     ------------------------ --------------- 20.4/33.5 MB 2.5 MB/s eta 0:00:06\n",
      "     -------------------------- ------------- 22.0/33.5 MB 2.6 MB/s eta 0:00:05\n",
      "     ---------------------------- ----------- 23.9/33.5 MB 2.8 MB/s eta 0:00:04\n",
      "     ------------------------------- -------- 26.0/33.5 MB 2.9 MB/s eta 0:00:03\n",
      "     -------------------------------- ------- 27.3/33.5 MB 3.0 MB/s eta 0:00:03\n",
      "     ---------------------------------- ----- 29.1/33.5 MB 3.1 MB/s eta 0:00:02\n",
      "     ------------------------------------ --- 30.7/33.5 MB 3.2 MB/s eta 0:00:01\n",
      "     -------------------------------------- - 32.5/33.5 MB 3.3 MB/s eta 0:00:01\n",
      "     ---------------------------------------- 33.5/33.5 MB 3.4 MB/s eta 0:00:00\n",
      "Installing collected packages: en-core-web-md\n",
      "Successfully installed en-core-web-md-3.8.0\n",
      "\u001b[38;5;2m[+] Download and installation successful\u001b[0m\n",
      "You can now load the package via spacy.load('en_core_web_md')\n"
     ]
    }
   ],
   "source": [
    "!python -m spacy download en_core_web_md"
   ]
  },
  {
   "cell_type": "code",
   "execution_count": 45,
   "id": "0ff135c3-8f99-4117-9d01-8fec205ea7b0",
   "metadata": {},
   "outputs": [],
   "source": [
    "import spacy"
   ]
  },
  {
   "cell_type": "code",
   "execution_count": 46,
   "id": "e316ac38-72b6-46ee-872d-b927c43d9b84",
   "metadata": {},
   "outputs": [
    {
     "ename": "SyntaxError",
     "evalue": "invalid syntax (335503900.py, line 1)",
     "output_type": "error",
     "traceback": [
      "\u001b[1;36m  Cell \u001b[1;32mIn[46], line 1\u001b[1;36m\u001b[0m\n\u001b[1;33m    pip install -U spacy\u001b[0m\n\u001b[1;37m        ^\u001b[0m\n\u001b[1;31mSyntaxError\u001b[0m\u001b[1;31m:\u001b[0m invalid syntax\n"
     ]
    }
   ],
   "source": [
    "pip install -U spacy\n",
    "pip install -U pydantic"
   ]
  },
  {
   "cell_type": "markdown",
   "id": "bae89253-2fc3-4bd9-9dc2-cf2c6ae51c17",
   "metadata": {},
   "source": [
    "+ Tokenization\n",
    "+ Named Entity Recognition\n",
    "+ Topic Modelling \n",
    "+ PoS taggin\n",
    "+ Lemma Stemma"
   ]
  },
  {
   "cell_type": "code",
   "execution_count": 47,
   "id": "f1695555-b14a-4eb4-98ac-21589bc65713",
   "metadata": {},
   "outputs": [],
   "source": [
    "nlp=spacy.load(name='en_core_web_md')"
   ]
  },
  {
   "cell_type": "code",
   "execution_count": 49,
   "id": "8bb3dc78-d70f-42d4-b2e6-3ebd0390b8ec",
   "metadata": {},
   "outputs": [],
   "source": [
    "s1='''If the time has come to set sail,\n",
    "A ship departs this port for the unknown.\n",
    "\n",
    "It departs in silence, as if it had no passengers;\n",
    "Neither a handkerchief nor an arm is waved in its departure.'''"
   ]
  },
  {
   "cell_type": "code",
   "execution_count": 51,
   "id": "d27f0f8d-8201-47a8-8de4-a0c2d4e0fb18",
   "metadata": {
    "collapsed": true,
    "jupyter": {
     "outputs_hidden": true
    }
   },
   "outputs": [
    {
     "name": "stdout",
     "output_type": "stream",
     "text": [
      "['If', 'the', 'time', 'has', 'come', 'to', 'set', 'sail,', 'A', 'ship', 'departs', 'this', 'port', 'for', 'the', 'unknown.', 'It', 'departs', 'in', 'silence,', 'as', 'if', 'it', 'had', 'no', 'passengers;', 'Neither', 'a', 'handkerchief', 'nor', 'an', 'arm', 'is', 'waved', 'in', 'its', 'departure.']\n"
     ]
    }
   ],
   "source": [
    "print(s1.split())"
   ]
  },
  {
   "cell_type": "code",
   "execution_count": 52,
   "id": "86eb24a0-ad3c-476d-97b2-a62e6077e4df",
   "metadata": {},
   "outputs": [],
   "source": [
    "doc1=nlp(s1)"
   ]
  },
  {
   "cell_type": "code",
   "execution_count": 55,
   "id": "95df022c-34b2-4f6a-b214-2a4f763bc8c8",
   "metadata": {
    "collapsed": true,
    "jupyter": {
     "outputs_hidden": true
    }
   },
   "outputs": [
    {
     "name": "stdout",
     "output_type": "stream",
     "text": [
      "If\n",
      "the\n",
      "time\n",
      "has\n",
      "come\n",
      "to\n",
      "set\n",
      "sail\n",
      ",\n",
      "\n",
      "\n",
      "A\n",
      "ship\n",
      "departs\n",
      "this\n",
      "port\n",
      "for\n",
      "the\n",
      "unknown\n",
      ".\n",
      "\n",
      "\n",
      "\n",
      "It\n",
      "departs\n",
      "in\n",
      "silence\n",
      ",\n",
      "as\n",
      "if\n",
      "it\n",
      "had\n",
      "no\n",
      "passengers\n",
      ";\n",
      "\n",
      "\n",
      "Neither\n",
      "a\n",
      "handkerchief\n",
      "nor\n",
      "an\n",
      "arm\n",
      "is\n",
      "waved\n",
      "in\n",
      "its\n",
      "departure\n",
      ".\n"
     ]
    }
   ],
   "source": [
    "for token in doc1:\n",
    "    print(token)\n",
    "    [x for x in doc1]"
   ]
  },
  {
   "cell_type": "code",
   "execution_count": 56,
   "id": "64b8a7de-863b-49aa-b28c-e50db61fd53f",
   "metadata": {},
   "outputs": [],
   "source": [
    "s1=[x for x in doc1]"
   ]
  },
  {
   "cell_type": "code",
   "execution_count": 60,
   "id": "b16dd538-b810-4dd7-8fa4-2f4921b6efa0",
   "metadata": {
    "collapsed": true,
    "jupyter": {
     "outputs_hidden": true
    }
   },
   "outputs": [
    {
     "data": {
      "text/plain": [
       "['if',\n",
       " 'the',\n",
       " 'time',\n",
       " 'have',\n",
       " 'come',\n",
       " 'to',\n",
       " 'set',\n",
       " 'sail',\n",
       " ',',\n",
       " '\\n',\n",
       " 'a',\n",
       " 'ship',\n",
       " 'depart',\n",
       " 'this',\n",
       " 'port',\n",
       " 'for',\n",
       " 'the',\n",
       " 'unknown',\n",
       " '.',\n",
       " '\\n\\n',\n",
       " 'it',\n",
       " 'depart',\n",
       " 'in',\n",
       " 'silence',\n",
       " ',',\n",
       " 'as',\n",
       " 'if',\n",
       " 'it',\n",
       " 'have',\n",
       " 'no',\n",
       " 'passenger',\n",
       " ';',\n",
       " '\\n',\n",
       " 'neither',\n",
       " 'a',\n",
       " 'handkerchief',\n",
       " 'nor',\n",
       " 'an',\n",
       " 'arm',\n",
       " 'be',\n",
       " 'wave',\n",
       " 'in',\n",
       " 'its',\n",
       " 'departure',\n",
       " '.']"
      ]
     },
     "execution_count": 60,
     "metadata": {},
     "output_type": "execute_result"
    }
   ],
   "source": [
    "[x.lemma_ for x in s1]"
   ]
  },
  {
   "cell_type": "code",
   "execution_count": 61,
   "id": "dc4c4351-1ae8-4cf8-9c1a-b008c13f8fff",
   "metadata": {},
   "outputs": [],
   "source": [
    "doc=nlp(\"Apple is looking at buying U.K. startup for $1 billion\")"
   ]
  },
  {
   "cell_type": "code",
   "execution_count": 63,
   "id": "260ffbdc-0ddc-44ed-a03a-44ec7bed44ac",
   "metadata": {
    "collapsed": true,
    "jupyter": {
     "outputs_hidden": true
    }
   },
   "outputs": [
    {
     "name": "stdout",
     "output_type": "stream",
     "text": [
      "Apple Apple PROPN NNP\n",
      "is be AUX VBZ\n",
      "looking look VERB VBG\n",
      "at at ADP IN\n",
      "buying buy VERB VBG\n",
      "U.K. U.K. PROPN NNP\n",
      "startup startup NOUN NN\n",
      "for for ADP IN\n",
      "$ $ SYM $\n",
      "1 1 NUM CD\n",
      "billion billion NUM CD\n"
     ]
    }
   ],
   "source": [
    "for token in doc:\n",
    "    print(token.text, token.lemma_, token.pos_, token.tag_)"
   ]
  },
  {
   "cell_type": "code",
   "execution_count": 64,
   "id": "366f04ad-6679-46d0-bcd6-228ed997e13a",
   "metadata": {},
   "outputs": [],
   "source": [
    "from spacy import displacy"
   ]
  },
  {
   "cell_type": "code",
   "execution_count": 65,
   "id": "3f92abe8-1a31-4181-b37e-c940dd348d0f",
   "metadata": {
    "collapsed": true,
    "jupyter": {
     "outputs_hidden": true
    }
   },
   "outputs": [
    {
     "data": {
      "text/html": [
       "<span class=\"tex2jax_ignore\"><svg xmlns=\"http://www.w3.org/2000/svg\" xmlns:xlink=\"http://www.w3.org/1999/xlink\" xml:lang=\"en\" id=\"1be42cf8f4584905965a0db09223daa4-0\" class=\"displacy\" width=\"1975\" height=\"399.5\" direction=\"ltr\" style=\"max-width: none; height: 399.5px; color: #000000; background: #ffffff; font-family: Arial; direction: ltr\">\n",
       "<text class=\"displacy-token\" fill=\"currentColor\" text-anchor=\"middle\" y=\"309.5\">\n",
       "    <tspan class=\"displacy-word\" fill=\"currentColor\" x=\"50\">Apple</tspan>\n",
       "    <tspan class=\"displacy-tag\" dy=\"2em\" fill=\"currentColor\" x=\"50\">PROPN</tspan>\n",
       "</text>\n",
       "\n",
       "<text class=\"displacy-token\" fill=\"currentColor\" text-anchor=\"middle\" y=\"309.5\">\n",
       "    <tspan class=\"displacy-word\" fill=\"currentColor\" x=\"225\">is</tspan>\n",
       "    <tspan class=\"displacy-tag\" dy=\"2em\" fill=\"currentColor\" x=\"225\">AUX</tspan>\n",
       "</text>\n",
       "\n",
       "<text class=\"displacy-token\" fill=\"currentColor\" text-anchor=\"middle\" y=\"309.5\">\n",
       "    <tspan class=\"displacy-word\" fill=\"currentColor\" x=\"400\">looking</tspan>\n",
       "    <tspan class=\"displacy-tag\" dy=\"2em\" fill=\"currentColor\" x=\"400\">VERB</tspan>\n",
       "</text>\n",
       "\n",
       "<text class=\"displacy-token\" fill=\"currentColor\" text-anchor=\"middle\" y=\"309.5\">\n",
       "    <tspan class=\"displacy-word\" fill=\"currentColor\" x=\"575\">at</tspan>\n",
       "    <tspan class=\"displacy-tag\" dy=\"2em\" fill=\"currentColor\" x=\"575\">ADP</tspan>\n",
       "</text>\n",
       "\n",
       "<text class=\"displacy-token\" fill=\"currentColor\" text-anchor=\"middle\" y=\"309.5\">\n",
       "    <tspan class=\"displacy-word\" fill=\"currentColor\" x=\"750\">buying</tspan>\n",
       "    <tspan class=\"displacy-tag\" dy=\"2em\" fill=\"currentColor\" x=\"750\">VERB</tspan>\n",
       "</text>\n",
       "\n",
       "<text class=\"displacy-token\" fill=\"currentColor\" text-anchor=\"middle\" y=\"309.5\">\n",
       "    <tspan class=\"displacy-word\" fill=\"currentColor\" x=\"925\">U.K.</tspan>\n",
       "    <tspan class=\"displacy-tag\" dy=\"2em\" fill=\"currentColor\" x=\"925\">PROPN</tspan>\n",
       "</text>\n",
       "\n",
       "<text class=\"displacy-token\" fill=\"currentColor\" text-anchor=\"middle\" y=\"309.5\">\n",
       "    <tspan class=\"displacy-word\" fill=\"currentColor\" x=\"1100\">startup</tspan>\n",
       "    <tspan class=\"displacy-tag\" dy=\"2em\" fill=\"currentColor\" x=\"1100\">NOUN</tspan>\n",
       "</text>\n",
       "\n",
       "<text class=\"displacy-token\" fill=\"currentColor\" text-anchor=\"middle\" y=\"309.5\">\n",
       "    <tspan class=\"displacy-word\" fill=\"currentColor\" x=\"1275\">for</tspan>\n",
       "    <tspan class=\"displacy-tag\" dy=\"2em\" fill=\"currentColor\" x=\"1275\">ADP</tspan>\n",
       "</text>\n",
       "\n",
       "<text class=\"displacy-token\" fill=\"currentColor\" text-anchor=\"middle\" y=\"309.5\">\n",
       "    <tspan class=\"displacy-word\" fill=\"currentColor\" x=\"1450\">$</tspan>\n",
       "    <tspan class=\"displacy-tag\" dy=\"2em\" fill=\"currentColor\" x=\"1450\">SYM</tspan>\n",
       "</text>\n",
       "\n",
       "<text class=\"displacy-token\" fill=\"currentColor\" text-anchor=\"middle\" y=\"309.5\">\n",
       "    <tspan class=\"displacy-word\" fill=\"currentColor\" x=\"1625\">1</tspan>\n",
       "    <tspan class=\"displacy-tag\" dy=\"2em\" fill=\"currentColor\" x=\"1625\">NUM</tspan>\n",
       "</text>\n",
       "\n",
       "<text class=\"displacy-token\" fill=\"currentColor\" text-anchor=\"middle\" y=\"309.5\">\n",
       "    <tspan class=\"displacy-word\" fill=\"currentColor\" x=\"1800\">billion</tspan>\n",
       "    <tspan class=\"displacy-tag\" dy=\"2em\" fill=\"currentColor\" x=\"1800\">NUM</tspan>\n",
       "</text>\n",
       "\n",
       "<g class=\"displacy-arrow\">\n",
       "    <path class=\"displacy-arc\" id=\"arrow-1be42cf8f4584905965a0db09223daa4-0-0\" stroke-width=\"2px\" d=\"M70,264.5 C70,89.5 395.0,89.5 395.0,264.5\" fill=\"none\" stroke=\"currentColor\"/>\n",
       "    <text dy=\"1.25em\" style=\"font-size: 0.8em; letter-spacing: 1px\">\n",
       "        <textPath xlink:href=\"#arrow-1be42cf8f4584905965a0db09223daa4-0-0\" class=\"displacy-label\" startOffset=\"50%\" side=\"left\" fill=\"currentColor\" text-anchor=\"middle\">nsubj</textPath>\n",
       "    </text>\n",
       "    <path class=\"displacy-arrowhead\" d=\"M70,266.5 L62,254.5 78,254.5\" fill=\"currentColor\"/>\n",
       "</g>\n",
       "\n",
       "<g class=\"displacy-arrow\">\n",
       "    <path class=\"displacy-arc\" id=\"arrow-1be42cf8f4584905965a0db09223daa4-0-1\" stroke-width=\"2px\" d=\"M245,264.5 C245,177.0 390.0,177.0 390.0,264.5\" fill=\"none\" stroke=\"currentColor\"/>\n",
       "    <text dy=\"1.25em\" style=\"font-size: 0.8em; letter-spacing: 1px\">\n",
       "        <textPath xlink:href=\"#arrow-1be42cf8f4584905965a0db09223daa4-0-1\" class=\"displacy-label\" startOffset=\"50%\" side=\"left\" fill=\"currentColor\" text-anchor=\"middle\">aux</textPath>\n",
       "    </text>\n",
       "    <path class=\"displacy-arrowhead\" d=\"M245,266.5 L237,254.5 253,254.5\" fill=\"currentColor\"/>\n",
       "</g>\n",
       "\n",
       "<g class=\"displacy-arrow\">\n",
       "    <path class=\"displacy-arc\" id=\"arrow-1be42cf8f4584905965a0db09223daa4-0-2\" stroke-width=\"2px\" d=\"M420,264.5 C420,177.0 565.0,177.0 565.0,264.5\" fill=\"none\" stroke=\"currentColor\"/>\n",
       "    <text dy=\"1.25em\" style=\"font-size: 0.8em; letter-spacing: 1px\">\n",
       "        <textPath xlink:href=\"#arrow-1be42cf8f4584905965a0db09223daa4-0-2\" class=\"displacy-label\" startOffset=\"50%\" side=\"left\" fill=\"currentColor\" text-anchor=\"middle\">prep</textPath>\n",
       "    </text>\n",
       "    <path class=\"displacy-arrowhead\" d=\"M565.0,266.5 L573.0,254.5 557.0,254.5\" fill=\"currentColor\"/>\n",
       "</g>\n",
       "\n",
       "<g class=\"displacy-arrow\">\n",
       "    <path class=\"displacy-arc\" id=\"arrow-1be42cf8f4584905965a0db09223daa4-0-3\" stroke-width=\"2px\" d=\"M595,264.5 C595,177.0 740.0,177.0 740.0,264.5\" fill=\"none\" stroke=\"currentColor\"/>\n",
       "    <text dy=\"1.25em\" style=\"font-size: 0.8em; letter-spacing: 1px\">\n",
       "        <textPath xlink:href=\"#arrow-1be42cf8f4584905965a0db09223daa4-0-3\" class=\"displacy-label\" startOffset=\"50%\" side=\"left\" fill=\"currentColor\" text-anchor=\"middle\">pcomp</textPath>\n",
       "    </text>\n",
       "    <path class=\"displacy-arrowhead\" d=\"M740.0,266.5 L748.0,254.5 732.0,254.5\" fill=\"currentColor\"/>\n",
       "</g>\n",
       "\n",
       "<g class=\"displacy-arrow\">\n",
       "    <path class=\"displacy-arc\" id=\"arrow-1be42cf8f4584905965a0db09223daa4-0-4\" stroke-width=\"2px\" d=\"M945,264.5 C945,177.0 1090.0,177.0 1090.0,264.5\" fill=\"none\" stroke=\"currentColor\"/>\n",
       "    <text dy=\"1.25em\" style=\"font-size: 0.8em; letter-spacing: 1px\">\n",
       "        <textPath xlink:href=\"#arrow-1be42cf8f4584905965a0db09223daa4-0-4\" class=\"displacy-label\" startOffset=\"50%\" side=\"left\" fill=\"currentColor\" text-anchor=\"middle\">compound</textPath>\n",
       "    </text>\n",
       "    <path class=\"displacy-arrowhead\" d=\"M945,266.5 L937,254.5 953,254.5\" fill=\"currentColor\"/>\n",
       "</g>\n",
       "\n",
       "<g class=\"displacy-arrow\">\n",
       "    <path class=\"displacy-arc\" id=\"arrow-1be42cf8f4584905965a0db09223daa4-0-5\" stroke-width=\"2px\" d=\"M770,264.5 C770,89.5 1095.0,89.5 1095.0,264.5\" fill=\"none\" stroke=\"currentColor\"/>\n",
       "    <text dy=\"1.25em\" style=\"font-size: 0.8em; letter-spacing: 1px\">\n",
       "        <textPath xlink:href=\"#arrow-1be42cf8f4584905965a0db09223daa4-0-5\" class=\"displacy-label\" startOffset=\"50%\" side=\"left\" fill=\"currentColor\" text-anchor=\"middle\">dobj</textPath>\n",
       "    </text>\n",
       "    <path class=\"displacy-arrowhead\" d=\"M1095.0,266.5 L1103.0,254.5 1087.0,254.5\" fill=\"currentColor\"/>\n",
       "</g>\n",
       "\n",
       "<g class=\"displacy-arrow\">\n",
       "    <path class=\"displacy-arc\" id=\"arrow-1be42cf8f4584905965a0db09223daa4-0-6\" stroke-width=\"2px\" d=\"M1120,264.5 C1120,177.0 1265.0,177.0 1265.0,264.5\" fill=\"none\" stroke=\"currentColor\"/>\n",
       "    <text dy=\"1.25em\" style=\"font-size: 0.8em; letter-spacing: 1px\">\n",
       "        <textPath xlink:href=\"#arrow-1be42cf8f4584905965a0db09223daa4-0-6\" class=\"displacy-label\" startOffset=\"50%\" side=\"left\" fill=\"currentColor\" text-anchor=\"middle\">prep</textPath>\n",
       "    </text>\n",
       "    <path class=\"displacy-arrowhead\" d=\"M1265.0,266.5 L1273.0,254.5 1257.0,254.5\" fill=\"currentColor\"/>\n",
       "</g>\n",
       "\n",
       "<g class=\"displacy-arrow\">\n",
       "    <path class=\"displacy-arc\" id=\"arrow-1be42cf8f4584905965a0db09223daa4-0-7\" stroke-width=\"2px\" d=\"M1470,264.5 C1470,89.5 1795.0,89.5 1795.0,264.5\" fill=\"none\" stroke=\"currentColor\"/>\n",
       "    <text dy=\"1.25em\" style=\"font-size: 0.8em; letter-spacing: 1px\">\n",
       "        <textPath xlink:href=\"#arrow-1be42cf8f4584905965a0db09223daa4-0-7\" class=\"displacy-label\" startOffset=\"50%\" side=\"left\" fill=\"currentColor\" text-anchor=\"middle\">quantmod</textPath>\n",
       "    </text>\n",
       "    <path class=\"displacy-arrowhead\" d=\"M1470,266.5 L1462,254.5 1478,254.5\" fill=\"currentColor\"/>\n",
       "</g>\n",
       "\n",
       "<g class=\"displacy-arrow\">\n",
       "    <path class=\"displacy-arc\" id=\"arrow-1be42cf8f4584905965a0db09223daa4-0-8\" stroke-width=\"2px\" d=\"M1645,264.5 C1645,177.0 1790.0,177.0 1790.0,264.5\" fill=\"none\" stroke=\"currentColor\"/>\n",
       "    <text dy=\"1.25em\" style=\"font-size: 0.8em; letter-spacing: 1px\">\n",
       "        <textPath xlink:href=\"#arrow-1be42cf8f4584905965a0db09223daa4-0-8\" class=\"displacy-label\" startOffset=\"50%\" side=\"left\" fill=\"currentColor\" text-anchor=\"middle\">compound</textPath>\n",
       "    </text>\n",
       "    <path class=\"displacy-arrowhead\" d=\"M1645,266.5 L1637,254.5 1653,254.5\" fill=\"currentColor\"/>\n",
       "</g>\n",
       "\n",
       "<g class=\"displacy-arrow\">\n",
       "    <path class=\"displacy-arc\" id=\"arrow-1be42cf8f4584905965a0db09223daa4-0-9\" stroke-width=\"2px\" d=\"M1295,264.5 C1295,2.0 1800.0,2.0 1800.0,264.5\" fill=\"none\" stroke=\"currentColor\"/>\n",
       "    <text dy=\"1.25em\" style=\"font-size: 0.8em; letter-spacing: 1px\">\n",
       "        <textPath xlink:href=\"#arrow-1be42cf8f4584905965a0db09223daa4-0-9\" class=\"displacy-label\" startOffset=\"50%\" side=\"left\" fill=\"currentColor\" text-anchor=\"middle\">pobj</textPath>\n",
       "    </text>\n",
       "    <path class=\"displacy-arrowhead\" d=\"M1800.0,266.5 L1808.0,254.5 1792.0,254.5\" fill=\"currentColor\"/>\n",
       "</g>\n",
       "</svg></span>"
      ],
      "text/plain": [
       "<IPython.core.display.HTML object>"
      ]
     },
     "metadata": {},
     "output_type": "display_data"
    }
   ],
   "source": [
    "displacy.render(doc,style='dep')"
   ]
  },
  {
   "cell_type": "code",
   "execution_count": 66,
   "id": "42c13a7c-520c-4a64-b712-6fe338c5a43d",
   "metadata": {},
   "outputs": [],
   "source": [
    "# Named Entity Recognition NER "
   ]
  },
  {
   "cell_type": "code",
   "execution_count": 67,
   "id": "3c1dae39-9061-45cb-b154-597ff72b3513",
   "metadata": {},
   "outputs": [],
   "source": [
    "text=\"When Zafer started working on self driving card at Google in 2018 in San Francisco, few people believed him. But now he is working at Cern and Nasa\""
   ]
  },
  {
   "cell_type": "code",
   "execution_count": 68,
   "id": "757ced89-554b-4f1d-8b50-e4a4eb7ee640",
   "metadata": {},
   "outputs": [],
   "source": [
    "doc=nlp(text)"
   ]
  },
  {
   "cell_type": "code",
   "execution_count": 69,
   "id": "9794642b-6215-409c-9759-d2f1efbc509e",
   "metadata": {
    "scrolled": true
   },
   "outputs": [
    {
     "data": {
      "text/html": [
       "<span class=\"tex2jax_ignore\"><div class=\"entities\" style=\"line-height: 2.5; direction: ltr\">When \n",
       "<mark class=\"entity\" style=\"background: #aa9cfc; padding: 0.45em 0.6em; margin: 0 0.25em; line-height: 1; border-radius: 0.35em;\">\n",
       "    Zafer\n",
       "    <span style=\"font-size: 0.8em; font-weight: bold; line-height: 1; border-radius: 0.35em; vertical-align: middle; margin-left: 0.5rem\">PERSON</span>\n",
       "</mark>\n",
       " started working on self driving card at \n",
       "<mark class=\"entity\" style=\"background: #7aecec; padding: 0.45em 0.6em; margin: 0 0.25em; line-height: 1; border-radius: 0.35em;\">\n",
       "    Google\n",
       "    <span style=\"font-size: 0.8em; font-weight: bold; line-height: 1; border-radius: 0.35em; vertical-align: middle; margin-left: 0.5rem\">ORG</span>\n",
       "</mark>\n",
       " in \n",
       "<mark class=\"entity\" style=\"background: #bfe1d9; padding: 0.45em 0.6em; margin: 0 0.25em; line-height: 1; border-radius: 0.35em;\">\n",
       "    2018\n",
       "    <span style=\"font-size: 0.8em; font-weight: bold; line-height: 1; border-radius: 0.35em; vertical-align: middle; margin-left: 0.5rem\">DATE</span>\n",
       "</mark>\n",
       " in \n",
       "<mark class=\"entity\" style=\"background: #feca74; padding: 0.45em 0.6em; margin: 0 0.25em; line-height: 1; border-radius: 0.35em;\">\n",
       "    San Francisco\n",
       "    <span style=\"font-size: 0.8em; font-weight: bold; line-height: 1; border-radius: 0.35em; vertical-align: middle; margin-left: 0.5rem\">GPE</span>\n",
       "</mark>\n",
       ", few people believed him. But now he is working at \n",
       "<mark class=\"entity\" style=\"background: #c887fb; padding: 0.45em 0.6em; margin: 0 0.25em; line-height: 1; border-radius: 0.35em;\">\n",
       "    Cern\n",
       "    <span style=\"font-size: 0.8em; font-weight: bold; line-height: 1; border-radius: 0.35em; vertical-align: middle; margin-left: 0.5rem\">NORP</span>\n",
       "</mark>\n",
       " and \n",
       "<mark class=\"entity\" style=\"background: #7aecec; padding: 0.45em 0.6em; margin: 0 0.25em; line-height: 1; border-radius: 0.35em;\">\n",
       "    Nasa\n",
       "    <span style=\"font-size: 0.8em; font-weight: bold; line-height: 1; border-radius: 0.35em; vertical-align: middle; margin-left: 0.5rem\">ORG</span>\n",
       "</mark>\n",
       "</div></span>"
      ],
      "text/plain": [
       "<IPython.core.display.HTML object>"
      ]
     },
     "metadata": {},
     "output_type": "display_data"
    }
   ],
   "source": [
    "displacy.render(doc,style='ent')"
   ]
  },
  {
   "cell_type": "code",
   "execution_count": 70,
   "id": "3ab7f3fe-2e2f-410b-9dec-e545b0b4a5ed",
   "metadata": {
    "scrolled": true
   },
   "outputs": [
    {
     "ename": "SyntaxError",
     "evalue": "invalid syntax (993409551.py, line 1)",
     "output_type": "error",
     "traceback": [
      "\u001b[1;36m  Cell \u001b[1;32mIn[70], line 1\u001b[1;36m\u001b[0m\n\u001b[1;33m    When <person>Zafer</person>\u001b[0m\n\u001b[1;37m                       ^\u001b[0m\n\u001b[1;31mSyntaxError\u001b[0m\u001b[1;31m:\u001b[0m invalid syntax\n"
     ]
    }
   ],
   "source": [
    "When <person>Zafer</person>"
   ]
  },
  {
   "cell_type": "code",
   "execution_count": null,
   "id": "2619acb8-74c4-4460-aa8c-87dc4ce60050",
   "metadata": {},
   "outputs": [],
   "source": []
  }
 ],
 "metadata": {
  "kernelspec": {
   "display_name": "Python 3 (ipykernel)",
   "language": "python",
   "name": "python3"
  },
  "language_info": {
   "codemirror_mode": {
    "name": "ipython",
    "version": 3
   },
   "file_extension": ".py",
   "mimetype": "text/x-python",
   "name": "python",
   "nbconvert_exporter": "python",
   "pygments_lexer": "ipython3",
   "version": "3.12.7"
  }
 },
 "nbformat": 4,
 "nbformat_minor": 5
}
