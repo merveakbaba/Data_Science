{
 "cells": [
  {
   "cell_type": "markdown",
   "id": "c0623e6a-5124-4246-8d51-e24d512af2ab",
   "metadata": {},
   "source": [
    ", müşteri segmentasyonu yapmak için RFM analizi (Recency, Frequency, Monetary) ve K-Means kümeleme yöntemleri\n",
    "\n"
   ]
  },
  {
   "cell_type": "code",
   "execution_count": 18,
   "id": "cd69c563-d451-48ce-be57-2c0bd92e7da4",
   "metadata": {},
   "outputs": [],
   "source": [
    "import pandas as pd\n",
    "import sqlite3\n",
    "import datetime as dt\n",
    "import matplotlib.pyplot as plt\n",
    "import seaborn as sns\n",
    "from sklearn.cluster import KMeans\n",
    "from sklearn.preprocessing import StandardScaler"
   ]
  },
  {
   "cell_type": "code",
   "execution_count": 19,
   "id": "8c92fa6f-8ff2-47a2-8bca-3951e0f81127",
   "metadata": {
    "collapsed": true,
    "jupyter": {
     "outputs_hidden": true
    }
   },
   "outputs": [
    {
     "name": "stdout",
     "output_type": "stream",
     "text": [
      "   Customers.id Customers.fname Customers.lname Customers.company  \\\n",
      "0           797         Christy            Dill          Company0   \n",
      "1             3            John           Smith          Company1   \n",
      "2             3            John           Smith          Company1   \n",
      "3             4           James        Anderson               NaN   \n",
      "4             5         Abraham          Pollak          Company3   \n",
      "\n",
      "   Customers.create_date  Customers.status  Customers.mailing  \\\n",
      "0             1426018724               NaN                NaN   \n",
      "1             1386089139               NaN                NaN   \n",
      "2             1386089139               NaN                NaN   \n",
      "3             1386780263               NaN                NaN   \n",
      "4             1386861599               0.0                0.0   \n",
      "\n",
      "   Customers.reminders  Customers.tax_exempt  Customers.account_id  ...  \\\n",
      "0                  NaN                   NaN                   NaN  ...   \n",
      "1                  NaN                   NaN                   NaN  ...   \n",
      "2                  NaN                   NaN                   NaN  ...   \n",
      "3                  NaN                   NaN                   NaN  ...   \n",
      "4                  NaN                   NaN                   NaN  ...   \n",
      "\n",
      "   Products.google_shopping_label  Products.product_option    Products.size  \\\n",
      "0                             NaN                      NaN              NaN   \n",
      "1                             NaN                      NaN              NaN   \n",
      "2                             NaN                      NaN  2 x Extra large   \n",
      "3                             NaN                      NaN              NaN   \n",
      "4                             NaN                      NaN              NaN   \n",
      "\n",
      "   Products.material  Products.arm_style  Products.leg_style  \\\n",
      "0                NaN                 NaN                 NaN   \n",
      "1                NaN                 NaN                 NaN   \n",
      "2            Nitrile                 NaN                 NaN   \n",
      "3                NaN                 NaN                 NaN   \n",
      "4                NaN                 NaN                 NaN   \n",
      "\n",
      "   Products.seat_size Products.family_id Products.saved_status  \\\n",
      "0                 NaN            PF61071                   0.0   \n",
      "1                 NaN            PF02132                   NaN   \n",
      "2                 NaN            PF00342                   0.0   \n",
      "3                 NaN            PF04970                   NaN   \n",
      "4                 NaN            PF03045                   NaN   \n",
      "\n",
      "  Products.freight_cost  \n",
      "0                   NaN  \n",
      "1                   NaN  \n",
      "2                   NaN  \n",
      "3                   NaN  \n",
      "4                   NaN  \n",
      "\n",
      "[5 rows x 181 columns]\n",
      "Index(['Customers.id', 'Customers.fname', 'Customers.lname',\n",
      "       'Customers.company', 'Customers.create_date', 'Customers.status',\n",
      "       'Customers.mailing', 'Customers.reminders', 'Customers.tax_exempt',\n",
      "       'Customers.account_id',\n",
      "       ...\n",
      "       'Products.google_shopping_label', 'Products.product_option',\n",
      "       'Products.size', 'Products.material', 'Products.arm_style',\n",
      "       'Products.leg_style', 'Products.seat_size', 'Products.family_id',\n",
      "       'Products.saved_status', 'Products.freight_cost'],\n",
      "      dtype='object', length=181)\n"
     ]
    },
    {
     "name": "stderr",
     "output_type": "stream",
     "text": [
      "C:\\Users\\akbab\\AppData\\Local\\Temp\\ipykernel_24420\\171104948.py:2: DtypeWarning: Columns (20,33,73,106,158) have mixed types. Specify dtype option on import or set low_memory=False.\n",
      "  df = pd.read_csv(\"PBL5recommendationdata.csv\", encoding=\"latin-1\")\n"
     ]
    }
   ],
   "source": [
    "# CSV dosyasını oku\n",
    "df = pd.read_csv(\"PBL5recommendationdata.csv\", encoding=\"latin-1\")\n",
    "\n",
    "# İlk satırlara göz atalım\n",
    "print(df.head())\n",
    "\n",
    "# Sütun isimlerini kontrol edelim\n",
    "print(df.columns)\n"
   ]
  },
  {
   "cell_type": "code",
   "execution_count": 23,
   "id": "63f7e1df-5846-42e2-88bc-fe10108d2bce",
   "metadata": {},
   "outputs": [],
   "source": [
    "# Müşteri bilgilerini içeren tabloyu oluştur\n",
    "customers = df[[\n",
    "    'Customers.id', 'Customers.fname', 'Customers.lname', 'Customers.company'\n",
    "]].rename(columns={'Customers.id': 'CustomerID'})\n",
    "\n",
    "# Ürün bilgilerini içeren tabloyu oluştur\n",
    "products = df[[\n",
    "    'Products.id', 'Products.name', 'Products.price'\n",
    "]].rename(columns={'Products.id': 'ProductID'})\n",
    "\n",
    "# Sipariş bilgilerini içeren tabloyu oluştur\n",
    "orders = df[[\n",
    "    'Orders.id', 'Orders.customer_id', 'Orders.placed_date', 'Orders.total'\n",
    "]].rename(columns={'Orders.customer_id': 'CustomerID', 'Orders.placed_date': 'OrderDate', 'Orders.total': 'TotalAmount'})\n"
   ]
  },
  {
   "cell_type": "code",
   "execution_count": 24,
   "id": "e931def3-801a-4a6a-95a7-cc9df67cc95a",
   "metadata": {},
   "outputs": [],
   "source": [
    "# SQLite veritabanı oluştur\n",
    "conn = sqlite3.connect(\"rfm_database.db\")\n",
    "\n",
    "# DataFrame'leri SQL tablolarına dönüştür\n",
    "customers.to_sql(\"customers\", conn, if_exists=\"replace\", index=False)\n",
    "products.to_sql(\"products\", conn, if_exists=\"replace\", index=False)\n",
    "orders.to_sql(\"orders\", conn, if_exists=\"replace\", index=False)\n",
    "\n",
    "# Veritabanı bağlantısını kapat\n",
    "conn.close()\n"
   ]
  },
  {
   "cell_type": "code",
   "execution_count": 26,
   "id": "b1a8b95b-1238-468a-995f-9e4d601deb58",
   "metadata": {},
   "outputs": [
    {
     "ename": "DatabaseError",
     "evalue": "Execution failed on sql '\nSELECT o.CustomerID, o.placed_date AS OrderDate, o.total AS TotalAmount\nFROM orders o\nJOIN customers c ON o.CustomerID = c.CustomerID\n': no such column: o.placed_date",
     "output_type": "error",
     "traceback": [
      "\u001b[1;31m---------------------------------------------------------------------------\u001b[0m",
      "\u001b[1;31mOperationalError\u001b[0m                          Traceback (most recent call last)",
      "File \u001b[1;32m~\\.anaconda\\anacon\\Lib\\site-packages\\pandas\\io\\sql.py:2674\u001b[0m, in \u001b[0;36mSQLiteDatabase.execute\u001b[1;34m(self, sql, params)\u001b[0m\n\u001b[0;32m   2673\u001b[0m \u001b[38;5;28;01mtry\u001b[39;00m:\n\u001b[1;32m-> 2674\u001b[0m     cur\u001b[38;5;241m.\u001b[39mexecute(sql, \u001b[38;5;241m*\u001b[39margs)\n\u001b[0;32m   2675\u001b[0m     \u001b[38;5;28;01mreturn\u001b[39;00m cur\n",
      "\u001b[1;31mOperationalError\u001b[0m: no such column: o.placed_date",
      "\nThe above exception was the direct cause of the following exception:\n",
      "\u001b[1;31mDatabaseError\u001b[0m                             Traceback (most recent call last)",
      "Cell \u001b[1;32mIn[26], line 8\u001b[0m\n\u001b[0;32m      1\u001b[0m \u001b[38;5;66;03m# SQL sorgusu ile tüm verileri al\u001b[39;00m\n\u001b[0;32m      2\u001b[0m query \u001b[38;5;241m=\u001b[39m \u001b[38;5;124m\"\"\"\u001b[39m\n\u001b[0;32m      3\u001b[0m \u001b[38;5;124mSELECT o.CustomerID, o.placed_date AS OrderDate, o.total AS TotalAmount\u001b[39m\n\u001b[0;32m      4\u001b[0m \u001b[38;5;124mFROM orders o\u001b[39m\n\u001b[0;32m      5\u001b[0m \u001b[38;5;124mJOIN customers c ON o.CustomerID = c.CustomerID\u001b[39m\n\u001b[0;32m      6\u001b[0m \u001b[38;5;124m\"\"\"\u001b[39m\n\u001b[1;32m----> 8\u001b[0m df \u001b[38;5;241m=\u001b[39m pd\u001b[38;5;241m.\u001b[39mread_sql(query, conn)\n\u001b[0;32m     10\u001b[0m \u001b[38;5;66;03m# Bağlantıyı kapat\u001b[39;00m\n\u001b[0;32m     11\u001b[0m conn\u001b[38;5;241m.\u001b[39mclose()\n",
      "File \u001b[1;32m~\\.anaconda\\anacon\\Lib\\site-packages\\pandas\\io\\sql.py:706\u001b[0m, in \u001b[0;36mread_sql\u001b[1;34m(sql, con, index_col, coerce_float, params, parse_dates, columns, chunksize, dtype_backend, dtype)\u001b[0m\n\u001b[0;32m    704\u001b[0m \u001b[38;5;28;01mwith\u001b[39;00m pandasSQL_builder(con) \u001b[38;5;28;01mas\u001b[39;00m pandas_sql:\n\u001b[0;32m    705\u001b[0m     \u001b[38;5;28;01mif\u001b[39;00m \u001b[38;5;28misinstance\u001b[39m(pandas_sql, SQLiteDatabase):\n\u001b[1;32m--> 706\u001b[0m         \u001b[38;5;28;01mreturn\u001b[39;00m pandas_sql\u001b[38;5;241m.\u001b[39mread_query(\n\u001b[0;32m    707\u001b[0m             sql,\n\u001b[0;32m    708\u001b[0m             index_col\u001b[38;5;241m=\u001b[39mindex_col,\n\u001b[0;32m    709\u001b[0m             params\u001b[38;5;241m=\u001b[39mparams,\n\u001b[0;32m    710\u001b[0m             coerce_float\u001b[38;5;241m=\u001b[39mcoerce_float,\n\u001b[0;32m    711\u001b[0m             parse_dates\u001b[38;5;241m=\u001b[39mparse_dates,\n\u001b[0;32m    712\u001b[0m             chunksize\u001b[38;5;241m=\u001b[39mchunksize,\n\u001b[0;32m    713\u001b[0m             dtype_backend\u001b[38;5;241m=\u001b[39mdtype_backend,\n\u001b[0;32m    714\u001b[0m             dtype\u001b[38;5;241m=\u001b[39mdtype,\n\u001b[0;32m    715\u001b[0m         )\n\u001b[0;32m    717\u001b[0m     \u001b[38;5;28;01mtry\u001b[39;00m:\n\u001b[0;32m    718\u001b[0m         _is_table_name \u001b[38;5;241m=\u001b[39m pandas_sql\u001b[38;5;241m.\u001b[39mhas_table(sql)\n",
      "File \u001b[1;32m~\\.anaconda\\anacon\\Lib\\site-packages\\pandas\\io\\sql.py:2738\u001b[0m, in \u001b[0;36mSQLiteDatabase.read_query\u001b[1;34m(self, sql, index_col, coerce_float, parse_dates, params, chunksize, dtype, dtype_backend)\u001b[0m\n\u001b[0;32m   2727\u001b[0m \u001b[38;5;28;01mdef\u001b[39;00m \u001b[38;5;21mread_query\u001b[39m(\n\u001b[0;32m   2728\u001b[0m     \u001b[38;5;28mself\u001b[39m,\n\u001b[0;32m   2729\u001b[0m     sql,\n\u001b[1;32m   (...)\u001b[0m\n\u001b[0;32m   2736\u001b[0m     dtype_backend: DtypeBackend \u001b[38;5;241m|\u001b[39m Literal[\u001b[38;5;124m\"\u001b[39m\u001b[38;5;124mnumpy\u001b[39m\u001b[38;5;124m\"\u001b[39m] \u001b[38;5;241m=\u001b[39m \u001b[38;5;124m\"\u001b[39m\u001b[38;5;124mnumpy\u001b[39m\u001b[38;5;124m\"\u001b[39m,\n\u001b[0;32m   2737\u001b[0m ) \u001b[38;5;241m-\u001b[39m\u001b[38;5;241m>\u001b[39m DataFrame \u001b[38;5;241m|\u001b[39m Iterator[DataFrame]:\n\u001b[1;32m-> 2738\u001b[0m     cursor \u001b[38;5;241m=\u001b[39m \u001b[38;5;28mself\u001b[39m\u001b[38;5;241m.\u001b[39mexecute(sql, params)\n\u001b[0;32m   2739\u001b[0m     columns \u001b[38;5;241m=\u001b[39m [col_desc[\u001b[38;5;241m0\u001b[39m] \u001b[38;5;28;01mfor\u001b[39;00m col_desc \u001b[38;5;129;01min\u001b[39;00m cursor\u001b[38;5;241m.\u001b[39mdescription]\n\u001b[0;32m   2741\u001b[0m     \u001b[38;5;28;01mif\u001b[39;00m chunksize \u001b[38;5;129;01mis\u001b[39;00m \u001b[38;5;129;01mnot\u001b[39;00m \u001b[38;5;28;01mNone\u001b[39;00m:\n",
      "File \u001b[1;32m~\\.anaconda\\anacon\\Lib\\site-packages\\pandas\\io\\sql.py:2686\u001b[0m, in \u001b[0;36mSQLiteDatabase.execute\u001b[1;34m(self, sql, params)\u001b[0m\n\u001b[0;32m   2683\u001b[0m     \u001b[38;5;28;01mraise\u001b[39;00m ex \u001b[38;5;28;01mfrom\u001b[39;00m \u001b[38;5;21;01minner_exc\u001b[39;00m\n\u001b[0;32m   2685\u001b[0m ex \u001b[38;5;241m=\u001b[39m DatabaseError(\u001b[38;5;124mf\u001b[39m\u001b[38;5;124m\"\u001b[39m\u001b[38;5;124mExecution failed on sql \u001b[39m\u001b[38;5;124m'\u001b[39m\u001b[38;5;132;01m{\u001b[39;00msql\u001b[38;5;132;01m}\u001b[39;00m\u001b[38;5;124m'\u001b[39m\u001b[38;5;124m: \u001b[39m\u001b[38;5;132;01m{\u001b[39;00mexc\u001b[38;5;132;01m}\u001b[39;00m\u001b[38;5;124m\"\u001b[39m)\n\u001b[1;32m-> 2686\u001b[0m \u001b[38;5;28;01mraise\u001b[39;00m ex \u001b[38;5;28;01mfrom\u001b[39;00m \u001b[38;5;21;01mexc\u001b[39;00m\n",
      "\u001b[1;31mDatabaseError\u001b[0m: Execution failed on sql '\nSELECT o.CustomerID, o.placed_date AS OrderDate, o.total AS TotalAmount\nFROM orders o\nJOIN customers c ON o.CustomerID = c.CustomerID\n': no such column: o.placed_date"
     ]
    }
   ],
   "source": [
    "# SQL sorgusu ile tüm verileri al\n",
    "query = \"\"\"\n",
    "SELECT o.CustomerID, o.placed_date AS OrderDate, o.total AS TotalAmount\n",
    "FROM orders o\n",
    "JOIN customers c ON o.CustomerID = c.CustomerID\n",
    "\"\"\"\n",
    "\n",
    "df = pd.read_sql(query, conn)\n",
    "\n",
    "# Bağlantıyı kapat\n",
    "conn.close()\n"
   ]
  },
  {
   "cell_type": "code",
   "execution_count": 27,
   "id": "e485d38f-a3bc-4972-932d-2e1d566b5571",
   "metadata": {},
   "outputs": [
    {
     "data": {
      "text/plain": [
       "Index(['Customers.id', 'Customers.fname', 'Customers.lname',\n",
       "       'Customers.company', 'Customers.create_date', 'Customers.status',\n",
       "       'Customers.mailing', 'Customers.reminders', 'Customers.tax_exempt',\n",
       "       'Customers.account_id',\n",
       "       ...\n",
       "       'Products.google_shopping_label', 'Products.product_option',\n",
       "       'Products.size', 'Products.material', 'Products.arm_style',\n",
       "       'Products.leg_style', 'Products.seat_size', 'Products.family_id',\n",
       "       'Products.saved_status', 'Products.freight_cost'],\n",
       "      dtype='object', length=181)"
      ]
     },
     "execution_count": 27,
     "metadata": {},
     "output_type": "execute_result"
    }
   ],
   "source": [
    "df.columns"
   ]
  },
  {
   "cell_type": "code",
   "execution_count": 30,
   "id": "9ce6107c-c8f1-423b-866e-5dd77374f4ba",
   "metadata": {},
   "outputs": [
    {
     "name": "stderr",
     "output_type": "stream",
     "text": [
      "C:\\Users\\akbab\\AppData\\Local\\Temp\\ipykernel_24420\\24632651.py:7: DtypeWarning: Columns (20,33,73,106,158) have mixed types. Specify dtype option on import or set low_memory=False.\n",
      "  df = pd.read_csv(\"PBL5recommendationdata.csv\", encoding=\"latin-1\")\n"
     ]
    },
    {
     "ename": "OperationalError",
     "evalue": "table \"products\" already exists",
     "output_type": "error",
     "traceback": [
      "\u001b[1;31m---------------------------------------------------------------------------\u001b[0m",
      "\u001b[1;31mOperationalError\u001b[0m                          Traceback (most recent call last)",
      "Cell \u001b[1;32mIn[30], line 22\u001b[0m\n\u001b[0;32m     20\u001b[0m conn \u001b[38;5;241m=\u001b[39m sqlite3\u001b[38;5;241m.\u001b[39mconnect(\u001b[38;5;124m\"\u001b[39m\u001b[38;5;124mcustomer_data.db\u001b[39m\u001b[38;5;124m\"\u001b[39m)\n\u001b[0;32m     21\u001b[0m customers\u001b[38;5;241m.\u001b[39mto_sql(\u001b[38;5;124m\"\u001b[39m\u001b[38;5;124mcustomers\u001b[39m\u001b[38;5;124m\"\u001b[39m, conn, if_exists\u001b[38;5;241m=\u001b[39m\u001b[38;5;124m\"\u001b[39m\u001b[38;5;124mreplace\u001b[39m\u001b[38;5;124m\"\u001b[39m, index\u001b[38;5;241m=\u001b[39m\u001b[38;5;28;01mFalse\u001b[39;00m)\n\u001b[1;32m---> 22\u001b[0m products\u001b[38;5;241m.\u001b[39mto_sql(\u001b[38;5;124m\"\u001b[39m\u001b[38;5;124mproducts\u001b[39m\u001b[38;5;124m\"\u001b[39m, conn, if_exists\u001b[38;5;241m=\u001b[39m\u001b[38;5;124m\"\u001b[39m\u001b[38;5;124mreplace\u001b[39m\u001b[38;5;124m\"\u001b[39m, index\u001b[38;5;241m=\u001b[39m\u001b[38;5;28;01mFalse\u001b[39;00m)\n\u001b[0;32m     23\u001b[0m orders\u001b[38;5;241m.\u001b[39mto_sql(\u001b[38;5;124m\"\u001b[39m\u001b[38;5;124morders\u001b[39m\u001b[38;5;124m\"\u001b[39m, conn, if_exists\u001b[38;5;241m=\u001b[39m\u001b[38;5;124m\"\u001b[39m\u001b[38;5;124mreplace\u001b[39m\u001b[38;5;124m\"\u001b[39m, index\u001b[38;5;241m=\u001b[39m\u001b[38;5;28;01mFalse\u001b[39;00m)\n\u001b[0;32m     25\u001b[0m \u001b[38;5;66;03m# 4. Veritabanından Verileri Tekrar Çekme\u001b[39;00m\n",
      "File \u001b[1;32m~\\.anaconda\\anacon\\Lib\\site-packages\\pandas\\util\\_decorators.py:333\u001b[0m, in \u001b[0;36mdeprecate_nonkeyword_arguments.<locals>.decorate.<locals>.wrapper\u001b[1;34m(*args, **kwargs)\u001b[0m\n\u001b[0;32m    327\u001b[0m \u001b[38;5;28;01mif\u001b[39;00m \u001b[38;5;28mlen\u001b[39m(args) \u001b[38;5;241m>\u001b[39m num_allow_args:\n\u001b[0;32m    328\u001b[0m     warnings\u001b[38;5;241m.\u001b[39mwarn(\n\u001b[0;32m    329\u001b[0m         msg\u001b[38;5;241m.\u001b[39mformat(arguments\u001b[38;5;241m=\u001b[39m_format_argument_list(allow_args)),\n\u001b[0;32m    330\u001b[0m         \u001b[38;5;167;01mFutureWarning\u001b[39;00m,\n\u001b[0;32m    331\u001b[0m         stacklevel\u001b[38;5;241m=\u001b[39mfind_stack_level(),\n\u001b[0;32m    332\u001b[0m     )\n\u001b[1;32m--> 333\u001b[0m \u001b[38;5;28;01mreturn\u001b[39;00m func(\u001b[38;5;241m*\u001b[39margs, \u001b[38;5;241m*\u001b[39m\u001b[38;5;241m*\u001b[39mkwargs)\n",
      "File \u001b[1;32m~\\.anaconda\\anacon\\Lib\\site-packages\\pandas\\core\\generic.py:3087\u001b[0m, in \u001b[0;36mNDFrame.to_sql\u001b[1;34m(self, name, con, schema, if_exists, index, index_label, chunksize, dtype, method)\u001b[0m\n\u001b[0;32m   2889\u001b[0m \u001b[38;5;250m\u001b[39m\u001b[38;5;124;03m\"\"\"\u001b[39;00m\n\u001b[0;32m   2890\u001b[0m \u001b[38;5;124;03mWrite records stored in a DataFrame to a SQL database.\u001b[39;00m\n\u001b[0;32m   2891\u001b[0m \n\u001b[1;32m   (...)\u001b[0m\n\u001b[0;32m   3083\u001b[0m \u001b[38;5;124;03m[(1,), (None,), (2,)]\u001b[39;00m\n\u001b[0;32m   3084\u001b[0m \u001b[38;5;124;03m\"\"\"\u001b[39;00m  \u001b[38;5;66;03m# noqa: E501\u001b[39;00m\n\u001b[0;32m   3085\u001b[0m \u001b[38;5;28;01mfrom\u001b[39;00m \u001b[38;5;21;01mpandas\u001b[39;00m\u001b[38;5;21;01m.\u001b[39;00m\u001b[38;5;21;01mio\u001b[39;00m \u001b[38;5;28;01mimport\u001b[39;00m sql\n\u001b[1;32m-> 3087\u001b[0m \u001b[38;5;28;01mreturn\u001b[39;00m sql\u001b[38;5;241m.\u001b[39mto_sql(\n\u001b[0;32m   3088\u001b[0m     \u001b[38;5;28mself\u001b[39m,\n\u001b[0;32m   3089\u001b[0m     name,\n\u001b[0;32m   3090\u001b[0m     con,\n\u001b[0;32m   3091\u001b[0m     schema\u001b[38;5;241m=\u001b[39mschema,\n\u001b[0;32m   3092\u001b[0m     if_exists\u001b[38;5;241m=\u001b[39mif_exists,\n\u001b[0;32m   3093\u001b[0m     index\u001b[38;5;241m=\u001b[39mindex,\n\u001b[0;32m   3094\u001b[0m     index_label\u001b[38;5;241m=\u001b[39mindex_label,\n\u001b[0;32m   3095\u001b[0m     chunksize\u001b[38;5;241m=\u001b[39mchunksize,\n\u001b[0;32m   3096\u001b[0m     dtype\u001b[38;5;241m=\u001b[39mdtype,\n\u001b[0;32m   3097\u001b[0m     method\u001b[38;5;241m=\u001b[39mmethod,\n\u001b[0;32m   3098\u001b[0m )\n",
      "File \u001b[1;32m~\\.anaconda\\anacon\\Lib\\site-packages\\pandas\\io\\sql.py:842\u001b[0m, in \u001b[0;36mto_sql\u001b[1;34m(frame, name, con, schema, if_exists, index, index_label, chunksize, dtype, method, engine, **engine_kwargs)\u001b[0m\n\u001b[0;32m    837\u001b[0m     \u001b[38;5;28;01mraise\u001b[39;00m \u001b[38;5;167;01mNotImplementedError\u001b[39;00m(\n\u001b[0;32m    838\u001b[0m         \u001b[38;5;124m\"\u001b[39m\u001b[38;5;124m'\u001b[39m\u001b[38;5;124mframe\u001b[39m\u001b[38;5;124m'\u001b[39m\u001b[38;5;124m argument should be either a Series or a DataFrame\u001b[39m\u001b[38;5;124m\"\u001b[39m\n\u001b[0;32m    839\u001b[0m     )\n\u001b[0;32m    841\u001b[0m \u001b[38;5;28;01mwith\u001b[39;00m pandasSQL_builder(con, schema\u001b[38;5;241m=\u001b[39mschema, need_transaction\u001b[38;5;241m=\u001b[39m\u001b[38;5;28;01mTrue\u001b[39;00m) \u001b[38;5;28;01mas\u001b[39;00m pandas_sql:\n\u001b[1;32m--> 842\u001b[0m     \u001b[38;5;28;01mreturn\u001b[39;00m pandas_sql\u001b[38;5;241m.\u001b[39mto_sql(\n\u001b[0;32m    843\u001b[0m         frame,\n\u001b[0;32m    844\u001b[0m         name,\n\u001b[0;32m    845\u001b[0m         if_exists\u001b[38;5;241m=\u001b[39mif_exists,\n\u001b[0;32m    846\u001b[0m         index\u001b[38;5;241m=\u001b[39mindex,\n\u001b[0;32m    847\u001b[0m         index_label\u001b[38;5;241m=\u001b[39mindex_label,\n\u001b[0;32m    848\u001b[0m         schema\u001b[38;5;241m=\u001b[39mschema,\n\u001b[0;32m    849\u001b[0m         chunksize\u001b[38;5;241m=\u001b[39mchunksize,\n\u001b[0;32m    850\u001b[0m         dtype\u001b[38;5;241m=\u001b[39mdtype,\n\u001b[0;32m    851\u001b[0m         method\u001b[38;5;241m=\u001b[39mmethod,\n\u001b[0;32m    852\u001b[0m         engine\u001b[38;5;241m=\u001b[39mengine,\n\u001b[0;32m    853\u001b[0m         \u001b[38;5;241m*\u001b[39m\u001b[38;5;241m*\u001b[39mengine_kwargs,\n\u001b[0;32m    854\u001b[0m     )\n",
      "File \u001b[1;32m~\\.anaconda\\anacon\\Lib\\site-packages\\pandas\\io\\sql.py:2850\u001b[0m, in \u001b[0;36mSQLiteDatabase.to_sql\u001b[1;34m(self, frame, name, if_exists, index, index_label, schema, chunksize, dtype, method, engine, **engine_kwargs)\u001b[0m\n\u001b[0;32m   2839\u001b[0m             \u001b[38;5;28;01mraise\u001b[39;00m \u001b[38;5;167;01mValueError\u001b[39;00m(\u001b[38;5;124mf\u001b[39m\u001b[38;5;124m\"\u001b[39m\u001b[38;5;132;01m{\u001b[39;00mcol\u001b[38;5;132;01m}\u001b[39;00m\u001b[38;5;124m (\u001b[39m\u001b[38;5;132;01m{\u001b[39;00mmy_type\u001b[38;5;132;01m}\u001b[39;00m\u001b[38;5;124m) not a string\u001b[39m\u001b[38;5;124m\"\u001b[39m)\n\u001b[0;32m   2841\u001b[0m table \u001b[38;5;241m=\u001b[39m SQLiteTable(\n\u001b[0;32m   2842\u001b[0m     name,\n\u001b[0;32m   2843\u001b[0m     \u001b[38;5;28mself\u001b[39m,\n\u001b[1;32m   (...)\u001b[0m\n\u001b[0;32m   2848\u001b[0m     dtype\u001b[38;5;241m=\u001b[39mdtype,\n\u001b[0;32m   2849\u001b[0m )\n\u001b[1;32m-> 2850\u001b[0m table\u001b[38;5;241m.\u001b[39mcreate()\n\u001b[0;32m   2851\u001b[0m \u001b[38;5;28;01mreturn\u001b[39;00m table\u001b[38;5;241m.\u001b[39minsert(chunksize, method)\n",
      "File \u001b[1;32m~\\.anaconda\\anacon\\Lib\\site-packages\\pandas\\io\\sql.py:995\u001b[0m, in \u001b[0;36mSQLTable.create\u001b[1;34m(self)\u001b[0m\n\u001b[0;32m    993\u001b[0m         \u001b[38;5;28;01mraise\u001b[39;00m \u001b[38;5;167;01mValueError\u001b[39;00m(\u001b[38;5;124mf\u001b[39m\u001b[38;5;124m\"\u001b[39m\u001b[38;5;124m'\u001b[39m\u001b[38;5;132;01m{\u001b[39;00m\u001b[38;5;28mself\u001b[39m\u001b[38;5;241m.\u001b[39mif_exists\u001b[38;5;132;01m}\u001b[39;00m\u001b[38;5;124m'\u001b[39m\u001b[38;5;124m is not valid for if_exists\u001b[39m\u001b[38;5;124m\"\u001b[39m)\n\u001b[0;32m    994\u001b[0m \u001b[38;5;28;01melse\u001b[39;00m:\n\u001b[1;32m--> 995\u001b[0m     \u001b[38;5;28mself\u001b[39m\u001b[38;5;241m.\u001b[39m_execute_create()\n",
      "File \u001b[1;32m~\\.anaconda\\anacon\\Lib\\site-packages\\pandas\\io\\sql.py:2524\u001b[0m, in \u001b[0;36mSQLiteTable._execute_create\u001b[1;34m(self)\u001b[0m\n\u001b[0;32m   2522\u001b[0m \u001b[38;5;28;01mwith\u001b[39;00m \u001b[38;5;28mself\u001b[39m\u001b[38;5;241m.\u001b[39mpd_sql\u001b[38;5;241m.\u001b[39mrun_transaction() \u001b[38;5;28;01mas\u001b[39;00m conn:\n\u001b[0;32m   2523\u001b[0m     \u001b[38;5;28;01mfor\u001b[39;00m stmt \u001b[38;5;129;01min\u001b[39;00m \u001b[38;5;28mself\u001b[39m\u001b[38;5;241m.\u001b[39mtable:\n\u001b[1;32m-> 2524\u001b[0m         conn\u001b[38;5;241m.\u001b[39mexecute(stmt)\n",
      "\u001b[1;31mOperationalError\u001b[0m: table \"products\" already exists"
     ]
    }
   ],
   "source": [
    "import pandas as pd\n",
    "import sqlite3\n",
    "from sklearn.cluster import KMeans\n",
    "from datetime import datetime\n",
    "\n",
    "# 1. Veri Setini Okuma\n",
    "df = pd.read_csv(\"PBL5recommendationdata.csv\", encoding=\"latin-1\")\n",
    "\n",
    "# 2. DataFrame'leri oluşturma\n",
    "customers = df.filter(regex=r'Customers\\..*')\n",
    "products = df.filter(regex=r'Products\\..*')\n",
    "orders = df.filter(regex=r'Orders\\..*')\n",
    "\n",
    "# Sütun isimlerini temizleme\n",
    "customers.columns = customers.columns.str.replace('Customers.', '', regex=True)\n",
    "products.columns = products.columns.str.replace('Products.', '', regex=True)\n",
    "orders.columns = orders.columns.str.replace('Orders.', '', regex=True)\n",
    "\n",
    "# 3. SQLite Veritabanına Ekleme\n",
    "conn = sqlite3.connect(\"customer_data.db\")\n",
    "customers.to_sql(\"customers\", conn, if_exists=\"replace\", index=False)\n",
    "products.to_sql(\"products\", conn, if_exists=\"replace\", index=False)\n",
    "orders.to_sql(\"orders\", conn, if_exists=\"replace\", index=False)\n",
    "\n",
    "# 4. Veritabanından Verileri Tekrar Çekme\n",
    "customers = pd.read_sql(\"SELECT * FROM customers\", conn)\n",
    "products = pd.read_sql(\"SELECT * FROM products\", conn)\n",
    "orders = pd.read_sql(\"SELECT * FROM orders\", conn)\n",
    "\n",
    "# 5. Tabloları Birleştirme\n",
    "merged_df = orders.merge(customers, left_on='customer_id', right_on='id', how='left')\n",
    "merged_df = merged_df.merge(products, left_on='product_id', right_on='id', how='left')\n",
    "\n",
    "# 6. RFM Analizi İçin Hazırlık\n",
    "now = datetime.today()\n",
    "rfm = merged_df.groupby('customer_id').agg({\n",
    "    'order_date': lambda x: (now - pd.to_datetime(x).max()).days,\n",
    "    'id_x': 'count',\n",
    "    'total_amount': 'sum'\n",
    "})\n",
    "rfm.columns = ['Recency', 'Frequency', 'Monetary']\n",
    "rfm.reset_index(inplace=True)\n",
    "\n",
    "# 7. KMeans ile Müşteri Segmentasyonu\n",
    "kmeans = KMeans(n_clusters=4, random_state=42)\n",
    "kmeans.fit(rfm[['Recency', 'Frequency', 'Monetary']])\n",
    "rfm['Segment'] = kmeans.labels_\n",
    "\n",
    "# 8. Sonuçları Kaydetme\n",
    "rfm.to_csv(\"rfm_segments.csv\", index=False)\n",
    "print(rfm.head())\n"
   ]
  },
  {
   "cell_type": "code",
   "execution_count": 29,
   "id": "2963c6e2-33e7-44b8-9a13-fa283890d77c",
   "metadata": {},
   "outputs": [
    {
     "data": {
      "text/plain": [
       "4194"
      ]
     },
     "execution_count": 29,
     "metadata": {},
     "output_type": "execute_result"
    }
   ],
   "source": [
    "conn = sqlite3.connect(\"customer_data.db\")\n",
    "cursor = conn.cursor()\n",
    "cursor.execute(\"DROP TABLE IF EXISTS customers\")  # Önce tabloyu sil\n",
    "conn.commit()\n",
    "\n",
    "# Şimdi tekrar ekleyebilirsin\n",
    "customers.to_sql(\"customers\", conn, if_exists=\"replace\", index=False)\n"
   ]
  },
  {
   "cell_type": "code",
   "execution_count": null,
   "id": "49995ca6-c6bc-429c-9bdf-5b2a71b278c4",
   "metadata": {},
   "outputs": [],
   "source": []
  }
 ],
 "metadata": {
  "kernelspec": {
   "display_name": "Python 3 (ipykernel)",
   "language": "python",
   "name": "python3"
  },
  "language_info": {
   "codemirror_mode": {
    "name": "ipython",
    "version": 3
   },
   "file_extension": ".py",
   "mimetype": "text/x-python",
   "name": "python",
   "nbconvert_exporter": "python",
   "pygments_lexer": "ipython3",
   "version": "3.12.7"
  }
 },
 "nbformat": 4,
 "nbformat_minor": 5
}
